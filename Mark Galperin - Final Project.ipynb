{
 "cells": [
  {
   "cell_type": "markdown",
   "metadata": {
    "id": "CPQA-QCdiov-"
   },
   "source": [
    "# Mark Galperin - Final Project\n",
    "# Due December 8, 2020\n",
    "\n",
    "This is my python notebook for the final project for ME 314! Wahoo"
   ]
  },
  {
   "cell_type": "markdown",
   "metadata": {},
   "source": [
    "**Imports**"
   ]
  },
  {
   "cell_type": "code",
   "execution_count": 1,
   "metadata": {},
   "outputs": [
    {
     "name": "stdout",
     "output_type": "stream",
     "text": [
      "1.6.2\n"
     ]
    }
   ],
   "source": [
    "import sympy as sym \n",
    "from sympy.abc import t\n",
    "print(sym.__version__)"
   ]
  },
  {
   "cell_type": "code",
   "execution_count": 2,
   "metadata": {},
   "outputs": [],
   "source": [
    "#other imports...\n",
    "from sympy import Function, Matrix, Eq, symbols\n",
    "import numpy as np\n",
    "import matplotlib.pyplot as plt"
   ]
  },
  {
   "cell_type": "markdown",
   "metadata": {},
   "source": [
    "**Helper Functions**"
   ]
  },
  {
   "cell_type": "code",
   "execution_count": 3,
   "metadata": {},
   "outputs": [],
   "source": [
    "def get_SE3_planar(R_th,p):\n",
    "    \"\"\"\n",
    "    This function assembles planar homogenous transforms in SE(3) given either a rotation and a translation,\n",
    "    or an R matrix and a translation.\n",
    "    \n",
    "    Takes...\n",
    "        R_th: This input can be either a sympy matrix (at least 2x2) that is the rotation matrix for\n",
    "            planar rotation about z, OR it can be a numerical value for the angle theta rotated about z\n",
    "        \n",
    "        p: a 3x1 (or 2x1) sympy matrix that is a homogenous coordinate vector for an x, y translation.\n",
    "            p=0 is an acceptable input, shorthand for p = Matrix([0,0,0])\n",
    "        \n",
    "    Returns...\n",
    "        g_SE3: a 3x3 sympy matrix that is a planar homogenous transform in SE(3)\n",
    "    \"\"\"\n",
    "    \n",
    "    #allowing p=0 as an input...\n",
    "    if p==0:\n",
    "        p = Matrix([0,0,0])\n",
    "    \n",
    "    #assembling the matrix...\n",
    "    if type(R_th).__name__ == 'MutableDenseMatrix':\n",
    "        #given R_th is a matrix in SE(2) at least... \n",
    "        g_SE3 = Matrix([[R_th[0,0], R_th[0,1], 0, p[0]],\n",
    "                  [R_th[1,0], R_th[1,1], 0, p[1]],\n",
    "                  [0, 0, 1, 0],\n",
    "                  [0, 0, 0, 1]])\n",
    "    else:   \n",
    "        #if R_or_th is a numerical value...\n",
    "        g_SE3 = Matrix([[sym.cos(R_th), -sym.sin(R_th), 0, p[0]],\n",
    "                      [sym.sin(R_th), sym.cos(R_th), 0, p[1]],\n",
    "                      [0, 0, 1, 0],\n",
    "                      [0, 0, 0, 1]])\n",
    "    \n",
    "    return g_SE3"
   ]
  },
  {
   "cell_type": "code",
   "execution_count": 4,
   "metadata": {},
   "outputs": [],
   "source": [
    "def get_SE3_planar_np(R_th,p):\n",
    "    \"\"\"\n",
    "    This function assembles planar homogenous transforms in SE(3) given either a rotation and a translation,\n",
    "    or an R matrix and a translation.\n",
    "    \n",
    "    Takes...\n",
    "        R_th: This input can be either a sympy matrix (at least 2x2) that is the rotation matrix for\n",
    "            planar rotation about z, OR it can be a numerical value for the angle theta rotated about z\n",
    "        \n",
    "        p: a 3x1 (or 2x1) sympy matrix that is a homogenous coordinate vector for an x, y translation.\n",
    "            p=0 is NOT an acceptable shorthand here. use p = np.array([0,0,0])\n",
    "        \n",
    "    Returns...\n",
    "        g_SE3: a 3x3 numpy array that is a planar homogenous transform in SE(3)\n",
    "    \"\"\"\n",
    "    \n",
    "    #assembling the matrix...\n",
    "    if type(R_th).__name__ == 'ndarray':\n",
    "        #given R_th is a matrix in SE(2) at least... \n",
    "        g_SE3 = np.array([[R_th[0][0], R_th[0][1], 0, p[0]],\n",
    "                  [R_th[1][0], R_th[1][1], 0, p[1]],\n",
    "                  [0, 0, 1, 0],\n",
    "                  [0, 0, 0, 1]])\n",
    "    else:   \n",
    "        #if R_or_th is a numerical value...\n",
    "        g_SE3 = np.array([[np.cos(R_th), -np.sin(R_th), 0, p[0]],\n",
    "                      [np.sin(R_th), np.cos(R_th), 0, p[1]],\n",
    "                      [0, 0, 1, 0],\n",
    "                      [0, 0, 0, 1]])\n",
    "    \n",
    "    return g_SE3"
   ]
  },
  {
   "cell_type": "code",
   "execution_count": 5,
   "metadata": {},
   "outputs": [
    {
     "data": {
      "text/plain": [
       "array([[ 0.5      , -0.8660254,  0.       ,  1.       ],\n",
       "       [ 0.8660254,  0.5      ,  0.       ,  2.       ],\n",
       "       [ 0.       ,  0.       ,  1.       ,  0.       ],\n",
       "       [ 0.       ,  0.       ,  0.       ,  1.       ]])"
      ]
     },
     "execution_count": 5,
     "metadata": {},
     "output_type": "execute_result"
    }
   ],
   "source": [
    "thnp = np.pi/3\n",
    "pnp = np.array([1,2,3])\n",
    "get_SE3_planar_np(thnp,pnp)"
   ]
  },
  {
   "cell_type": "code",
   "execution_count": 6,
   "metadata": {},
   "outputs": [],
   "source": [
    "def hat(w):\n",
    "    w_hat = Matrix([[0,    -w[2], w[1] ],\n",
    "                    [w[2],   0,  -w[0] ],\n",
    "                    [-w[1], w[0],   0  ]])\n",
    "    return w_hat"
   ]
  },
  {
   "cell_type": "code",
   "execution_count": 7,
   "metadata": {},
   "outputs": [],
   "source": [
    "def unhat(w_hat):\n",
    "    return Matrix([w_hat[2,1],w_hat[0,2],w_hat[1,0]])"
   ]
  },
  {
   "cell_type": "code",
   "execution_count": 8,
   "metadata": {},
   "outputs": [],
   "source": [
    "def g_inv(g):\n",
    "    \"\"\"\n",
    "    This function calculates the inverse of a transformation g, in (planar) SE(3). \n",
    "    \n",
    "    Dependencies:\n",
    "        get_SE3_planar(th,p): Generates a planar homogenous transform in SE(3). Used for output.\n",
    "    \n",
    "    Takes...\n",
    "        g: a 3x3 sympy matrix in SE(3)\n",
    "        \n",
    "    Returns...\n",
    "        g_out: a 3x3 sympy matrix in SE(3) that is the \"inverse\" of g\n",
    "    \"\"\"\n",
    "    #dissecting the input transformation g\n",
    "    R = g[0:3,0:3]\n",
    "    p = Matrix([g[0,3],g[1,3],1])\n",
    "    \n",
    "    RT = R.T\n",
    "    p_inv = -RT*p\n",
    "    \n",
    "    return get_SE3_planar(RT,p_inv)"
   ]
  },
  {
   "cell_type": "code",
   "execution_count": 9,
   "metadata": {},
   "outputs": [],
   "source": [
    "def g_dot(g,q_th):\n",
    "    \"\"\"\n",
    "    This function gives the time-derivative of g\n",
    "    g_dot = [R_dot p_dot\n",
    "             0     1    ]\n",
    "    ...where R_dot = Rw = wR, and w = [0 0 d(th)/dt]\n",
    "    \n",
    "    TODO - more docstring\n",
    "    \"\"\"\n",
    "    \n",
    "    w = Matrix([0,0,q_th.diff(t)])\n",
    "    \n",
    "    #R_dot...\n",
    "    R = g[0:3,0:3]\n",
    "    R_dot = R*hat(w)\n",
    "    \n",
    "    #p_dot...\n",
    "    p = g[0:3,3]\n",
    "    p_dot = p.diff(t)\n",
    "    \n",
    "    #generating the transform...\n",
    "    return get_SE3_planar(R_dot,p_dot)"
   ]
  },
  {
   "cell_type": "code",
   "execution_count": 10,
   "metadata": {},
   "outputs": [],
   "source": [
    "def get_Vb(g,q_th,select='Vb'):\n",
    "    \n",
    "    #TODO: selection dictionary\n",
    "    \n",
    "    Vhat = g_inv(g)*g_dot(g,q_th)\n",
    "    w_hat = Vhat[0:3,0:3]\n",
    "    v = Vhat[0:3,3]\n",
    "    w = unhat(w_hat)\n",
    "    Vb = v.col_join(w)\n",
    "    return Vb"
   ]
  },
  {
   "cell_type": "code",
   "execution_count": 11,
   "metadata": {},
   "outputs": [
    {
     "data": {
      "text/plain": [
       "'ndarray'"
      ]
     },
     "execution_count": 11,
     "metadata": {},
     "output_type": "execute_result"
    }
   ],
   "source": [
    "a = np.array([[1,2,3],[4,5,6],[7,8,9]])\n",
    "type(a).__name__"
   ]
  },
  {
   "cell_type": "code",
   "execution_count": null,
   "metadata": {},
   "outputs": [],
   "source": []
  },
  {
   "cell_type": "markdown",
   "metadata": {},
   "source": [
    "## Input Variables"
   ]
  },
  {
   "cell_type": "code",
   "execution_count": 12,
   "metadata": {},
   "outputs": [],
   "source": [
    "#Input Parameters...\n",
    "R = 1 #the radius of the inscribed circle for the n-gon\n",
    "n = 7 #number of sides for the n-gon. n >= 3. \n",
    "N = 3 #number of masses (PREFERABLY LESS THAN 4)\n",
    "r = 0.05 #radius of the masses\n",
    "\n",
    "#Geometric Parameters\n",
    "W = 0.01 #wall thickness\n",
    "L = R*np.tan(np.pi/n)/2 #wall length (equal to side length of the n-gon)"
   ]
  },
  {
   "cell_type": "markdown",
   "metadata": {},
   "source": [
    "## Setup"
   ]
  },
  {
   "cell_type": "markdown",
   "metadata": {},
   "source": [
    "**Symbols, and Configuration**"
   ]
  },
  {
   "cell_type": "code",
   "execution_count": 13,
   "metadata": {},
   "outputs": [
    {
     "name": "stdout",
     "output_type": "stream",
     "text": [
      "The configuration vector:\n"
     ]
    },
    {
     "data": {
      "text/latex": [
       "$\\displaystyle \\left[\\begin{matrix}θ{\\left(t \\right)}\\\\\\operatorname{x_{1}}{\\left(t \\right)}\\\\\\operatorname{y_{1}}{\\left(t \\right)}\\\\\\operatorname{x_{2}}{\\left(t \\right)}\\\\\\operatorname{y_{2}}{\\left(t \\right)}\\\\\\operatorname{x_{3}}{\\left(t \\right)}\\\\\\operatorname{y_{3}}{\\left(t \\right)}\\end{matrix}\\right]$"
      ],
      "text/plain": [
       "Matrix([\n",
       "[  θ(t)],\n",
       "[x_1(t)],\n",
       "[y_1(t)],\n",
       "[x_2(t)],\n",
       "[y_2(t)],\n",
       "[x_3(t)],\n",
       "[y_3(t)]])"
      ]
     },
     "metadata": {},
     "output_type": "display_data"
    }
   ],
   "source": [
    "# other symbols...\n",
    "grav = 9.81\n",
    "\n",
    "# Time functions...\n",
    "th = Function('θ')(t)\n",
    "\n",
    "#initializing the configuration list...\n",
    "q_list = [th]\n",
    "\n",
    "# Generating configuration variables from N...\n",
    "for i in range(N):\n",
    "    qix = Function(f'x_{i+1}')(t)\n",
    "    qiy = Function(f'y_{i+1}')(t)\n",
    "    q_list.append(qix)\n",
    "    q_list.append(qiy)\n",
    "\n",
    "#config vector and derivatives\n",
    "q = Matrix(q_list)\n",
    "qdot = q.diff(t)\n",
    "qddot = qdot.diff(t)\n",
    "\n",
    "\n",
    "#Display\n",
    "print('The configuration vector:')\n",
    "display(q)\n",
    "\n",
    "#Warning\n",
    "if len(q) > 7:\n",
    "    print('WARNING!! THIS IS TOO MUCH!!')"
   ]
  },
  {
   "cell_type": "markdown",
   "metadata": {},
   "source": [
    "**Defining Frames for the n-gon**\n",
    "Due to the parametric nature of this set-up, the number of frames will be dependent on n, the number of sides of the polygonal tumbler."
   ]
  },
  {
   "cell_type": "code",
   "execution_count": 14,
   "metadata": {},
   "outputs": [
    {
     "name": "stdout",
     "output_type": "stream",
     "text": [
      "These are the transformations for the sides of a 7-sided tumbler\n"
     ]
    },
    {
     "data": {
      "text/latex": [
       "$\\displaystyle g_{w1} = \\left[\\begin{matrix}\\cos{\\left(θ{\\left(t \\right)} + 1.5707963267949 \\right)} & - \\sin{\\left(θ{\\left(t \\right)} + 1.5707963267949 \\right)} & 0 & \\sin{\\left(θ{\\left(t \\right)} + 1.5707963267949 \\right)}\\\\\\sin{\\left(θ{\\left(t \\right)} + 1.5707963267949 \\right)} & \\cos{\\left(θ{\\left(t \\right)} + 1.5707963267949 \\right)} & 0 & - \\cos{\\left(θ{\\left(t \\right)} + 1.5707963267949 \\right)}\\\\0 & 0 & 1 & 0\\\\0 & 0 & 0 & 1\\end{matrix}\\right]$"
      ],
      "text/plain": [
       "Eq(g_w1, Matrix([\n",
       "[cos(θ(t) + 1.5707963267949), -sin(θ(t) + 1.5707963267949), 0,  sin(θ(t) + 1.5707963267949)],\n",
       "[sin(θ(t) + 1.5707963267949),  cos(θ(t) + 1.5707963267949), 0, -cos(θ(t) + 1.5707963267949)],\n",
       "[                          0,                            0, 1,                            0],\n",
       "[                          0,                            0, 0,                            1]]))"
      ]
     },
     "metadata": {},
     "output_type": "display_data"
    },
    {
     "data": {
      "text/latex": [
       "$\\displaystyle g_{w2} = \\left[\\begin{matrix}\\cos{\\left(θ{\\left(t \\right)} + 2.46839422782055 \\right)} & - \\sin{\\left(θ{\\left(t \\right)} + 2.46839422782055 \\right)} & 0 & \\sin{\\left(θ{\\left(t \\right)} + 2.46839422782055 \\right)}\\\\\\sin{\\left(θ{\\left(t \\right)} + 2.46839422782055 \\right)} & \\cos{\\left(θ{\\left(t \\right)} + 2.46839422782055 \\right)} & 0 & - \\cos{\\left(θ{\\left(t \\right)} + 2.46839422782055 \\right)}\\\\0 & 0 & 1 & 0\\\\0 & 0 & 0 & 1\\end{matrix}\\right]$"
      ],
      "text/plain": [
       "Eq(g_w2, Matrix([\n",
       "[cos(θ(t) + 2.46839422782055), -sin(θ(t) + 2.46839422782055), 0,  sin(θ(t) + 2.46839422782055)],\n",
       "[sin(θ(t) + 2.46839422782055),  cos(θ(t) + 2.46839422782055), 0, -cos(θ(t) + 2.46839422782055)],\n",
       "[                           0,                             0, 1,                             0],\n",
       "[                           0,                             0, 0,                             1]]))"
      ]
     },
     "metadata": {},
     "output_type": "display_data"
    },
    {
     "data": {
      "text/latex": [
       "$\\displaystyle g_{w3} = \\left[\\begin{matrix}\\cos{\\left(θ{\\left(t \\right)} + 3.36599212884621 \\right)} & - \\sin{\\left(θ{\\left(t \\right)} + 3.36599212884621 \\right)} & 0 & \\sin{\\left(θ{\\left(t \\right)} + 3.36599212884621 \\right)}\\\\\\sin{\\left(θ{\\left(t \\right)} + 3.36599212884621 \\right)} & \\cos{\\left(θ{\\left(t \\right)} + 3.36599212884621 \\right)} & 0 & - \\cos{\\left(θ{\\left(t \\right)} + 3.36599212884621 \\right)}\\\\0 & 0 & 1 & 0\\\\0 & 0 & 0 & 1\\end{matrix}\\right]$"
      ],
      "text/plain": [
       "Eq(g_w3, Matrix([\n",
       "[cos(θ(t) + 3.36599212884621), -sin(θ(t) + 3.36599212884621), 0,  sin(θ(t) + 3.36599212884621)],\n",
       "[sin(θ(t) + 3.36599212884621),  cos(θ(t) + 3.36599212884621), 0, -cos(θ(t) + 3.36599212884621)],\n",
       "[                           0,                             0, 1,                             0],\n",
       "[                           0,                             0, 0,                             1]]))"
      ]
     },
     "metadata": {},
     "output_type": "display_data"
    },
    {
     "data": {
      "text/latex": [
       "$\\displaystyle g_{w4} = \\left[\\begin{matrix}\\cos{\\left(θ{\\left(t \\right)} + 4.26359002987186 \\right)} & - \\sin{\\left(θ{\\left(t \\right)} + 4.26359002987186 \\right)} & 0 & \\sin{\\left(θ{\\left(t \\right)} + 4.26359002987186 \\right)}\\\\\\sin{\\left(θ{\\left(t \\right)} + 4.26359002987186 \\right)} & \\cos{\\left(θ{\\left(t \\right)} + 4.26359002987186 \\right)} & 0 & - \\cos{\\left(θ{\\left(t \\right)} + 4.26359002987186 \\right)}\\\\0 & 0 & 1 & 0\\\\0 & 0 & 0 & 1\\end{matrix}\\right]$"
      ],
      "text/plain": [
       "Eq(g_w4, Matrix([\n",
       "[cos(θ(t) + 4.26359002987186), -sin(θ(t) + 4.26359002987186), 0,  sin(θ(t) + 4.26359002987186)],\n",
       "[sin(θ(t) + 4.26359002987186),  cos(θ(t) + 4.26359002987186), 0, -cos(θ(t) + 4.26359002987186)],\n",
       "[                           0,                             0, 1,                             0],\n",
       "[                           0,                             0, 0,                             1]]))"
      ]
     },
     "metadata": {},
     "output_type": "display_data"
    },
    {
     "data": {
      "text/latex": [
       "$\\displaystyle g_{w5} = \\left[\\begin{matrix}\\cos{\\left(θ{\\left(t \\right)} + 5.16118793089752 \\right)} & - \\sin{\\left(θ{\\left(t \\right)} + 5.16118793089752 \\right)} & 0 & \\sin{\\left(θ{\\left(t \\right)} + 5.16118793089752 \\right)}\\\\\\sin{\\left(θ{\\left(t \\right)} + 5.16118793089752 \\right)} & \\cos{\\left(θ{\\left(t \\right)} + 5.16118793089752 \\right)} & 0 & - \\cos{\\left(θ{\\left(t \\right)} + 5.16118793089752 \\right)}\\\\0 & 0 & 1 & 0\\\\0 & 0 & 0 & 1\\end{matrix}\\right]$"
      ],
      "text/plain": [
       "Eq(g_w5, Matrix([\n",
       "[cos(θ(t) + 5.16118793089752), -sin(θ(t) + 5.16118793089752), 0,  sin(θ(t) + 5.16118793089752)],\n",
       "[sin(θ(t) + 5.16118793089752),  cos(θ(t) + 5.16118793089752), 0, -cos(θ(t) + 5.16118793089752)],\n",
       "[                           0,                             0, 1,                             0],\n",
       "[                           0,                             0, 0,                             1]]))"
      ]
     },
     "metadata": {},
     "output_type": "display_data"
    },
    {
     "data": {
      "text/latex": [
       "$\\displaystyle g_{w6} = \\left[\\begin{matrix}\\cos{\\left(θ{\\left(t \\right)} + 6.05878583192317 \\right)} & - \\sin{\\left(θ{\\left(t \\right)} + 6.05878583192317 \\right)} & 0 & \\sin{\\left(θ{\\left(t \\right)} + 6.05878583192317 \\right)}\\\\\\sin{\\left(θ{\\left(t \\right)} + 6.05878583192317 \\right)} & \\cos{\\left(θ{\\left(t \\right)} + 6.05878583192317 \\right)} & 0 & - \\cos{\\left(θ{\\left(t \\right)} + 6.05878583192317 \\right)}\\\\0 & 0 & 1 & 0\\\\0 & 0 & 0 & 1\\end{matrix}\\right]$"
      ],
      "text/plain": [
       "Eq(g_w6, Matrix([\n",
       "[cos(θ(t) + 6.05878583192317), -sin(θ(t) + 6.05878583192317), 0,  sin(θ(t) + 6.05878583192317)],\n",
       "[sin(θ(t) + 6.05878583192317),  cos(θ(t) + 6.05878583192317), 0, -cos(θ(t) + 6.05878583192317)],\n",
       "[                           0,                             0, 1,                             0],\n",
       "[                           0,                             0, 0,                             1]]))"
      ]
     },
     "metadata": {},
     "output_type": "display_data"
    },
    {
     "data": {
      "text/latex": [
       "$\\displaystyle g_{w7} = \\left[\\begin{matrix}\\cos{\\left(θ{\\left(t \\right)} + 6.95638373294883 \\right)} & - \\sin{\\left(θ{\\left(t \\right)} + 6.95638373294883 \\right)} & 0 & \\sin{\\left(θ{\\left(t \\right)} + 6.95638373294883 \\right)}\\\\\\sin{\\left(θ{\\left(t \\right)} + 6.95638373294883 \\right)} & \\cos{\\left(θ{\\left(t \\right)} + 6.95638373294883 \\right)} & 0 & - \\cos{\\left(θ{\\left(t \\right)} + 6.95638373294883 \\right)}\\\\0 & 0 & 1 & 0\\\\0 & 0 & 0 & 1\\end{matrix}\\right]$"
      ],
      "text/plain": [
       "Eq(g_w7, Matrix([\n",
       "[cos(θ(t) + 6.95638373294883), -sin(θ(t) + 6.95638373294883), 0,  sin(θ(t) + 6.95638373294883)],\n",
       "[sin(θ(t) + 6.95638373294883),  cos(θ(t) + 6.95638373294883), 0, -cos(θ(t) + 6.95638373294883)],\n",
       "[                           0,                             0, 1,                             0],\n",
       "[                           0,                             0, 0,                             1]]))"
      ]
     },
     "metadata": {},
     "output_type": "display_data"
    }
   ],
   "source": [
    "#Defining a dict g of transformations...\n",
    "g = {}\n",
    "g_sym = {}\n",
    "angdiv = 2*np.pi/n\n",
    "\n",
    "for i in range(n):\n",
    "    #rotate by theta, plus the fraction of 2pi, plus pi/2 to make it tangent\n",
    "    ang = q[0] + i*angdiv + np.pi/2\n",
    "    g_R = get_SE3_planar(ang,0)\n",
    "    #translate in the new frame by -R\n",
    "    p = Matrix([0,-R])\n",
    "    g_p = get_SE3_planar(0,p)\n",
    "    \n",
    "    #Add to dictionary\n",
    "    g[f'w{i+1}'] = g_R*g_p\n",
    "    g_sym[f'w{i+1}'] = symbols(f'g_w{i+1}')\n",
    "\n",
    "    \n",
    "#display...\n",
    "print(f'These are the transformations for the sides of a {n}-sided tumbler')\n",
    "for tfm in g.keys():\n",
    "    display(Eq(g_sym[tfm],g[tfm],evaluate=0))"
   ]
  },
  {
   "cell_type": "code",
   "execution_count": 15,
   "metadata": {},
   "outputs": [],
   "source": [
    "# from IPython.core.display import HTML\n",
    "# display(HTML(\"<table><tr><td><img src='https://github.com/MarkGalperin/Mechanical-Engineering-314/blob/main/Images/pizza%20cat.jpg?raw=true' width=700' height='350'></table>\"))"
   ]
  },
  {
   "cell_type": "markdown",
   "metadata": {},
   "source": [
    "**Inertial Properties: Tumbler** <br> \n",
    "As it stands, I'm defining each wall of the tumbler to have identical inertial properties"
   ]
  },
  {
   "cell_type": "code",
   "execution_count": 16,
   "metadata": {},
   "outputs": [],
   "source": [
    "#Inertial parameters for each wall... TODO-make more geometry-based?\n",
    "m_t = 1\n",
    "J_t = 1"
   ]
  },
  {
   "cell_type": "code",
   "execution_count": 17,
   "metadata": {},
   "outputs": [],
   "source": [
    "#defining I for n sides...\n",
    "I = {}\n",
    "for i in range(n):\n",
    "    Imat = Matrix([[m_t,0,0,0,0,0],\n",
    "                    [0,m_t,0,0,0,0],\n",
    "                    [0,0,m_t,0,0,0],\n",
    "                    [0,0,0,0,0,0],\n",
    "                    [0,0,0,0,0,0],\n",
    "                    [0,0,0,0,0,J_t]])\n",
    "    #Add to dictionary\n",
    "    I[f'w{i+1}'] = Imat"
   ]
  },
  {
   "cell_type": "markdown",
   "metadata": {},
   "source": [
    "**Body Velocity: Tumbler**"
   ]
  },
  {
   "cell_type": "code",
   "execution_count": 18,
   "metadata": {},
   "outputs": [
    {
     "name": "stdout",
     "output_type": "stream",
     "text": [
      "The body velocities for each frame:\n"
     ]
    },
    {
     "data": {
      "text/latex": [
       "$\\displaystyle V_{1} = \\left[\\begin{matrix}\\sin^{2}{\\left(θ{\\left(t \\right)} + 1.5707963267949 \\right)} \\frac{d}{d t} θ{\\left(t \\right)} + \\cos^{2}{\\left(θ{\\left(t \\right)} + 1.5707963267949 \\right)} \\frac{d}{d t} θ{\\left(t \\right)}\\\\\\sin^{2}{\\left(θ{\\left(t \\right)} + 1.5707963267949 \\right)} + \\cos^{2}{\\left(θ{\\left(t \\right)} + 1.5707963267949 \\right)}\\\\0\\\\0\\\\0\\\\\\sin^{2}{\\left(θ{\\left(t \\right)} + 1.5707963267949 \\right)} \\frac{d}{d t} θ{\\left(t \\right)} + \\cos^{2}{\\left(θ{\\left(t \\right)} + 1.5707963267949 \\right)} \\frac{d}{d t} θ{\\left(t \\right)}\\end{matrix}\\right]$"
      ],
      "text/plain": [
       "Eq(V_1, Matrix([\n",
       "[sin(θ(t) + 1.5707963267949)**2*Derivative(θ(t), t) + cos(θ(t) + 1.5707963267949)**2*Derivative(θ(t), t)],\n",
       "[                                        sin(θ(t) + 1.5707963267949)**2 + cos(θ(t) + 1.5707963267949)**2],\n",
       "[                                                                                                      0],\n",
       "[                                                                                                      0],\n",
       "[                                                                                                      0],\n",
       "[sin(θ(t) + 1.5707963267949)**2*Derivative(θ(t), t) + cos(θ(t) + 1.5707963267949)**2*Derivative(θ(t), t)]]))"
      ]
     },
     "metadata": {},
     "output_type": "display_data"
    },
    {
     "data": {
      "text/latex": [
       "$\\displaystyle V_{2} = \\left[\\begin{matrix}\\sin^{2}{\\left(θ{\\left(t \\right)} + 2.46839422782055 \\right)} \\frac{d}{d t} θ{\\left(t \\right)} + \\cos^{2}{\\left(θ{\\left(t \\right)} + 2.46839422782055 \\right)} \\frac{d}{d t} θ{\\left(t \\right)}\\\\\\sin^{2}{\\left(θ{\\left(t \\right)} + 2.46839422782055 \\right)} + \\cos^{2}{\\left(θ{\\left(t \\right)} + 2.46839422782055 \\right)}\\\\0\\\\0\\\\0\\\\\\sin^{2}{\\left(θ{\\left(t \\right)} + 2.46839422782055 \\right)} \\frac{d}{d t} θ{\\left(t \\right)} + \\cos^{2}{\\left(θ{\\left(t \\right)} + 2.46839422782055 \\right)} \\frac{d}{d t} θ{\\left(t \\right)}\\end{matrix}\\right]$"
      ],
      "text/plain": [
       "Eq(V_2, Matrix([\n",
       "[sin(θ(t) + 2.46839422782055)**2*Derivative(θ(t), t) + cos(θ(t) + 2.46839422782055)**2*Derivative(θ(t), t)],\n",
       "[                                        sin(θ(t) + 2.46839422782055)**2 + cos(θ(t) + 2.46839422782055)**2],\n",
       "[                                                                                                        0],\n",
       "[                                                                                                        0],\n",
       "[                                                                                                        0],\n",
       "[sin(θ(t) + 2.46839422782055)**2*Derivative(θ(t), t) + cos(θ(t) + 2.46839422782055)**2*Derivative(θ(t), t)]]))"
      ]
     },
     "metadata": {},
     "output_type": "display_data"
    },
    {
     "data": {
      "text/latex": [
       "$\\displaystyle V_{3} = \\left[\\begin{matrix}\\sin^{2}{\\left(θ{\\left(t \\right)} + 3.36599212884621 \\right)} \\frac{d}{d t} θ{\\left(t \\right)} + \\cos^{2}{\\left(θ{\\left(t \\right)} + 3.36599212884621 \\right)} \\frac{d}{d t} θ{\\left(t \\right)}\\\\\\sin^{2}{\\left(θ{\\left(t \\right)} + 3.36599212884621 \\right)} + \\cos^{2}{\\left(θ{\\left(t \\right)} + 3.36599212884621 \\right)}\\\\0\\\\0\\\\0\\\\\\sin^{2}{\\left(θ{\\left(t \\right)} + 3.36599212884621 \\right)} \\frac{d}{d t} θ{\\left(t \\right)} + \\cos^{2}{\\left(θ{\\left(t \\right)} + 3.36599212884621 \\right)} \\frac{d}{d t} θ{\\left(t \\right)}\\end{matrix}\\right]$"
      ],
      "text/plain": [
       "Eq(V_3, Matrix([\n",
       "[sin(θ(t) + 3.36599212884621)**2*Derivative(θ(t), t) + cos(θ(t) + 3.36599212884621)**2*Derivative(θ(t), t)],\n",
       "[                                        sin(θ(t) + 3.36599212884621)**2 + cos(θ(t) + 3.36599212884621)**2],\n",
       "[                                                                                                        0],\n",
       "[                                                                                                        0],\n",
       "[                                                                                                        0],\n",
       "[sin(θ(t) + 3.36599212884621)**2*Derivative(θ(t), t) + cos(θ(t) + 3.36599212884621)**2*Derivative(θ(t), t)]]))"
      ]
     },
     "metadata": {},
     "output_type": "display_data"
    },
    {
     "data": {
      "text/latex": [
       "$\\displaystyle V_{4} = \\left[\\begin{matrix}\\sin^{2}{\\left(θ{\\left(t \\right)} + 4.26359002987186 \\right)} \\frac{d}{d t} θ{\\left(t \\right)} + \\cos^{2}{\\left(θ{\\left(t \\right)} + 4.26359002987186 \\right)} \\frac{d}{d t} θ{\\left(t \\right)}\\\\\\sin^{2}{\\left(θ{\\left(t \\right)} + 4.26359002987186 \\right)} + \\cos^{2}{\\left(θ{\\left(t \\right)} + 4.26359002987186 \\right)}\\\\0\\\\0\\\\0\\\\\\sin^{2}{\\left(θ{\\left(t \\right)} + 4.26359002987186 \\right)} \\frac{d}{d t} θ{\\left(t \\right)} + \\cos^{2}{\\left(θ{\\left(t \\right)} + 4.26359002987186 \\right)} \\frac{d}{d t} θ{\\left(t \\right)}\\end{matrix}\\right]$"
      ],
      "text/plain": [
       "Eq(V_4, Matrix([\n",
       "[sin(θ(t) + 4.26359002987186)**2*Derivative(θ(t), t) + cos(θ(t) + 4.26359002987186)**2*Derivative(θ(t), t)],\n",
       "[                                        sin(θ(t) + 4.26359002987186)**2 + cos(θ(t) + 4.26359002987186)**2],\n",
       "[                                                                                                        0],\n",
       "[                                                                                                        0],\n",
       "[                                                                                                        0],\n",
       "[sin(θ(t) + 4.26359002987186)**2*Derivative(θ(t), t) + cos(θ(t) + 4.26359002987186)**2*Derivative(θ(t), t)]]))"
      ]
     },
     "metadata": {},
     "output_type": "display_data"
    },
    {
     "data": {
      "text/latex": [
       "$\\displaystyle V_{5} = \\left[\\begin{matrix}\\sin^{2}{\\left(θ{\\left(t \\right)} + 5.16118793089752 \\right)} \\frac{d}{d t} θ{\\left(t \\right)} + \\cos^{2}{\\left(θ{\\left(t \\right)} + 5.16118793089752 \\right)} \\frac{d}{d t} θ{\\left(t \\right)}\\\\\\sin^{2}{\\left(θ{\\left(t \\right)} + 5.16118793089752 \\right)} + \\cos^{2}{\\left(θ{\\left(t \\right)} + 5.16118793089752 \\right)}\\\\0\\\\0\\\\0\\\\\\sin^{2}{\\left(θ{\\left(t \\right)} + 5.16118793089752 \\right)} \\frac{d}{d t} θ{\\left(t \\right)} + \\cos^{2}{\\left(θ{\\left(t \\right)} + 5.16118793089752 \\right)} \\frac{d}{d t} θ{\\left(t \\right)}\\end{matrix}\\right]$"
      ],
      "text/plain": [
       "Eq(V_5, Matrix([\n",
       "[sin(θ(t) + 5.16118793089752)**2*Derivative(θ(t), t) + cos(θ(t) + 5.16118793089752)**2*Derivative(θ(t), t)],\n",
       "[                                        sin(θ(t) + 5.16118793089752)**2 + cos(θ(t) + 5.16118793089752)**2],\n",
       "[                                                                                                        0],\n",
       "[                                                                                                        0],\n",
       "[                                                                                                        0],\n",
       "[sin(θ(t) + 5.16118793089752)**2*Derivative(θ(t), t) + cos(θ(t) + 5.16118793089752)**2*Derivative(θ(t), t)]]))"
      ]
     },
     "metadata": {},
     "output_type": "display_data"
    },
    {
     "data": {
      "text/latex": [
       "$\\displaystyle V_{6} = \\left[\\begin{matrix}\\sin^{2}{\\left(θ{\\left(t \\right)} + 6.05878583192317 \\right)} \\frac{d}{d t} θ{\\left(t \\right)} + \\cos^{2}{\\left(θ{\\left(t \\right)} + 6.05878583192317 \\right)} \\frac{d}{d t} θ{\\left(t \\right)}\\\\\\sin^{2}{\\left(θ{\\left(t \\right)} + 6.05878583192317 \\right)} + \\cos^{2}{\\left(θ{\\left(t \\right)} + 6.05878583192317 \\right)}\\\\0\\\\0\\\\0\\\\\\sin^{2}{\\left(θ{\\left(t \\right)} + 6.05878583192317 \\right)} \\frac{d}{d t} θ{\\left(t \\right)} + \\cos^{2}{\\left(θ{\\left(t \\right)} + 6.05878583192317 \\right)} \\frac{d}{d t} θ{\\left(t \\right)}\\end{matrix}\\right]$"
      ],
      "text/plain": [
       "Eq(V_6, Matrix([\n",
       "[sin(θ(t) + 6.05878583192317)**2*Derivative(θ(t), t) + cos(θ(t) + 6.05878583192317)**2*Derivative(θ(t), t)],\n",
       "[                                        sin(θ(t) + 6.05878583192317)**2 + cos(θ(t) + 6.05878583192317)**2],\n",
       "[                                                                                                        0],\n",
       "[                                                                                                        0],\n",
       "[                                                                                                        0],\n",
       "[sin(θ(t) + 6.05878583192317)**2*Derivative(θ(t), t) + cos(θ(t) + 6.05878583192317)**2*Derivative(θ(t), t)]]))"
      ]
     },
     "metadata": {},
     "output_type": "display_data"
    },
    {
     "data": {
      "text/latex": [
       "$\\displaystyle V_{7} = \\left[\\begin{matrix}\\sin^{2}{\\left(θ{\\left(t \\right)} + 6.95638373294883 \\right)} \\frac{d}{d t} θ{\\left(t \\right)} + \\cos^{2}{\\left(θ{\\left(t \\right)} + 6.95638373294883 \\right)} \\frac{d}{d t} θ{\\left(t \\right)}\\\\\\sin^{2}{\\left(θ{\\left(t \\right)} + 6.95638373294883 \\right)} + \\cos^{2}{\\left(θ{\\left(t \\right)} + 6.95638373294883 \\right)}\\\\0\\\\0\\\\0\\\\\\sin^{2}{\\left(θ{\\left(t \\right)} + 6.95638373294883 \\right)} \\frac{d}{d t} θ{\\left(t \\right)} + \\cos^{2}{\\left(θ{\\left(t \\right)} + 6.95638373294883 \\right)} \\frac{d}{d t} θ{\\left(t \\right)}\\end{matrix}\\right]$"
      ],
      "text/plain": [
       "Eq(V_7, Matrix([\n",
       "[sin(θ(t) + 6.95638373294883)**2*Derivative(θ(t), t) + cos(θ(t) + 6.95638373294883)**2*Derivative(θ(t), t)],\n",
       "[                                        sin(θ(t) + 6.95638373294883)**2 + cos(θ(t) + 6.95638373294883)**2],\n",
       "[                                                                                                        0],\n",
       "[                                                                                                        0],\n",
       "[                                                                                                        0],\n",
       "[sin(θ(t) + 6.95638373294883)**2*Derivative(θ(t), t) + cos(θ(t) + 6.95638373294883)**2*Derivative(θ(t), t)]]))"
      ]
     },
     "metadata": {},
     "output_type": "display_data"
    }
   ],
   "source": [
    "#Getting the V for each frame...\n",
    "V = {}\n",
    "V_sym = {}\n",
    "\n",
    "print(\"The body velocities for each frame:\")\n",
    "for frame in g:\n",
    "    #body velocity and display symbol...\n",
    "    Vb = get_Vb(g[frame],q[0])\n",
    "    Vsym = symbols(f'V_{frame[1:]}')\n",
    "    #add to dictionaries...\n",
    "    V[frame] = Vb\n",
    "    V_sym[frame] = Vsym\n",
    "    #display...\n",
    "    display(Eq(Vsym,Vb,evaluate=0))"
   ]
  },
  {
   "cell_type": "markdown",
   "metadata": {},
   "source": [
    "**Energy: Tumbler**"
   ]
  },
  {
   "cell_type": "markdown",
   "metadata": {},
   "source": [
    "Kinetic..."
   ]
  },
  {
   "cell_type": "code",
   "execution_count": 19,
   "metadata": {},
   "outputs": [
    {
     "name": "stdout",
     "output_type": "stream",
     "text": [
      "Kinetic energy (from the 7-sided tumbler)\n"
     ]
    },
    {
     "data": {
      "text/latex": [
       "$\\displaystyle 7.0 \\left(\\frac{d}{d t} θ{\\left(t \\right)}\\right)^{2} + 3.5$"
      ],
      "text/plain": [
       "7.0*Derivative(θ(t), t)**2 + 3.5"
      ]
     },
     "metadata": {},
     "output_type": "display_data"
    }
   ],
   "source": [
    "#KE for each frame...\n",
    "KEdict = {}\n",
    "KE_sym = {}\n",
    "for frame in g:\n",
    "    KEdict[frame] = ((1/2)*V[frame].T*I[frame]*V[frame])[0]\n",
    "    KE_sym[frame] = symbols(f'KE_{frame[1:]}')\n",
    "    \n",
    "#summing up the total KE...\n",
    "KE = sym.simplify(sum(KEdict.values()))\n",
    "\n",
    "print(f'Kinetic energy (from the {n}-sided tumbler)')\n",
    "display(KE)"
   ]
  },
  {
   "cell_type": "markdown",
   "metadata": {},
   "source": [
    "Potential..."
   ]
  },
  {
   "cell_type": "code",
   "execution_count": 29,
   "metadata": {},
   "outputs": [
    {
     "name": "stdout",
     "output_type": "stream",
     "text": [
      "Potential energy from the 7-sided tumbler...\n",
      "note: this is essentially zero\n"
     ]
    },
    {
     "data": {
      "text/latex": [
       "$\\displaystyle - 3.26738636147184 \\cdot 10^{-15} \\sin{\\left(θ{\\left(t \\right)} \\right)} - 1.08912878715728 \\cdot 10^{-15} \\cos{\\left(θ{\\left(t \\right)} \\right)}$"
      ],
      "text/plain": [
       "-3.26738636147184e-15*sin(θ(t)) - 1.08912878715728e-15*cos(θ(t))"
      ]
     },
     "metadata": {},
     "output_type": "display_data"
    }
   ],
   "source": [
    "PEdict = {}\n",
    "PE_sym = {}\n",
    "for frame in g:\n",
    "    #y coordinate in the world frame\n",
    "    y_w = g[frame][1,3] #2nd row, 4th column of SE(3)\n",
    "    PEdict[frame] = (m_t*grav*y_w)\n",
    "\n",
    "PE = sym.simplify(sum(PEdict.values()))\n",
    "\n",
    "print(f'Potential energy from the {n}-sided tumbler...')\n",
    "print('note: this is essentially zero')\n",
    "display(PE)"
   ]
  },
  {
   "cell_type": "code",
   "execution_count": 31,
   "metadata": {},
   "outputs": [
    {
     "data": {
      "text/latex": [
       "$\\displaystyle 3.26738636147184 \\cdot 10^{-15} \\sin{\\left(θ{\\left(t \\right)} \\right)} + 1.08912878715728 \\cdot 10^{-15} \\cos{\\left(θ{\\left(t \\right)} \\right)} + 7.0 \\left(\\frac{d}{d t} θ{\\left(t \\right)}\\right)^{2} + 3.5$"
      ],
      "text/plain": [
       "3.26738636147184e-15*sin(θ(t)) + 1.08912878715728e-15*cos(θ(t)) + 7.0*Derivative(θ(t), t)**2 + 3.5"
      ]
     },
     "metadata": {},
     "output_type": "display_data"
    }
   ],
   "source": [
    "L = KE-PE\n",
    "display(L)"
   ]
  },
  {
   "cell_type": "code",
   "execution_count": 23,
   "metadata": {},
   "outputs": [
    {
     "data": {
      "text/latex": [
       "$\\displaystyle - 9.81 \\cos{\\left(θ{\\left(t \\right)} + 1.5707963267949 \\right)}$"
      ],
      "text/plain": [
       "-9.81*cos(θ(t) + 1.5707963267949)"
      ]
     },
     "execution_count": 23,
     "metadata": {},
     "output_type": "execute_result"
    }
   ],
   "source": [
    "PEdict['w1']"
   ]
  },
  {
   "cell_type": "markdown",
   "metadata": {},
   "source": [
    "## Animation"
   ]
  },
  {
   "cell_type": "code",
   "execution_count": 21,
   "metadata": {},
   "outputs": [
    {
     "ename": "NameError",
     "evalue": "name 'dontruntheseceeellss' is not defined",
     "output_type": "error",
     "traceback": [
      "\u001b[1;31m---------------------------------------------------------------------------\u001b[0m",
      "\u001b[1;31mNameError\u001b[0m                                 Traceback (most recent call last)",
      "\u001b[1;32m<ipython-input-21-c444fcf80516>\u001b[0m in \u001b[0;36m<module>\u001b[1;34m\u001b[0m\n\u001b[1;32m----> 1\u001b[1;33m \u001b[0mdontruntheseceeellss\u001b[0m\u001b[1;33m\u001b[0m\u001b[1;33m\u001b[0m\u001b[0m\n\u001b[0m",
      "\u001b[1;31mNameError\u001b[0m: name 'dontruntheseceeellss' is not defined"
     ]
    }
   ],
   "source": [
    "dontruntheseceeellss"
   ]
  },
  {
   "cell_type": "code",
   "execution_count": null,
   "metadata": {},
   "outputs": [],
   "source": [
    "#making dummy data for a plot...\n",
    "ls = np.linspace(0,10,100)\n",
    "faketraj = np.vstack((ls,ls))"
   ]
  },
  {
   "cell_type": "code",
   "execution_count": null,
   "metadata": {},
   "outputs": [],
   "source": [
    "def animate_tumbler(q_array,T=10):\n",
    "    \"\"\"\n",
    "    Function to generate web-based animation of just the raffle tumbler\n",
    "\n",
    "    Parameters:\n",
    "    ================================================\n",
    "    q_array:\n",
    "        trajectory of theta1 and theta2, should be a NumPy array with\n",
    "        shape of (2,N)\n",
    "    T:\n",
    "        length/seconds of animation duration\n",
    "\n",
    "    Returns: None\n",
    "    \"\"\"\n",
    "\n",
    "    ################################\n",
    "    # Imports required for animation.\n",
    "    from plotly.offline import init_notebook_mode, iplot\n",
    "    from IPython.display import display, HTML\n",
    "    import plotly.graph_objects as go\n",
    "\n",
    "    #######################\n",
    "    # Browser configuration.\n",
    "    def configure_plotly_browser_state():\n",
    "        import IPython\n",
    "        display(IPython.core.display.HTML('''\n",
    "            <script src=\"/static/components/requirejs/require.js\"></script>\n",
    "            <script>\n",
    "              requirejs.config({\n",
    "                paths: {\n",
    "                  base: '/static/base',\n",
    "                  plotly: 'https://cdn.plot.ly/plotly-1.5.1.min.js?noext',\n",
    "                },\n",
    "              });\n",
    "            </script>\n",
    "            '''))\n",
    "    configure_plotly_browser_state()\n",
    "    init_notebook_mode(connected=False)\n",
    "\n",
    "    ###############################################\n",
    "    # Length of trajectory\n",
    "    N = len(q_array[0])\n",
    "\n",
    "    ###############################################\n",
    "    # Define arrays containing data for frame axes\n",
    "    # In each frame, the x and y axis are always fixed\n",
    "    frame_length = 0.1\n",
    "    x_axis = np.array([frame_length, 0.0])\n",
    "    y_axis = np.array([0.0, frame_length])\n",
    "    origin = np.array([0.0, 0.0])\n",
    "    \n",
    "    #rectangle\n",
    "#     rec1_bl = np.array([-W1/2., 0.0])\n",
    "#     rec1_br = np.array([W1/2., 0.0])\n",
    "#     rec1_tl = np.array([-W1/2., L1])\n",
    "#     rec1_tr = np.array([W1/2., L1])\n",
    "    \n",
    "#     rec2_bl = np.array([-W2/2., 0.0])\n",
    "#     rec2_br = np.array([W2/2., 0.0])\n",
    "#     rec2_tl = np.array([-W2/2., L2])\n",
    "#     rec2_tr = np.array([W2/2., L2])\n",
    "    \n",
    "    # Initialize an array for each point\n",
    "#     frame_a_x_axis = np.zeros((2,N))\n",
    "#     frame_a_y_axis = np.zeros((2,N))\n",
    "#     frame_a_origin = np.zeros((2,N))\n",
    "    \n",
    "#     rec1_bl_w = np.zeros((2,N))\n",
    "#     rec1_br_w = np.zeros((2,N))\n",
    "#     rec1_tl_w = np.zeros((2,N))\n",
    "#     rec1_tr_w = np.zeros((2,N))\n",
    "    \n",
    "    #frame dictionary\n",
    "    framedict = {}\n",
    "    for ii in range(n):\n",
    "        #initialize np arrays for origin,x,y\n",
    "        origin_array = np.zeros((2,N))\n",
    "        x_axis_array = np.zeros((2,N))\n",
    "        y_axis_array = np.zeros((2,N))\n",
    "        \n",
    "        #Add to dictionary. This dictionary will store all point data for each frame, and concise my code!!! waahoooo\n",
    "        framedict[f'w{ii+1}'] = [origin_array,x_axis_array,y_axis_array]\n",
    "    \n",
    "    for i in range(N): # iteration through each time step\n",
    "        \n",
    "        #transformation dictionary...\n",
    "        g_np = {}\n",
    "        angdiv = 2*np.pi/n\n",
    "        for ii in range(n):\n",
    "            #rotate by theta, plus the fraction of 2pi, plus pi/2 to make it tangent\n",
    "            ang = q_array[0][i] + ii*angdiv + np.pi/2\n",
    "            g_R = get_SE3_planar_np(ang,np.array([0,0,0]))\n",
    "            #translate in the new frame by -R\n",
    "            p = np.array([0,-R,0])\n",
    "            g_p = get_SE3_planar_np(0,p)\n",
    "\n",
    "            #Add to dictionary\n",
    "            g_np[f'w{ii+1}'] = np.matmul(g_R,g_p)\n",
    "    \n",
    "        \n",
    "        # transfer the x axis, y axis, and origins in body frame back to world frame at \n",
    "        # the current time step. Overwrites the zero values in the dictionary.\n",
    "#         print(f'i is {i}, theta is {q_array[0][i]}')\n",
    "        for tfm in framedict:\n",
    "#             print(f'key={tfm}, type={type(tfm)}')\n",
    "#             print(framedict[tfm][0][:,i])\n",
    "            framedict[tfm][0][:,i] = g_np[tfm].dot([origin[0], origin[1], 0, 1])[0:2] #origin\n",
    "            framedict[tfm][1][:,i] = g_np[tfm].dot([x_axis[0], x_axis[1], 0, 1])[0:2] #x\n",
    "            framedict[tfm][2][:,i] = g_np[tfm].dot([y_axis[0], y_axis[1], 0, 1])[0:2] #y\n",
    "        \n",
    "        #Setting up the rectangle\n",
    "#         rec1_bl_w[:,i] = t_wd.dot([rec1_bl[0], rec1_bl[1], 1])[0:2]\n",
    "#         rec1_br_w[:,i] = t_wd.dot([rec1_br[0], rec1_br[1], 1])[0:2]\n",
    "#         rec1_tl_w[:,i] = t_wd.dot([rec1_tl[0], rec1_tl[1], 1])[0:2]\n",
    "#         rec1_tr_w[:,i] = t_wd.dot([rec1_tr[0], rec1_tr[1], 1])[0:2]\n",
    "        \n",
    "#         rec2_bl_w[:,i] = t_we.dot([rec2_bl[0], rec2_bl[1], 1])[0:2]\n",
    "#         rec2_br_w[:,i] = t_we.dot([rec2_br[0], rec2_br[1], 1])[0:2]\n",
    "#         rec2_tl_w[:,i] = t_we.dot([rec2_tl[0], rec2_tl[1], 1])[0:2]\n",
    "#         rec2_tr_w[:,i] = t_we.dot([rec2_tr[0], rec2_tr[1], 1])[0:2]\n",
    "    \n",
    "    ####################################\n",
    "    # Using these to specify axis limits.\n",
    "    xm = -1.5 #np.min(xx1)-0.5\n",
    "    xM = 1.5 #np.max(xx1)+0.5\n",
    "    ym = -1.5 #np.min(yy1)-2.5\n",
    "    yM = 1.5 #np.max(yy1)+1.5\n",
    "\n",
    "    ###########################\n",
    "    # Defining data dictionary.\n",
    "    # Trajectories are here.\n",
    "    \n",
    "    #inserting generated 'data' dictionaries...\n",
    "    gendata = []\n",
    "    for tfm in framedict.keys():\n",
    "        x_label = dict(name=f'{tfm} frame x')\n",
    "        y_label = dict(name=f'{tfm} frame y')\n",
    "        gendata.append(x_label)\n",
    "        gendata.append(y_label)\n",
    "    \n",
    "    data=[\n",
    "        # note that except for the trajectory (which you don't need this time),\n",
    "        # you don't need to define entries other than \"name\". The items defined\n",
    "        # in this list will be related to the items defined in the \"frames\" list\n",
    "        # later in the same order. Therefore, these entries can be considered as \n",
    "        # labels for the components in each animation frame\n",
    "        dict(name='w frame X'),\n",
    "        dict(name='w frame Y'),\n",
    "        *gendata,\n",
    "\n",
    "        # You don't need to show trajectory this time,\n",
    "        # but if you want to show the whole trajectory in the animation (like what\n",
    "        # you did in previous homeworks), you will need to define entries other than \n",
    "        # \"name\", such as \"x\", \"y\". and \"mode\".\n",
    "\n",
    "        # dict(x=xx1, y=yy1, \n",
    "        #      mode='markers', name='Pendulum 1 Traj', \n",
    "        #      marker=dict(color=\"fuchsia\", size=2)\n",
    "        #     ),\n",
    "        # dict(x=xx2, y=yy2, \n",
    "        #      mode='markers', name='Pendulum 2 Traj', \n",
    "        #      marker=dict(color=\"purple\", size=2)\n",
    "        #     ),\n",
    "        ]\n",
    "\n",
    "    ################################\n",
    "    # Preparing simulation layout.\n",
    "    # Title and axis ranges are here.\n",
    "    layout=dict(autosize=False, width=1000, height=1000,\n",
    "                xaxis=dict(range=[xm, xM], autorange=False, zeroline=True,dtick=1),\n",
    "                yaxis=dict(range=[ym, yM], autorange=False, zeroline=False,scaleanchor = \"x\",dtick=1),\n",
    "                title='Double Pendulum Simulation', \n",
    "                hovermode='closest',\n",
    "                updatemenus= [{'type': 'buttons',\n",
    "                               'buttons': [{'label': 'Play','method': 'animate',\n",
    "                                            'args': [None, {'frame': {'duration': T, 'redraw': False}}]},\n",
    "                                           {'args': [[None], {'frame': {'duration': T, 'redraw': False}, 'mode': 'immediate',\n",
    "                                            'transition': {'duration': 0}}],'label': 'Pause','method': 'animate'}\n",
    "                                          ]\n",
    "                              }]\n",
    "               )\n",
    "\n",
    "    ########################################\n",
    "    # Defining the frames of the simulation.\n",
    "    \n",
    "    #I took it out of the list comprehension to include generated data. And also list comprehensions make my brain hurt!\n",
    "    frames = []\n",
    "    for k in range(N):\n",
    "        #generated frame data...\n",
    "        gendata = []\n",
    "        for tfm in framedict.keys():\n",
    "            #draw out the x and y lines...\n",
    "            x_line = dict(x=[framedict[tfm][0][0][k], framedict[tfm][1][0][k]], \n",
    "                         y=[framedict[tfm][0][1][k], framedict[tfm][1][1][k]], \n",
    "                         mode='lines',\n",
    "                         line=dict(color='orange', width=3),\n",
    "                        )\n",
    "            y_line = dict(x=[framedict[tfm][0][0][k], framedict[tfm][2][0][k]], \n",
    "                         y=[framedict[tfm][0][1][k], framedict[tfm][2][1][k]], \n",
    "                         mode='lines',\n",
    "                         line=dict(color='orange', width=3),\n",
    "                        )\n",
    "            #add to gendata...\n",
    "            gendata.append(x_line)\n",
    "            gendata.append(y_line)\n",
    "        \n",
    "        frames.append(dict(data=[# first three objects correspond to the arms and two masses,\n",
    "                       # same order as in the \"data\" variable defined above (thus \n",
    "                       # they will be labeled in the same order)\n",
    "\n",
    "                       # display x and y axes of the fixed frame in each animation frame\n",
    "                       dict(x=[0,x_axis[0]], \n",
    "                            y=[0,x_axis[1]], \n",
    "                            mode='lines',\n",
    "                            line=dict(color='red', width=3),\n",
    "                            ),\n",
    "                       dict(x=[0,y_axis[0]], \n",
    "                            y=[0,y_axis[1]], \n",
    "                            mode='lines',\n",
    "                            line=dict(color='red', width=3),\n",
    "                            ),\n",
    "        \n",
    "                        #unpacking the generated data...\n",
    "                        *gendata,\n",
    "#                     #RECTANGLE1\n",
    "#                        dict(x=[rec1_bl_w[0][k], rec1_br_w[0][k]], \n",
    "#                             y=[rec1_bl_w[1][k], rec1_br_w[1][k]],\n",
    "#                             mode='lines',\n",
    "#                             line=dict(color='red', width=3),\n",
    "#                             ),\n",
    "#                        dict(x=[rec1_br_w[0][k], rec1_tr_w[0][k]], \n",
    "#                             y=[rec1_br_w[1][k], rec1_tr_w[1][k]],\n",
    "#                             mode='lines',\n",
    "#                             line=dict(color='red', width=3),\n",
    "#                             ),\n",
    "#                        dict(x=[rec1_tl_w[0][k], rec1_tr_w[0][k]], \n",
    "#                             y=[rec1_tl_w[1][k], rec1_tr_w[1][k]],\n",
    "#                             mode='lines',\n",
    "#                             line=dict(color='red', width=3),\n",
    "#                             ),\n",
    "#                        dict(x=[rec1_bl_w[0][k], rec1_tl_w[0][k]], \n",
    "#                             y=[rec1_bl_w[1][k], rec1_tl_w[1][k]],\n",
    "#                             mode='lines',\n",
    "#                             line=dict(color='red', width=3),\n",
    "#                             ),\n",
    "                      ]))\n",
    "                    \n",
    "\n",
    "    #######################################\n",
    "    # Putting it all together and plotting.\n",
    "    figure1=dict(data=data, layout=layout, frames=frames)           \n",
    "    iplot(figure1)\n",
    "    \n",
    "    return framedict"
   ]
  },
  {
   "cell_type": "code",
   "execution_count": null,
   "metadata": {},
   "outputs": [],
   "source": [
    "fd = animate_tumbler(faketraj,T=100)"
   ]
  },
  {
   "cell_type": "code",
   "execution_count": null,
   "metadata": {},
   "outputs": [],
   "source": [
    "fd.keys()"
   ]
  },
  {
   "cell_type": "code",
   "execution_count": null,
   "metadata": {},
   "outputs": [],
   "source": [
    "w1_dbg = fd['w1'][0]"
   ]
  }
 ],
 "metadata": {
  "kernelspec": {
   "display_name": "Python 3",
   "language": "python",
   "name": "python3"
  },
  "language_info": {
   "codemirror_mode": {
    "name": "ipython",
    "version": 3
   },
   "file_extension": ".py",
   "mimetype": "text/x-python",
   "name": "python",
   "nbconvert_exporter": "python",
   "pygments_lexer": "ipython3",
   "version": "3.7.6"
  }
 },
 "nbformat": 4,
 "nbformat_minor": 4
}
