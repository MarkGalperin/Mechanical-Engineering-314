{
 "cells": [
  {
   "cell_type": "markdown",
   "metadata": {
    "id": "CPQA-QCdiov-"
   },
   "source": [
    "# Mark Galperin - Final Project\n",
    "# Due December 8, 2020\n",
    "\n",
    "This is my python notebook for the final project for ME 314! Wahoo"
   ]
  },
  {
   "cell_type": "markdown",
   "metadata": {},
   "source": [
    "**Imports**"
   ]
  },
  {
   "cell_type": "code",
   "execution_count": 2,
   "metadata": {},
   "outputs": [
    {
     "name": "stdout",
     "output_type": "stream",
     "text": [
      "1.6.2\n"
     ]
    }
   ],
   "source": [
    "import sympy as sym \n",
    "from sympy.abc import t\n",
    "print(sym.__version__)"
   ]
  },
  {
   "cell_type": "code",
   "execution_count": 3,
   "metadata": {},
   "outputs": [],
   "source": [
    "#other imports...\n",
    "from sympy import Function, Matrix, Eq, symbols\n",
    "import numpy as np\n",
    "import matplotlib.pyplot as plt"
   ]
  },
  {
   "cell_type": "markdown",
   "metadata": {},
   "source": [
    "**Helper Functions**"
   ]
  },
  {
   "cell_type": "code",
   "execution_count": 4,
   "metadata": {},
   "outputs": [],
   "source": [
    "def get_SE3_planar(R_th,p):\n",
    "    \"\"\"\n",
    "    This function assembles planar homogenous transforms in SE(3) given either a rotation and a translation,\n",
    "    or an R matrix and a translation.\n",
    "    \n",
    "    Takes...\n",
    "        R_th: This input can be either a sympy matrix (at least 2x2) that is the rotation matrix for\n",
    "            planar rotation about z, OR it can be a numerical value for the angle theta rotated about z\n",
    "        \n",
    "        p: a 3x1 (or 2x1) sympy matrix that is a homogenous coordinate vector for an x, y translation.\n",
    "            p=0 is an acceptable input, shorthand for p = Matrix([0,0,0])\n",
    "        \n",
    "    Returns...\n",
    "        g_SE3: a 3x3 sympy matrix that is a planar homogenous transform in SE(3)\n",
    "    \"\"\"\n",
    "    \n",
    "    #allowing p=0 as an input...\n",
    "    if p==0:\n",
    "        p = Matrix([0,0,0])\n",
    "    \n",
    "    #assembling the matrix...\n",
    "    if type(R_th).__name__ == 'MutableDenseMatrix':\n",
    "        #given R_th is a matrix in SE(2) at least... \n",
    "        g_SE3 = Matrix([[R_th[0,0], R_th[0,1], 0, p[0]],\n",
    "                  [R_th[1,0], R_th[1,1], 0, p[1]],\n",
    "                  [0, 0, 1, 0],\n",
    "                  [0, 0, 0, 1]])\n",
    "    else:   \n",
    "        #if R_or_th is a numerical value...\n",
    "        g_SE3 = Matrix([[sym.cos(R_th), -sym.sin(R_th), 0, p[0]],\n",
    "                      [sym.sin(R_th), sym.cos(R_th), 0, p[1]],\n",
    "                      [0, 0, 1, 0],\n",
    "                      [0, 0, 0, 1]])\n",
    "    \n",
    "    return g_SE3"
   ]
  },
  {
   "cell_type": "code",
   "execution_count": 5,
   "metadata": {},
   "outputs": [],
   "source": [
    "def get_SE3_planar_np(R_th,p):\n",
    "    \"\"\"\n",
    "    This function assembles planar homogenous transforms in SE(3) given either a rotation and a translation,\n",
    "    or an R matrix and a translation.\n",
    "    \n",
    "    Takes...\n",
    "        R_th: This input can be either a sympy matrix (at least 2x2) that is the rotation matrix for\n",
    "            planar rotation about z, OR it can be a numerical value for the angle theta rotated about z\n",
    "        \n",
    "        p: a 3x1 (or 2x1) sympy matrix that is a homogenous coordinate vector for an x, y translation.\n",
    "            p=0 is an acceptable input, shorthand for p = np.array([0,0,0])\n",
    "        \n",
    "    Returns...\n",
    "        g_SE3: a 3x3 numpy array that is a planar homogenous transform in SE(3)\n",
    "    \"\"\"\n",
    "    \n",
    "    #allowing p=0 as an input...\n",
    "    if p==0:\n",
    "        p = np.array([0,0,0])\n",
    "    \n",
    "    #assembling the matrix...\n",
    "    if type(R_th).__name__ == 'ndarray':\n",
    "        #given R_th is a matrix in SE(2) at least... \n",
    "        g_SE3 = np.array([[R_th[0][0], R_th[0][1], 0, p[0]],\n",
    "                  [R_th[1][0], R_th[1][1], 0, p[1]],\n",
    "                  [0, 0, 1, 0],\n",
    "                  [0, 0, 0, 1]])\n",
    "    else:   \n",
    "        #if R_or_th is a numerical value...\n",
    "        g_SE3 = np.array([[np.cos(R_th), -np.sin(R_th), 0, p[0]],\n",
    "                      [np.sin(R_th), np.cos(R_th), 0, p[1]],\n",
    "                      [0, 0, 1, 0],\n",
    "                      [0, 0, 0, 1]])\n",
    "    \n",
    "    return g_SE3"
   ]
  },
  {
   "cell_type": "code",
   "execution_count": 6,
   "metadata": {},
   "outputs": [],
   "source": [
    "def hat(w):\n",
    "    w_hat = Matrix([[0,    -w[2], w[1] ],\n",
    "                    [w[2],   0,  -w[0] ],\n",
    "                    [-w[1], w[0],   0  ]])\n",
    "    return w_hat"
   ]
  },
  {
   "cell_type": "code",
   "execution_count": 7,
   "metadata": {},
   "outputs": [],
   "source": [
    "def unhat_3x3(w_hat):\n",
    "    return Matrix([w_hat[2,1],w_hat[0,2],w_hat[1,0]])"
   ]
  },
  {
   "cell_type": "code",
   "execution_count": null,
   "metadata": {},
   "outputs": [],
   "source": [
    "def unhat_4x4(w_hat):\n",
    "    return Matrix([w_hat[2,1],w_hat[0,2],w_hat[1,0]])"
   ]
  },
  {
   "cell_type": "code",
   "execution_count": 8,
   "metadata": {},
   "outputs": [],
   "source": [
    "def g_inv(g):\n",
    "    \"\"\"\n",
    "    This function calculates the inverse of a transformation g, in (planar) SE(3). \n",
    "    \n",
    "    Dependencies:\n",
    "        get_SE3_planar(th,p): Generates a planar homogenous transform in SE(3). Used for output.\n",
    "    \n",
    "    Takes...\n",
    "        g: a 3x3 sympy matrix in SE(3)\n",
    "        \n",
    "    Returns...\n",
    "        g_out: a 3x3 sympy matrix in SE(3) that is the \"inverse\" of g\n",
    "    \"\"\"\n",
    "    #dissecting the input transformation g\n",
    "    R = g[0:3,0:3]\n",
    "    p = Matrix([g[0,3],g[1,3],1])\n",
    "    \n",
    "    RT = R.T\n",
    "    p_inv = -RT*p\n",
    "    \n",
    "    return get_SE3_planar(RT,p_inv)"
   ]
  },
  {
   "cell_type": "code",
   "execution_count": 9,
   "metadata": {},
   "outputs": [],
   "source": [
    "def g_dot(g,q_th):\n",
    "    \"\"\"\n",
    "    This function gives the time-derivative of g\n",
    "    g_dot = [R_dot p_dot\n",
    "             0     1    ]\n",
    "    ...where R_dot = Rw = wR, and w = [0 0 d(th)/dt]\n",
    "    \n",
    "    TODO - more docstring\n",
    "    \"\"\"\n",
    "    \n",
    "    w = Matrix([0,0,q_th.diff(t)])\n",
    "    \n",
    "    #R_dot...\n",
    "    R = g[0:3,0:3]\n",
    "    R_dot = R*hat(w)\n",
    "    \n",
    "    #p_dot...\n",
    "    p = g[0:3,3]\n",
    "    p_dot = p.diff(t)\n",
    "    \n",
    "    #generating the transform...\n",
    "    return get_SE3_planar(R_dot,p_dot)"
   ]
  },
  {
   "cell_type": "code",
   "execution_count": 10,
   "metadata": {},
   "outputs": [],
   "source": [
    "def get_Vb(g,q_th,select='Vb'):\n",
    "    \n",
    "    #TODO: selection dictionary\n",
    "    \n",
    "    Vhat = g_inv(g)*g_dot(g,q_th)\n",
    "    w_hat = Vhat[0:3,0:3]\n",
    "    v = Vhat[0:3,3]\n",
    "    w = unhat(w_hat)\n",
    "    Vb = v.col_join(w)\n",
    "    return Vb"
   ]
  },
  {
   "cell_type": "code",
   "execution_count": 6,
   "metadata": {},
   "outputs": [
    {
     "data": {
      "text/plain": [
       "'ndarray'"
      ]
     },
     "execution_count": 6,
     "metadata": {},
     "output_type": "execute_result"
    }
   ],
   "source": [
    "a = np.array([[1,2,3],[4,5,6],[7,8,9]])\n",
    "type(a).__name__"
   ]
  }
 ],
 "metadata": {
  "kernelspec": {
   "display_name": "Python 3",
   "language": "python",
   "name": "python3"
  },
  "language_info": {
   "codemirror_mode": {
    "name": "ipython",
    "version": 3
   },
   "file_extension": ".py",
   "mimetype": "text/x-python",
   "name": "python",
   "nbconvert_exporter": "python",
   "pygments_lexer": "ipython3",
   "version": "3.7.6"
  }
 },
 "nbformat": 4,
 "nbformat_minor": 4
}
