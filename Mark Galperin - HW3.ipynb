{
 "cells": [
  {
   "cell_type": "markdown",
   "metadata": {
    "id": "trgiPrPsJfDy"
   },
   "source": [
    "# Mark Galperin - HW3.\n",
    "# Due October 14, 2020\n",
    "\n",
    "*Please note that a **single** PDF file will be the only document that you turn in, which will include your answers to the problems with corresponding derivations and any code used to complete the problems. When including the code, please make sure you also include **code outputs**, and you don't need to include example code. Problems and deliverables that should be included with your submission are shown in **bold**.*\n",
    "\n",
    "*This Juputer Notebook file serves as a template for you to start homework, since we recommend to finish the homework using Jupyter Notebook. You can start with this notebook file with your local Jupyter environment, or upload it to Google Colab. You can include all the code and other deliverables in this notebook Jupyter Notebook supports $\\LaTeX$ for math equations, and you can export the whole notebook as a PDF file. But this is not the only option, if you are more comfortable with other ways, feel free to do so, as long as you can submit the homework in a single PDF file.*\n",
    "\n",
    "***"
   ]
  },
  {
   "cell_type": "code",
   "execution_count": 1,
   "metadata": {},
   "outputs": [],
   "source": [
    "import sympy as sym\n",
    "from sympy import Function, Eq, Matrix, simplify\n",
    "import numpy as np\n",
    "import matplotlib.pyplot as plt"
   ]
  },
  {
   "cell_type": "markdown",
   "metadata": {
    "id": "z4wkvcQjJfD1"
   },
   "source": [
    "Below are the help functions in previous homeworks, which you may need for this homework."
   ]
  },
  {
   "cell_type": "markdown",
   "metadata": {
    "id": "-SUDkJtyJfD3"
   },
   "source": [
    "## Problem 1 (10pts)\n",
    "\n",
    "Let $f:\\mathbb{R}^2\\to\\mathbb{R}$ with $f(x,y)=-\\cos(x+y)\\cos(x-y)$.  Show that $(x,y)=(0,0)$ satisfies both the necessary and sufficient conditions to be a local minimizer of $f$.\n",
    "\n",
    "*Hint 1: You will need to take the first- and second-order derivative of $f$ with respect to $[x,y]$.*\n",
    "\n",
    "**Turn in: A scanned (or photograph from your phone or webcam) copy of your hand written solution. You can also use $\\LaTeX$. If you use SymPy, then you just need to include a copy of code and the code outputs, with notes that explain why the code outputs indicate the necessary and sufficient conditions.**"
   ]
  },
  {
   "cell_type": "code",
   "execution_count": 2,
   "metadata": {},
   "outputs": [],
   "source": [
    "#symbols...\n",
    "x = sym.symbols('x')\n",
    "y = sym.symbols('y')\n",
    "f_sym = sym.symbols('f')\n",
    "H_sym = sym.symbols('H')"
   ]
  },
  {
   "cell_type": "code",
   "execution_count": 3,
   "metadata": {
    "id": "fojgpjP9JfD4"
   },
   "outputs": [
    {
     "name": "stdout",
     "output_type": "stream",
     "text": [
      "f is defined...\n"
     ]
    },
    {
     "data": {
      "text/latex": [
       "$\\displaystyle f = - \\cos{\\left(x - y \\right)} \\cos{\\left(x + y \\right)}$"
      ],
      "text/plain": [
       "Eq(f, -cos(x - y)*cos(x + y))"
      ]
     },
     "metadata": {},
     "output_type": "display_data"
    }
   ],
   "source": [
    "#define f...\n",
    "f = -sym.cos(x+y)*sym.cos(x-y)\n",
    "print(\"f is defined...\")\n",
    "display(Eq(f_sym,f))"
   ]
  },
  {
   "cell_type": "code",
   "execution_count": 4,
   "metadata": {},
   "outputs": [
    {
     "name": "stdout",
     "output_type": "stream",
     "text": [
      "The Hessian:\n"
     ]
    },
    {
     "data": {
      "text/latex": [
       "$\\displaystyle \\left[\\begin{matrix}- 2 \\sin{\\left(x - y \\right)} \\sin{\\left(x + y \\right)} + 2 \\cos{\\left(x - y \\right)} \\cos{\\left(x + y \\right)} & 0\\\\0 & 2 \\sin{\\left(x - y \\right)} \\sin{\\left(x + y \\right)} + 2 \\cos{\\left(x - y \\right)} \\cos{\\left(x + y \\right)}\\end{matrix}\\right]$"
      ],
      "text/plain": [
       "Matrix([\n",
       "[-2*sin(x - y)*sin(x + y) + 2*cos(x - y)*cos(x + y),                                                 0],\n",
       "[                                                 0, 2*sin(x - y)*sin(x + y) + 2*cos(x - y)*cos(x + y)]])"
      ]
     },
     "metadata": {},
     "output_type": "display_data"
    }
   ],
   "source": [
    "#define the hessian H...\n",
    "d2fdx = f.diff(x).diff(x)\n",
    "d2fdxy = f.diff(x).diff(y)\n",
    "d2fdy = f.diff(y).diff(y)\n",
    "\n",
    "H = Matrix(([d2fdx, d2fdxy],[d2fdxy, d2fdy]))\n",
    "print(\"The Hessian:\")\n",
    "display(H)"
   ]
  },
  {
   "cell_type": "code",
   "execution_count": 5,
   "metadata": {},
   "outputs": [
    {
     "name": "stdout",
     "output_type": "stream",
     "text": [
      "The Hessian at (x,y) = (0,0)\n"
     ]
    },
    {
     "data": {
      "text/latex": [
       "$\\displaystyle \\left[\\begin{matrix}2 & 0\\\\0 & 2\\end{matrix}\\right]$"
      ],
      "text/plain": [
       "Matrix([\n",
       "[2, 0],\n",
       "[0, 2]])"
      ]
     },
     "metadata": {},
     "output_type": "display_data"
    }
   ],
   "source": [
    "H_zero = H.subs([(x,0),(y,0)])\n",
    "print('The Hessian at (x,y) = (0,0)')\n",
    "display(H_zero)"
   ]
  },
  {
   "cell_type": "markdown",
   "metadata": {},
   "source": [
    "Because H at (0,0) is _positive definite_ , otherwise stated $x^{T}Hx > 0 \\: \\forall \\: x \\in R^{n}$, (0,0) satisfies the condition of locally minimizing f"
   ]
  },
  {
   "cell_type": "markdown",
   "metadata": {
    "id": "lT8T6Q6pJfD8"
   },
   "source": [
    "## Problem 2 (20pts)\n",
    "\n",
    "Compute the equations of motion for the two-mass-spring system (shown above) in $\\theta=(\\theta_1,\\theta_2)$ coordinates. The first mass with mass $m_1$ is the one close to the wall, and the second mass is with mass $m_2$. Assume that there is a spring of spring constant $k_1$ between the first mass and the wall and a spring of spring constant $k_2$ between the first mass and the second mass.\n",
    "\n",
    "**Turn in: A copy of the code used to symbolically solve for the equations of motion, also include the outputs of the code, which should be the equations of motion.**"
   ]
  },
  {
   "cell_type": "code",
   "execution_count": 6,
   "metadata": {
    "colab": {
     "base_uri": "https://localhost:8080/",
     "height": 377
    },
    "executionInfo": {
     "elapsed": 1743,
     "status": "ok",
     "timestamp": 1602092440254,
     "user": {
      "displayName": "Muchen Sun",
      "photoUrl": "https://lh3.googleusercontent.com/a-/AOh14Ginp48i0jmOxCe1Ash9fdfU0b4Pe6DGLT9uqf_M=s64",
      "userId": "16296401493550679771"
     },
     "user_tz": 300
    },
    "id": "B-DiCe_mJfD6",
    "outputId": "bb22d86a-54b0-4851-865c-27e0fd0dd43e"
   },
   "outputs": [
    {
     "data": {
      "text/html": [
       "<table><tr><td><img src='https://github.com/MuchenSun/ME314pngs/raw/master/twolinearmasses.png' width=500' height='350'></table>"
      ],
      "text/plain": [
       "<IPython.core.display.HTML object>"
      ]
     },
     "metadata": {},
     "output_type": "display_data"
    }
   ],
   "source": [
    "from IPython.core.display import HTML\n",
    "display(HTML(\"<table><tr><td><img src='https://github.com/MuchenSun/ME314pngs/raw/master/twolinearmasses.png' width=500' height='350'></table>\"))"
   ]
  },
  {
   "cell_type": "code",
   "execution_count": 7,
   "metadata": {
    "id": "FxvYr5lLJfD8"
   },
   "outputs": [],
   "source": [
    "#symbol definitions...\n",
    "t = sym.symbols('t')\n",
    "L = sym.symbols('L')\n",
    "x1_sym = sym.symbols('x_1')\n",
    "x2_sym = sym.symbols('x_2')\n",
    "KE_sym = sym.symbols('KE')\n",
    "V_sym = sym.symbols('V')\n",
    "th1 = sym.Function('θ_1')(t)\n",
    "th2 = sym.Function('θ_2')(t)\n",
    "m1 = sym.symbols('m_1')\n",
    "m2 = sym.symbols('m_2')\n",
    "k1 = sym.symbols('k_1')\n",
    "k2 = sym.symbols('k_2')"
   ]
  },
  {
   "cell_type": "code",
   "execution_count": 8,
   "metadata": {},
   "outputs": [
    {
     "name": "stdout",
     "output_type": "stream",
     "text": [
      "expressions for x1 and x2\n"
     ]
    },
    {
     "data": {
      "text/latex": [
       "$\\displaystyle x_{1} = L \\tan{\\left(\\operatorname{θ_{1}}{\\left(t \\right)} \\right)}$"
      ],
      "text/plain": [
       "Eq(x_1, L*tan(θ_1(t)))"
      ]
     },
     "metadata": {},
     "output_type": "display_data"
    },
    {
     "data": {
      "text/latex": [
       "$\\displaystyle x_{2} = L \\tan{\\left(\\operatorname{θ_{1}}{\\left(t \\right)} + \\operatorname{θ_{2}}{\\left(t \\right)} \\right)} - L \\tan{\\left(\\operatorname{θ_{1}}{\\left(t \\right)} \\right)}$"
      ],
      "text/plain": [
       "Eq(x_2, L*tan(θ_1(t) + θ_2(t)) - L*tan(θ_1(t)))"
      ]
     },
     "metadata": {},
     "output_type": "display_data"
    }
   ],
   "source": [
    "#x1 and x2...\n",
    "x1 = L*sym.tan(th1)\n",
    "x2 = L*sym.tan(th1+th2) - L*sym.tan(th1)\n",
    "\n",
    "#display..\n",
    "print(\"expressions for x1 and x2\")\n",
    "display(Eq(x1_sym,x1),Eq(x2_sym,x2))"
   ]
  },
  {
   "cell_type": "code",
   "execution_count": 9,
   "metadata": {},
   "outputs": [],
   "source": [
    "#derivatives...\n",
    "dx1 = x1.diff(t)\n",
    "ddx1 = dx1.diff(t)\n",
    "dx2 = x2.diff(t)\n",
    "ddx2 = dx2.diff(t)"
   ]
  },
  {
   "cell_type": "markdown",
   "metadata": {},
   "source": [
    "I'll be solving for the Equations of motion via Lagrangian mechanics"
   ]
  },
  {
   "cell_type": "code",
   "execution_count": 10,
   "metadata": {},
   "outputs": [
    {
     "name": "stdout",
     "output_type": "stream",
     "text": [
      "Kinetic and Potenrial energies, respectively:\n"
     ]
    },
    {
     "data": {
      "text/latex": [
       "$\\displaystyle KE = 0.5 L^{2} m_{1} \\left(\\tan^{2}{\\left(\\operatorname{θ_{1}}{\\left(t \\right)} \\right)} + 1\\right)^{2} \\left(\\frac{d}{d t} \\operatorname{θ_{1}}{\\left(t \\right)}\\right)^{2} + 0.5 m_{2} \\left(2 L \\left(\\tan^{2}{\\left(\\operatorname{θ_{1}}{\\left(t \\right)} + \\operatorname{θ_{2}}{\\left(t \\right)} \\right)} + 1\\right) \\left(\\frac{d}{d t} \\operatorname{θ_{1}}{\\left(t \\right)} + \\frac{d}{d t} \\operatorname{θ_{2}}{\\left(t \\right)}\\right)^{2} \\tan{\\left(\\operatorname{θ_{1}}{\\left(t \\right)} + \\operatorname{θ_{2}}{\\left(t \\right)} \\right)} + L \\left(\\tan^{2}{\\left(\\operatorname{θ_{1}}{\\left(t \\right)} + \\operatorname{θ_{2}}{\\left(t \\right)} \\right)} + 1\\right) \\left(\\frac{d^{2}}{d t^{2}} \\operatorname{θ_{1}}{\\left(t \\right)} + \\frac{d^{2}}{d t^{2}} \\operatorname{θ_{2}}{\\left(t \\right)}\\right) - 2 L \\left(\\tan^{2}{\\left(\\operatorname{θ_{1}}{\\left(t \\right)} \\right)} + 1\\right) \\tan{\\left(\\operatorname{θ_{1}}{\\left(t \\right)} \\right)} \\left(\\frac{d}{d t} \\operatorname{θ_{1}}{\\left(t \\right)}\\right)^{2} + L \\left(\\tan^{2}{\\left(\\operatorname{θ_{1}}{\\left(t \\right)} \\right)} + 1\\right) \\frac{d}{d t} \\operatorname{θ_{1}}{\\left(t \\right)} - L \\left(\\tan^{2}{\\left(\\operatorname{θ_{1}}{\\left(t \\right)} \\right)} + 1\\right) \\frac{d^{2}}{d t^{2}} \\operatorname{θ_{1}}{\\left(t \\right)}\\right)^{2}$"
      ],
      "text/plain": [
       "Eq(KE, 0.5*L**2*m_1*(tan(θ_1(t))**2 + 1)**2*Derivative(θ_1(t), t)**2 + 0.5*m_2*(2*L*(tan(θ_1(t) + θ_2(t))**2 + 1)*(Derivative(θ_1(t), t) + Derivative(θ_2(t), t))**2*tan(θ_1(t) + θ_2(t)) + L*(tan(θ_1(t) + θ_2(t))**2 + 1)*(Derivative(θ_1(t), (t, 2)) + Derivative(θ_2(t), (t, 2))) - 2*L*(tan(θ_1(t))**2 + 1)*tan(θ_1(t))*Derivative(θ_1(t), t)**2 + L*(tan(θ_1(t))**2 + 1)*Derivative(θ_1(t), t) - L*(tan(θ_1(t))**2 + 1)*Derivative(θ_1(t), (t, 2)))**2)"
      ]
     },
     "metadata": {},
     "output_type": "display_data"
    },
    {
     "data": {
      "text/latex": [
       "$\\displaystyle V = L^{2} k_{1} \\tan^{2}{\\left(\\operatorname{θ_{1}}{\\left(t \\right)} \\right)} + k_{2} \\left(L \\tan{\\left(\\operatorname{θ_{1}}{\\left(t \\right)} + \\operatorname{θ_{2}}{\\left(t \\right)} \\right)} - L \\tan{\\left(\\operatorname{θ_{1}}{\\left(t \\right)} \\right)}\\right)^{2}$"
      ],
      "text/plain": [
       "Eq(V, L**2*k_1*tan(θ_1(t))**2 + k_2*(L*tan(θ_1(t) + θ_2(t)) - L*tan(θ_1(t)))**2)"
      ]
     },
     "metadata": {},
     "output_type": "display_data"
    }
   ],
   "source": [
    "#defining KE and V...\n",
    "KE = (1/2)*m1*(dx1)**2 + (1/2)*m2*(dx1+ddx2)**2\n",
    "V = k1*(x1)**2+k2*(x2)**2\n",
    "\n",
    "print(\"Kinetic and Potenrial energies, respectively:\")\n",
    "display(Eq(KE_sym,KE),Eq(V_sym,V))"
   ]
  },
  {
   "cell_type": "code",
   "execution_count": 11,
   "metadata": {},
   "outputs": [
    {
     "name": "stdout",
     "output_type": "stream",
     "text": [
      "The Lagrangian:\n"
     ]
    },
    {
     "data": {
      "text/latex": [
       "$\\displaystyle - L^{2} k_{1} \\tan^{2}{\\left(\\operatorname{θ_{1}}{\\left(t \\right)} \\right)} + 0.5 L^{2} m_{1} \\left(\\tan^{2}{\\left(\\operatorname{θ_{1}}{\\left(t \\right)} \\right)} + 1\\right)^{2} \\left(\\frac{d}{d t} \\operatorname{θ_{1}}{\\left(t \\right)}\\right)^{2} - k_{2} \\left(L \\tan{\\left(\\operatorname{θ_{1}}{\\left(t \\right)} + \\operatorname{θ_{2}}{\\left(t \\right)} \\right)} - L \\tan{\\left(\\operatorname{θ_{1}}{\\left(t \\right)} \\right)}\\right)^{2} + 0.5 m_{2} \\left(2 L \\left(\\tan^{2}{\\left(\\operatorname{θ_{1}}{\\left(t \\right)} + \\operatorname{θ_{2}}{\\left(t \\right)} \\right)} + 1\\right) \\left(\\frac{d}{d t} \\operatorname{θ_{1}}{\\left(t \\right)} + \\frac{d}{d t} \\operatorname{θ_{2}}{\\left(t \\right)}\\right)^{2} \\tan{\\left(\\operatorname{θ_{1}}{\\left(t \\right)} + \\operatorname{θ_{2}}{\\left(t \\right)} \\right)} + L \\left(\\tan^{2}{\\left(\\operatorname{θ_{1}}{\\left(t \\right)} + \\operatorname{θ_{2}}{\\left(t \\right)} \\right)} + 1\\right) \\left(\\frac{d^{2}}{d t^{2}} \\operatorname{θ_{1}}{\\left(t \\right)} + \\frac{d^{2}}{d t^{2}} \\operatorname{θ_{2}}{\\left(t \\right)}\\right) - 2 L \\left(\\tan^{2}{\\left(\\operatorname{θ_{1}}{\\left(t \\right)} \\right)} + 1\\right) \\tan{\\left(\\operatorname{θ_{1}}{\\left(t \\right)} \\right)} \\left(\\frac{d}{d t} \\operatorname{θ_{1}}{\\left(t \\right)}\\right)^{2} + L \\left(\\tan^{2}{\\left(\\operatorname{θ_{1}}{\\left(t \\right)} \\right)} + 1\\right) \\frac{d}{d t} \\operatorname{θ_{1}}{\\left(t \\right)} - L \\left(\\tan^{2}{\\left(\\operatorname{θ_{1}}{\\left(t \\right)} \\right)} + 1\\right) \\frac{d^{2}}{d t^{2}} \\operatorname{θ_{1}}{\\left(t \\right)}\\right)^{2}$"
      ],
      "text/plain": [
       "-L**2*k_1*tan(θ_1(t))**2 + 0.5*L**2*m_1*(tan(θ_1(t))**2 + 1)**2*Derivative(θ_1(t), t)**2 - k_2*(L*tan(θ_1(t) + θ_2(t)) - L*tan(θ_1(t)))**2 + 0.5*m_2*(2*L*(tan(θ_1(t) + θ_2(t))**2 + 1)*(Derivative(θ_1(t), t) + Derivative(θ_2(t), t))**2*tan(θ_1(t) + θ_2(t)) + L*(tan(θ_1(t) + θ_2(t))**2 + 1)*(Derivative(θ_1(t), (t, 2)) + Derivative(θ_2(t), (t, 2))) - 2*L*(tan(θ_1(t))**2 + 1)*tan(θ_1(t))*Derivative(θ_1(t), t)**2 + L*(tan(θ_1(t))**2 + 1)*Derivative(θ_1(t), t) - L*(tan(θ_1(t))**2 + 1)*Derivative(θ_1(t), (t, 2)))**2"
      ]
     },
     "metadata": {},
     "output_type": "display_data"
    }
   ],
   "source": [
    "#Defining the Lagrangian...\n",
    "#L = simplify(KE -V)\n",
    "L = (KE -V)\n",
    "\n",
    "print(\"The Lagrangian:\")\n",
    "display(L)"
   ]
  },
  {
   "cell_type": "code",
   "execution_count": 12,
   "metadata": {},
   "outputs": [
    {
     "name": "stdout",
     "output_type": "stream",
     "text": [
      "The configuration vector and its derivative:\n"
     ]
    },
    {
     "data": {
      "text/latex": [
       "$\\displaystyle \\left[\\begin{matrix}\\operatorname{θ_{1}}{\\left(t \\right)}\\\\\\operatorname{θ_{2}}{\\left(t \\right)}\\end{matrix}\\right]$"
      ],
      "text/plain": [
       "Matrix([\n",
       "[θ_1(t)],\n",
       "[θ_2(t)]])"
      ]
     },
     "metadata": {},
     "output_type": "display_data"
    },
    {
     "data": {
      "text/latex": [
       "$\\displaystyle \\left[\\begin{matrix}\\frac{d}{d t} \\operatorname{θ_{1}}{\\left(t \\right)}\\\\\\frac{d}{d t} \\operatorname{θ_{2}}{\\left(t \\right)}\\end{matrix}\\right]$"
      ],
      "text/plain": [
       "Matrix([\n",
       "[Derivative(θ_1(t), t)],\n",
       "[Derivative(θ_2(t), t)]])"
      ]
     },
     "metadata": {},
     "output_type": "display_data"
    }
   ],
   "source": [
    "#define configuration vector q, and qdot = dq/dt\n",
    "q = Matrix([th1, th2])\n",
    "qdot = q.diff(t)\n",
    "\n",
    "print('The configuration vector and its derivative:')\n",
    "display(q,qdot)"
   ]
  },
  {
   "cell_type": "code",
   "execution_count": 13,
   "metadata": {},
   "outputs": [
    {
     "name": "stdout",
     "output_type": "stream",
     "text": [
      "dL/dq and dL/dq-dot, respectively: \n"
     ]
    },
    {
     "data": {
      "text/latex": [
       "$\\displaystyle \\left[\\begin{matrix}- L^{2} k_{1} \\left(2 \\tan^{2}{\\left(\\operatorname{θ_{1}}{\\left(t \\right)} \\right)} + 2\\right) \\tan{\\left(\\operatorname{θ_{1}}{\\left(t \\right)} \\right)} + 1.0 L^{2} m_{1} \\left(\\tan^{2}{\\left(\\operatorname{θ_{1}}{\\left(t \\right)} \\right)} + 1\\right) \\left(2 \\tan^{2}{\\left(\\operatorname{θ_{1}}{\\left(t \\right)} \\right)} + 2\\right) \\tan{\\left(\\operatorname{θ_{1}}{\\left(t \\right)} \\right)} \\left(\\frac{d}{d t} \\operatorname{θ_{1}}{\\left(t \\right)}\\right)^{2} - k_{2} \\left(2 L \\left(\\tan^{2}{\\left(\\operatorname{θ_{1}}{\\left(t \\right)} + \\operatorname{θ_{2}}{\\left(t \\right)} \\right)} + 1\\right) - 2 L \\left(\\tan^{2}{\\left(\\operatorname{θ_{1}}{\\left(t \\right)} \\right)} + 1\\right)\\right) \\left(L \\tan{\\left(\\operatorname{θ_{1}}{\\left(t \\right)} + \\operatorname{θ_{2}}{\\left(t \\right)} \\right)} - L \\tan{\\left(\\operatorname{θ_{1}}{\\left(t \\right)} \\right)}\\right) + 0.5 m_{2} \\left(2 L \\left(\\tan^{2}{\\left(\\operatorname{θ_{1}}{\\left(t \\right)} + \\operatorname{θ_{2}}{\\left(t \\right)} \\right)} + 1\\right) \\left(\\frac{d}{d t} \\operatorname{θ_{1}}{\\left(t \\right)} + \\frac{d}{d t} \\operatorname{θ_{2}}{\\left(t \\right)}\\right)^{2} \\tan{\\left(\\operatorname{θ_{1}}{\\left(t \\right)} + \\operatorname{θ_{2}}{\\left(t \\right)} \\right)} + L \\left(\\tan^{2}{\\left(\\operatorname{θ_{1}}{\\left(t \\right)} + \\operatorname{θ_{2}}{\\left(t \\right)} \\right)} + 1\\right) \\left(\\frac{d^{2}}{d t^{2}} \\operatorname{θ_{1}}{\\left(t \\right)} + \\frac{d^{2}}{d t^{2}} \\operatorname{θ_{2}}{\\left(t \\right)}\\right) - 2 L \\left(\\tan^{2}{\\left(\\operatorname{θ_{1}}{\\left(t \\right)} \\right)} + 1\\right) \\tan{\\left(\\operatorname{θ_{1}}{\\left(t \\right)} \\right)} \\left(\\frac{d}{d t} \\operatorname{θ_{1}}{\\left(t \\right)}\\right)^{2} + L \\left(\\tan^{2}{\\left(\\operatorname{θ_{1}}{\\left(t \\right)} \\right)} + 1\\right) \\frac{d}{d t} \\operatorname{θ_{1}}{\\left(t \\right)} - L \\left(\\tan^{2}{\\left(\\operatorname{θ_{1}}{\\left(t \\right)} \\right)} + 1\\right) \\frac{d^{2}}{d t^{2}} \\operatorname{θ_{1}}{\\left(t \\right)}\\right) \\left(4 L \\left(\\tan^{2}{\\left(\\operatorname{θ_{1}}{\\left(t \\right)} + \\operatorname{θ_{2}}{\\left(t \\right)} \\right)} + 1\\right)^{2} \\left(\\frac{d}{d t} \\operatorname{θ_{1}}{\\left(t \\right)} + \\frac{d}{d t} \\operatorname{θ_{2}}{\\left(t \\right)}\\right)^{2} + 4 L \\left(2 \\tan^{2}{\\left(\\operatorname{θ_{1}}{\\left(t \\right)} + \\operatorname{θ_{2}}{\\left(t \\right)} \\right)} + 2\\right) \\left(\\frac{d}{d t} \\operatorname{θ_{1}}{\\left(t \\right)} + \\frac{d}{d t} \\operatorname{θ_{2}}{\\left(t \\right)}\\right)^{2} \\tan^{2}{\\left(\\operatorname{θ_{1}}{\\left(t \\right)} + \\operatorname{θ_{2}}{\\left(t \\right)} \\right)} + 2 L \\left(2 \\tan^{2}{\\left(\\operatorname{θ_{1}}{\\left(t \\right)} + \\operatorname{θ_{2}}{\\left(t \\right)} \\right)} + 2\\right) \\left(\\frac{d^{2}}{d t^{2}} \\operatorname{θ_{1}}{\\left(t \\right)} + \\frac{d^{2}}{d t^{2}} \\operatorname{θ_{2}}{\\left(t \\right)}\\right) \\tan{\\left(\\operatorname{θ_{1}}{\\left(t \\right)} + \\operatorname{θ_{2}}{\\left(t \\right)} \\right)} - 4 L \\left(\\tan^{2}{\\left(\\operatorname{θ_{1}}{\\left(t \\right)} \\right)} + 1\\right)^{2} \\left(\\frac{d}{d t} \\operatorname{θ_{1}}{\\left(t \\right)}\\right)^{2} - 4 L \\left(2 \\tan^{2}{\\left(\\operatorname{θ_{1}}{\\left(t \\right)} \\right)} + 2\\right) \\tan^{2}{\\left(\\operatorname{θ_{1}}{\\left(t \\right)} \\right)} \\left(\\frac{d}{d t} \\operatorname{θ_{1}}{\\left(t \\right)}\\right)^{2} + 2 L \\left(2 \\tan^{2}{\\left(\\operatorname{θ_{1}}{\\left(t \\right)} \\right)} + 2\\right) \\tan{\\left(\\operatorname{θ_{1}}{\\left(t \\right)} \\right)} \\frac{d}{d t} \\operatorname{θ_{1}}{\\left(t \\right)} - 2 L \\left(2 \\tan^{2}{\\left(\\operatorname{θ_{1}}{\\left(t \\right)} \\right)} + 2\\right) \\tan{\\left(\\operatorname{θ_{1}}{\\left(t \\right)} \\right)} \\frac{d^{2}}{d t^{2}} \\operatorname{θ_{1}}{\\left(t \\right)}\\right)\\\\- 2 L k_{2} \\left(L \\tan{\\left(\\operatorname{θ_{1}}{\\left(t \\right)} + \\operatorname{θ_{2}}{\\left(t \\right)} \\right)} - L \\tan{\\left(\\operatorname{θ_{1}}{\\left(t \\right)} \\right)}\\right) \\left(\\tan^{2}{\\left(\\operatorname{θ_{1}}{\\left(t \\right)} + \\operatorname{θ_{2}}{\\left(t \\right)} \\right)} + 1\\right) + 0.5 m_{2} \\left(4 L \\left(\\tan^{2}{\\left(\\operatorname{θ_{1}}{\\left(t \\right)} + \\operatorname{θ_{2}}{\\left(t \\right)} \\right)} + 1\\right)^{2} \\left(\\frac{d}{d t} \\operatorname{θ_{1}}{\\left(t \\right)} + \\frac{d}{d t} \\operatorname{θ_{2}}{\\left(t \\right)}\\right)^{2} + 4 L \\left(2 \\tan^{2}{\\left(\\operatorname{θ_{1}}{\\left(t \\right)} + \\operatorname{θ_{2}}{\\left(t \\right)} \\right)} + 2\\right) \\left(\\frac{d}{d t} \\operatorname{θ_{1}}{\\left(t \\right)} + \\frac{d}{d t} \\operatorname{θ_{2}}{\\left(t \\right)}\\right)^{2} \\tan^{2}{\\left(\\operatorname{θ_{1}}{\\left(t \\right)} + \\operatorname{θ_{2}}{\\left(t \\right)} \\right)} + 2 L \\left(2 \\tan^{2}{\\left(\\operatorname{θ_{1}}{\\left(t \\right)} + \\operatorname{θ_{2}}{\\left(t \\right)} \\right)} + 2\\right) \\left(\\frac{d^{2}}{d t^{2}} \\operatorname{θ_{1}}{\\left(t \\right)} + \\frac{d^{2}}{d t^{2}} \\operatorname{θ_{2}}{\\left(t \\right)}\\right) \\tan{\\left(\\operatorname{θ_{1}}{\\left(t \\right)} + \\operatorname{θ_{2}}{\\left(t \\right)} \\right)}\\right) \\left(2 L \\left(\\tan^{2}{\\left(\\operatorname{θ_{1}}{\\left(t \\right)} + \\operatorname{θ_{2}}{\\left(t \\right)} \\right)} + 1\\right) \\left(\\frac{d}{d t} \\operatorname{θ_{1}}{\\left(t \\right)} + \\frac{d}{d t} \\operatorname{θ_{2}}{\\left(t \\right)}\\right)^{2} \\tan{\\left(\\operatorname{θ_{1}}{\\left(t \\right)} + \\operatorname{θ_{2}}{\\left(t \\right)} \\right)} + L \\left(\\tan^{2}{\\left(\\operatorname{θ_{1}}{\\left(t \\right)} + \\operatorname{θ_{2}}{\\left(t \\right)} \\right)} + 1\\right) \\left(\\frac{d^{2}}{d t^{2}} \\operatorname{θ_{1}}{\\left(t \\right)} + \\frac{d^{2}}{d t^{2}} \\operatorname{θ_{2}}{\\left(t \\right)}\\right) - 2 L \\left(\\tan^{2}{\\left(\\operatorname{θ_{1}}{\\left(t \\right)} \\right)} + 1\\right) \\tan{\\left(\\operatorname{θ_{1}}{\\left(t \\right)} \\right)} \\left(\\frac{d}{d t} \\operatorname{θ_{1}}{\\left(t \\right)}\\right)^{2} + L \\left(\\tan^{2}{\\left(\\operatorname{θ_{1}}{\\left(t \\right)} \\right)} + 1\\right) \\frac{d}{d t} \\operatorname{θ_{1}}{\\left(t \\right)} - L \\left(\\tan^{2}{\\left(\\operatorname{θ_{1}}{\\left(t \\right)} \\right)} + 1\\right) \\frac{d^{2}}{d t^{2}} \\operatorname{θ_{1}}{\\left(t \\right)}\\right)\\end{matrix}\\right]$"
      ],
      "text/plain": [
       "Matrix([\n",
       "[-L**2*k_1*(2*tan(θ_1(t))**2 + 2)*tan(θ_1(t)) + 1.0*L**2*m_1*(tan(θ_1(t))**2 + 1)*(2*tan(θ_1(t))**2 + 2)*tan(θ_1(t))*Derivative(θ_1(t), t)**2 - k_2*(2*L*(tan(θ_1(t) + θ_2(t))**2 + 1) - 2*L*(tan(θ_1(t))**2 + 1))*(L*tan(θ_1(t) + θ_2(t)) - L*tan(θ_1(t))) + 0.5*m_2*(2*L*(tan(θ_1(t) + θ_2(t))**2 + 1)*(Derivative(θ_1(t), t) + Derivative(θ_2(t), t))**2*tan(θ_1(t) + θ_2(t)) + L*(tan(θ_1(t) + θ_2(t))**2 + 1)*(Derivative(θ_1(t), (t, 2)) + Derivative(θ_2(t), (t, 2))) - 2*L*(tan(θ_1(t))**2 + 1)*tan(θ_1(t))*Derivative(θ_1(t), t)**2 + L*(tan(θ_1(t))**2 + 1)*Derivative(θ_1(t), t) - L*(tan(θ_1(t))**2 + 1)*Derivative(θ_1(t), (t, 2)))*(4*L*(tan(θ_1(t) + θ_2(t))**2 + 1)**2*(Derivative(θ_1(t), t) + Derivative(θ_2(t), t))**2 + 4*L*(2*tan(θ_1(t) + θ_2(t))**2 + 2)*(Derivative(θ_1(t), t) + Derivative(θ_2(t), t))**2*tan(θ_1(t) + θ_2(t))**2 + 2*L*(2*tan(θ_1(t) + θ_2(t))**2 + 2)*(Derivative(θ_1(t), (t, 2)) + Derivative(θ_2(t), (t, 2)))*tan(θ_1(t) + θ_2(t)) - 4*L*(tan(θ_1(t))**2 + 1)**2*Derivative(θ_1(t), t)**2 - 4*L*(2*tan(θ_1(t))**2 + 2)*tan(θ_1(t))**2*Derivative(θ_1(t), t)**2 + 2*L*(2*tan(θ_1(t))**2 + 2)*tan(θ_1(t))*Derivative(θ_1(t), t) - 2*L*(2*tan(θ_1(t))**2 + 2)*tan(θ_1(t))*Derivative(θ_1(t), (t, 2)))],\n",
       "[                                                                                                                                                                                                                                                                                                                                                                                                                                          -2*L*k_2*(L*tan(θ_1(t) + θ_2(t)) - L*tan(θ_1(t)))*(tan(θ_1(t) + θ_2(t))**2 + 1) + 0.5*m_2*(4*L*(tan(θ_1(t) + θ_2(t))**2 + 1)**2*(Derivative(θ_1(t), t) + Derivative(θ_2(t), t))**2 + 4*L*(2*tan(θ_1(t) + θ_2(t))**2 + 2)*(Derivative(θ_1(t), t) + Derivative(θ_2(t), t))**2*tan(θ_1(t) + θ_2(t))**2 + 2*L*(2*tan(θ_1(t) + θ_2(t))**2 + 2)*(Derivative(θ_1(t), (t, 2)) + Derivative(θ_2(t), (t, 2)))*tan(θ_1(t) + θ_2(t)))*(2*L*(tan(θ_1(t) + θ_2(t))**2 + 1)*(Derivative(θ_1(t), t) + Derivative(θ_2(t), t))**2*tan(θ_1(t) + θ_2(t)) + L*(tan(θ_1(t) + θ_2(t))**2 + 1)*(Derivative(θ_1(t), (t, 2)) + Derivative(θ_2(t), (t, 2))) - 2*L*(tan(θ_1(t))**2 + 1)*tan(θ_1(t))*Derivative(θ_1(t), t)**2 + L*(tan(θ_1(t))**2 + 1)*Derivative(θ_1(t), t) - L*(tan(θ_1(t))**2 + 1)*Derivative(θ_1(t), (t, 2)))]])"
      ]
     },
     "metadata": {},
     "output_type": "display_data"
    },
    {
     "data": {
      "text/latex": [
       "$\\displaystyle \\left[\\begin{matrix}1.0 L^{2} m_{1} \\left(\\tan^{2}{\\left(\\operatorname{θ_{1}}{\\left(t \\right)} \\right)} + 1\\right)^{2} \\frac{d}{d t} \\operatorname{θ_{1}}{\\left(t \\right)} + 0.5 m_{2} \\left(4 L \\left(\\tan^{2}{\\left(\\operatorname{θ_{1}}{\\left(t \\right)} + \\operatorname{θ_{2}}{\\left(t \\right)} \\right)} + 1\\right) \\left(2 \\frac{d}{d t} \\operatorname{θ_{1}}{\\left(t \\right)} + 2 \\frac{d}{d t} \\operatorname{θ_{2}}{\\left(t \\right)}\\right) \\tan{\\left(\\operatorname{θ_{1}}{\\left(t \\right)} + \\operatorname{θ_{2}}{\\left(t \\right)} \\right)} - 8 L \\left(\\tan^{2}{\\left(\\operatorname{θ_{1}}{\\left(t \\right)} \\right)} + 1\\right) \\tan{\\left(\\operatorname{θ_{1}}{\\left(t \\right)} \\right)} \\frac{d}{d t} \\operatorname{θ_{1}}{\\left(t \\right)} + 2 L \\left(\\tan^{2}{\\left(\\operatorname{θ_{1}}{\\left(t \\right)} \\right)} + 1\\right)\\right) \\left(2 L \\left(\\tan^{2}{\\left(\\operatorname{θ_{1}}{\\left(t \\right)} + \\operatorname{θ_{2}}{\\left(t \\right)} \\right)} + 1\\right) \\left(\\frac{d}{d t} \\operatorname{θ_{1}}{\\left(t \\right)} + \\frac{d}{d t} \\operatorname{θ_{2}}{\\left(t \\right)}\\right)^{2} \\tan{\\left(\\operatorname{θ_{1}}{\\left(t \\right)} + \\operatorname{θ_{2}}{\\left(t \\right)} \\right)} + L \\left(\\tan^{2}{\\left(\\operatorname{θ_{1}}{\\left(t \\right)} + \\operatorname{θ_{2}}{\\left(t \\right)} \\right)} + 1\\right) \\left(\\frac{d^{2}}{d t^{2}} \\operatorname{θ_{1}}{\\left(t \\right)} + \\frac{d^{2}}{d t^{2}} \\operatorname{θ_{2}}{\\left(t \\right)}\\right) - 2 L \\left(\\tan^{2}{\\left(\\operatorname{θ_{1}}{\\left(t \\right)} \\right)} + 1\\right) \\tan{\\left(\\operatorname{θ_{1}}{\\left(t \\right)} \\right)} \\left(\\frac{d}{d t} \\operatorname{θ_{1}}{\\left(t \\right)}\\right)^{2} + L \\left(\\tan^{2}{\\left(\\operatorname{θ_{1}}{\\left(t \\right)} \\right)} + 1\\right) \\frac{d}{d t} \\operatorname{θ_{1}}{\\left(t \\right)} - L \\left(\\tan^{2}{\\left(\\operatorname{θ_{1}}{\\left(t \\right)} \\right)} + 1\\right) \\frac{d^{2}}{d t^{2}} \\operatorname{θ_{1}}{\\left(t \\right)}\\right)\\\\2.0 L m_{2} \\left(\\tan^{2}{\\left(\\operatorname{θ_{1}}{\\left(t \\right)} + \\operatorname{θ_{2}}{\\left(t \\right)} \\right)} + 1\\right) \\left(2 \\frac{d}{d t} \\operatorname{θ_{1}}{\\left(t \\right)} + 2 \\frac{d}{d t} \\operatorname{θ_{2}}{\\left(t \\right)}\\right) \\left(2 L \\left(\\tan^{2}{\\left(\\operatorname{θ_{1}}{\\left(t \\right)} + \\operatorname{θ_{2}}{\\left(t \\right)} \\right)} + 1\\right) \\left(\\frac{d}{d t} \\operatorname{θ_{1}}{\\left(t \\right)} + \\frac{d}{d t} \\operatorname{θ_{2}}{\\left(t \\right)}\\right)^{2} \\tan{\\left(\\operatorname{θ_{1}}{\\left(t \\right)} + \\operatorname{θ_{2}}{\\left(t \\right)} \\right)} + L \\left(\\tan^{2}{\\left(\\operatorname{θ_{1}}{\\left(t \\right)} + \\operatorname{θ_{2}}{\\left(t \\right)} \\right)} + 1\\right) \\left(\\frac{d^{2}}{d t^{2}} \\operatorname{θ_{1}}{\\left(t \\right)} + \\frac{d^{2}}{d t^{2}} \\operatorname{θ_{2}}{\\left(t \\right)}\\right) - 2 L \\left(\\tan^{2}{\\left(\\operatorname{θ_{1}}{\\left(t \\right)} \\right)} + 1\\right) \\tan{\\left(\\operatorname{θ_{1}}{\\left(t \\right)} \\right)} \\left(\\frac{d}{d t} \\operatorname{θ_{1}}{\\left(t \\right)}\\right)^{2} + L \\left(\\tan^{2}{\\left(\\operatorname{θ_{1}}{\\left(t \\right)} \\right)} + 1\\right) \\frac{d}{d t} \\operatorname{θ_{1}}{\\left(t \\right)} - L \\left(\\tan^{2}{\\left(\\operatorname{θ_{1}}{\\left(t \\right)} \\right)} + 1\\right) \\frac{d^{2}}{d t^{2}} \\operatorname{θ_{1}}{\\left(t \\right)}\\right) \\tan{\\left(\\operatorname{θ_{1}}{\\left(t \\right)} + \\operatorname{θ_{2}}{\\left(t \\right)} \\right)}\\end{matrix}\\right]$"
      ],
      "text/plain": [
       "Matrix([\n",
       "[1.0*L**2*m_1*(tan(θ_1(t))**2 + 1)**2*Derivative(θ_1(t), t) + 0.5*m_2*(4*L*(tan(θ_1(t) + θ_2(t))**2 + 1)*(2*Derivative(θ_1(t), t) + 2*Derivative(θ_2(t), t))*tan(θ_1(t) + θ_2(t)) - 8*L*(tan(θ_1(t))**2 + 1)*tan(θ_1(t))*Derivative(θ_1(t), t) + 2*L*(tan(θ_1(t))**2 + 1))*(2*L*(tan(θ_1(t) + θ_2(t))**2 + 1)*(Derivative(θ_1(t), t) + Derivative(θ_2(t), t))**2*tan(θ_1(t) + θ_2(t)) + L*(tan(θ_1(t) + θ_2(t))**2 + 1)*(Derivative(θ_1(t), (t, 2)) + Derivative(θ_2(t), (t, 2))) - 2*L*(tan(θ_1(t))**2 + 1)*tan(θ_1(t))*Derivative(θ_1(t), t)**2 + L*(tan(θ_1(t))**2 + 1)*Derivative(θ_1(t), t) - L*(tan(θ_1(t))**2 + 1)*Derivative(θ_1(t), (t, 2)))],\n",
       "[                                                                                                                                                         2.0*L*m_2*(tan(θ_1(t) + θ_2(t))**2 + 1)*(2*Derivative(θ_1(t), t) + 2*Derivative(θ_2(t), t))*(2*L*(tan(θ_1(t) + θ_2(t))**2 + 1)*(Derivative(θ_1(t), t) + Derivative(θ_2(t), t))**2*tan(θ_1(t) + θ_2(t)) + L*(tan(θ_1(t) + θ_2(t))**2 + 1)*(Derivative(θ_1(t), (t, 2)) + Derivative(θ_2(t), (t, 2))) - 2*L*(tan(θ_1(t))**2 + 1)*tan(θ_1(t))*Derivative(θ_1(t), t)**2 + L*(tan(θ_1(t))**2 + 1)*Derivative(θ_1(t), t) - L*(tan(θ_1(t))**2 + 1)*Derivative(θ_1(t), (t, 2)))*tan(θ_1(t) + θ_2(t))]])"
      ]
     },
     "metadata": {},
     "output_type": "display_data"
    }
   ],
   "source": [
    "#taking the dervative of L with respect to q via Jacobian...\n",
    "L_mat = Matrix([L])\n",
    "dLdq = L_mat.jacobian(q)\n",
    "\n",
    "#...and with respect qdot...\n",
    "dLdqdot = L_mat.jacobian(qdot)\n",
    "\n",
    "print('dL/dq and dL/dq-dot, respectively: ')\n",
    "display(dLdq.T,dLdqdot.T)"
   ]
  },
  {
   "cell_type": "code",
   "execution_count": 14,
   "metadata": {},
   "outputs": [
    {
     "name": "stdout",
     "output_type": "stream",
     "text": [
      "The Euler-Lagrange Equations:\n"
     ]
    },
    {
     "data": {
      "text/latex": [
       "$\\displaystyle - L^{2} k_{1} \\left(2 \\tan^{2}{\\left(\\operatorname{θ_{1}}{\\left(t \\right)} \\right)} + 2\\right) \\tan{\\left(\\operatorname{θ_{1}}{\\left(t \\right)} \\right)} - 4.0 L^{2} m_{1} \\left(\\tan^{2}{\\left(\\operatorname{θ_{1}}{\\left(t \\right)} \\right)} + 1\\right)^{2} \\tan{\\left(\\operatorname{θ_{1}}{\\left(t \\right)} \\right)} \\left(\\frac{d}{d t} \\operatorname{θ_{1}}{\\left(t \\right)}\\right)^{2} - 1.0 L^{2} m_{1} \\left(\\tan^{2}{\\left(\\operatorname{θ_{1}}{\\left(t \\right)} \\right)} + 1\\right)^{2} \\frac{d^{2}}{d t^{2}} \\operatorname{θ_{1}}{\\left(t \\right)} + 1.0 L^{2} m_{1} \\left(\\tan^{2}{\\left(\\operatorname{θ_{1}}{\\left(t \\right)} \\right)} + 1\\right) \\left(2 \\tan^{2}{\\left(\\operatorname{θ_{1}}{\\left(t \\right)} \\right)} + 2\\right) \\tan{\\left(\\operatorname{θ_{1}}{\\left(t \\right)} \\right)} \\left(\\frac{d}{d t} \\operatorname{θ_{1}}{\\left(t \\right)}\\right)^{2} - k_{2} \\left(2 L \\left(\\tan^{2}{\\left(\\operatorname{θ_{1}}{\\left(t \\right)} + \\operatorname{θ_{2}}{\\left(t \\right)} \\right)} + 1\\right) - 2 L \\left(\\tan^{2}{\\left(\\operatorname{θ_{1}}{\\left(t \\right)} \\right)} + 1\\right)\\right) \\left(L \\tan{\\left(\\operatorname{θ_{1}}{\\left(t \\right)} + \\operatorname{θ_{2}}{\\left(t \\right)} \\right)} - L \\tan{\\left(\\operatorname{θ_{1}}{\\left(t \\right)} \\right)}\\right) - 0.5 m_{2} \\left(4 L \\left(\\tan^{2}{\\left(\\operatorname{θ_{1}}{\\left(t \\right)} + \\operatorname{θ_{2}}{\\left(t \\right)} \\right)} + 1\\right) \\left(2 \\frac{d}{d t} \\operatorname{θ_{1}}{\\left(t \\right)} + 2 \\frac{d}{d t} \\operatorname{θ_{2}}{\\left(t \\right)}\\right) \\tan{\\left(\\operatorname{θ_{1}}{\\left(t \\right)} + \\operatorname{θ_{2}}{\\left(t \\right)} \\right)} - 8 L \\left(\\tan^{2}{\\left(\\operatorname{θ_{1}}{\\left(t \\right)} \\right)} + 1\\right) \\tan{\\left(\\operatorname{θ_{1}}{\\left(t \\right)} \\right)} \\frac{d}{d t} \\operatorname{θ_{1}}{\\left(t \\right)} + 2 L \\left(\\tan^{2}{\\left(\\operatorname{θ_{1}}{\\left(t \\right)} \\right)} + 1\\right)\\right) \\left(2 L \\left(\\tan^{2}{\\left(\\operatorname{θ_{1}}{\\left(t \\right)} + \\operatorname{θ_{2}}{\\left(t \\right)} \\right)} + 1\\right)^{2} \\left(\\frac{d}{d t} \\operatorname{θ_{1}}{\\left(t \\right)} + \\frac{d}{d t} \\operatorname{θ_{2}}{\\left(t \\right)}\\right)^{3} + 4 L \\left(\\tan^{2}{\\left(\\operatorname{θ_{1}}{\\left(t \\right)} + \\operatorname{θ_{2}}{\\left(t \\right)} \\right)} + 1\\right) \\left(\\frac{d}{d t} \\operatorname{θ_{1}}{\\left(t \\right)} + \\frac{d}{d t} \\operatorname{θ_{2}}{\\left(t \\right)}\\right)^{3} \\tan^{2}{\\left(\\operatorname{θ_{1}}{\\left(t \\right)} + \\operatorname{θ_{2}}{\\left(t \\right)} \\right)} + 2 L \\left(\\tan^{2}{\\left(\\operatorname{θ_{1}}{\\left(t \\right)} + \\operatorname{θ_{2}}{\\left(t \\right)} \\right)} + 1\\right) \\left(\\frac{d}{d t} \\operatorname{θ_{1}}{\\left(t \\right)} + \\frac{d}{d t} \\operatorname{θ_{2}}{\\left(t \\right)}\\right) \\left(\\frac{d^{2}}{d t^{2}} \\operatorname{θ_{1}}{\\left(t \\right)} + \\frac{d^{2}}{d t^{2}} \\operatorname{θ_{2}}{\\left(t \\right)}\\right) \\tan{\\left(\\operatorname{θ_{1}}{\\left(t \\right)} + \\operatorname{θ_{2}}{\\left(t \\right)} \\right)} + 2 L \\left(\\tan^{2}{\\left(\\operatorname{θ_{1}}{\\left(t \\right)} + \\operatorname{θ_{2}}{\\left(t \\right)} \\right)} + 1\\right) \\left(\\frac{d}{d t} \\operatorname{θ_{1}}{\\left(t \\right)} + \\frac{d}{d t} \\operatorname{θ_{2}}{\\left(t \\right)}\\right) \\left(2 \\frac{d^{2}}{d t^{2}} \\operatorname{θ_{1}}{\\left(t \\right)} + 2 \\frac{d^{2}}{d t^{2}} \\operatorname{θ_{2}}{\\left(t \\right)}\\right) \\tan{\\left(\\operatorname{θ_{1}}{\\left(t \\right)} + \\operatorname{θ_{2}}{\\left(t \\right)} \\right)} + L \\left(\\tan^{2}{\\left(\\operatorname{θ_{1}}{\\left(t \\right)} + \\operatorname{θ_{2}}{\\left(t \\right)} \\right)} + 1\\right) \\left(\\frac{d^{3}}{d t^{3}} \\operatorname{θ_{1}}{\\left(t \\right)} + \\frac{d^{3}}{d t^{3}} \\operatorname{θ_{2}}{\\left(t \\right)}\\right) - 2 L \\left(\\tan^{2}{\\left(\\operatorname{θ_{1}}{\\left(t \\right)} \\right)} + 1\\right)^{2} \\left(\\frac{d}{d t} \\operatorname{θ_{1}}{\\left(t \\right)}\\right)^{3} - 4 L \\left(\\tan^{2}{\\left(\\operatorname{θ_{1}}{\\left(t \\right)} \\right)} + 1\\right) \\tan^{2}{\\left(\\operatorname{θ_{1}}{\\left(t \\right)} \\right)} \\left(\\frac{d}{d t} \\operatorname{θ_{1}}{\\left(t \\right)}\\right)^{3} + 2 L \\left(\\tan^{2}{\\left(\\operatorname{θ_{1}}{\\left(t \\right)} \\right)} + 1\\right) \\tan{\\left(\\operatorname{θ_{1}}{\\left(t \\right)} \\right)} \\left(\\frac{d}{d t} \\operatorname{θ_{1}}{\\left(t \\right)}\\right)^{2} - 6 L \\left(\\tan^{2}{\\left(\\operatorname{θ_{1}}{\\left(t \\right)} \\right)} + 1\\right) \\tan{\\left(\\operatorname{θ_{1}}{\\left(t \\right)} \\right)} \\frac{d}{d t} \\operatorname{θ_{1}}{\\left(t \\right)} \\frac{d^{2}}{d t^{2}} \\operatorname{θ_{1}}{\\left(t \\right)} + L \\left(\\tan^{2}{\\left(\\operatorname{θ_{1}}{\\left(t \\right)} \\right)} + 1\\right) \\frac{d^{2}}{d t^{2}} \\operatorname{θ_{1}}{\\left(t \\right)} - L \\left(\\tan^{2}{\\left(\\operatorname{θ_{1}}{\\left(t \\right)} \\right)} + 1\\right) \\frac{d^{3}}{d t^{3}} \\operatorname{θ_{1}}{\\left(t \\right)}\\right) + 0.5 m_{2} \\left(2 L \\left(\\tan^{2}{\\left(\\operatorname{θ_{1}}{\\left(t \\right)} + \\operatorname{θ_{2}}{\\left(t \\right)} \\right)} + 1\\right) \\left(\\frac{d}{d t} \\operatorname{θ_{1}}{\\left(t \\right)} + \\frac{d}{d t} \\operatorname{θ_{2}}{\\left(t \\right)}\\right)^{2} \\tan{\\left(\\operatorname{θ_{1}}{\\left(t \\right)} + \\operatorname{θ_{2}}{\\left(t \\right)} \\right)} + L \\left(\\tan^{2}{\\left(\\operatorname{θ_{1}}{\\left(t \\right)} + \\operatorname{θ_{2}}{\\left(t \\right)} \\right)} + 1\\right) \\left(\\frac{d^{2}}{d t^{2}} \\operatorname{θ_{1}}{\\left(t \\right)} + \\frac{d^{2}}{d t^{2}} \\operatorname{θ_{2}}{\\left(t \\right)}\\right) - 2 L \\left(\\tan^{2}{\\left(\\operatorname{θ_{1}}{\\left(t \\right)} \\right)} + 1\\right) \\tan{\\left(\\operatorname{θ_{1}}{\\left(t \\right)} \\right)} \\left(\\frac{d}{d t} \\operatorname{θ_{1}}{\\left(t \\right)}\\right)^{2} + L \\left(\\tan^{2}{\\left(\\operatorname{θ_{1}}{\\left(t \\right)} \\right)} + 1\\right) \\frac{d}{d t} \\operatorname{θ_{1}}{\\left(t \\right)} - L \\left(\\tan^{2}{\\left(\\operatorname{θ_{1}}{\\left(t \\right)} \\right)} + 1\\right) \\frac{d^{2}}{d t^{2}} \\operatorname{θ_{1}}{\\left(t \\right)}\\right) \\left(4 L \\left(\\tan^{2}{\\left(\\operatorname{θ_{1}}{\\left(t \\right)} + \\operatorname{θ_{2}}{\\left(t \\right)} \\right)} + 1\\right)^{2} \\left(\\frac{d}{d t} \\operatorname{θ_{1}}{\\left(t \\right)} + \\frac{d}{d t} \\operatorname{θ_{2}}{\\left(t \\right)}\\right)^{2} + 4 L \\left(2 \\tan^{2}{\\left(\\operatorname{θ_{1}}{\\left(t \\right)} + \\operatorname{θ_{2}}{\\left(t \\right)} \\right)} + 2\\right) \\left(\\frac{d}{d t} \\operatorname{θ_{1}}{\\left(t \\right)} + \\frac{d}{d t} \\operatorname{θ_{2}}{\\left(t \\right)}\\right)^{2} \\tan^{2}{\\left(\\operatorname{θ_{1}}{\\left(t \\right)} + \\operatorname{θ_{2}}{\\left(t \\right)} \\right)} + 2 L \\left(2 \\tan^{2}{\\left(\\operatorname{θ_{1}}{\\left(t \\right)} + \\operatorname{θ_{2}}{\\left(t \\right)} \\right)} + 2\\right) \\left(\\frac{d^{2}}{d t^{2}} \\operatorname{θ_{1}}{\\left(t \\right)} + \\frac{d^{2}}{d t^{2}} \\operatorname{θ_{2}}{\\left(t \\right)}\\right) \\tan{\\left(\\operatorname{θ_{1}}{\\left(t \\right)} + \\operatorname{θ_{2}}{\\left(t \\right)} \\right)} - 4 L \\left(\\tan^{2}{\\left(\\operatorname{θ_{1}}{\\left(t \\right)} \\right)} + 1\\right)^{2} \\left(\\frac{d}{d t} \\operatorname{θ_{1}}{\\left(t \\right)}\\right)^{2} - 4 L \\left(2 \\tan^{2}{\\left(\\operatorname{θ_{1}}{\\left(t \\right)} \\right)} + 2\\right) \\tan^{2}{\\left(\\operatorname{θ_{1}}{\\left(t \\right)} \\right)} \\left(\\frac{d}{d t} \\operatorname{θ_{1}}{\\left(t \\right)}\\right)^{2} + 2 L \\left(2 \\tan^{2}{\\left(\\operatorname{θ_{1}}{\\left(t \\right)} \\right)} + 2\\right) \\tan{\\left(\\operatorname{θ_{1}}{\\left(t \\right)} \\right)} \\frac{d}{d t} \\operatorname{θ_{1}}{\\left(t \\right)} - 2 L \\left(2 \\tan^{2}{\\left(\\operatorname{θ_{1}}{\\left(t \\right)} \\right)} + 2\\right) \\tan{\\left(\\operatorname{θ_{1}}{\\left(t \\right)} \\right)} \\frac{d^{2}}{d t^{2}} \\operatorname{θ_{1}}{\\left(t \\right)}\\right) - 0.5 m_{2} \\left(2 L \\left(\\tan^{2}{\\left(\\operatorname{θ_{1}}{\\left(t \\right)} + \\operatorname{θ_{2}}{\\left(t \\right)} \\right)} + 1\\right) \\left(\\frac{d}{d t} \\operatorname{θ_{1}}{\\left(t \\right)} + \\frac{d}{d t} \\operatorname{θ_{2}}{\\left(t \\right)}\\right)^{2} \\tan{\\left(\\operatorname{θ_{1}}{\\left(t \\right)} + \\operatorname{θ_{2}}{\\left(t \\right)} \\right)} + L \\left(\\tan^{2}{\\left(\\operatorname{θ_{1}}{\\left(t \\right)} + \\operatorname{θ_{2}}{\\left(t \\right)} \\right)} + 1\\right) \\left(\\frac{d^{2}}{d t^{2}} \\operatorname{θ_{1}}{\\left(t \\right)} + \\frac{d^{2}}{d t^{2}} \\operatorname{θ_{2}}{\\left(t \\right)}\\right) - 2 L \\left(\\tan^{2}{\\left(\\operatorname{θ_{1}}{\\left(t \\right)} \\right)} + 1\\right) \\tan{\\left(\\operatorname{θ_{1}}{\\left(t \\right)} \\right)} \\left(\\frac{d}{d t} \\operatorname{θ_{1}}{\\left(t \\right)}\\right)^{2} + L \\left(\\tan^{2}{\\left(\\operatorname{θ_{1}}{\\left(t \\right)} \\right)} + 1\\right) \\frac{d}{d t} \\operatorname{θ_{1}}{\\left(t \\right)} - L \\left(\\tan^{2}{\\left(\\operatorname{θ_{1}}{\\left(t \\right)} \\right)} + 1\\right) \\frac{d^{2}}{d t^{2}} \\operatorname{θ_{1}}{\\left(t \\right)}\\right) \\left(4 L \\left(\\tan^{2}{\\left(\\operatorname{θ_{1}}{\\left(t \\right)} + \\operatorname{θ_{2}}{\\left(t \\right)} \\right)} + 1\\right)^{2} \\left(\\frac{d}{d t} \\operatorname{θ_{1}}{\\left(t \\right)} + \\frac{d}{d t} \\operatorname{θ_{2}}{\\left(t \\right)}\\right) \\left(2 \\frac{d}{d t} \\operatorname{θ_{1}}{\\left(t \\right)} + 2 \\frac{d}{d t} \\operatorname{θ_{2}}{\\left(t \\right)}\\right) + 8 L \\left(\\tan^{2}{\\left(\\operatorname{θ_{1}}{\\left(t \\right)} + \\operatorname{θ_{2}}{\\left(t \\right)} \\right)} + 1\\right) \\left(\\frac{d}{d t} \\operatorname{θ_{1}}{\\left(t \\right)} + \\frac{d}{d t} \\operatorname{θ_{2}}{\\left(t \\right)}\\right) \\left(2 \\frac{d}{d t} \\operatorname{θ_{1}}{\\left(t \\right)} + 2 \\frac{d}{d t} \\operatorname{θ_{2}}{\\left(t \\right)}\\right) \\tan^{2}{\\left(\\operatorname{θ_{1}}{\\left(t \\right)} + \\operatorname{θ_{2}}{\\left(t \\right)} \\right)} + 4 L \\left(\\tan^{2}{\\left(\\operatorname{θ_{1}}{\\left(t \\right)} + \\operatorname{θ_{2}}{\\left(t \\right)} \\right)} + 1\\right) \\left(2 \\frac{d^{2}}{d t^{2}} \\operatorname{θ_{1}}{\\left(t \\right)} + 2 \\frac{d^{2}}{d t^{2}} \\operatorname{θ_{2}}{\\left(t \\right)}\\right) \\tan{\\left(\\operatorname{θ_{1}}{\\left(t \\right)} + \\operatorname{θ_{2}}{\\left(t \\right)} \\right)} - 8 L \\left(\\tan^{2}{\\left(\\operatorname{θ_{1}}{\\left(t \\right)} \\right)} + 1\\right)^{2} \\left(\\frac{d}{d t} \\operatorname{θ_{1}}{\\left(t \\right)}\\right)^{2} - 16 L \\left(\\tan^{2}{\\left(\\operatorname{θ_{1}}{\\left(t \\right)} \\right)} + 1\\right) \\tan^{2}{\\left(\\operatorname{θ_{1}}{\\left(t \\right)} \\right)} \\left(\\frac{d}{d t} \\operatorname{θ_{1}}{\\left(t \\right)}\\right)^{2} + 4 L \\left(\\tan^{2}{\\left(\\operatorname{θ_{1}}{\\left(t \\right)} \\right)} + 1\\right) \\tan{\\left(\\operatorname{θ_{1}}{\\left(t \\right)} \\right)} \\frac{d}{d t} \\operatorname{θ_{1}}{\\left(t \\right)} - 8 L \\left(\\tan^{2}{\\left(\\operatorname{θ_{1}}{\\left(t \\right)} \\right)} + 1\\right) \\tan{\\left(\\operatorname{θ_{1}}{\\left(t \\right)} \\right)} \\frac{d^{2}}{d t^{2}} \\operatorname{θ_{1}}{\\left(t \\right)}\\right) = 0$"
      ],
      "text/plain": [
       "Eq(-L**2*k_1*(2*tan(θ_1(t))**2 + 2)*tan(θ_1(t)) - 4.0*L**2*m_1*(tan(θ_1(t))**2 + 1)**2*tan(θ_1(t))*Derivative(θ_1(t), t)**2 - 1.0*L**2*m_1*(tan(θ_1(t))**2 + 1)**2*Derivative(θ_1(t), (t, 2)) + 1.0*L**2*m_1*(tan(θ_1(t))**2 + 1)*(2*tan(θ_1(t))**2 + 2)*tan(θ_1(t))*Derivative(θ_1(t), t)**2 - k_2*(2*L*(tan(θ_1(t) + θ_2(t))**2 + 1) - 2*L*(tan(θ_1(t))**2 + 1))*(L*tan(θ_1(t) + θ_2(t)) - L*tan(θ_1(t))) - 0.5*m_2*(4*L*(tan(θ_1(t) + θ_2(t))**2 + 1)*(2*Derivative(θ_1(t), t) + 2*Derivative(θ_2(t), t))*tan(θ_1(t) + θ_2(t)) - 8*L*(tan(θ_1(t))**2 + 1)*tan(θ_1(t))*Derivative(θ_1(t), t) + 2*L*(tan(θ_1(t))**2 + 1))*(2*L*(tan(θ_1(t) + θ_2(t))**2 + 1)**2*(Derivative(θ_1(t), t) + Derivative(θ_2(t), t))**3 + 4*L*(tan(θ_1(t) + θ_2(t))**2 + 1)*(Derivative(θ_1(t), t) + Derivative(θ_2(t), t))**3*tan(θ_1(t) + θ_2(t))**2 + 2*L*(tan(θ_1(t) + θ_2(t))**2 + 1)*(Derivative(θ_1(t), t) + Derivative(θ_2(t), t))*(Derivative(θ_1(t), (t, 2)) + Derivative(θ_2(t), (t, 2)))*tan(θ_1(t) + θ_2(t)) + 2*L*(tan(θ_1(t) + θ_2(t))**2 + 1)*(Derivative(θ_1(t), t) + Derivative(θ_2(t), t))*(2*Derivative(θ_1(t), (t, 2)) + 2*Derivative(θ_2(t), (t, 2)))*tan(θ_1(t) + θ_2(t)) + L*(tan(θ_1(t) + θ_2(t))**2 + 1)*(Derivative(θ_1(t), (t, 3)) + Derivative(θ_2(t), (t, 3))) - 2*L*(tan(θ_1(t))**2 + 1)**2*Derivative(θ_1(t), t)**3 - 4*L*(tan(θ_1(t))**2 + 1)*tan(θ_1(t))**2*Derivative(θ_1(t), t)**3 + 2*L*(tan(θ_1(t))**2 + 1)*tan(θ_1(t))*Derivative(θ_1(t), t)**2 - 6*L*(tan(θ_1(t))**2 + 1)*tan(θ_1(t))*Derivative(θ_1(t), t)*Derivative(θ_1(t), (t, 2)) + L*(tan(θ_1(t))**2 + 1)*Derivative(θ_1(t), (t, 2)) - L*(tan(θ_1(t))**2 + 1)*Derivative(θ_1(t), (t, 3))) + 0.5*m_2*(2*L*(tan(θ_1(t) + θ_2(t))**2 + 1)*(Derivative(θ_1(t), t) + Derivative(θ_2(t), t))**2*tan(θ_1(t) + θ_2(t)) + L*(tan(θ_1(t) + θ_2(t))**2 + 1)*(Derivative(θ_1(t), (t, 2)) + Derivative(θ_2(t), (t, 2))) - 2*L*(tan(θ_1(t))**2 + 1)*tan(θ_1(t))*Derivative(θ_1(t), t)**2 + L*(tan(θ_1(t))**2 + 1)*Derivative(θ_1(t), t) - L*(tan(θ_1(t))**2 + 1)*Derivative(θ_1(t), (t, 2)))*(4*L*(tan(θ_1(t) + θ_2(t))**2 + 1)**2*(Derivative(θ_1(t), t) + Derivative(θ_2(t), t))**2 + 4*L*(2*tan(θ_1(t) + θ_2(t))**2 + 2)*(Derivative(θ_1(t), t) + Derivative(θ_2(t), t))**2*tan(θ_1(t) + θ_2(t))**2 + 2*L*(2*tan(θ_1(t) + θ_2(t))**2 + 2)*(Derivative(θ_1(t), (t, 2)) + Derivative(θ_2(t), (t, 2)))*tan(θ_1(t) + θ_2(t)) - 4*L*(tan(θ_1(t))**2 + 1)**2*Derivative(θ_1(t), t)**2 - 4*L*(2*tan(θ_1(t))**2 + 2)*tan(θ_1(t))**2*Derivative(θ_1(t), t)**2 + 2*L*(2*tan(θ_1(t))**2 + 2)*tan(θ_1(t))*Derivative(θ_1(t), t) - 2*L*(2*tan(θ_1(t))**2 + 2)*tan(θ_1(t))*Derivative(θ_1(t), (t, 2))) - 0.5*m_2*(2*L*(tan(θ_1(t) + θ_2(t))**2 + 1)*(Derivative(θ_1(t), t) + Derivative(θ_2(t), t))**2*tan(θ_1(t) + θ_2(t)) + L*(tan(θ_1(t) + θ_2(t))**2 + 1)*(Derivative(θ_1(t), (t, 2)) + Derivative(θ_2(t), (t, 2))) - 2*L*(tan(θ_1(t))**2 + 1)*tan(θ_1(t))*Derivative(θ_1(t), t)**2 + L*(tan(θ_1(t))**2 + 1)*Derivative(θ_1(t), t) - L*(tan(θ_1(t))**2 + 1)*Derivative(θ_1(t), (t, 2)))*(4*L*(tan(θ_1(t) + θ_2(t))**2 + 1)**2*(Derivative(θ_1(t), t) + Derivative(θ_2(t), t))*(2*Derivative(θ_1(t), t) + 2*Derivative(θ_2(t), t)) + 8*L*(tan(θ_1(t) + θ_2(t))**2 + 1)*(Derivative(θ_1(t), t) + Derivative(θ_2(t), t))*(2*Derivative(θ_1(t), t) + 2*Derivative(θ_2(t), t))*tan(θ_1(t) + θ_2(t))**2 + 4*L*(tan(θ_1(t) + θ_2(t))**2 + 1)*(2*Derivative(θ_1(t), (t, 2)) + 2*Derivative(θ_2(t), (t, 2)))*tan(θ_1(t) + θ_2(t)) - 8*L*(tan(θ_1(t))**2 + 1)**2*Derivative(θ_1(t), t)**2 - 16*L*(tan(θ_1(t))**2 + 1)*tan(θ_1(t))**2*Derivative(θ_1(t), t)**2 + 4*L*(tan(θ_1(t))**2 + 1)*tan(θ_1(t))*Derivative(θ_1(t), t) - 8*L*(tan(θ_1(t))**2 + 1)*tan(θ_1(t))*Derivative(θ_1(t), (t, 2))), 0)"
      ]
     },
     "metadata": {},
     "output_type": "display_data"
    },
    {
     "data": {
      "text/latex": [
       "$\\displaystyle - 2 L k_{2} \\left(L \\tan{\\left(\\operatorname{θ_{1}}{\\left(t \\right)} + \\operatorname{θ_{2}}{\\left(t \\right)} \\right)} - L \\tan{\\left(\\operatorname{θ_{1}}{\\left(t \\right)} \\right)}\\right) \\left(\\tan^{2}{\\left(\\operatorname{θ_{1}}{\\left(t \\right)} + \\operatorname{θ_{2}}{\\left(t \\right)} \\right)} + 1\\right) - 2.0 L m_{2} \\left(\\tan^{2}{\\left(\\operatorname{θ_{1}}{\\left(t \\right)} + \\operatorname{θ_{2}}{\\left(t \\right)} \\right)} + 1\\right)^{2} \\left(\\frac{d}{d t} \\operatorname{θ_{1}}{\\left(t \\right)} + \\frac{d}{d t} \\operatorname{θ_{2}}{\\left(t \\right)}\\right) \\left(2 \\frac{d}{d t} \\operatorname{θ_{1}}{\\left(t \\right)} + 2 \\frac{d}{d t} \\operatorname{θ_{2}}{\\left(t \\right)}\\right) \\left(2 L \\left(\\tan^{2}{\\left(\\operatorname{θ_{1}}{\\left(t \\right)} + \\operatorname{θ_{2}}{\\left(t \\right)} \\right)} + 1\\right) \\left(\\frac{d}{d t} \\operatorname{θ_{1}}{\\left(t \\right)} + \\frac{d}{d t} \\operatorname{θ_{2}}{\\left(t \\right)}\\right)^{2} \\tan{\\left(\\operatorname{θ_{1}}{\\left(t \\right)} + \\operatorname{θ_{2}}{\\left(t \\right)} \\right)} + L \\left(\\tan^{2}{\\left(\\operatorname{θ_{1}}{\\left(t \\right)} + \\operatorname{θ_{2}}{\\left(t \\right)} \\right)} + 1\\right) \\left(\\frac{d^{2}}{d t^{2}} \\operatorname{θ_{1}}{\\left(t \\right)} + \\frac{d^{2}}{d t^{2}} \\operatorname{θ_{2}}{\\left(t \\right)}\\right) - 2 L \\left(\\tan^{2}{\\left(\\operatorname{θ_{1}}{\\left(t \\right)} \\right)} + 1\\right) \\tan{\\left(\\operatorname{θ_{1}}{\\left(t \\right)} \\right)} \\left(\\frac{d}{d t} \\operatorname{θ_{1}}{\\left(t \\right)}\\right)^{2} + L \\left(\\tan^{2}{\\left(\\operatorname{θ_{1}}{\\left(t \\right)} \\right)} + 1\\right) \\frac{d}{d t} \\operatorname{θ_{1}}{\\left(t \\right)} - L \\left(\\tan^{2}{\\left(\\operatorname{θ_{1}}{\\left(t \\right)} \\right)} + 1\\right) \\frac{d^{2}}{d t^{2}} \\operatorname{θ_{1}}{\\left(t \\right)}\\right) - 4.0 L m_{2} \\left(\\tan^{2}{\\left(\\operatorname{θ_{1}}{\\left(t \\right)} + \\operatorname{θ_{2}}{\\left(t \\right)} \\right)} + 1\\right) \\left(\\frac{d}{d t} \\operatorname{θ_{1}}{\\left(t \\right)} + \\frac{d}{d t} \\operatorname{θ_{2}}{\\left(t \\right)}\\right) \\left(2 \\frac{d}{d t} \\operatorname{θ_{1}}{\\left(t \\right)} + 2 \\frac{d}{d t} \\operatorname{θ_{2}}{\\left(t \\right)}\\right) \\left(2 L \\left(\\tan^{2}{\\left(\\operatorname{θ_{1}}{\\left(t \\right)} + \\operatorname{θ_{2}}{\\left(t \\right)} \\right)} + 1\\right) \\left(\\frac{d}{d t} \\operatorname{θ_{1}}{\\left(t \\right)} + \\frac{d}{d t} \\operatorname{θ_{2}}{\\left(t \\right)}\\right)^{2} \\tan{\\left(\\operatorname{θ_{1}}{\\left(t \\right)} + \\operatorname{θ_{2}}{\\left(t \\right)} \\right)} + L \\left(\\tan^{2}{\\left(\\operatorname{θ_{1}}{\\left(t \\right)} + \\operatorname{θ_{2}}{\\left(t \\right)} \\right)} + 1\\right) \\left(\\frac{d^{2}}{d t^{2}} \\operatorname{θ_{1}}{\\left(t \\right)} + \\frac{d^{2}}{d t^{2}} \\operatorname{θ_{2}}{\\left(t \\right)}\\right) - 2 L \\left(\\tan^{2}{\\left(\\operatorname{θ_{1}}{\\left(t \\right)} \\right)} + 1\\right) \\tan{\\left(\\operatorname{θ_{1}}{\\left(t \\right)} \\right)} \\left(\\frac{d}{d t} \\operatorname{θ_{1}}{\\left(t \\right)}\\right)^{2} + L \\left(\\tan^{2}{\\left(\\operatorname{θ_{1}}{\\left(t \\right)} \\right)} + 1\\right) \\frac{d}{d t} \\operatorname{θ_{1}}{\\left(t \\right)} - L \\left(\\tan^{2}{\\left(\\operatorname{θ_{1}}{\\left(t \\right)} \\right)} + 1\\right) \\frac{d^{2}}{d t^{2}} \\operatorname{θ_{1}}{\\left(t \\right)}\\right) \\tan^{2}{\\left(\\operatorname{θ_{1}}{\\left(t \\right)} + \\operatorname{θ_{2}}{\\left(t \\right)} \\right)} - 2.0 L m_{2} \\left(\\tan^{2}{\\left(\\operatorname{θ_{1}}{\\left(t \\right)} + \\operatorname{θ_{2}}{\\left(t \\right)} \\right)} + 1\\right) \\left(2 \\frac{d}{d t} \\operatorname{θ_{1}}{\\left(t \\right)} + 2 \\frac{d}{d t} \\operatorname{θ_{2}}{\\left(t \\right)}\\right) \\left(2 L \\left(\\tan^{2}{\\left(\\operatorname{θ_{1}}{\\left(t \\right)} + \\operatorname{θ_{2}}{\\left(t \\right)} \\right)} + 1\\right)^{2} \\left(\\frac{d}{d t} \\operatorname{θ_{1}}{\\left(t \\right)} + \\frac{d}{d t} \\operatorname{θ_{2}}{\\left(t \\right)}\\right)^{3} + 4 L \\left(\\tan^{2}{\\left(\\operatorname{θ_{1}}{\\left(t \\right)} + \\operatorname{θ_{2}}{\\left(t \\right)} \\right)} + 1\\right) \\left(\\frac{d}{d t} \\operatorname{θ_{1}}{\\left(t \\right)} + \\frac{d}{d t} \\operatorname{θ_{2}}{\\left(t \\right)}\\right)^{3} \\tan^{2}{\\left(\\operatorname{θ_{1}}{\\left(t \\right)} + \\operatorname{θ_{2}}{\\left(t \\right)} \\right)} + 2 L \\left(\\tan^{2}{\\left(\\operatorname{θ_{1}}{\\left(t \\right)} + \\operatorname{θ_{2}}{\\left(t \\right)} \\right)} + 1\\right) \\left(\\frac{d}{d t} \\operatorname{θ_{1}}{\\left(t \\right)} + \\frac{d}{d t} \\operatorname{θ_{2}}{\\left(t \\right)}\\right) \\left(\\frac{d^{2}}{d t^{2}} \\operatorname{θ_{1}}{\\left(t \\right)} + \\frac{d^{2}}{d t^{2}} \\operatorname{θ_{2}}{\\left(t \\right)}\\right) \\tan{\\left(\\operatorname{θ_{1}}{\\left(t \\right)} + \\operatorname{θ_{2}}{\\left(t \\right)} \\right)} + 2 L \\left(\\tan^{2}{\\left(\\operatorname{θ_{1}}{\\left(t \\right)} + \\operatorname{θ_{2}}{\\left(t \\right)} \\right)} + 1\\right) \\left(\\frac{d}{d t} \\operatorname{θ_{1}}{\\left(t \\right)} + \\frac{d}{d t} \\operatorname{θ_{2}}{\\left(t \\right)}\\right) \\left(2 \\frac{d^{2}}{d t^{2}} \\operatorname{θ_{1}}{\\left(t \\right)} + 2 \\frac{d^{2}}{d t^{2}} \\operatorname{θ_{2}}{\\left(t \\right)}\\right) \\tan{\\left(\\operatorname{θ_{1}}{\\left(t \\right)} + \\operatorname{θ_{2}}{\\left(t \\right)} \\right)} + L \\left(\\tan^{2}{\\left(\\operatorname{θ_{1}}{\\left(t \\right)} + \\operatorname{θ_{2}}{\\left(t \\right)} \\right)} + 1\\right) \\left(\\frac{d^{3}}{d t^{3}} \\operatorname{θ_{1}}{\\left(t \\right)} + \\frac{d^{3}}{d t^{3}} \\operatorname{θ_{2}}{\\left(t \\right)}\\right) - 2 L \\left(\\tan^{2}{\\left(\\operatorname{θ_{1}}{\\left(t \\right)} \\right)} + 1\\right)^{2} \\left(\\frac{d}{d t} \\operatorname{θ_{1}}{\\left(t \\right)}\\right)^{3} - 4 L \\left(\\tan^{2}{\\left(\\operatorname{θ_{1}}{\\left(t \\right)} \\right)} + 1\\right) \\tan^{2}{\\left(\\operatorname{θ_{1}}{\\left(t \\right)} \\right)} \\left(\\frac{d}{d t} \\operatorname{θ_{1}}{\\left(t \\right)}\\right)^{3} + 2 L \\left(\\tan^{2}{\\left(\\operatorname{θ_{1}}{\\left(t \\right)} \\right)} + 1\\right) \\tan{\\left(\\operatorname{θ_{1}}{\\left(t \\right)} \\right)} \\left(\\frac{d}{d t} \\operatorname{θ_{1}}{\\left(t \\right)}\\right)^{2} - 6 L \\left(\\tan^{2}{\\left(\\operatorname{θ_{1}}{\\left(t \\right)} \\right)} + 1\\right) \\tan{\\left(\\operatorname{θ_{1}}{\\left(t \\right)} \\right)} \\frac{d}{d t} \\operatorname{θ_{1}}{\\left(t \\right)} \\frac{d^{2}}{d t^{2}} \\operatorname{θ_{1}}{\\left(t \\right)} + L \\left(\\tan^{2}{\\left(\\operatorname{θ_{1}}{\\left(t \\right)} \\right)} + 1\\right) \\frac{d^{2}}{d t^{2}} \\operatorname{θ_{1}}{\\left(t \\right)} - L \\left(\\tan^{2}{\\left(\\operatorname{θ_{1}}{\\left(t \\right)} \\right)} + 1\\right) \\frac{d^{3}}{d t^{3}} \\operatorname{θ_{1}}{\\left(t \\right)}\\right) \\tan{\\left(\\operatorname{θ_{1}}{\\left(t \\right)} + \\operatorname{θ_{2}}{\\left(t \\right)} \\right)} - 2.0 L m_{2} \\left(\\tan^{2}{\\left(\\operatorname{θ_{1}}{\\left(t \\right)} + \\operatorname{θ_{2}}{\\left(t \\right)} \\right)} + 1\\right) \\left(2 \\frac{d^{2}}{d t^{2}} \\operatorname{θ_{1}}{\\left(t \\right)} + 2 \\frac{d^{2}}{d t^{2}} \\operatorname{θ_{2}}{\\left(t \\right)}\\right) \\left(2 L \\left(\\tan^{2}{\\left(\\operatorname{θ_{1}}{\\left(t \\right)} + \\operatorname{θ_{2}}{\\left(t \\right)} \\right)} + 1\\right) \\left(\\frac{d}{d t} \\operatorname{θ_{1}}{\\left(t \\right)} + \\frac{d}{d t} \\operatorname{θ_{2}}{\\left(t \\right)}\\right)^{2} \\tan{\\left(\\operatorname{θ_{1}}{\\left(t \\right)} + \\operatorname{θ_{2}}{\\left(t \\right)} \\right)} + L \\left(\\tan^{2}{\\left(\\operatorname{θ_{1}}{\\left(t \\right)} + \\operatorname{θ_{2}}{\\left(t \\right)} \\right)} + 1\\right) \\left(\\frac{d^{2}}{d t^{2}} \\operatorname{θ_{1}}{\\left(t \\right)} + \\frac{d^{2}}{d t^{2}} \\operatorname{θ_{2}}{\\left(t \\right)}\\right) - 2 L \\left(\\tan^{2}{\\left(\\operatorname{θ_{1}}{\\left(t \\right)} \\right)} + 1\\right) \\tan{\\left(\\operatorname{θ_{1}}{\\left(t \\right)} \\right)} \\left(\\frac{d}{d t} \\operatorname{θ_{1}}{\\left(t \\right)}\\right)^{2} + L \\left(\\tan^{2}{\\left(\\operatorname{θ_{1}}{\\left(t \\right)} \\right)} + 1\\right) \\frac{d}{d t} \\operatorname{θ_{1}}{\\left(t \\right)} - L \\left(\\tan^{2}{\\left(\\operatorname{θ_{1}}{\\left(t \\right)} \\right)} + 1\\right) \\frac{d^{2}}{d t^{2}} \\operatorname{θ_{1}}{\\left(t \\right)}\\right) \\tan{\\left(\\operatorname{θ_{1}}{\\left(t \\right)} + \\operatorname{θ_{2}}{\\left(t \\right)} \\right)} + 0.5 m_{2} \\left(4 L \\left(\\tan^{2}{\\left(\\operatorname{θ_{1}}{\\left(t \\right)} + \\operatorname{θ_{2}}{\\left(t \\right)} \\right)} + 1\\right)^{2} \\left(\\frac{d}{d t} \\operatorname{θ_{1}}{\\left(t \\right)} + \\frac{d}{d t} \\operatorname{θ_{2}}{\\left(t \\right)}\\right)^{2} + 4 L \\left(2 \\tan^{2}{\\left(\\operatorname{θ_{1}}{\\left(t \\right)} + \\operatorname{θ_{2}}{\\left(t \\right)} \\right)} + 2\\right) \\left(\\frac{d}{d t} \\operatorname{θ_{1}}{\\left(t \\right)} + \\frac{d}{d t} \\operatorname{θ_{2}}{\\left(t \\right)}\\right)^{2} \\tan^{2}{\\left(\\operatorname{θ_{1}}{\\left(t \\right)} + \\operatorname{θ_{2}}{\\left(t \\right)} \\right)} + 2 L \\left(2 \\tan^{2}{\\left(\\operatorname{θ_{1}}{\\left(t \\right)} + \\operatorname{θ_{2}}{\\left(t \\right)} \\right)} + 2\\right) \\left(\\frac{d^{2}}{d t^{2}} \\operatorname{θ_{1}}{\\left(t \\right)} + \\frac{d^{2}}{d t^{2}} \\operatorname{θ_{2}}{\\left(t \\right)}\\right) \\tan{\\left(\\operatorname{θ_{1}}{\\left(t \\right)} + \\operatorname{θ_{2}}{\\left(t \\right)} \\right)}\\right) \\left(2 L \\left(\\tan^{2}{\\left(\\operatorname{θ_{1}}{\\left(t \\right)} + \\operatorname{θ_{2}}{\\left(t \\right)} \\right)} + 1\\right) \\left(\\frac{d}{d t} \\operatorname{θ_{1}}{\\left(t \\right)} + \\frac{d}{d t} \\operatorname{θ_{2}}{\\left(t \\right)}\\right)^{2} \\tan{\\left(\\operatorname{θ_{1}}{\\left(t \\right)} + \\operatorname{θ_{2}}{\\left(t \\right)} \\right)} + L \\left(\\tan^{2}{\\left(\\operatorname{θ_{1}}{\\left(t \\right)} + \\operatorname{θ_{2}}{\\left(t \\right)} \\right)} + 1\\right) \\left(\\frac{d^{2}}{d t^{2}} \\operatorname{θ_{1}}{\\left(t \\right)} + \\frac{d^{2}}{d t^{2}} \\operatorname{θ_{2}}{\\left(t \\right)}\\right) - 2 L \\left(\\tan^{2}{\\left(\\operatorname{θ_{1}}{\\left(t \\right)} \\right)} + 1\\right) \\tan{\\left(\\operatorname{θ_{1}}{\\left(t \\right)} \\right)} \\left(\\frac{d}{d t} \\operatorname{θ_{1}}{\\left(t \\right)}\\right)^{2} + L \\left(\\tan^{2}{\\left(\\operatorname{θ_{1}}{\\left(t \\right)} \\right)} + 1\\right) \\frac{d}{d t} \\operatorname{θ_{1}}{\\left(t \\right)} - L \\left(\\tan^{2}{\\left(\\operatorname{θ_{1}}{\\left(t \\right)} \\right)} + 1\\right) \\frac{d^{2}}{d t^{2}} \\operatorname{θ_{1}}{\\left(t \\right)}\\right) = 0$"
      ],
      "text/plain": [
       "Eq(-2*L*k_2*(L*tan(θ_1(t) + θ_2(t)) - L*tan(θ_1(t)))*(tan(θ_1(t) + θ_2(t))**2 + 1) - 2.0*L*m_2*(tan(θ_1(t) + θ_2(t))**2 + 1)**2*(Derivative(θ_1(t), t) + Derivative(θ_2(t), t))*(2*Derivative(θ_1(t), t) + 2*Derivative(θ_2(t), t))*(2*L*(tan(θ_1(t) + θ_2(t))**2 + 1)*(Derivative(θ_1(t), t) + Derivative(θ_2(t), t))**2*tan(θ_1(t) + θ_2(t)) + L*(tan(θ_1(t) + θ_2(t))**2 + 1)*(Derivative(θ_1(t), (t, 2)) + Derivative(θ_2(t), (t, 2))) - 2*L*(tan(θ_1(t))**2 + 1)*tan(θ_1(t))*Derivative(θ_1(t), t)**2 + L*(tan(θ_1(t))**2 + 1)*Derivative(θ_1(t), t) - L*(tan(θ_1(t))**2 + 1)*Derivative(θ_1(t), (t, 2))) - 4.0*L*m_2*(tan(θ_1(t) + θ_2(t))**2 + 1)*(Derivative(θ_1(t), t) + Derivative(θ_2(t), t))*(2*Derivative(θ_1(t), t) + 2*Derivative(θ_2(t), t))*(2*L*(tan(θ_1(t) + θ_2(t))**2 + 1)*(Derivative(θ_1(t), t) + Derivative(θ_2(t), t))**2*tan(θ_1(t) + θ_2(t)) + L*(tan(θ_1(t) + θ_2(t))**2 + 1)*(Derivative(θ_1(t), (t, 2)) + Derivative(θ_2(t), (t, 2))) - 2*L*(tan(θ_1(t))**2 + 1)*tan(θ_1(t))*Derivative(θ_1(t), t)**2 + L*(tan(θ_1(t))**2 + 1)*Derivative(θ_1(t), t) - L*(tan(θ_1(t))**2 + 1)*Derivative(θ_1(t), (t, 2)))*tan(θ_1(t) + θ_2(t))**2 - 2.0*L*m_2*(tan(θ_1(t) + θ_2(t))**2 + 1)*(2*Derivative(θ_1(t), t) + 2*Derivative(θ_2(t), t))*(2*L*(tan(θ_1(t) + θ_2(t))**2 + 1)**2*(Derivative(θ_1(t), t) + Derivative(θ_2(t), t))**3 + 4*L*(tan(θ_1(t) + θ_2(t))**2 + 1)*(Derivative(θ_1(t), t) + Derivative(θ_2(t), t))**3*tan(θ_1(t) + θ_2(t))**2 + 2*L*(tan(θ_1(t) + θ_2(t))**2 + 1)*(Derivative(θ_1(t), t) + Derivative(θ_2(t), t))*(Derivative(θ_1(t), (t, 2)) + Derivative(θ_2(t), (t, 2)))*tan(θ_1(t) + θ_2(t)) + 2*L*(tan(θ_1(t) + θ_2(t))**2 + 1)*(Derivative(θ_1(t), t) + Derivative(θ_2(t), t))*(2*Derivative(θ_1(t), (t, 2)) + 2*Derivative(θ_2(t), (t, 2)))*tan(θ_1(t) + θ_2(t)) + L*(tan(θ_1(t) + θ_2(t))**2 + 1)*(Derivative(θ_1(t), (t, 3)) + Derivative(θ_2(t), (t, 3))) - 2*L*(tan(θ_1(t))**2 + 1)**2*Derivative(θ_1(t), t)**3 - 4*L*(tan(θ_1(t))**2 + 1)*tan(θ_1(t))**2*Derivative(θ_1(t), t)**3 + 2*L*(tan(θ_1(t))**2 + 1)*tan(θ_1(t))*Derivative(θ_1(t), t)**2 - 6*L*(tan(θ_1(t))**2 + 1)*tan(θ_1(t))*Derivative(θ_1(t), t)*Derivative(θ_1(t), (t, 2)) + L*(tan(θ_1(t))**2 + 1)*Derivative(θ_1(t), (t, 2)) - L*(tan(θ_1(t))**2 + 1)*Derivative(θ_1(t), (t, 3)))*tan(θ_1(t) + θ_2(t)) - 2.0*L*m_2*(tan(θ_1(t) + θ_2(t))**2 + 1)*(2*Derivative(θ_1(t), (t, 2)) + 2*Derivative(θ_2(t), (t, 2)))*(2*L*(tan(θ_1(t) + θ_2(t))**2 + 1)*(Derivative(θ_1(t), t) + Derivative(θ_2(t), t))**2*tan(θ_1(t) + θ_2(t)) + L*(tan(θ_1(t) + θ_2(t))**2 + 1)*(Derivative(θ_1(t), (t, 2)) + Derivative(θ_2(t), (t, 2))) - 2*L*(tan(θ_1(t))**2 + 1)*tan(θ_1(t))*Derivative(θ_1(t), t)**2 + L*(tan(θ_1(t))**2 + 1)*Derivative(θ_1(t), t) - L*(tan(θ_1(t))**2 + 1)*Derivative(θ_1(t), (t, 2)))*tan(θ_1(t) + θ_2(t)) + 0.5*m_2*(4*L*(tan(θ_1(t) + θ_2(t))**2 + 1)**2*(Derivative(θ_1(t), t) + Derivative(θ_2(t), t))**2 + 4*L*(2*tan(θ_1(t) + θ_2(t))**2 + 2)*(Derivative(θ_1(t), t) + Derivative(θ_2(t), t))**2*tan(θ_1(t) + θ_2(t))**2 + 2*L*(2*tan(θ_1(t) + θ_2(t))**2 + 2)*(Derivative(θ_1(t), (t, 2)) + Derivative(θ_2(t), (t, 2)))*tan(θ_1(t) + θ_2(t)))*(2*L*(tan(θ_1(t) + θ_2(t))**2 + 1)*(Derivative(θ_1(t), t) + Derivative(θ_2(t), t))**2*tan(θ_1(t) + θ_2(t)) + L*(tan(θ_1(t) + θ_2(t))**2 + 1)*(Derivative(θ_1(t), (t, 2)) + Derivative(θ_2(t), (t, 2))) - 2*L*(tan(θ_1(t))**2 + 1)*tan(θ_1(t))*Derivative(θ_1(t), t)**2 + L*(tan(θ_1(t))**2 + 1)*Derivative(θ_1(t), t) - L*(tan(θ_1(t))**2 + 1)*Derivative(θ_1(t), (t, 2))), 0)"
      ]
     },
     "metadata": {},
     "output_type": "display_data"
    }
   ],
   "source": [
    "#TODO:improve display\n",
    "\n",
    "#putting together the Euler-Lagrange equations...\n",
    "EL_vec = dLdq - dLdqdot.diff(t)\n",
    "\n",
    "#separating for better display...\n",
    "EL_th1 = sym.Eq(EL_vec[0],0)\n",
    "EL_th2 = sym.Eq(EL_vec[1],0)\n",
    "\n",
    "print('The Euler-Lagrange Equations:')\n",
    "display(EL_th1,EL_th2)"
   ]
  },
  {
   "cell_type": "code",
   "execution_count": 15,
   "metadata": {},
   "outputs": [],
   "source": [
    "#wrapping my lhs and rhs as matrices \n",
    "lhs = Matrix([EL_vec[0], EL_vec[1]])\n",
    "rhs = Matrix([0, 0])\n",
    "\n",
    "# define the equations\n",
    "eqn = Eq(lhs, rhs)"
   ]
  },
  {
   "cell_type": "code",
   "execution_count": 16,
   "metadata": {},
   "outputs": [],
   "source": [
    "#defining dθ1, dθ2 and ddθ1, ddθ2...\n",
    "th1dot = th1.diff(t)\n",
    "th2dot = th2.diff(t)\n",
    "th1ddot = th1dot.diff(t)\n",
    "th2ddot = th2dot.diff(t)"
   ]
  },
  {
   "cell_type": "code",
   "execution_count": 17,
   "metadata": {},
   "outputs": [],
   "source": [
    "#solving for ddθ1 and ddθ2...\n",
    "q = Matrix([th1ddot, th2ddot])\n",
    "#soln = sym.solve(eqn, q, dict=True) # this will return the solution \n",
    "                                     # as a Python dictionary\n",
    "#ELsolve = []\n",
    "#for sol in soln:\n",
    "#    print('solution: ')\n",
    "#    for v in q:\n",
    "#        bloop = sym.Eq(v, sol[v])\n",
    "#        ELsolve.append(sol[v])\n",
    "#        #ELsolve.append(bloop)\n",
    "#        display(bloop)"
   ]
  },
  {
   "cell_type": "markdown",
   "metadata": {
    "id": "Z-7OD_CSJfD-"
   },
   "source": [
    "## Problem 3 (10pts)\n",
    "\n",
    "For the same two-spring-mass system in Problem 2, show by example that Newton's equations do not hold in an arbitrary choice of coordinates (but they do, of course, hold in Cartesian coordinates). Your example should be implemented using Python's SymPy package.\n",
    "\n",
    "*Hint 1: In other words, you need to find a set of coordinates $q=[q_1,q_2]$, and compute the equations of motion ($F=ma=m\\ddot{q}$), showing that these equations of motion do not make the same prediction as Newton's laws in the Cartesian inertially fixed frame (where they are correct).*\n",
    "\n",
    "*Hint 2: Newton's equations don't hold in non-inertia coordinates. For the $x_1,x_2$ and $y_1,y_2$ coordinates shown in the image, one of them is non-inertia coordinate.*\n",
    "\n",
    "**Turn in: A copy of code you used to symbolically compute the equations of motion to show that Newton's equations don't hold. Also, include the output of the code, which should be the equations of motion under the chosen set of coordinates (indicate what coordinate you choose in the comments).**"
   ]
  },
  {
   "cell_type": "code",
   "execution_count": 18,
   "metadata": {
    "id": "3RNr1YhuJfD-"
   },
   "outputs": [],
   "source": [
    "#Computing the "
   ]
  },
  {
   "cell_type": "markdown",
   "metadata": {
    "id": "cIf0pSCiJfEC"
   },
   "source": [
    "## Problem 4 (10pts)\n",
    "\n",
    "For the same double-pendulum system hanging in gravity in Homework 2, take $q=[\\theta_1, \\theta_2]$ as the system configuration variables, with $R_1=R_2=1, m_1=m_2=1$. Symbolically compute the Hamiltonian of this system using Python's SymPy package.\n",
    "\n",
    "**Turn in: A copy of the code used to symbolically compute the Hamiltonian of the system, also include the output of the code, which should the Hamiltonian of the system.**"
   ]
  },
  {
   "cell_type": "code",
   "execution_count": 19,
   "metadata": {
    "colab": {
     "base_uri": "https://localhost:8080/",
     "height": 377
    },
    "executionInfo": {
     "elapsed": 1733,
     "status": "ok",
     "timestamp": 1602092440255,
     "user": {
      "displayName": "Muchen Sun",
      "photoUrl": "https://lh3.googleusercontent.com/a-/AOh14Ginp48i0jmOxCe1Ash9fdfU0b4Pe6DGLT9uqf_M=s64",
      "userId": "16296401493550679771"
     },
     "user_tz": 300
    },
    "id": "oZjf1UFIJfEA",
    "outputId": "2bc149f4-f000-45f4-eeac-1659393c4d94"
   },
   "outputs": [
    {
     "data": {
      "text/html": [
       "<table><tr><td><img src='https://github.com/MuchenSun/ME314pngs/raw/master/dyndoublepend.png' width=500' height='350'></table>"
      ],
      "text/plain": [
       "<IPython.core.display.HTML object>"
      ]
     },
     "metadata": {},
     "output_type": "display_data"
    }
   ],
   "source": [
    "from IPython.core.display import HTML\n",
    "display(HTML(\"<table><tr><td><img src='https://github.com/MuchenSun/ME314pngs/raw/master/dyndoublepend.png' width=500' height='350'></table>\"))"
   ]
  },
  {
   "cell_type": "code",
   "execution_count": 20,
   "metadata": {
    "id": "JoXuspHUJfED"
   },
   "outputs": [],
   "source": [
    "#symbol definitions...\n",
    "t = sym.symbols('t')\n",
    "g = sym.symbols('g')\n",
    "R1 = sym.symbols('R1')\n",
    "R2 = sym.symbols('R2')\n",
    "m1 = sym.symbols('m_{1}')\n",
    "m2 = sym.symbols('m_{2}')\n",
    "\n",
    "#Angular position, velocity, and acceleration as functions of t...\n",
    "th1 = Function(r'θ_1')(t)\n",
    "th2 = Function(r'θ_2')(t)"
   ]
  },
  {
   "cell_type": "code",
   "execution_count": 21,
   "metadata": {},
   "outputs": [
    {
     "name": "stdout",
     "output_type": "stream",
     "text": [
      "Position expressions (x1,y1,x2,y2 respectively):\n"
     ]
    },
    {
     "data": {
      "text/latex": [
       "$\\displaystyle R_{1} \\sin{\\left(\\operatorname{θ_{1}}{\\left(t \\right)} \\right)}$"
      ],
      "text/plain": [
       "R1*sin(θ_1(t))"
      ]
     },
     "metadata": {},
     "output_type": "display_data"
    },
    {
     "data": {
      "text/latex": [
       "$\\displaystyle - R_{1} \\cos{\\left(\\operatorname{θ_{1}}{\\left(t \\right)} \\right)}$"
      ],
      "text/plain": [
       "-R1*cos(θ_1(t))"
      ]
     },
     "metadata": {},
     "output_type": "display_data"
    },
    {
     "data": {
      "text/latex": [
       "$\\displaystyle R_{1} \\sin{\\left(\\operatorname{θ_{1}}{\\left(t \\right)} \\right)} + R_{2} \\sin{\\left(\\operatorname{θ_{1}}{\\left(t \\right)} + \\operatorname{θ_{2}}{\\left(t \\right)} \\right)}$"
      ],
      "text/plain": [
       "R1*sin(θ_1(t)) + R2*sin(θ_1(t) + θ_2(t))"
      ]
     },
     "metadata": {},
     "output_type": "display_data"
    },
    {
     "data": {
      "text/latex": [
       "$\\displaystyle - R_{1} \\cos{\\left(\\operatorname{θ_{1}}{\\left(t \\right)} \\right)} - R_{2} \\cos{\\left(\\operatorname{θ_{1}}{\\left(t \\right)} + \\operatorname{θ_{2}}{\\left(t \\right)} \\right)}$"
      ],
      "text/plain": [
       "-R1*cos(θ_1(t)) - R2*cos(θ_1(t) + θ_2(t))"
      ]
     },
     "metadata": {},
     "output_type": "display_data"
    }
   ],
   "source": [
    "#expressions for positions of the two masses\n",
    "x1 = R1*sym.sin(th1)\n",
    "y1 = -R1*sym.cos(th1)\n",
    "x2 = x1 + R2*sym.sin(th1+th2)\n",
    "y2 = y1 - R2*sym.cos(th1+th2)\n",
    "\n",
    "print(\"Position expressions (x1,y1,x2,y2 respectively):\")\n",
    "display(x1,y1,x2,y2)"
   ]
  },
  {
   "cell_type": "code",
   "execution_count": 22,
   "metadata": {},
   "outputs": [],
   "source": [
    "#Velocity expressions\n",
    "x1dot = x1.diff(t)\n",
    "x2dot = x2.diff(t)\n",
    "y1dot = y1.diff(t)\n",
    "y2dot = y2.diff(t)"
   ]
  },
  {
   "cell_type": "code",
   "execution_count": 23,
   "metadata": {},
   "outputs": [
    {
     "name": "stdout",
     "output_type": "stream",
     "text": [
      "Kinetic Energy:\n"
     ]
    },
    {
     "data": {
      "text/latex": [
       "$\\displaystyle 0.5 m_{1} \\left(R_{1}^{2} \\sin^{2}{\\left(\\operatorname{θ_{1}}{\\left(t \\right)} \\right)} \\left(\\frac{d}{d t} \\operatorname{θ_{1}}{\\left(t \\right)}\\right)^{2} + R_{1}^{2} \\cos^{2}{\\left(\\operatorname{θ_{1}}{\\left(t \\right)} \\right)} \\left(\\frac{d}{d t} \\operatorname{θ_{1}}{\\left(t \\right)}\\right)^{2}\\right) + 0.5 m_{2} \\left(\\left(R_{1} \\sin{\\left(\\operatorname{θ_{1}}{\\left(t \\right)} \\right)} \\frac{d}{d t} \\operatorname{θ_{1}}{\\left(t \\right)} + R_{2} \\left(\\frac{d}{d t} \\operatorname{θ_{1}}{\\left(t \\right)} + \\frac{d}{d t} \\operatorname{θ_{2}}{\\left(t \\right)}\\right) \\sin{\\left(\\operatorname{θ_{1}}{\\left(t \\right)} + \\operatorname{θ_{2}}{\\left(t \\right)} \\right)}\\right)^{2} + \\left(R_{1} \\cos{\\left(\\operatorname{θ_{1}}{\\left(t \\right)} \\right)} \\frac{d}{d t} \\operatorname{θ_{1}}{\\left(t \\right)} + R_{2} \\left(\\frac{d}{d t} \\operatorname{θ_{1}}{\\left(t \\right)} + \\frac{d}{d t} \\operatorname{θ_{2}}{\\left(t \\right)}\\right) \\cos{\\left(\\operatorname{θ_{1}}{\\left(t \\right)} + \\operatorname{θ_{2}}{\\left(t \\right)} \\right)}\\right)^{2}\\right)$"
      ],
      "text/plain": [
       "0.5*m_{1}*(R1**2*sin(θ_1(t))**2*Derivative(θ_1(t), t)**2 + R1**2*cos(θ_1(t))**2*Derivative(θ_1(t), t)**2) + 0.5*m_{2}*((R1*sin(θ_1(t))*Derivative(θ_1(t), t) + R2*(Derivative(θ_1(t), t) + Derivative(θ_2(t), t))*sin(θ_1(t) + θ_2(t)))**2 + (R1*cos(θ_1(t))*Derivative(θ_1(t), t) + R2*(Derivative(θ_1(t), t) + Derivative(θ_2(t), t))*cos(θ_1(t) + θ_2(t)))**2)"
      ]
     },
     "metadata": {},
     "output_type": "display_data"
    },
    {
     "name": "stdout",
     "output_type": "stream",
     "text": [
      "Potential Energy:\n"
     ]
    },
    {
     "data": {
      "text/latex": [
       "$\\displaystyle g m_{1} \\left(- R_{1} \\cos{\\left(\\operatorname{θ_{1}}{\\left(t \\right)} \\right)} + R_{1}\\right) + g m_{2} \\left(- R_{1} \\cos{\\left(\\operatorname{θ_{1}}{\\left(t \\right)} \\right)} + R_{1} - R_{2} \\cos{\\left(\\operatorname{θ_{1}}{\\left(t \\right)} + \\operatorname{θ_{2}}{\\left(t \\right)} \\right)} + R_{2}\\right)$"
      ],
      "text/plain": [
       "g*m_{1}*(-R1*cos(θ_1(t)) + R1) + g*m_{2}*(-R1*cos(θ_1(t)) + R1 - R2*cos(θ_1(t) + θ_2(t)) + R2)"
      ]
     },
     "metadata": {},
     "output_type": "display_data"
    }
   ],
   "source": [
    "#KE and V expressions...\n",
    "KE = (1/2)*m1*((x1dot)**2+(y1dot)**2) + (1/2)*m2*((x2dot)**2+(y2dot)**2)\n",
    "V  = m1*g*(y1+R1) + m2*g*(y2+R1+R2) #At theta = 0, my values for y1 and y2 are negative. \n",
    "                                    #Positive y points away from the fulcrum of the pendulum\n",
    "#Display\n",
    "print('Kinetic Energy:')\n",
    "display(KE)\n",
    "print('Potential Energy:')\n",
    "display(V)"
   ]
  },
  {
   "cell_type": "code",
   "execution_count": 24,
   "metadata": {},
   "outputs": [
    {
     "name": "stdout",
     "output_type": "stream",
     "text": [
      "The Lagrangian:\n"
     ]
    },
    {
     "data": {
      "text/latex": [
       "$\\displaystyle 0.5 R_{1}^{2} m_{1} \\left(\\frac{d}{d t} \\operatorname{θ_{1}}{\\left(t \\right)}\\right)^{2} + R_{1} g m_{1} \\left(\\cos{\\left(\\operatorname{θ_{1}}{\\left(t \\right)} \\right)} - 1\\right) + g m_{2} \\left(R_{1} \\cos{\\left(\\operatorname{θ_{1}}{\\left(t \\right)} \\right)} - R_{1} + R_{2} \\cos{\\left(\\operatorname{θ_{1}}{\\left(t \\right)} + \\operatorname{θ_{2}}{\\left(t \\right)} \\right)} - R_{2}\\right) + 0.5 m_{2} \\left(R_{1}^{2} \\left(\\frac{d}{d t} \\operatorname{θ_{1}}{\\left(t \\right)}\\right)^{2} + 2 R_{1} R_{2} \\cos{\\left(\\operatorname{θ_{2}}{\\left(t \\right)} \\right)} \\left(\\frac{d}{d t} \\operatorname{θ_{1}}{\\left(t \\right)}\\right)^{2} + 2 R_{1} R_{2} \\cos{\\left(\\operatorname{θ_{2}}{\\left(t \\right)} \\right)} \\frac{d}{d t} \\operatorname{θ_{1}}{\\left(t \\right)} \\frac{d}{d t} \\operatorname{θ_{2}}{\\left(t \\right)} + R_{2}^{2} \\left(\\frac{d}{d t} \\operatorname{θ_{1}}{\\left(t \\right)}\\right)^{2} + 2 R_{2}^{2} \\frac{d}{d t} \\operatorname{θ_{1}}{\\left(t \\right)} \\frac{d}{d t} \\operatorname{θ_{2}}{\\left(t \\right)} + R_{2}^{2} \\left(\\frac{d}{d t} \\operatorname{θ_{2}}{\\left(t \\right)}\\right)^{2}\\right)$"
      ],
      "text/plain": [
       "0.5*R1**2*m_{1}*Derivative(θ_1(t), t)**2 + R1*g*m_{1}*(cos(θ_1(t)) - 1) + g*m_{2}*(R1*cos(θ_1(t)) - R1 + R2*cos(θ_1(t) + θ_2(t)) - R2) + 0.5*m_{2}*(R1**2*Derivative(θ_1(t), t)**2 + 2*R1*R2*cos(θ_2(t))*Derivative(θ_1(t), t)**2 + 2*R1*R2*cos(θ_2(t))*Derivative(θ_1(t), t)*Derivative(θ_2(t), t) + R2**2*Derivative(θ_1(t), t)**2 + 2*R2**2*Derivative(θ_1(t), t)*Derivative(θ_2(t), t) + R2**2*Derivative(θ_2(t), t)**2)"
      ]
     },
     "metadata": {},
     "output_type": "display_data"
    }
   ],
   "source": [
    "#The Lagrangian, L\n",
    "L = KE - V\n",
    "\n",
    "print('The Lagrangian:')\n",
    "display(sym.simplify(L))"
   ]
  },
  {
   "cell_type": "markdown",
   "metadata": {},
   "source": [
    "using the Lagrangian to define the hamiltonian..."
   ]
  },
  {
   "cell_type": "code",
   "execution_count": 25,
   "metadata": {},
   "outputs": [
    {
     "name": "stdout",
     "output_type": "stream",
     "text": [
      "Generalized momentum, p\n"
     ]
    },
    {
     "data": {
      "text/latex": [
       "$\\displaystyle \\left[\\begin{matrix}R_{1}^{2} m_{1} \\frac{d}{d t} \\operatorname{θ_{1}}{\\left(t \\right)} + m_{2} \\left(R_{1}^{2} \\frac{d}{d t} \\operatorname{θ_{1}}{\\left(t \\right)} + 2 R_{1} R_{2} \\cos{\\left(\\operatorname{θ_{2}}{\\left(t \\right)} \\right)} \\frac{d}{d t} \\operatorname{θ_{1}}{\\left(t \\right)} + R_{1} R_{2} \\cos{\\left(\\operatorname{θ_{2}}{\\left(t \\right)} \\right)} \\frac{d}{d t} \\operatorname{θ_{2}}{\\left(t \\right)} + R_{2}^{2} \\frac{d}{d t} \\operatorname{θ_{1}}{\\left(t \\right)} + R_{2}^{2} \\frac{d}{d t} \\operatorname{θ_{2}}{\\left(t \\right)}\\right)\\\\1.0 R_{2} m_{2} \\left(R_{1} \\cos{\\left(\\operatorname{θ_{2}}{\\left(t \\right)} \\right)} \\frac{d}{d t} \\operatorname{θ_{1}}{\\left(t \\right)} + R_{2} \\frac{d}{d t} \\operatorname{θ_{1}}{\\left(t \\right)} + R_{2} \\frac{d}{d t} \\operatorname{θ_{2}}{\\left(t \\right)}\\right)\\end{matrix}\\right]$"
      ],
      "text/plain": [
       "Matrix([\n",
       "[R1**2*m_{1}*Derivative(θ_1(t), t) + m_{2}*(R1**2*Derivative(θ_1(t), t) + 2*R1*R2*cos(θ_2(t))*Derivative(θ_1(t), t) + R1*R2*cos(θ_2(t))*Derivative(θ_2(t), t) + R2**2*Derivative(θ_1(t), t) + R2**2*Derivative(θ_2(t), t))],\n",
       "[                                                                                                                1.0*R2*m_{2}*(R1*cos(θ_2(t))*Derivative(θ_1(t), t) + R2*Derivative(θ_1(t), t) + R2*Derivative(θ_2(t), t))]])"
      ]
     },
     "metadata": {},
     "output_type": "display_data"
    }
   ],
   "source": [
    "#define configuration vector q, and qdot = dq/dt\n",
    "q = Matrix([th1, th2])\n",
    "qdot = q.diff(t)\n",
    "\n",
    "#taking the dervative of L with respect to q via Jacobian...\n",
    "L_mat = Matrix([L])\n",
    "p = L_mat.jacobian(qdot) #p = dL/dq\n",
    "\n",
    "#display\n",
    "print('Generalized momentum, p')\n",
    "display(simplify(p.T)) "
   ]
  },
  {
   "cell_type": "code",
   "execution_count": 26,
   "metadata": {},
   "outputs": [
    {
     "name": "stdout",
     "output_type": "stream",
     "text": [
      "The Hamiltonian:\n"
     ]
    },
    {
     "data": {
      "text/latex": [
       "$\\displaystyle 0.5 R_{1}^{2} m_{1} \\left(\\frac{d}{d t} \\operatorname{θ_{1}}{\\left(t \\right)}\\right)^{2} + 0.5 R_{1}^{2} m_{2} \\left(\\frac{d}{d t} \\operatorname{θ_{1}}{\\left(t \\right)}\\right)^{2} + 1.0 R_{1} R_{2} m_{2} \\cos{\\left(\\operatorname{θ_{2}}{\\left(t \\right)} \\right)} \\left(\\frac{d}{d t} \\operatorname{θ_{1}}{\\left(t \\right)}\\right)^{2} + 1.0 R_{1} R_{2} m_{2} \\cos{\\left(\\operatorname{θ_{2}}{\\left(t \\right)} \\right)} \\frac{d}{d t} \\operatorname{θ_{1}}{\\left(t \\right)} \\frac{d}{d t} \\operatorname{θ_{2}}{\\left(t \\right)} - 1.0 R_{1} g m_{1} \\cos{\\left(\\operatorname{θ_{1}}{\\left(t \\right)} \\right)} + 1.0 R_{1} g m_{1} - 1.0 R_{1} g m_{2} \\cos{\\left(\\operatorname{θ_{1}}{\\left(t \\right)} \\right)} + 1.0 R_{1} g m_{2} + 0.5 R_{2}^{2} m_{2} \\left(\\frac{d}{d t} \\operatorname{θ_{1}}{\\left(t \\right)}\\right)^{2} + 1.0 R_{2}^{2} m_{2} \\frac{d}{d t} \\operatorname{θ_{1}}{\\left(t \\right)} \\frac{d}{d t} \\operatorname{θ_{2}}{\\left(t \\right)} + 0.5 R_{2}^{2} m_{2} \\left(\\frac{d}{d t} \\operatorname{θ_{2}}{\\left(t \\right)}\\right)^{2} - 1.0 R_{2} g m_{2} \\cos{\\left(\\operatorname{θ_{1}}{\\left(t \\right)} + \\operatorname{θ_{2}}{\\left(t \\right)} \\right)} + 1.0 R_{2} g m_{2}$"
      ],
      "text/plain": [
       "0.5*R1**2*m_{1}*Derivative(θ_1(t), t)**2 + 0.5*R1**2*m_{2}*Derivative(θ_1(t), t)**2 + 1.0*R1*R2*m_{2}*cos(θ_2(t))*Derivative(θ_1(t), t)**2 + 1.0*R1*R2*m_{2}*cos(θ_2(t))*Derivative(θ_1(t), t)*Derivative(θ_2(t), t) - 1.0*R1*g*m_{1}*cos(θ_1(t)) + 1.0*R1*g*m_{1} - 1.0*R1*g*m_{2}*cos(θ_1(t)) + 1.0*R1*g*m_{2} + 0.5*R2**2*m_{2}*Derivative(θ_1(t), t)**2 + 1.0*R2**2*m_{2}*Derivative(θ_1(t), t)*Derivative(θ_2(t), t) + 0.5*R2**2*m_{2}*Derivative(θ_2(t), t)**2 - 1.0*R2*g*m_{2}*cos(θ_1(t) + θ_2(t)) + 1.0*R2*g*m_{2}"
      ]
     },
     "metadata": {},
     "output_type": "display_data"
    }
   ],
   "source": [
    "H = (p*qdot)[0] - L\n",
    "\n",
    "print('The Hamiltonian:')\n",
    "display(sym.simplify(H))"
   ]
  },
  {
   "cell_type": "markdown",
   "metadata": {
    "id": "QE4_6zCVJfEE"
   },
   "source": [
    "## Problem 5 (10pts)\n",
    "\n",
    "Simulate the double-pendulum system in Problem 4 with initial condition $\\theta_1=\\theta_2=-\\frac{\\pi}{2}, \\dot{\\theta}_1=\\dot{\\theta}_2=0$ for $t\\in[0,10]$ and $dt=0.01$. Numerically evaluate the Hamiltonian of this system from the simulated trajectory, and plot it.\n",
    "\n",
    "*Hint 1: The Hamiltonian can be numerically evaluated as a function of $\\theta_1, \\theta_2, \\dot{\\theta}_1, \\dot{\\theta}_2$, which means for each time step in the simulated trajectory, you can compute the Hamiltonian for this time step, and store it in a list or array for plotting later. This doesn't need to be done during the numerical simulation, after you have the simulated the trajectory you can access each time step within another loop.*\n",
    "\n",
    "**Turn in: A copy of the code used to numerically evaluate and plot the Hamiltonian, also include the output of the code, which should be the plot of Hamiltonian.**"
   ]
  },
  {
   "cell_type": "markdown",
   "metadata": {},
   "source": [
    "first I need to solve for the equations of motion..."
   ]
  },
  {
   "cell_type": "code",
   "execution_count": 27,
   "metadata": {
    "id": "hs_I0_pbJfEF"
   },
   "outputs": [],
   "source": [
    "#putting together the Euler-Lagrange equations...\n",
    "dLdqdot = L_mat.jacobian(qdot)\n",
    "EL_vec = p - dLdqdot.diff(t) #E/L eqns statement\n",
    "\n",
    "#wrapping my lhs and rhs as matrices \n",
    "lhs = Matrix([EL_vec[0], EL_vec[1]])\n",
    "rhs = Matrix([0, 0])\n",
    "\n",
    "# define the equations\n",
    "eqn = Eq(lhs, rhs)\n",
    "\n",
    "#defining dθ1, dθ2 and ddθ1, ddθ2...\n",
    "th1dot = th1.diff(t)\n",
    "th2dot = th2.diff(t)\n",
    "th1ddot = th1dot.diff(t)\n",
    "th2ddot = th2dot.diff(t)"
   ]
  },
  {
   "cell_type": "code",
   "execution_count": 28,
   "metadata": {},
   "outputs": [
    {
     "name": "stdout",
     "output_type": "stream",
     "text": [
      "solution: \n"
     ]
    },
    {
     "data": {
      "text/latex": [
       "$\\displaystyle \\frac{d^{2}}{d t^{2}} \\operatorname{θ_{1}}{\\left(t \\right)} = \\frac{R_{1} m_{1} \\frac{d}{d t} \\operatorname{θ_{1}}{\\left(t \\right)} - \\frac{R_{1} m_{2} \\sin{\\left(2 \\operatorname{θ_{2}}{\\left(t \\right)} \\right)} \\frac{d}{d t} \\operatorname{θ_{1}}{\\left(t \\right)} \\frac{d}{d t} \\operatorname{θ_{2}}{\\left(t \\right)}}{2} - \\frac{R_{1} m_{2} \\cos{\\left(2 \\operatorname{θ_{2}}{\\left(t \\right)} \\right)} \\frac{d}{d t} \\operatorname{θ_{1}}{\\left(t \\right)}}{2} + \\frac{R_{1} m_{2} \\frac{d}{d t} \\operatorname{θ_{1}}{\\left(t \\right)}}{2} + R_{2} m_{2} \\sin{\\left(\\operatorname{θ_{2}}{\\left(t \\right)} \\right)} \\frac{d}{d t} \\operatorname{θ_{1}}{\\left(t \\right)} \\frac{d}{d t} \\operatorname{θ_{2}}{\\left(t \\right)} + R_{2} m_{2} \\sin{\\left(\\operatorname{θ_{2}}{\\left(t \\right)} \\right)} \\left(\\frac{d}{d t} \\operatorname{θ_{2}}{\\left(t \\right)}\\right)^{2}}{R_{1} \\left(m_{1} + m_{2} \\sin^{2}{\\left(\\operatorname{θ_{2}}{\\left(t \\right)} \\right)}\\right)}$"
      ],
      "text/plain": [
       "Eq(Derivative(θ_1(t), (t, 2)), (R1*m_{1}*Derivative(θ_1(t), t) - R1*m_{2}*sin(2*θ_2(t))*Derivative(θ_1(t), t)*Derivative(θ_2(t), t)/2 - R1*m_{2}*cos(2*θ_2(t))*Derivative(θ_1(t), t)/2 + R1*m_{2}*Derivative(θ_1(t), t)/2 + R2*m_{2}*sin(θ_2(t))*Derivative(θ_1(t), t)*Derivative(θ_2(t), t) + R2*m_{2}*sin(θ_2(t))*Derivative(θ_2(t), t)**2)/(R1*(m_{1} + m_{2}*sin(θ_2(t))**2)))"
      ]
     },
     "metadata": {},
     "output_type": "display_data"
    },
    {
     "data": {
      "text/latex": [
       "$\\displaystyle \\frac{d^{2}}{d t^{2}} \\operatorname{θ_{2}}{\\left(t \\right)} = \\frac{\\left(R_{1}^{2} m_{1} \\sin{\\left(\\operatorname{θ_{2}}{\\left(t \\right)} \\right)} \\frac{d}{d t} \\operatorname{θ_{1}}{\\left(t \\right)} + R_{1}^{2} m_{2} \\sin{\\left(\\operatorname{θ_{2}}{\\left(t \\right)} \\right)} \\frac{d}{d t} \\operatorname{θ_{1}}{\\left(t \\right)} + R_{1} R_{2} m_{1} - 0.5 R_{1} R_{2} m_{2} \\sin{\\left(2.0 \\operatorname{θ_{2}}{\\left(t \\right)} \\right)} \\frac{d}{d t} \\operatorname{θ_{2}}{\\left(t \\right)} - 0.5 R_{1} R_{2} m_{2} \\cos{\\left(2.0 \\operatorname{θ_{2}}{\\left(t \\right)} \\right)} + 0.5 R_{1} R_{2} m_{2} - R_{2}^{2} m_{2} \\sin{\\left(\\operatorname{θ_{2}}{\\left(t \\right)} \\right)} \\frac{d}{d t} \\operatorname{θ_{1}}{\\left(t \\right)} - R_{2}^{2} m_{2} \\sin{\\left(\\operatorname{θ_{2}}{\\left(t \\right)} \\right)} \\frac{d}{d t} \\operatorname{θ_{2}}{\\left(t \\right)}\\right) \\frac{d}{d t} \\operatorname{θ_{2}}{\\left(t \\right)}}{R_{1} R_{2} \\left(m_{1} + m_{2} \\sin^{2}{\\left(\\operatorname{θ_{2}}{\\left(t \\right)} \\right)}\\right)}$"
      ],
      "text/plain": [
       "Eq(Derivative(θ_2(t), (t, 2)), (R1**2*m_{1}*sin(θ_2(t))*Derivative(θ_1(t), t) + R1**2*m_{2}*sin(θ_2(t))*Derivative(θ_1(t), t) + R1*R2*m_{1} - 0.5*R1*R2*m_{2}*sin(2.0*θ_2(t))*Derivative(θ_2(t), t) - 0.5*R1*R2*m_{2}*cos(2.0*θ_2(t)) + 0.5*R1*R2*m_{2} - R2**2*m_{2}*sin(θ_2(t))*Derivative(θ_1(t), t) - R2**2*m_{2}*sin(θ_2(t))*Derivative(θ_2(t), t))*Derivative(θ_2(t), t)/(R1*R2*(m_{1} + m_{2}*sin(θ_2(t))**2)))"
      ]
     },
     "metadata": {},
     "output_type": "display_data"
    }
   ],
   "source": [
    "#solving for ddθ1 and ddθ2...\n",
    "q = Matrix([th1ddot, th2ddot])\n",
    "soln = sym.solve(eqn, q, dict=True) # this will return the solution \n",
    "                                     # as a Python dictionary\n",
    "ELsolve = []\n",
    "\n",
    "for sol in soln:\n",
    "    print('solution: ')\n",
    "    for v in q:\n",
    "        bloop = sym.Eq(v, sol[v])\n",
    "        ELsolve.append(sol[v])\n",
    "        #ELsolve.append(bloop)\n",
    "        #display(bloop) #use for faster display\n",
    "        display(sym.simplify(bloop))"
   ]
  },
  {
   "cell_type": "markdown",
   "metadata": {},
   "source": [
    "Substitutions and lamdifying..."
   ]
  },
  {
   "cell_type": "code",
   "execution_count": 29,
   "metadata": {},
   "outputs": [
    {
     "name": "stdout",
     "output_type": "stream",
     "text": [
      "substituted expressions...\n"
     ]
    },
    {
     "data": {
      "text/latex": [
       "$\\displaystyle \\frac{d^{2}}{d t^{2}} \\operatorname{θ_{1}}{\\left(t \\right)} = \\frac{\\sin{\\left(\\operatorname{θ_{1}}{\\left(t \\right)} - \\operatorname{θ_{2}}{\\left(t \\right)} \\right)} \\cos{\\left(\\operatorname{θ_{1}}{\\left(t \\right)} + \\operatorname{θ_{2}}{\\left(t \\right)} \\right)} \\frac{d}{d t} \\operatorname{θ_{1}}{\\left(t \\right)} \\frac{d}{d t} \\operatorname{θ_{2}}{\\left(t \\right)} - \\sin{\\left(\\operatorname{θ_{1}}{\\left(t \\right)} \\right)} \\cos{\\left(\\operatorname{θ_{1}}{\\left(t \\right)} \\right)} \\frac{d}{d t} \\operatorname{θ_{1}}{\\left(t \\right)} \\frac{d}{d t} \\operatorname{θ_{2}}{\\left(t \\right)} + \\sin^{2}{\\left(\\operatorname{θ_{2}}{\\left(t \\right)} \\right)} \\frac{d}{d t} \\operatorname{θ_{1}}{\\left(t \\right)} + \\sin{\\left(\\operatorname{θ_{2}}{\\left(t \\right)} \\right)} \\frac{d}{d t} \\operatorname{θ_{1}}{\\left(t \\right)} \\frac{d}{d t} \\operatorname{θ_{2}}{\\left(t \\right)} + \\sin{\\left(\\operatorname{θ_{2}}{\\left(t \\right)} \\right)} \\left(\\frac{d}{d t} \\operatorname{θ_{2}}{\\left(t \\right)}\\right)^{2} + \\frac{d}{d t} \\operatorname{θ_{1}}{\\left(t \\right)}}{\\sin^{2}{\\left(\\operatorname{θ_{2}}{\\left(t \\right)} \\right)} + 1}$"
      ],
      "text/plain": [
       "Eq(Derivative(θ_1(t), (t, 2)), (sin(θ_1(t) - θ_2(t))*cos(θ_1(t) + θ_2(t))*Derivative(θ_1(t), t)*Derivative(θ_2(t), t) - sin(θ_1(t))*cos(θ_1(t))*Derivative(θ_1(t), t)*Derivative(θ_2(t), t) + sin(θ_2(t))**2*Derivative(θ_1(t), t) + sin(θ_2(t))*Derivative(θ_1(t), t)*Derivative(θ_2(t), t) + sin(θ_2(t))*Derivative(θ_2(t), t)**2 + Derivative(θ_1(t), t))/(sin(θ_2(t))**2 + 1))"
      ]
     },
     "metadata": {},
     "output_type": "display_data"
    },
    {
     "data": {
      "text/latex": [
       "$\\displaystyle \\frac{d^{2}}{d t^{2}} \\operatorname{θ_{2}}{\\left(t \\right)} = \\frac{\\left(\\sin{\\left(\\operatorname{θ_{2}}{\\left(t \\right)} \\right)} \\frac{d}{d t} \\operatorname{θ_{1}}{\\left(t \\right)} - \\sin{\\left(\\operatorname{θ_{2}}{\\left(t \\right)} \\right)} \\frac{d}{d t} \\operatorname{θ_{2}}{\\left(t \\right)} - 0.5 \\sin{\\left(2.0 \\operatorname{θ_{2}}{\\left(t \\right)} \\right)} \\frac{d}{d t} \\operatorname{θ_{2}}{\\left(t \\right)} - 0.5 \\cos{\\left(2.0 \\operatorname{θ_{2}}{\\left(t \\right)} \\right)} + 1.5\\right) \\frac{d}{d t} \\operatorname{θ_{2}}{\\left(t \\right)}}{\\sin^{2}{\\left(\\operatorname{θ_{2}}{\\left(t \\right)} \\right)} + 1}$"
      ],
      "text/plain": [
       "Eq(Derivative(θ_2(t), (t, 2)), (sin(θ_2(t))*Derivative(θ_1(t), t) - sin(θ_2(t))*Derivative(θ_2(t), t) - 0.5*sin(2.0*θ_2(t))*Derivative(θ_2(t), t) - 0.5*cos(2.0*θ_2(t)) + 1.5)*Derivative(θ_2(t), t)/(sin(θ_2(t))**2 + 1))"
      ]
     },
     "metadata": {},
     "output_type": "display_data"
    },
    {
     "data": {
      "text/latex": [
       "$\\displaystyle H = 0.5 \\left(2 \\left(\\left(\\frac{d}{d t} \\operatorname{θ_{1}}{\\left(t \\right)} + \\frac{d}{d t} \\operatorname{θ_{2}}{\\left(t \\right)}\\right) \\sin{\\left(\\operatorname{θ_{1}}{\\left(t \\right)} + \\operatorname{θ_{2}}{\\left(t \\right)} \\right)} + \\sin{\\left(\\operatorname{θ_{1}}{\\left(t \\right)} \\right)} \\frac{d}{d t} \\operatorname{θ_{1}}{\\left(t \\right)}\\right) \\sin{\\left(\\operatorname{θ_{1}}{\\left(t \\right)} + \\operatorname{θ_{2}}{\\left(t \\right)} \\right)} + 2 \\left(\\left(\\frac{d}{d t} \\operatorname{θ_{1}}{\\left(t \\right)} + \\frac{d}{d t} \\operatorname{θ_{2}}{\\left(t \\right)}\\right) \\cos{\\left(\\operatorname{θ_{1}}{\\left(t \\right)} + \\operatorname{θ_{2}}{\\left(t \\right)} \\right)} + \\cos{\\left(\\operatorname{θ_{1}}{\\left(t \\right)} \\right)} \\frac{d}{d t} \\operatorname{θ_{1}}{\\left(t \\right)}\\right) \\cos{\\left(\\operatorname{θ_{1}}{\\left(t \\right)} + \\operatorname{θ_{2}}{\\left(t \\right)} \\right)}\\right) \\frac{d}{d t} \\operatorname{θ_{2}}{\\left(t \\right)} - 0.5 \\left(\\left(\\frac{d}{d t} \\operatorname{θ_{1}}{\\left(t \\right)} + \\frac{d}{d t} \\operatorname{θ_{2}}{\\left(t \\right)}\\right) \\sin{\\left(\\operatorname{θ_{1}}{\\left(t \\right)} + \\operatorname{θ_{2}}{\\left(t \\right)} \\right)} + \\sin{\\left(\\operatorname{θ_{1}}{\\left(t \\right)} \\right)} \\frac{d}{d t} \\operatorname{θ_{1}}{\\left(t \\right)}\\right)^{2} - 0.5 \\left(\\left(\\frac{d}{d t} \\operatorname{θ_{1}}{\\left(t \\right)} + \\frac{d}{d t} \\operatorname{θ_{2}}{\\left(t \\right)}\\right) \\cos{\\left(\\operatorname{θ_{1}}{\\left(t \\right)} + \\operatorname{θ_{2}}{\\left(t \\right)} \\right)} + \\cos{\\left(\\operatorname{θ_{1}}{\\left(t \\right)} \\right)} \\frac{d}{d t} \\operatorname{θ_{1}}{\\left(t \\right)}\\right)^{2} + \\left(0.5 \\left(\\left(\\frac{d}{d t} \\operatorname{θ_{1}}{\\left(t \\right)} + \\frac{d}{d t} \\operatorname{θ_{2}}{\\left(t \\right)}\\right) \\sin{\\left(\\operatorname{θ_{1}}{\\left(t \\right)} + \\operatorname{θ_{2}}{\\left(t \\right)} \\right)} + \\sin{\\left(\\operatorname{θ_{1}}{\\left(t \\right)} \\right)} \\frac{d}{d t} \\operatorname{θ_{1}}{\\left(t \\right)}\\right) \\left(2 \\sin{\\left(\\operatorname{θ_{1}}{\\left(t \\right)} + \\operatorname{θ_{2}}{\\left(t \\right)} \\right)} + 2 \\sin{\\left(\\operatorname{θ_{1}}{\\left(t \\right)} \\right)}\\right) + 0.5 \\left(\\left(\\frac{d}{d t} \\operatorname{θ_{1}}{\\left(t \\right)} + \\frac{d}{d t} \\operatorname{θ_{2}}{\\left(t \\right)}\\right) \\cos{\\left(\\operatorname{θ_{1}}{\\left(t \\right)} + \\operatorname{θ_{2}}{\\left(t \\right)} \\right)} + \\cos{\\left(\\operatorname{θ_{1}}{\\left(t \\right)} \\right)} \\frac{d}{d t} \\operatorname{θ_{1}}{\\left(t \\right)}\\right) \\left(2 \\cos{\\left(\\operatorname{θ_{1}}{\\left(t \\right)} + \\operatorname{θ_{2}}{\\left(t \\right)} \\right)} + 2 \\cos{\\left(\\operatorname{θ_{1}}{\\left(t \\right)} \\right)}\\right) + 1.0 \\sin^{2}{\\left(\\operatorname{θ_{1}}{\\left(t \\right)} \\right)} \\frac{d}{d t} \\operatorname{θ_{1}}{\\left(t \\right)} + 1.0 \\cos^{2}{\\left(\\operatorname{θ_{1}}{\\left(t \\right)} \\right)} \\frac{d}{d t} \\operatorname{θ_{1}}{\\left(t \\right)}\\right) \\frac{d}{d t} \\operatorname{θ_{1}}{\\left(t \\right)} - 0.5 \\sin^{2}{\\left(\\operatorname{θ_{1}}{\\left(t \\right)} \\right)} \\left(\\frac{d}{d t} \\operatorname{θ_{1}}{\\left(t \\right)}\\right)^{2} - 9.8 \\cos{\\left(\\operatorname{θ_{1}}{\\left(t \\right)} + \\operatorname{θ_{2}}{\\left(t \\right)} \\right)} - 0.5 \\cos^{2}{\\left(\\operatorname{θ_{1}}{\\left(t \\right)} \\right)} \\left(\\frac{d}{d t} \\operatorname{θ_{1}}{\\left(t \\right)}\\right)^{2} - 19.6 \\cos{\\left(\\operatorname{θ_{1}}{\\left(t \\right)} \\right)} + 29.4$"
      ],
      "text/plain": [
       "Eq(H, 0.5*(2*((Derivative(θ_1(t), t) + Derivative(θ_2(t), t))*sin(θ_1(t) + θ_2(t)) + sin(θ_1(t))*Derivative(θ_1(t), t))*sin(θ_1(t) + θ_2(t)) + 2*((Derivative(θ_1(t), t) + Derivative(θ_2(t), t))*cos(θ_1(t) + θ_2(t)) + cos(θ_1(t))*Derivative(θ_1(t), t))*cos(θ_1(t) + θ_2(t)))*Derivative(θ_2(t), t) - 0.5*((Derivative(θ_1(t), t) + Derivative(θ_2(t), t))*sin(θ_1(t) + θ_2(t)) + sin(θ_1(t))*Derivative(θ_1(t), t))**2 - 0.5*((Derivative(θ_1(t), t) + Derivative(θ_2(t), t))*cos(θ_1(t) + θ_2(t)) + cos(θ_1(t))*Derivative(θ_1(t), t))**2 + (0.5*((Derivative(θ_1(t), t) + Derivative(θ_2(t), t))*sin(θ_1(t) + θ_2(t)) + sin(θ_1(t))*Derivative(θ_1(t), t))*(2*sin(θ_1(t) + θ_2(t)) + 2*sin(θ_1(t))) + 0.5*((Derivative(θ_1(t), t) + Derivative(θ_2(t), t))*cos(θ_1(t) + θ_2(t)) + cos(θ_1(t))*Derivative(θ_1(t), t))*(2*cos(θ_1(t) + θ_2(t)) + 2*cos(θ_1(t))) + 1.0*sin(θ_1(t))**2*Derivative(θ_1(t), t) + 1.0*cos(θ_1(t))**2*Derivative(θ_1(t), t))*Derivative(θ_1(t), t) - 0.5*sin(θ_1(t))**2*Derivative(θ_1(t), t)**2 - 9.8*cos(θ_1(t) + θ_2(t)) - 0.5*cos(θ_1(t))**2*Derivative(θ_1(t), t)**2 - 19.6*cos(θ_1(t)) + 29.4)"
      ]
     },
     "metadata": {},
     "output_type": "display_data"
    }
   ],
   "source": [
    "#plugging in constant values m1 = 1, m2 = 2, R1 = 2, R2 = 1\n",
    "th1ddot_sub = ELsolve[0].subs([(m1,1),(m2,1),(R1,1),(R2,1),(g,9.8)])\n",
    "th2ddot_sub = ELsolve[1].subs([(m1,1),(m2,1),(R1,1),(R2,1),(g,9.8)])\n",
    "H_sub = H.subs([(m1,1),(m2,1),(R1,1),(R2,1),(g,9.8)])\n",
    "\n",
    "#display: substituted epressions...\n",
    "print('substituted expressions...')\n",
    "display(Eq(th1ddot,th1ddot_sub),Eq(th2ddot,th2ddot_sub), Eq(sym.symbols('H'),H_sub))\n",
    "\n",
    "#function-izing the substituted equations with lambdify...\n",
    "th1ddot_func = sym.lambdify([[th1, th2, th1dot, th2dot]], th1ddot_sub)\n",
    "th2ddot_func = sym.lambdify([[th1, th2, th1dot, th2dot]], th2ddot_sub)\n",
    "H_func = sym.lambdify([[th1, th2, th1dot, th2dot]], H_sub)\n"
   ]
  },
  {
   "cell_type": "markdown",
   "metadata": {},
   "source": [
    "Numerical Simulation..."
   ]
  },
  {
   "cell_type": "code",
   "execution_count": 30,
   "metadata": {
    "id": "HCu1wbaOJfEH"
   },
   "outputs": [],
   "source": [
    "##########################################################################\n",
    "# Below is an example of how to implement a new integration\n",
    "# function and use it for simulation\n",
    "\n",
    "##########################################################################\n",
    "# This is the same \"simulate()\" function we provided\n",
    "# in previous homework. \n",
    "def simulate(f, x0, tspan, dt, integrate):\n",
    "    \"\"\"\n",
    "    This function takes in an initial condition x0, a timestep dt,\n",
    "    a time span tspan consisting of a list [min_time, max_time],\n",
    "    as well as a dynamical system f(x) that outputs a vector of the\n",
    "    same dimension as x0. It outputs a full trajectory simulated\n",
    "    over the time span of dimensions (xvec_size, time_vec_size).\n",
    "\n",
    "    Parameters\n",
    "    ============\n",
    "    f: Python function\n",
    "        derivate of the system at a given step x(t), \n",
    "        it can considered as \\dot{x}(t) = func(x(t))\n",
    "    x0: NumPy array\n",
    "        initial conditions\n",
    "    tspan: Python list\n",
    "        tspan = [min_time, max_time], it defines the start and end\n",
    "        time of simulation\n",
    "    dt:\n",
    "        time step for numerical integration\n",
    "    integrate: Python function\n",
    "        numerical integration method used in this simulation\n",
    "\n",
    "    Return\n",
    "    ============\n",
    "    x_traj:\n",
    "        simulated trajectory of x(t) from t=0 to tf\n",
    "    \"\"\"\n",
    "    N = int((max(tspan)-min(tspan))/dt)\n",
    "    x = np.copy(x0)\n",
    "    tvec = np.linspace(min(tspan),max(tspan),N)\n",
    "    xtraj = np.zeros((len(x0),N))\n",
    "    for i in range(N):\n",
    "        xtraj[:,i]=integrate(f,x,dt)\n",
    "        x = np.copy(xtraj[:,i])\n",
    "    return xtraj \n",
    "\n",
    "##########################################################################\n",
    "# This is the same \"integrate()\" function we provided in previous homework.\n",
    "def integrate(f, xt, dt):\n",
    "    \"\"\"\n",
    "    This function takes in an initial condition x(t) and a timestep dt,\n",
    "    as well as a dynamical system f(x) that outputs a vector of the\n",
    "    same dimension as x(t). It outputs a vector x(t+dt) at the future\n",
    "    time step.\n",
    "\n",
    "    Parameters\n",
    "    ============\n",
    "    dyn: Python function\n",
    "        derivate of the system at a given step x(t), \n",
    "        it can considered as \\dot{x}(t) = func(x(t))\n",
    "    xt: NumPy array\n",
    "        current step x(t)\n",
    "    dt: \n",
    "        step size for integration\n",
    "\n",
    "    Return\n",
    "    ============\n",
    "    new_xt: \n",
    "        value of x(t+dt) integrated from x(t)\n",
    "    \"\"\"\n",
    "    k1 = dt * f(xt)\n",
    "    k2 = dt * f(xt+k1/2.)\n",
    "    k3 = dt * f(xt+k2/2.)\n",
    "    k4 = dt * f(xt+k3)\n",
    "    new_xt = xt + (1/6.) * (k1+2.0*k2+2.0*k3+k4)\n",
    "    return new_xt\n",
    "\n",
    "##########################################################################\n",
    "# This is where you implement your new integration function for this \n",
    "# problem. Please make sure the new integration function has the same\n",
    "# input-output structure as the old one.\n",
    "def new_integrate(f, xt, dt):\n",
    "    \"\"\"\n",
    "    This function takes in an initial condition x(t) and a timestep dt,\n",
    "    as well as a dynamical system f(x) that outputs a vector of the\n",
    "    same dimension as x(t). It outputs a vector x(t+dt) at the future\n",
    "    time step.\n",
    "\n",
    "    Parameters\n",
    "    ============\n",
    "    dyn: Python function\n",
    "        derivate of the system at a given step x(t), \n",
    "        it can considered as \\dot{x}(t) = func(x(t))\n",
    "    xt: NumPy array\n",
    "        current step x(t)\n",
    "    dt: \n",
    "        step size for integration\n",
    "\n",
    "    Return\n",
    "    ============\n",
    "    new_xt: \n",
    "        value of x(t+dt) integrated from x(t)\n",
    "    \"\"\"\n",
    "    pass # you can start your implementation here\n",
    "\n",
    "##########################################################################\n",
    "# In this example, we're going to simulate a particle falling in gravity,\n",
    "# and assume that we already have the equations of motion (which you have\n",
    "# to use Euler-Lagrange equations to solve for in the homework, but you \n",
    "# should have that in last homework) \n",
    "import numpy as np\n",
    "\n",
    "def dyn(s):\n",
    "    return np.array([s[2],s[3], th1ddot_func([s[0],s[1],s[2],s[3]]),th2ddot_func([s[0],s[1],s[2],s[3]])])"
   ]
  },
  {
   "cell_type": "code",
   "execution_count": 31,
   "metadata": {},
   "outputs": [],
   "source": [
    "##########################################################################\n",
    "# We first use the old integration function to simulate the system, please\n",
    "# carefully read the comments inside the \"simulate()\" function\n",
    "\n",
    "# note that, here I pass the function arguments explicitly using the so-called \n",
    "# *keyword arguments*. It's not necessary, as long as the order of the arguments \n",
    "# are correct, you don't have to explicitly write down the keyword names. When \n",
    "# calling the function explicitly through keyword arguments, we have \"integrate=integrate\", \n",
    "# the first \"integrate\" indicates the argument name (you can see it in function definition), \n",
    "# and the second \"integrate\" is the name of the provided integration function. \n",
    "# You can also call the function as: \"traj = simulate(dyn, s0, [0,10], 0.01, integrate)\", \n",
    "# where \"integrate\" indicates the provided integration function name."
   ]
  },
  {
   "cell_type": "code",
   "execution_count": 32,
   "metadata": {},
   "outputs": [
    {
     "name": "stdout",
     "output_type": "stream",
     "text": [
      "shape of traj:  (4, 1000)\n"
     ]
    }
   ],
   "source": [
    "# define initial condition\n",
    "s0 = np.array([-np.pi/2,-np.pi/2,0,0])\n",
    "\n",
    "#simulate\n",
    "traj = simulate(f=dyn, x0=s0, tspan=[0,10], dt=0.01, integrate=integrate) \n",
    "print('shape of traj: ', traj.shape)"
   ]
  },
  {
   "cell_type": "markdown",
   "metadata": {},
   "source": [
    "Now I'll get the hamiltonian over time using the trajectory..."
   ]
  },
  {
   "cell_type": "code",
   "execution_count": 33,
   "metadata": {},
   "outputs": [],
   "source": [
    "#initializing\n",
    "Htraj = np.zeros((1,traj.shape[1]))\n",
    "\n",
    "#looping over the columns of traj...\n",
    "for col in range(traj.shape[1]):\n",
    "    Htraj[0][col] = H_func([traj[0][col],traj[1][col],traj[2][col],traj[3][col]])"
   ]
  },
  {
   "cell_type": "code",
   "execution_count": 34,
   "metadata": {},
   "outputs": [
    {
     "name": "stdout",
     "output_type": "stream",
     "text": [
      "Hamiltonian over time:\n"
     ]
    },
    {
     "data": {
      "image/png": "[encoded data removed]",
      "text/plain": [
       "<Figure size 432x288 with 1 Axes>"
      ]
     },
     "metadata": {
      "needs_background": "light"
     },
     "output_type": "display_data"
    }
   ],
   "source": [
    "#plotting...\n",
    "plt.plot(np.arange(1000)*0.1,Htraj[0:2].T)\n",
    "\n",
    "print('Hamiltonian over time:')\n",
    "plt.show()"
   ]
  },
  {
   "cell_type": "markdown",
   "metadata": {
    "id": "RTgDT02eJfEG"
   },
   "source": [
    "## Problem 6 (15pts)\n",
    "\n",
    "In the previously provided code for simulation, the numerical integration is a forth-order Runge–Kutta integration. Now, write down your own numerical integration function using Euler's method, and use your numerical integration function to simulate the same double-pendulum system with same parameters and initial condition in Problem 4. Compute and plot the Hamiltonian from the simulated trajectory, what's the difference between two plots?\n",
    "\n",
    "*Hint 1: You will need to implement a new {\\tt integrate()} function. This function takes in three inputs: a function $f(x)$ representing the dynamics of the system state $x$ (you can consider it as $\\dot{x}=f(x)$), current state $x$ (for example $x(t)$ if $t$ is the current time step), and integration step length $dt$. This function should output $x(t+dt)$, for which the analytical solution is $x(t+dt) = x(t) + \\int_t^{t+dt} f(x(\\tau)) d\\tau$. Thus, you need to think about how to numerically evaluate this integration using Euler's method.*\n",
    "\n",
    "*Hint 2: The implemented function should have the same input-output structure as the previous one.*\n",
    "\n",
    "*Hint 3: After you implement the new integration function, you can use the same helper function {\\tt simulate()} for simulation. You just need to input replace the integration function name as the new one (for example, your new function can be named as \"euler_integrate()\"). Please carefully read the comments in the {\\tt simulate()} function. Below is the template/example of how to implement the new integration function and use it for simulation.*"
   ]
  },
  {
   "cell_type": "markdown",
   "metadata": {
    "id": "lZCQdFPwJfEJ"
   },
   "source": [
    "**Turn in: A copy of you numerical integration function (you only need to include the code for your new integration function), and the resulting plot of Hamiltonian.**"
   ]
  },
  {
   "cell_type": "code",
   "execution_count": 35,
   "metadata": {
    "id": "HCu1wbaOJfEH"
   },
   "outputs": [],
   "source": [
    "##########################################################################\n",
    "# This is where you implement your new integration function for this \n",
    "# problem. Please make sure the new integration function has the same\n",
    "# input-output structure as the old one.\n",
    "def new_integrate(f, xt, dt):\n",
    "    \"\"\"\n",
    "    This function takes in an initial condition x(t) and a timestep dt,\n",
    "    as well as a dynamical system f(x) that outputs a vector of the\n",
    "    same dimension as x(t). It outputs a vector x(t+dt) at the future\n",
    "    time step.\n",
    "\n",
    "    Parameters\n",
    "    ============\n",
    "    dyn: Python function\n",
    "        derivate of the system at a given step x(t), \n",
    "        it can considered as \\dot{x}(t) = func(x(t))\n",
    "    xt: NumPy array\n",
    "        current step x(t)\n",
    "    dt: \n",
    "        step size for integration\n",
    "\n",
    "    Return\n",
    "    ============\n",
    "    new_xt: \n",
    "        value of x(t+dt) integrated from x(t)\n",
    "    \"\"\"\n",
    "    #for my new integration, I'm repurposing the runge-kutta syntax, \n",
    "    #since euler's method is a 1st-order runge-kutta\n",
    "    k1 = dt * f(xt)\n",
    "    new_xt = xt + k1\n",
    "    \n",
    "    return new_xt\n"
   ]
  },
  {
   "cell_type": "code",
   "execution_count": 36,
   "metadata": {},
   "outputs": [],
   "source": [
    "#simulate...\n",
    "traj_new = simulate(f=dyn, x0=s0, tspan=[0,10], dt=0.01, integrate=new_integrate) "
   ]
  },
  {
   "cell_type": "code",
   "execution_count": 37,
   "metadata": {
    "id": "Ui-Q2VJnJfEJ"
   },
   "outputs": [],
   "source": [
    "#initializing\n",
    "Htraj_new = np.zeros((1,traj_new.shape[1]))\n",
    "\n",
    "#looping over the columns of traj...\n",
    "for col in range(traj_new.shape[1]):\n",
    "    Htraj_new[0][col] = H_func([traj_new[0][col],traj_new[1][col],traj_new[2][col],traj_new[3][col]])"
   ]
  },
  {
   "cell_type": "code",
   "execution_count": 38,
   "metadata": {},
   "outputs": [
    {
     "name": "stdout",
     "output_type": "stream",
     "text": [
      "Hamiltonian over time:\n"
     ]
    },
    {
     "data": {
      "image/png": "[encoded data removed]",
      "text/plain": [
       "<Figure size 432x288 with 1 Axes>"
      ]
     },
     "metadata": {
      "needs_background": "light"
     },
     "output_type": "display_data"
    }
   ],
   "source": [
    "#plotting...\n",
    "plt.plot(np.arange(1000)*0.1,Htraj[0:2].T)\n",
    "\n",
    "print('Hamiltonian over time:')\n",
    "plt.show()"
   ]
  },
  {
   "cell_type": "markdown",
   "metadata": {
    "id": "nmDyQNQKJfEL"
   },
   "source": [
    "## Problem 7 (20pts)\n",
    "\n",
    "For the same double-pendulum you simulated in Problem 4 with same parameters and initial condition, now add a constraint to the system such that the distance between the second pendulum and the origin is fixed at $\\sqrt{2}$. Simulate the system with same parameters and initial condition, and animate the system with the same animate function provided in homework 2.\n",
    "\n",
    "*Hint 1: What do you think the equations of motion should look like? Think about how the system will behave after adding the constraint. With no double, you can solve this problem using $\\phi$ and all the following results for constrained Euler-Lagrange equations, however, if you really understand this constrained system, things might be much easier, and you can actually treat it as an unconstrained system.*\n",
    "\n",
    "**Turn in: A copy of code used to numerically evaluate, simulate and animate the system. Also, upload the video of animation separately through Canvas, the video should be in \".mp4\" format, and you can use screen capture or record the screen directly with your phone.**"
   ]
  },
  {
   "cell_type": "code",
   "execution_count": null,
   "metadata": {
    "id": "r9bFKXjQJfEL"
   },
   "outputs": [],
   "source": []
  },
  {
   "cell_type": "markdown",
   "metadata": {
    "id": "Jvm71AhKJfEP"
   },
   "source": [
    "## Problem 8 (5pts)\n",
    "\n",
    "For the same system with same constraint in Problem 6, simulate the system with initial condition $\\theta_1=\\theta_2=-\\frac{\\pi}{4}$, which actually violates the constraint! Simulate the system and see what happen, what do you think is the actual influence after adding this constraint?\n",
    "\n",
    "**Turn in: Your thoughts about the actual effect of the constraint in this system (you don't need to include any code for this problem).**"
   ]
  },
  {
   "cell_type": "code",
   "execution_count": null,
   "metadata": {
    "id": "OHz3npTUJfEP"
   },
   "outputs": [],
   "source": []
  }
 ],
 "metadata": {
  "colab": {
   "collapsed_sections": [],
   "name": "hw3-template.ipynb",
   "provenance": []
  },
  "kernelspec": {
   "display_name": "Python 3",
   "language": "python",
   "name": "python3"
  },
  "language_info": {
   "codemirror_mode": {
    "name": "ipython",
    "version": 3
   },
   "file_extension": ".py",
   "mimetype": "text/x-python",
   "name": "python",
   "nbconvert_exporter": "python",
   "pygments_lexer": "ipython3",
   "version": "3.7.6"
  }
 },
 "nbformat": 4,
 "nbformat_minor": 1
}
