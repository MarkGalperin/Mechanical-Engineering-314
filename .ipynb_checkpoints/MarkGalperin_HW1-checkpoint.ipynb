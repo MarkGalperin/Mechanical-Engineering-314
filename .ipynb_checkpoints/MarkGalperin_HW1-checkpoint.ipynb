{
 "cells": [
  {
   "cell_type": "markdown",
   "metadata": {
    "colab_type": "text",
    "id": "rMoYal9MbtAf"
   },
   "source": [
    "# ME314 Homework 1 -- Due September 30, 2020\n",
    "\n",
    "(Generated: Sep 23 14:25 Chicago Time)\n",
    "\n",
    "*Please note that a **single** PDF file will be the only document that you turn in, which will include your answers to the problems with corresponding derivations, and the code used to complete the problems. Problems and deliverables that should be included with your submission are shown in **bold**.*\n",
    "\n",
    "*This Juputer Notebook file serves as a template for you to start homework, since we recommend to finish the homework using Jupyter Notebook. You can start with this notebook file with your local Jupyter environment, or upload it to Google Colab. You can include all the code and other deliverables in this notebook Jupyter Notebook supports $\\LaTeX$ for math equations, and you can export the whole notebook as a PDF file. But this is not the only option, if you are more comfortable with other ways, feel free to do so, as long as you can submit the homework in a single PDF file.*\n",
    "\n",
    "***"
   ]
  },
  {
   "cell_type": "code",
   "execution_count": 1,
   "metadata": {
    "colab": {},
    "colab_type": "code",
    "id": "zzAqIAyWbtAg"
   },
   "outputs": [],
   "source": [
    "#imports...\n",
    "import sympy as sym\n",
    "import matplotlib.pyplot as plt"
   ]
  },
  {
   "cell_type": "markdown",
   "metadata": {
    "colab_type": "text",
    "id": "lUyCOxYxbtAm"
   },
   "source": [
    "## Problem 1 (15pts)"
   ]
  },
  {
   "cell_type": "code",
   "execution_count": 2,
   "metadata": {
    "colab": {
     "base_uri": "https://localhost:8080/",
     "height": 377
    },
    "colab_type": "code",
    "executionInfo": {
     "elapsed": 598,
     "status": "ok",
     "timestamp": 1600889237487,
     "user": {
      "displayName": "Muchen Sun",
      "photoUrl": "https://lh3.googleusercontent.com/a-/AOh14Ginp48i0jmOxCe1Ash9fdfU0b4Pe6DGLT9uqf_M=s64",
      "userId": "16296401493550679771"
     },
     "user_tz": 300
    },
    "id": "PhOYd_ocbtAn",
    "outputId": "fbf09d36-852c-4c5e-b6c4-80701b8417cc"
   },
   "outputs": [
    {
     "data": {
      "text/html": [
       "<table><tr><td><img src='https://github.com/MuchenSun/ME314pngs/raw/master/2mass_spring.png' width=500' height='350'></table>"
      ],
      "text/plain": [
       "<IPython.core.display.HTML object>"
      ]
     },
     "metadata": {},
     "output_type": "display_data"
    }
   ],
   "source": [
    "from IPython.core.display import HTML\n",
    "display(HTML(\"<table><tr><td><img src='https://github.com/MuchenSun/ME314pngs/raw/master/2mass_spring.png' width=500' height='350'></table>\"))"
   ]
  },
  {
   "cell_type": "markdown",
   "metadata": {
    "colab_type": "text",
    "id": "HlkvMSJ6btAs"
   },
   "source": [
    "As shown in the image above, two blocks are connected by one spring, and one block is connected to the wall with another spring. The two springs have lengths of zero when they are \"relaxed\", thus they are stretched with any positive displacement $\\Delta x > 0$, and the magnitude of the force can be computed using Hooke's law $|F| = k \\Delta x$, where $k$ is spring ratio. Furthermore, there is no friction between the blocks and the ground. \n",
    "    \n",
    "Now, with the masses $m_1=1kg$, $m_2=2kg$, spring ratios $k_1=0.5N/m$, $k_2=0.8N/m$, given the positions of the blocks as $x_1$ and $x_2$, use Newton's law $F=ma$ to compute the accelerations of the blocks $a_1=\\ddot{x}_1$ and $a_2=\\ddot{x}_2$. You need to use Pythons's SymPy package to solve for symbolic solutions, then numerically evaluate your solutions for $a_1$ and $a_2$ as functions of $x_1$ and $x_2$. Test your numerical functions with $x_1=1m, x_2=3m$ as function inputs. \n",
    "\n",
    "*Hint 1: There will be two equations, one for each block. The equations are based on Newton's law $F=ma$. Thus, for each block you need to write down it's $F$ in terms of $x_1$ and $x_2$ (which can be defined as symbols in SymPy).*\n",
    "\n",
    "*Hint 2: You will need to use SymPy's **solve()** and **lambdify()** methods in this problem, you've seen both of them in Homework 0. This problem is very similar to Problem 5 in Homework 0,except that you need to write down the equations by yourselves, and you don't need to solve the equations simultaneously, you can solve them one by one for each block. Feel free to take the example code in Homework 0 as a start point.*\n",
    "\n",
    "*Hint 3: You may need to use **lambdify()** to numerically evaluate a function with multiple variables. Below is an example.*"
   ]
  },
  {
   "cell_type": "markdown",
   "metadata": {
    "colab_type": "text",
    "id": "Jgr6A4KJbtAx"
   },
   "source": [
    "**Turn in: A copy of the code used to solve for symbolic solutions and evaluate them as numerical functions, include the test results for numerical functions.**"
   ]
  },
  {
   "cell_type": "markdown",
   "metadata": {},
   "source": [
    "**Defining my equations** (See hand-work for derivation)"
   ]
  },
  {
   "cell_type": "code",
   "execution_count": 3,
   "metadata": {},
   "outputs": [
    {
     "name": "stdout",
     "output_type": "stream",
     "text": [
      "un-substituted Newton's 2nd law equations:\n"
     ]
    },
    {
     "data": {
      "text/latex": [
       "$\\displaystyle m_{1} x_1^{''} = - k_{1} \\left(- x_{1o} + x_{1}\\right) + k_{2} \\left(x_{1o} - x_{1} - x_{2o} + x_{2}\\right)$"
      ],
      "text/plain": [
       "Eq(m_{1}*x_1^{''}, -k_{1}*(-x_{1o} + x_{1}) + k_{2}*(x_{1o} - x_{1} - x_{2o} + x_{2}))"
      ]
     },
     "metadata": {},
     "output_type": "display_data"
    },
    {
     "data": {
      "text/latex": [
       "$\\displaystyle m_{2} x_2^{''} = - k_{2} \\left(x_{1o} - x_{1} - x_{2o} + x_{2}\\right)$"
      ],
      "text/plain": [
       "Eq(m_{2}*x_2^{''}, -k_{2}*(x_{1o} - x_{1} - x_{2o} + x_{2}))"
      ]
     },
     "metadata": {},
     "output_type": "display_data"
    }
   ],
   "source": [
    "#Symbols...\n",
    "x1 = sym.symbols('x_{1}')\n",
    "x1o = sym.symbols('x_{1o}')\n",
    "x2 = sym.symbols('x_{2}')\n",
    "x2o = sym.symbols('x_{2o}')\n",
    "k1 = sym.symbols('k_{1}')\n",
    "k2 = sym.symbols('k_{2}')\n",
    "m1 = sym.symbols('m_{1}')\n",
    "m2 = sym.symbols('m_{2}')\n",
    "d2x1 = sym.symbols('x_1^{\\'\\'}')\n",
    "d2x2 = sym.symbols('x_2^{\\'\\'}')\n",
    "\n",
    "#equation definition...\n",
    "block1 = sym.Eq(m1*d2x1,-k1*(x1-x1o) + k2*((x2-x1)-(x2o-x1o)))\n",
    "block2 = sym.Eq(m2*d2x2, -k2*((x2-x1)-(x2o-x1o)))\n",
    "\n",
    "#display...\n",
    "print('un-substituted Newton\\'s 2nd law equations:')\n",
    "display(block1)\n",
    "display(block2)"
   ]
  },
  {
   "cell_type": "markdown",
   "metadata": {},
   "source": [
    "**Susbstituting in values for m1, m2, k1, k2, x1o, x2o**..."
   ]
  },
  {
   "cell_type": "code",
   "execution_count": 4,
   "metadata": {},
   "outputs": [
    {
     "name": "stdout",
     "output_type": "stream",
     "text": [
      "Substituted Newton's second law equations:\n"
     ]
    },
    {
     "data": {
      "text/latex": [
       "$\\displaystyle x_1^{''} = - 1.3 x_{1} + 0.8 x_{2}$"
      ],
      "text/plain": [
       "Eq(x_1^{''}, -1.3*x_{1} + 0.8*x_{2})"
      ]
     },
     "metadata": {},
     "output_type": "display_data"
    },
    {
     "data": {
      "text/latex": [
       "$\\displaystyle 2 x_2^{''} = 0.8 x_{1} - 0.8 x_{2}$"
      ],
      "text/plain": [
       "Eq(2*x_2^{''}, 0.8*x_{1} - 0.8*x_{2})"
      ]
     },
     "metadata": {},
     "output_type": "display_data"
    },
    {
     "name": "stdout",
     "output_type": "stream",
     "text": [
      "substituted Newton's 2nd law equations:\n",
      "(a1 and a2, respectively)\n"
     ]
    },
    {
     "data": {
      "text/latex": [
       "$\\displaystyle - 1.3 x_{1} + 0.8 x_{2}$"
      ],
      "text/plain": [
       "-1.3*x_{1} + 0.8*x_{2}"
      ]
     },
     "metadata": {},
     "output_type": "display_data"
    },
    {
     "data": {
      "text/latex": [
       "$\\displaystyle 0.4 x_{1} - 0.4 x_{2}$"
      ],
      "text/plain": [
       "0.4*x_{1} - 0.4*x_{2}"
      ]
     },
     "metadata": {},
     "output_type": "display_data"
    }
   ],
   "source": [
    "#substituting in to both block equations...\n",
    "#here I've realized: x1o = x2o = 0, as per the problem, \"the springs have lengths of zero when they are 'relaxed'\"\n",
    "B1_sub = block1.subs([(m1, 1), (m2, 2), (k1, 0.5), (k2,0.8), (x1o,0), (x2o,0)])\n",
    "B2_sub = block2.subs([(m1, 1), (m2, 2), (k1, 0.5), (k2,0.8), (x1o,0), (x2o,0)])\n",
    "\n",
    "#display susbstiturions...\n",
    "print('Substituted Newton\\'s second law equations:')\n",
    "display(B1_sub,B2_sub)\n",
    "\n",
    "#solving for a1 and a2...\n",
    "a1_sol = sym.solve(B1_sub,d2x1)[0]\n",
    "a2_sol = sym.solve(B2_sub,d2x2)[0]\n",
    "\n",
    "#display solutions...\n",
    "print('substituted Newton\\'s 2nd law equations:')\n",
    "print('(a1 and a2, respectively)')\n",
    "display(a1_sol,a2_sol)"
   ]
  },
  {
   "cell_type": "markdown",
   "metadata": {},
   "source": [
    "**p1 - Evaluating the symbolic accelerations with x1 = 1m, x2 = 3m**"
   ]
  },
  {
   "cell_type": "code",
   "execution_count": 5,
   "metadata": {},
   "outputs": [
    {
     "name": "stdout",
     "output_type": "stream",
     "text": [
      "a1 at x1=1, x2=2:  0.30000000000000004\n",
      "a2 at x1=1, x2=2:  -0.4\n"
     ]
    }
   ],
   "source": [
    "# plugging in x1 = 1m, x2 = \n",
    "a1_func = sym.lambdify([[x1, x2]], a1_sol)\n",
    "a2_func = sym.lambdify([[x1, x2]], a2_sol)\n",
    "\n",
    "#printing\n",
    "print('a1 at x1=1, x2=2: ', a1_func([1, 2]))\n",
    "print('a2 at x1=1, x2=2: ', a2_func([1, 2]))"
   ]
  },
  {
   "cell_type": "markdown",
   "metadata": {
    "colab_type": "text",
    "id": "4na_cGgRbtA2"
   },
   "source": [
    "## Problem 2 (10pts)\n",
    "\n",
    "For the same system in Problem 1, now take $x_1$, $x_2$ as system configuration variables, compute the Lagrangian of this system using Python's SymPy package.\n",
    "\n",
    "*Hint 1: For an object with mass $m$ and velocity $v$, its kinetic energy is $\\frac{1}{2} mv^2$.*\n",
    "\n",
    "*Hint 2: For a spring stretched with displacement $\\Delta x$ and spring ratio $k$, its potential energy is $\\frac{1}{2} k (\\Delta x)^2$. Also, the springs have zero mass.*\n",
    "\n",
    "*Hint 3: Since $x_1$ and $x_2$ are actually functions of time $t$, in order to compute Euler-Lagrange equations, you will need to take their derivative with respect to $t$. Here instead of defining position and velocity as two seperate symbols, you need to define position as SymPy's **Function** object, and the velocity would be the derivative of that function with respect to time $t$. An example is provided below.*"
   ]
  },
  {
   "cell_type": "markdown",
   "metadata": {
    "colab_type": "text",
    "id": "MfKa8PnMbtA7"
   },
   "source": [
    "**Turn in: A copy of the code used to symbolically compute the Lagrangian, and the computed Lagrangian.**"
   ]
  },
  {
   "cell_type": "code",
   "execution_count": 6,
   "metadata": {},
   "outputs": [],
   "source": [
    "#define t...\n",
    "from sympy import symbols, Function, solve\n",
    "from sympy.abc import t\n",
    "\n",
    "#Position, velocity, and acceleration as functions of t...\n",
    "x1 = Function(r'x_1')(t)\n",
    "x1dot = x1.diff(t)\n",
    "x1ddot = x1dot.diff(t)\n",
    "x2 = Function(r'x_2')(t)\n",
    "x2dot = x2.diff(t)\n",
    "x2ddot = x2dot.diff(t)"
   ]
  },
  {
   "cell_type": "code",
   "execution_count": 7,
   "metadata": {},
   "outputs": [
    {
     "name": "stdout",
     "output_type": "stream",
     "text": [
      "KE and V expressions, respectively\n"
     ]
    },
    {
     "data": {
      "text/latex": [
       "$\\displaystyle \\frac{m_{1} \\left(\\frac{d}{d t} \\operatorname{x_{1}}{\\left(t \\right)}\\right)^{2}}{2} + \\frac{m_{2} \\left(\\frac{d}{d t} \\operatorname{x_{2}}{\\left(t \\right)}\\right)^{2}}{2}$"
      ],
      "text/plain": [
       "m_{1}*Derivative(x_1(t), t)**2/2 + m_{2}*Derivative(x_2(t), t)**2/2"
      ]
     },
     "metadata": {},
     "output_type": "display_data"
    },
    {
     "data": {
      "text/latex": [
       "$\\displaystyle \\frac{k_{1} \\operatorname{x_{1}}^{2}{\\left(t \\right)}}{2} + \\frac{k_{2} \\left(- \\operatorname{x_{1}}{\\left(t \\right)} + \\operatorname{x_{2}}{\\left(t \\right)}\\right)^{2}}{2}$"
      ],
      "text/plain": [
       "k_{1}*x_1(t)**2/2 + k_{2}*(-x_1(t) + x_2(t))**2/2"
      ]
     },
     "metadata": {},
     "output_type": "display_data"
    }
   ],
   "source": [
    "#Defining KE and V for the whole system...\n",
    "KE = (m1*(x1dot)**2+m2*(x2dot)**2)/2\n",
    "V  = (k1*(x1)**2+k2*(x2-x1)**2)/2\n",
    "print('KE and V expressions, respectively')\n",
    "display(KE,V)"
   ]
  },
  {
   "cell_type": "code",
   "execution_count": 8,
   "metadata": {},
   "outputs": [
    {
     "name": "stdout",
     "output_type": "stream",
     "text": [
      "The Lagrangian:\n"
     ]
    },
    {
     "data": {
      "text/latex": [
       "$\\displaystyle - \\frac{k_{1} \\operatorname{x_{1}}^{2}{\\left(t \\right)}}{2} - \\frac{k_{2} \\left(- \\operatorname{x_{1}}{\\left(t \\right)} + \\operatorname{x_{2}}{\\left(t \\right)}\\right)^{2}}{2} + \\frac{m_{1} \\left(\\frac{d}{d t} \\operatorname{x_{1}}{\\left(t \\right)}\\right)^{2}}{2} + \\frac{m_{2} \\left(\\frac{d}{d t} \\operatorname{x_{2}}{\\left(t \\right)}\\right)^{2}}{2}$"
      ],
      "text/plain": [
       "-k_{1}*x_1(t)**2/2 - k_{2}*(-x_1(t) + x_2(t))**2/2 + m_{1}*Derivative(x_1(t), t)**2/2 + m_{2}*Derivative(x_2(t), t)**2/2"
      ]
     },
     "metadata": {},
     "output_type": "display_data"
    }
   ],
   "source": [
    "#defining the Lagrangian\n",
    "L = KE-V\n",
    "print('The Lagrangian:')\n",
    "display(L)"
   ]
  },
  {
   "cell_type": "markdown",
   "metadata": {
    "colab_type": "text",
    "id": "2dF3njN2btBB"
   },
   "source": [
    "## Problem 3 (10pts)\n",
    "\n",
    "Based on your solution for Problem 2, compute the Euler-Lagrange equations for this system.\n",
    "\n",
    "*Hint 1: In this problem, the system has two configuration variables, thus when taking the derivative of the Lagrangian with respect to the system state vector, the derivative is also a vector (sometimes also called the Jacobian of the Lagrangian with respect to system states). There are several ways to compute the derivative with respect to a vector in SymPy, below is an example.*"
   ]
  },
  {
   "cell_type": "markdown",
   "metadata": {
    "colab_type": "text",
    "id": "zMIxW7O8btBG"
   },
   "source": [
    "**Turn in: A copy of the code used to symbolically compute the Euler-Lagrange equations, and the equations.**"
   ]
  },
  {
   "cell_type": "code",
   "execution_count": 9,
   "metadata": {},
   "outputs": [],
   "source": [
    "from sympy import Matrix"
   ]
  },
  {
   "cell_type": "code",
   "execution_count": 10,
   "metadata": {},
   "outputs": [],
   "source": [
    "#define configuration vector q, and qdot = dq/dt\n",
    "q = Matrix([x1, x2])\n",
    "qdot = q.diff(t)"
   ]
  },
  {
   "cell_type": "code",
   "execution_count": 11,
   "metadata": {},
   "outputs": [
    {
     "name": "stdout",
     "output_type": "stream",
     "text": [
      "dL/dq and dL/dq-dot, respectively: \n"
     ]
    },
    {
     "data": {
      "text/latex": [
       "$\\displaystyle \\left[\\begin{matrix}- k_{1} \\operatorname{x_{1}}{\\left(t \\right)} - \\frac{k_{2} \\left(2 \\operatorname{x_{1}}{\\left(t \\right)} - 2 \\operatorname{x_{2}}{\\left(t \\right)}\\right)}{2} & - \\frac{k_{2} \\left(- 2 \\operatorname{x_{1}}{\\left(t \\right)} + 2 \\operatorname{x_{2}}{\\left(t \\right)}\\right)}{2}\\end{matrix}\\right]$"
      ],
      "text/plain": [
       "Matrix([[-k_{1}*x_1(t) - k_{2}*(2*x_1(t) - 2*x_2(t))/2, -k_{2}*(-2*x_1(t) + 2*x_2(t))/2]])"
      ]
     },
     "metadata": {},
     "output_type": "display_data"
    },
    {
     "data": {
      "text/latex": [
       "$\\displaystyle \\left[\\begin{matrix}m_{1} \\frac{d}{d t} \\operatorname{x_{1}}{\\left(t \\right)} & m_{2} \\frac{d}{d t} \\operatorname{x_{2}}{\\left(t \\right)}\\end{matrix}\\right]$"
      ],
      "text/plain": [
       "Matrix([[m_{1}*Derivative(x_1(t), t), m_{2}*Derivative(x_2(t), t)]])"
      ]
     },
     "metadata": {},
     "output_type": "display_data"
    }
   ],
   "source": [
    "#taking the dervative of L with respect to q via Jacobian...\n",
    "L_mat = Matrix([L])\n",
    "dLdq = L_mat.jacobian(q)\n",
    "\n",
    "#...and with respect qdot...\n",
    "dLdqdot = L_mat.jacobian(qdot)\n",
    "\n",
    "print('dL/dq and dL/dq-dot, respectively: ')\n",
    "display(dLdq,dLdqdot)"
   ]
  },
  {
   "cell_type": "code",
   "execution_count": 12,
   "metadata": {},
   "outputs": [
    {
     "name": "stdout",
     "output_type": "stream",
     "text": [
      "The Euler-Lagrange Equations:\n"
     ]
    },
    {
     "data": {
      "text/latex": [
       "$\\displaystyle - k_{1} \\operatorname{x_{1}}{\\left(t \\right)} - \\frac{k_{2} \\left(2 \\operatorname{x_{1}}{\\left(t \\right)} - 2 \\operatorname{x_{2}}{\\left(t \\right)}\\right)}{2} - m_{1} \\frac{d^{2}}{d t^{2}} \\operatorname{x_{1}}{\\left(t \\right)} = 0$"
      ],
      "text/plain": [
       "Eq(-k_{1}*x_1(t) - k_{2}*(2*x_1(t) - 2*x_2(t))/2 - m_{1}*Derivative(x_1(t), (t, 2)), 0)"
      ]
     },
     "metadata": {},
     "output_type": "display_data"
    },
    {
     "data": {
      "text/latex": [
       "$\\displaystyle - \\frac{k_{2} \\left(- 2 \\operatorname{x_{1}}{\\left(t \\right)} + 2 \\operatorname{x_{2}}{\\left(t \\right)}\\right)}{2} - m_{2} \\frac{d^{2}}{d t^{2}} \\operatorname{x_{2}}{\\left(t \\right)} = 0$"
      ],
      "text/plain": [
       "Eq(-k_{2}*(-2*x_1(t) + 2*x_2(t))/2 - m_{2}*Derivative(x_2(t), (t, 2)), 0)"
      ]
     },
     "metadata": {},
     "output_type": "display_data"
    }
   ],
   "source": [
    "#putting together the Euler-Lagrange equations...\n",
    "EL_vec = dLdq - dLdqdot.diff(t)\n",
    "\n",
    "#separating for better display...\n",
    "EL_x1 = sym.Eq(EL_vec[0],0)\n",
    "EL_x2 = sym.Eq(EL_vec[1],0)\n",
    "\n",
    "print('The Euler-Lagrange Equations:')\n",
    "display(EL_x1,EL_x2)"
   ]
  },
  {
   "cell_type": "markdown",
   "metadata": {
    "colab_type": "text",
    "id": "S8rjEWpSbtBK"
   },
   "source": [
    "## Problem 4 (15pts)\n",
    "\n",
    "Based on your Euler-Lagrange equations from Problem 3, use Python's SymPy package to solve the equations for the accelerations of the two blocks $\\ddot{x}_1, \\ddot{x}_2$, in terms of position $x_1, x_2$, and velocity $\\dot{x}_1, \\dot{x}_2$. Compare your answer to Problem 1 to see if they match with each other.\n",
    "\n",
    "*Hint 1: Since you need to solve a set of multiple equations symbolically in SymPy, it's recommended to wrap both sides of the equations into SymPy's Matrix object. As an example, below is the code solving the following set of equations (feel free to take this code as a start point).*\n",
    "$$\n",
    "\\begin{aligned}\n",
    "\\left\\{\n",
    "    \\begin{array}{ll}\n",
    "      x^2 + y = 3 \\\\\n",
    "      x + y = 1\n",
    "    \\end{array}\n",
    "\\right.\n",
    "\\end{aligned}\n",
    "$$"
   ]
  },
  {
   "cell_type": "markdown",
   "metadata": {
    "colab_type": "text",
    "id": "_aqi8PUJbtBR"
   },
   "source": [
    "**Turn in: A copy of the code you used to solve the Euler-Lagrange equations, and thesymbolic solutions you get.**"
   ]
  },
  {
   "cell_type": "code",
   "execution_count": 13,
   "metadata": {},
   "outputs": [],
   "source": [
    "from sympy import Eq"
   ]
  },
  {
   "cell_type": "code",
   "execution_count": 14,
   "metadata": {
    "colab": {
     "base_uri": "https://localhost:8080/",
     "height": 135
    },
    "colab_type": "code",
    "executionInfo": {
     "elapsed": 1037,
     "status": "ok",
     "timestamp": 1600889237954,
     "user": {
      "displayName": "Muchen Sun",
      "photoUrl": "https://lh3.googleusercontent.com/a-/AOh14Ginp48i0jmOxCe1Ash9fdfU0b4Pe6DGLT9uqf_M=s64",
      "userId": "16296401493550679771"
     },
     "user_tz": 300
    },
    "id": "6dK9M1C3btBL",
    "outputId": "32d27956-c6e6-4585-f444-26ca87b3f925"
   },
   "outputs": [
    {
     "name": "stdout",
     "output_type": "stream",
     "text": [
      "E/L in Matrix form, ready for solving\n"
     ]
    },
    {
     "data": {
      "text/latex": [
       "$\\displaystyle \\left[\\begin{matrix}- k_{1} \\operatorname{x_{1}}{\\left(t \\right)} - \\frac{k_{2} \\left(2 \\operatorname{x_{1}}{\\left(t \\right)} - 2 \\operatorname{x_{2}}{\\left(t \\right)}\\right)}{2} - m_{1} \\frac{d^{2}}{d t^{2}} \\operatorname{x_{1}}{\\left(t \\right)}\\\\- \\frac{k_{2} \\left(- 2 \\operatorname{x_{1}}{\\left(t \\right)} + 2 \\operatorname{x_{2}}{\\left(t \\right)}\\right)}{2} - m_{2} \\frac{d^{2}}{d t^{2}} \\operatorname{x_{2}}{\\left(t \\right)}\\end{matrix}\\right] = \\left[\\begin{matrix}0\\\\0\\end{matrix}\\right]$"
      ],
      "text/plain": [
       "Eq(Matrix([\n",
       "[-k_{1}*x_1(t) - k_{2}*(2*x_1(t) - 2*x_2(t))/2 - m_{1}*Derivative(x_1(t), (t, 2))],\n",
       "[              -k_{2}*(-2*x_1(t) + 2*x_2(t))/2 - m_{2}*Derivative(x_2(t), (t, 2))]]), Matrix([\n",
       "[0],\n",
       "[0]]))"
      ]
     },
     "metadata": {},
     "output_type": "display_data"
    }
   ],
   "source": [
    "#wrapping my lhs and rhs as matrices \n",
    "lhs = Matrix([EL_vec[0], EL_vec[1]])\n",
    "rhs = Matrix([0, 0])\n",
    "\n",
    "# define the equations\n",
    "eqn = Eq(lhs, rhs)\n",
    "\n",
    "print('E/L in Matrix form, ready for solving')\n",
    "display(eqn)"
   ]
  },
  {
   "cell_type": "code",
   "execution_count": 15,
   "metadata": {
    "scrolled": true
   },
   "outputs": [
    {
     "name": "stdout",
     "output_type": "stream",
     "text": [
      "Euler-Lagrange Solution: \n"
     ]
    },
    {
     "data": {
      "text/latex": [
       "$\\displaystyle \\frac{d^{2}}{d t^{2}} \\operatorname{x_{1}}{\\left(t \\right)} = \\frac{- k_{1} \\operatorname{x_{1}}{\\left(t \\right)} - k_{2} \\operatorname{x_{1}}{\\left(t \\right)} + k_{2} \\operatorname{x_{2}}{\\left(t \\right)}}{m_{1}}$"
      ],
      "text/plain": [
       "Eq(Derivative(x_1(t), (t, 2)), (-k_{1}*x_1(t) - k_{2}*x_1(t) + k_{2}*x_2(t))/m_{1})"
      ]
     },
     "metadata": {},
     "output_type": "display_data"
    },
    {
     "data": {
      "text/latex": [
       "$\\displaystyle \\frac{d^{2}}{d t^{2}} \\operatorname{x_{2}}{\\left(t \\right)} = \\frac{k_{2} \\left(\\operatorname{x_{1}}{\\left(t \\right)} - \\operatorname{x_{2}}{\\left(t \\right)}\\right)}{m_{2}}$"
      ],
      "text/plain": [
       "Eq(Derivative(x_2(t), (t, 2)), k_{2}*(x_1(t) - x_2(t))/m_{2})"
      ]
     },
     "metadata": {},
     "output_type": "display_data"
    }
   ],
   "source": [
    "# solving for ddx1 and ddx2...\n",
    "q = Matrix([x1ddot, x2ddot])\n",
    "soln = solve(eqn, q, dict=True) # putting it into a dict...\n",
    "\n",
    "index = []\n",
    "    \n",
    "for sol in soln:\n",
    "    print('Euler-Lagrange Solution: ')\n",
    "    for v in q:\n",
    "        eqsv = sym.Eq(v, sol[v])\n",
    "        display(eqsv)"
   ]
  },
  {
   "cell_type": "markdown",
   "metadata": {
    "colab_type": "text",
    "id": "D0114oqobtBW"
   },
   "source": [
    "## Problem 5 (10pts)\n",
    "\n",
    "Given the unforced inverted cart-pendulum as shown below. The pendulum is in gravity, the cart can move freely in the horizontal direction, and the pendulum will not impact the cart. Take $x$ and $\\theta$ as the system configuration variables, compute the Lagrangian of the system using Python's SymPy package. Here take $m$ and $M$ as symbols instead of given constants.\n",
    "\n",
    "*Hint 1: The positive direction for the rotation of the pendulum $\\dot{\\theta}$ is clockwise. The positive direction for the translation of the cart is to the right.*\n",
    "\n",
    "*Hint 2: Taking $m$ and $M$ as symbols means you will need to define them as SymPy's symbols.*\n",
    "\n",
    "*Hint 3: In order to compute the kinetic energy of the pendulum, note that it's attached on the cart, so the velocity of the pendulum needs to take that into account. One suggestion here is to compute the velocity of the pendulum separately from the $x$ and $y$ coordinates.*"
   ]
  },
  {
   "cell_type": "code",
   "execution_count": 16,
   "metadata": {
    "colab": {
     "base_uri": "https://localhost:8080/",
     "height": 377
    },
    "colab_type": "code",
    "executionInfo": {
     "elapsed": 1029,
     "status": "ok",
     "timestamp": 1600889237955,
     "user": {
      "displayName": "Muchen Sun",
      "photoUrl": "https://lh3.googleusercontent.com/a-/AOh14Ginp48i0jmOxCe1Ash9fdfU0b4Pe6DGLT9uqf_M=s64",
      "userId": "16296401493550679771"
     },
     "user_tz": 300
    },
    "id": "QaCHPDoibtBX",
    "outputId": "c7a253ae-19b7-4390-ebed-803444370db5"
   },
   "outputs": [
    {
     "data": {
      "text/html": [
       "<table><tr><td><img src='https://raw.githubusercontent.com/MuchenSun/ME314pngs/master/dyninvpend.png' width=500' height='350'></table>"
      ],
      "text/plain": [
       "<IPython.core.display.HTML object>"
      ]
     },
     "metadata": {},
     "output_type": "display_data"
    }
   ],
   "source": [
    "from IPython.core.display import HTML\n",
    "display(HTML(\"<table><tr><td><img src='https://raw.githubusercontent.com/MuchenSun/ME314pngs/master/dyninvpend.png' width=500' height='350'></table>\"))"
   ]
  },
  {
   "cell_type": "markdown",
   "metadata": {
    "colab_type": "text",
    "id": "FjqFebC5btBb"
   },
   "source": [
    "**Turn in: A copy of the code used to symbolically compute Lagrangian, and the computed Lagrangian.**"
   ]
  },
  {
   "cell_type": "code",
   "execution_count": 17,
   "metadata": {},
   "outputs": [],
   "source": [
    "#symbols...\n",
    "m = sym.symbols('m')\n",
    "M = sym.symbols('M')\n",
    "g = sym.symbols('g')\n",
    "R = sym.symbols('R')\n",
    "\n",
    "#configuration symbols as functions of time and subsequent derivatives...\n",
    "x = Function(r'x')(t)\n",
    "xdot = x.diff(t)\n",
    "xddot = xdot.diff(t)\n",
    "th = Function(r'θ')(t)\n",
    "thdot = th.diff(t)\n",
    "thddot = thdot.diff(t)"
   ]
  },
  {
   "cell_type": "code",
   "execution_count": 18,
   "metadata": {
    "colab": {},
    "colab_type": "code",
    "id": "iGX4aB5abtBb"
   },
   "outputs": [
    {
     "name": "stdout",
     "output_type": "stream",
     "text": [
      "velocity of the pendulum with respect to the ground:\n"
     ]
    },
    {
     "data": {
      "text/latex": [
       "$\\displaystyle R \\cos{\\left(θ{\\left(t \\right)} \\right)} \\frac{d}{d t} θ{\\left(t \\right)} + \\frac{d}{d t} x{\\left(t \\right)}$"
      ],
      "text/plain": [
       "R*cos(θ(t))*Derivative(θ(t), t) + Derivative(x(t), t)"
      ]
     },
     "metadata": {},
     "output_type": "display_data"
    },
    {
     "data": {
      "text/latex": [
       "$\\displaystyle - R \\sin{\\left(θ{\\left(t \\right)} \\right)} \\frac{d}{d t} θ{\\left(t \\right)}$"
      ],
      "text/plain": [
       "-R*sin(θ(t))*Derivative(θ(t), t)"
      ]
     },
     "metadata": {},
     "output_type": "display_data"
    },
    {
     "name": "stdout",
     "output_type": "stream",
     "text": [
      "|v|^2, useful for calculating KE:\n"
     ]
    },
    {
     "data": {
      "text/latex": [
       "$\\displaystyle R^{2} \\left(\\frac{d}{d t} θ{\\left(t \\right)}\\right)^{2} + 2 R \\cos{\\left(θ{\\left(t \\right)} \\right)} \\frac{d}{d t} x{\\left(t \\right)} \\frac{d}{d t} θ{\\left(t \\right)} + \\left(\\frac{d}{d t} x{\\left(t \\right)}\\right)^{2}$"
      ],
      "text/plain": [
       "R**2*Derivative(θ(t), t)**2 + 2*R*cos(θ(t))*Derivative(x(t), t)*Derivative(θ(t), t) + Derivative(x(t), t)**2"
      ]
     },
     "metadata": {},
     "output_type": "display_data"
    }
   ],
   "source": [
    "#I'll start with the velocity of the pendulum...\n",
    "\n",
    "#pendulum velocity w.r.t. ground\n",
    "v1 = thdot*R*sym.cos(th)+xdot\n",
    "v2 = -thdot*R*sym.sin(th)\n",
    "print('velocity of the pendulum with respect to the ground:')\n",
    "display(v1,v2)\n",
    "\n",
    "#|v|^2 = (v1^2+v2^2) term...\n",
    "vv = v1**2 + v2**2\n",
    "print('|v|^2, useful for calculating KE:')\n",
    "display(sym.simplify(vv))"
   ]
  },
  {
   "cell_type": "code",
   "execution_count": 19,
   "metadata": {},
   "outputs": [
    {
     "data": {
      "text/latex": [
       "$\\displaystyle 0.5 M \\left(\\frac{d}{d t} x{\\left(t \\right)}\\right)^{2} + 0.5 m \\left(R^{2} \\left(\\frac{d}{d t} θ{\\left(t \\right)}\\right)^{2} + 2 R \\cos{\\left(θ{\\left(t \\right)} \\right)} \\frac{d}{d t} x{\\left(t \\right)} \\frac{d}{d t} θ{\\left(t \\right)} + \\left(\\frac{d}{d t} x{\\left(t \\right)}\\right)^{2}\\right)$"
      ],
      "text/plain": [
       "0.5*M*Derivative(x(t), t)**2 + 0.5*m*(R**2*Derivative(θ(t), t)**2 + 2*R*cos(θ(t))*Derivative(x(t), t)*Derivative(θ(t), t) + Derivative(x(t), t)**2)"
      ]
     },
     "metadata": {},
     "output_type": "display_data"
    }
   ],
   "source": [
    "#full KE expression. Here, the cart velocity is (1/2)M*xdot\n",
    "KE = (1/2)*M*xdot**2 + (1/2)*m*vv\n",
    "\n",
    "#print('Kinetic Energy:')\n",
    "display(sym.simplify(KE))"
   ]
  },
  {
   "cell_type": "code",
   "execution_count": 20,
   "metadata": {},
   "outputs": [
    {
     "name": "stdout",
     "output_type": "stream",
     "text": [
      "Potential Energy:\n"
     ]
    },
    {
     "data": {
      "text/latex": [
       "$\\displaystyle R g m \\cos{\\left(θ{\\left(t \\right)} \\right)}$"
      ],
      "text/plain": [
       "R*g*m*cos(θ(t))"
      ]
     },
     "metadata": {},
     "output_type": "display_data"
    }
   ],
   "source": [
    "#Potential energy, V\n",
    "V = m*g*R*sym.cos(th)\n",
    "\n",
    "print('Potential Energy:')\n",
    "display(V)"
   ]
  },
  {
   "cell_type": "code",
   "execution_count": 21,
   "metadata": {},
   "outputs": [
    {
     "name": "stdout",
     "output_type": "stream",
     "text": [
      "Lagrangian:\n"
     ]
    },
    {
     "data": {
      "text/latex": [
       "$\\displaystyle 0.5 M \\left(\\frac{d}{d t} x{\\left(t \\right)}\\right)^{2} - R g m \\cos{\\left(θ{\\left(t \\right)} \\right)} + 0.5 m \\left(R^{2} \\left(\\frac{d}{d t} θ{\\left(t \\right)}\\right)^{2} + 2 R \\cos{\\left(θ{\\left(t \\right)} \\right)} \\frac{d}{d t} x{\\left(t \\right)} \\frac{d}{d t} θ{\\left(t \\right)} + \\left(\\frac{d}{d t} x{\\left(t \\right)}\\right)^{2}\\right)$"
      ],
      "text/plain": [
       "0.5*M*Derivative(x(t), t)**2 - R*g*m*cos(θ(t)) + 0.5*m*(R**2*Derivative(θ(t), t)**2 + 2*R*cos(θ(t))*Derivative(x(t), t)*Derivative(θ(t), t) + Derivative(x(t), t)**2)"
      ]
     },
     "metadata": {},
     "output_type": "display_data"
    }
   ],
   "source": [
    "#Lagrangian...\n",
    "L = KE - V\n",
    "\n",
    "print('Lagrangian:')\n",
    "display(sym.simplify(L))"
   ]
  },
  {
   "cell_type": "markdown",
   "metadata": {
    "colab_type": "text",
    "id": "g5OJ_WmybtBf"
   },
   "source": [
    "## Problem 6 (15pts)\n",
    "\n",
    "Based on your solution in Problem 5, compute the Euler-Lagrange equations for this inverted cart-pendulun system using Python's SymPy package.\n",
    "\n",
    "**Turn in: A copy of the code used to symbolically compute Euler-Lagrange equations, and the computed Euler-Lagrange equations.**"
   ]
  },
  {
   "cell_type": "code",
   "execution_count": 22,
   "metadata": {},
   "outputs": [
    {
     "name": "stdout",
     "output_type": "stream",
     "text": [
      "configuration vectors:\n"
     ]
    },
    {
     "data": {
      "text/latex": [
       "$\\displaystyle \\left[\\begin{matrix}x{\\left(t \\right)}\\\\θ{\\left(t \\right)}\\end{matrix}\\right]$"
      ],
      "text/plain": [
       "Matrix([\n",
       "[x(t)],\n",
       "[θ(t)]])"
      ]
     },
     "metadata": {},
     "output_type": "display_data"
    },
    {
     "data": {
      "text/latex": [
       "$\\displaystyle \\left[\\begin{matrix}\\frac{d}{d t} x{\\left(t \\right)}\\\\\\frac{d}{d t} θ{\\left(t \\right)}\\end{matrix}\\right]$"
      ],
      "text/plain": [
       "Matrix([\n",
       "[Derivative(x(t), t)],\n",
       "[Derivative(θ(t), t)]])"
      ]
     },
     "metadata": {},
     "output_type": "display_data"
    }
   ],
   "source": [
    "#defining the configuration vector q, and qdot = dq/dt\n",
    "q = Matrix([x, th])\n",
    "qdot = q.diff(t)\n",
    "print('configuration vectors:')\n",
    "display(q,qdot)"
   ]
  },
  {
   "cell_type": "code",
   "execution_count": 23,
   "metadata": {},
   "outputs": [
    {
     "name": "stdout",
     "output_type": "stream",
     "text": [
      "dL/dq and dL/dq-dot, respectively: \n"
     ]
    },
    {
     "data": {
      "text/latex": [
       "$\\displaystyle \\left[\\begin{matrix}0 & R m \\left(g - \\frac{d}{d t} x{\\left(t \\right)} \\frac{d}{d t} θ{\\left(t \\right)}\\right) \\sin{\\left(θ{\\left(t \\right)} \\right)}\\end{matrix}\\right]$"
      ],
      "text/plain": [
       "Matrix([[0, R*m*(g - Derivative(x(t), t)*Derivative(θ(t), t))*sin(θ(t))]])"
      ]
     },
     "metadata": {},
     "output_type": "display_data"
    },
    {
     "data": {
      "text/latex": [
       "$\\displaystyle \\left[\\begin{matrix}1.0 M \\frac{d}{d t} x{\\left(t \\right)} + m \\left(R \\cos{\\left(θ{\\left(t \\right)} \\right)} \\frac{d}{d t} θ{\\left(t \\right)} + \\frac{d}{d t} x{\\left(t \\right)}\\right) & 1.0 R m \\left(R \\frac{d}{d t} θ{\\left(t \\right)} + \\cos{\\left(θ{\\left(t \\right)} \\right)} \\frac{d}{d t} x{\\left(t \\right)}\\right)\\end{matrix}\\right]$"
      ],
      "text/plain": [
       "Matrix([[1.0*M*Derivative(x(t), t) + m*(R*cos(θ(t))*Derivative(θ(t), t) + Derivative(x(t), t)), 1.0*R*m*(R*Derivative(θ(t), t) + cos(θ(t))*Derivative(x(t), t))]])"
      ]
     },
     "metadata": {},
     "output_type": "display_data"
    }
   ],
   "source": [
    "#taking the dervative of L with respect to q via Jacobian...\n",
    "L_mat = Matrix([L])\n",
    "dLdq = L_mat.jacobian(q)\n",
    "\n",
    "#...and with respect to qdot...\n",
    "dLdqdot = L_mat.jacobian(qdot)\n",
    "\n",
    "print('dL/dq and dL/dq-dot, respectively: ')\n",
    "display(sym.simplify(dLdq),sym.simplify(dLdqdot))"
   ]
  },
  {
   "cell_type": "code",
   "execution_count": 24,
   "metadata": {},
   "outputs": [
    {
     "name": "stdout",
     "output_type": "stream",
     "text": [
      "The Euler-Lagrange Equations:\n"
     ]
    },
    {
     "data": {
      "text/latex": [
       "$\\displaystyle 1.0 M \\frac{d^{2}}{d t^{2}} x{\\left(t \\right)} + 1.0 m \\left(- R \\sin{\\left(θ{\\left(t \\right)} \\right)} \\left(\\frac{d}{d t} θ{\\left(t \\right)}\\right)^{2} + R \\cos{\\left(θ{\\left(t \\right)} \\right)} \\frac{d^{2}}{d t^{2}} θ{\\left(t \\right)} + \\frac{d^{2}}{d t^{2}} x{\\left(t \\right)}\\right) = 0$"
      ],
      "text/plain": [
       "Eq(1.0*M*Derivative(x(t), (t, 2)) + 1.0*m*(-R*sin(θ(t))*Derivative(θ(t), t)**2 + R*cos(θ(t))*Derivative(θ(t), (t, 2)) + Derivative(x(t), (t, 2))), 0)"
      ]
     },
     "metadata": {},
     "output_type": "display_data"
    },
    {
     "data": {
      "text/latex": [
       "$\\displaystyle 1.0 R m \\left(- R \\frac{d^{2}}{d t^{2}} θ{\\left(t \\right)} + g \\sin{\\left(θ{\\left(t \\right)} \\right)} - \\cos{\\left(θ{\\left(t \\right)} \\right)} \\frac{d^{2}}{d t^{2}} x{\\left(t \\right)}\\right) = 0$"
      ],
      "text/plain": [
       "Eq(1.0*R*m*(-R*Derivative(θ(t), (t, 2)) + g*sin(θ(t)) - cos(θ(t))*Derivative(x(t), (t, 2))), 0)"
      ]
     },
     "metadata": {},
     "output_type": "display_data"
    }
   ],
   "source": [
    "#putting together the Euler-Lagrange equations...\n",
    "EL_vec = dLdq - dLdqdot.diff(t)\n",
    "\n",
    "#separating for better display...\n",
    "EL_x = sym.Eq(EL_vec[0],0)\n",
    "EL_th = sym.Eq(EL_vec[1],0)\n",
    "\n",
    "print('The Euler-Lagrange Equations:')\n",
    "display(sym.simplify(EL_x),sym.simplify(EL_th))"
   ]
  },
  {
   "cell_type": "markdown",
   "metadata": {
    "colab_type": "text",
    "id": "UcJrsdcLbtBj"
   },
   "source": [
    "## Problem 7 (15pts)\n",
    "\n",
    "Solve the Euler-Lagrange equations in Problem 6 for $\\ddot{x}$ and $\\ddot{\\theta}$ using SymPy, and evaluate the results as numerical functions (whose inputs should be $x$, $\\theta$, $\\dot{x}$ and $\\dot{\\theta}$) using SymPy's **lambdify()** method, with $M=2, m=1, R=1, g=9.8$. Test your functions with input $x=0, \\theta=0.1, \\dot{x}=0, \\dot{\\theta}=0$ as function inputs."
   ]
  },
  {
   "cell_type": "markdown",
   "metadata": {
    "colab_type": "text",
    "id": "YVnhJml7btBj"
   },
   "source": [
    "**Turn in: A copy of the code used to symbolically solve and numerically evaluate the solutions of Euler-Lagrange equations. Also, include the test resutls for the numerical evaluations of the solutions.**"
   ]
  },
  {
   "cell_type": "code",
   "execution_count": 25,
   "metadata": {
    "colab": {
     "base_uri": "https://localhost:8080/",
     "height": 135
    },
    "colab_type": "code",
    "executionInfo": {
     "elapsed": 1037,
     "status": "ok",
     "timestamp": 1600889237954,
     "user": {
      "displayName": "Muchen Sun",
      "photoUrl": "https://lh3.googleusercontent.com/a-/AOh14Ginp48i0jmOxCe1Ash9fdfU0b4Pe6DGLT9uqf_M=s64",
      "userId": "16296401493550679771"
     },
     "user_tz": 300
    },
    "id": "6dK9M1C3btBL",
    "outputId": "32d27956-c6e6-4585-f444-26ca87b3f925"
   },
   "outputs": [
    {
     "name": "stdout",
     "output_type": "stream",
     "text": [
      "E/L in Matrix form, ready for solving\n"
     ]
    },
    {
     "data": {
      "text/latex": [
       "$\\displaystyle \\left[\\begin{matrix}0\\\\0\\end{matrix}\\right] = \\left[\\begin{matrix}- 1.0 M \\frac{d^{2}}{d t^{2}} x{\\left(t \\right)} - 1.0 m \\left(- R \\sin{\\left(θ{\\left(t \\right)} \\right)} \\left(\\frac{d}{d t} θ{\\left(t \\right)}\\right)^{2} + R \\cos{\\left(θ{\\left(t \\right)} \\right)} \\frac{d^{2}}{d t^{2}} θ{\\left(t \\right)} + \\frac{d^{2}}{d t^{2}} x{\\left(t \\right)}\\right)\\\\1.0 R m \\left(- R \\frac{d^{2}}{d t^{2}} θ{\\left(t \\right)} + g \\sin{\\left(θ{\\left(t \\right)} \\right)} - \\cos{\\left(θ{\\left(t \\right)} \\right)} \\frac{d^{2}}{d t^{2}} x{\\left(t \\right)}\\right)\\end{matrix}\\right]$"
      ],
      "text/plain": [
       "Eq(Matrix([\n",
       "[0],\n",
       "[0]]), Matrix([\n",
       "[-1.0*M*Derivative(x(t), (t, 2)) - 1.0*m*(-R*sin(θ(t))*Derivative(θ(t), t)**2 + R*cos(θ(t))*Derivative(θ(t), (t, 2)) + Derivative(x(t), (t, 2)))],\n",
       "[                                                       1.0*R*m*(-R*Derivative(θ(t), (t, 2)) + g*sin(θ(t)) - cos(θ(t))*Derivative(x(t), (t, 2)))]]))"
      ]
     },
     "metadata": {},
     "output_type": "display_data"
    }
   ],
   "source": [
    "#wrapping my lhs and rhs as matrices \n",
    "lhs = Matrix([EL_vec[0], EL_vec[1]])\n",
    "rhs = Matrix([0, 0])\n",
    "\n",
    "# define the equations\n",
    "eqn = Eq(lhs, rhs)\n",
    "\n",
    "print('E/L in Matrix form, ready for solving')\n",
    "display(sym.simplify(eqn))"
   ]
  },
  {
   "cell_type": "code",
   "execution_count": 26,
   "metadata": {
    "scrolled": true
   },
   "outputs": [
    {
     "name": "stdout",
     "output_type": "stream",
     "text": [
      "solution: \n"
     ]
    },
    {
     "data": {
      "text/latex": [
       "$\\displaystyle \\frac{d^{2}}{d t^{2}} x{\\left(t \\right)} = \\frac{m \\left(R \\left(\\frac{d}{d t} θ{\\left(t \\right)}\\right)^{2} - g \\cos{\\left(θ{\\left(t \\right)} \\right)}\\right) \\sin{\\left(θ{\\left(t \\right)} \\right)}}{M + m \\sin^{2}{\\left(θ{\\left(t \\right)} \\right)}}$"
      ],
      "text/plain": [
       "Eq(Derivative(x(t), (t, 2)), m*(R*Derivative(θ(t), t)**2 - g*cos(θ(t)))*sin(θ(t))/(M + m*sin(θ(t))**2))"
      ]
     },
     "metadata": {},
     "output_type": "display_data"
    },
    {
     "data": {
      "text/latex": [
       "$\\displaystyle \\frac{d^{2}}{d t^{2}} θ{\\left(t \\right)} = - \\frac{\\left(R m \\cos{\\left(θ{\\left(t \\right)} \\right)} \\left(\\frac{d}{d t} θ{\\left(t \\right)}\\right)^{2} - g \\left(M + m\\right)\\right) \\sin{\\left(θ{\\left(t \\right)} \\right)}}{R \\left(M + m \\sin^{2}{\\left(θ{\\left(t \\right)} \\right)}\\right)}$"
      ],
      "text/plain": [
       "Eq(Derivative(θ(t), (t, 2)), -(R*m*cos(θ(t))*Derivative(θ(t), t)**2 - g*(M + m))*sin(θ(t))/(R*(M + m*sin(θ(t))**2)))"
      ]
     },
     "metadata": {},
     "output_type": "display_data"
    }
   ],
   "source": [
    "#solving for ddx and ddθ...\n",
    "q = Matrix([xddot, thddot])\n",
    "soln = solve(eqn, q, dict=True) # this will return the solution \n",
    "                                     # as a Python dictionary\n",
    "ELsolve = []\n",
    "\n",
    "for sol in soln:\n",
    "    print('solution: ')\n",
    "    for v in q:\n",
    "        bloop = sym.Eq(v, sol[v])\n",
    "        ELsolve.append(sol[v])\n",
    "        #ELsolve.append(bloop)\n",
    "        display(bloop)"
   ]
  },
  {
   "cell_type": "code",
   "execution_count": 27,
   "metadata": {},
   "outputs": [
    {
     "data": {
      "text/latex": [
       "$\\displaystyle - \\frac{\\left(R m \\cos{\\left(θ{\\left(t \\right)} \\right)} \\left(\\frac{d}{d t} θ{\\left(t \\right)}\\right)^{2} - g \\left(M + m\\right)\\right) \\sin{\\left(θ{\\left(t \\right)} \\right)}}{R \\left(M + m \\sin^{2}{\\left(θ{\\left(t \\right)} \\right)}\\right)}$"
      ],
      "text/plain": [
       "-(R*m*cos(θ(t))*Derivative(θ(t), t)**2 - g*(M + m))*sin(θ(t))/(R*(M + m*sin(θ(t))**2))"
      ]
     },
     "execution_count": 27,
     "metadata": {},
     "output_type": "execute_result"
    }
   ],
   "source": [
    "ELsolve[1]"
   ]
  },
  {
   "cell_type": "code",
   "execution_count": 28,
   "metadata": {},
   "outputs": [
    {
     "name": "stdout",
     "output_type": "stream",
     "text": [
      "substituted expressions for xddot, thddot, respectively:\n"
     ]
    },
    {
     "data": {
      "text/latex": [
       "$\\displaystyle \\frac{\\left(- 9.8 \\cos{\\left(θ{\\left(t \\right)} \\right)} + \\left(\\frac{d}{d t} θ{\\left(t \\right)}\\right)^{2}\\right) \\sin{\\left(θ{\\left(t \\right)} \\right)}}{\\sin^{2}{\\left(θ{\\left(t \\right)} \\right)} + 2}$"
      ],
      "text/plain": [
       "(-9.8*cos(θ(t)) + Derivative(θ(t), t)**2)*sin(θ(t))/(sin(θ(t))**2 + 2)"
      ]
     },
     "metadata": {},
     "output_type": "display_data"
    },
    {
     "data": {
      "text/latex": [
       "$\\displaystyle - \\frac{\\left(\\cos{\\left(θ{\\left(t \\right)} \\right)} \\left(\\frac{d}{d t} θ{\\left(t \\right)}\\right)^{2} - 29.4\\right) \\sin{\\left(θ{\\left(t \\right)} \\right)}}{\\sin^{2}{\\left(θ{\\left(t \\right)} \\right)} + 2}$"
      ],
      "text/plain": [
       "-(cos(θ(t))*Derivative(θ(t), t)**2 - 29.4)*sin(θ(t))/(sin(θ(t))**2 + 2)"
      ]
     },
     "metadata": {},
     "output_type": "display_data"
    }
   ],
   "source": [
    "# plugging in M=2,m=1,R=1,g=9.8\n",
    "xddot_sub =  ELsolve[0].subs([(M,2),(m,1),(R,1),(g,9.8)])\n",
    "thddot_sub = ELsolve[1].subs([(M,2),(m,1),(R,1),(g,9.8)])\n",
    "\n",
    "print('substituted expressions for xddot, thddot, respectively:')\n",
    "display(xddot_sub,thddot_sub)"
   ]
  },
  {
   "cell_type": "code",
   "execution_count": 29,
   "metadata": {},
   "outputs": [
    {
     "name": "stdout",
     "output_type": "stream",
     "text": [
      "at the initial condition x = 0, xdot = 0, th = 0.1, thdot = 0...\n",
      "xddot =  -0.48432629034588753\n",
      "thddot =   1.4602741593867283\n"
     ]
    }
   ],
   "source": [
    "#function-izing the substituted equations with lambdify...\n",
    "xddot_func  = sym.lambdify([[x, th, xdot, thdot]], xddot_sub)\n",
    "thddot_func = sym.lambdify([[x, th, xdot, thdot]], thddot_sub)\n",
    "\n",
    "#testing with initial values x = 0, xdot = 0, th = 0.1, thdot = 0...\n",
    "print('at the initial condition x = 0, xdot = 0, th = 0.1, thdot = 0...')\n",
    "print('xddot = ',    xddot_func([0,0.1,0,0]))\n",
    "print('thddot =  ', thddot_func([0,0.1,0,0]))"
   ]
  },
  {
   "cell_type": "markdown",
   "metadata": {
    "colab_type": "text",
    "id": "mZcApZxjbtBn"
   },
   "source": [
    "## Problem 8 (10pts)\n",
    "\n",
    "Based on your symbolic and numerical solutions for $\\ddot{x}(t)$ and $\\ddot{\\theta}(t)$, which are now functions of $x(t), \\theta(t), \\dot{x}(t)$ and $\\dot{\\theta}(t)$, simulate the system for $t\\in[0,10]$, with initial condition as $x(0)=0, \\theta(0)=0.1, \\dot{x}(0)=0, \\dot{\\theta}(0)=0$, using the numerical integration and simulation functions provided below. Plot the trajectories of $x(t)$ and $\\theta(t)$ versus time.\n",
    "\n",
    "*Hint 1: The numerical simulation function here can only simulate systems with first-order dynamics, which means the dynamics function feeded to numerical integration and simulation functions needs to return the first-order time derivative of the input state. This might be confusing because our solutions $\\ddot{x}(t)$ and $\\ddot{\\theta}(t)$ are second-order time derivative. The trick here is to extend the system state from $[x(t), \\theta(t)]$ to $[x(t), \\theta(t), \\dot{x}(t), \\dot{\\theta}(t)]$, thus the time derivative of the state vector becomes $[\\dot{x}(t), \\dot{\\theta}(t), \\ddot{x}(t), \\ddot{\\theta}(t)]$. Now, when you write down the system dynamics function, the third and forth elements of input vector $\\dot{x}(t)$ and $\\dot{\\theta}(t)$ can be put into the output vector directly, and we already know the rest two elements of the output vector, from our previous solution of Euler-Lagrange equations. More information can be found in Lecture Note 1 (Backgroud) - Section 1.4 Ordinary Differential Equations. An example is provided below for simulating a particle falling in gravity, where the acceleration $\\ddot{x}(t) = -9.8$.*\n",
    "\n",
    "*Hint 2: You will need to include the numerical evaluations for $\\ddot{x}(t)$ and $\\ddot{\\theta}(t)$ in system dynamics function, you can either use your previous **lambdify()** results, or hand code the equations from previous symbolic solutions. Here using **lambdify()** is recommended, since in later homeworks you will have much more complicated equations.*\n",
    "\n",
    "**Turn in: A copy of the code used to simulate the system, with the plot of the simulated trajectories.**"
   ]
  },
  {
   "cell_type": "code",
   "execution_count": 30,
   "metadata": {
    "colab": {
     "base_uri": "https://localhost:8080/",
     "height": 34
    },
    "colab_type": "code",
    "executionInfo": {
     "elapsed": 1017,
     "status": "ok",
     "timestamp": 1600889237957,
     "user": {
      "displayName": "Muchen Sun",
      "photoUrl": "https://lh3.googleusercontent.com/a-/AOh14Ginp48i0jmOxCe1Ash9fdfU0b4Pe6DGLT9uqf_M=s64",
      "userId": "16296401493550679771"
     },
     "user_tz": 300
    },
    "id": "7_k47zI8btBo",
    "outputId": "f7d019be-e351-44cb-8a08-fb489549e558"
   },
   "outputs": [],
   "source": [
    "def integrate(f, xt, dt):\n",
    "    \"\"\"\n",
    "    This function takes in an initial condition x(t) and a timestep dt,\n",
    "    as well as a dynamical system f(x) that outputs a vector of the\n",
    "    same dimension as x(t). It outputs a vector x(t+dt) at the future\n",
    "    time step.\n",
    "    \n",
    "    Parameters\n",
    "    ============\n",
    "    dyn: Python function\n",
    "        derivate of the system at a given step x(t), \n",
    "        it can considered as \\dot{x}(t) = func(x(t))\n",
    "    xt: NumPy array\n",
    "        current step x(t)\n",
    "    dt: \n",
    "        step size for integration\n",
    "\n",
    "    Return\n",
    "    ============\n",
    "    new_xt: \n",
    "        value of x(t+dt) integrated from x(t)\n",
    "    \"\"\"\n",
    "    k1 = dt * f(xt)\n",
    "    k2 = dt * f(xt+k1/2.)\n",
    "    k3 = dt * f(xt+k2/2.)\n",
    "    k4 = dt * f(xt+k3)\n",
    "    new_xt = xt + (1/6.) * (k1+2.0*k2+2.0*k3+k4)\n",
    "    return new_xt\n",
    "\n",
    "def simulate(f, x0, tspan, dt, integrate):\n",
    "    \"\"\"\n",
    "    This function takes in an initial condition x0, a timestep dt,\n",
    "    a time span tspan consisting of a list [min_time, max_time],\n",
    "    as well as a dynamical system f(x) that outputs a vector of the\n",
    "    same dimension as x0. It outputs a full trajectory simulated\n",
    "    over the time span of dimensions (xvec_size, time_vec_size).\n",
    "    \n",
    "    Parameters\n",
    "    ============\n",
    "    f: Python function\n",
    "        derivate of the system at a given step x(t), \n",
    "        it can considered as \\dot{x}(t) = func(x(t))\n",
    "    x0: NumPy array\n",
    "        initial conditions\n",
    "    tspan: Python list\n",
    "        tspan = [min_time, max_time], it defines the start and end\n",
    "        time of simulation\n",
    "    dt:\n",
    "        time step for numerical integration\n",
    "    integrate: Python function\n",
    "        numerical integration method used in this simulation\n",
    "\n",
    "    Return\n",
    "    ============\n",
    "    x_traj:\n",
    "        simulated trajectory of x(t) from t=0 to tf\n",
    "    \"\"\"\n",
    "    N = int((max(tspan)-min(tspan))/dt)\n",
    "    x = np.copy(x0)\n",
    "    tvec = np.linspace(min(tspan),max(tspan),N)\n",
    "    xtraj = np.zeros((len(x0),N))\n",
    "    for i in range(N):\n",
    "        xtraj[:,i]=integrate(f,x,dt)\n",
    "        x = np.copy(xtraj[:,i])\n",
    "    return xtraj \n",
    "\n",
    "import numpy as np"
   ]
  },
  {
   "cell_type": "code",
   "execution_count": 31,
   "metadata": {},
   "outputs": [],
   "source": [
    "def dyn(s):\n",
    "    \"\"\"\n",
    "    System dynamics function (extended)\n",
    "    \n",
    "    Parameters\n",
    "    ============\n",
    "    s: NumPy array\n",
    "        s = [x, xdot] is the extended system\n",
    "        state vector, includng the position and\n",
    "        the velocity of the particle\n",
    "    \n",
    "    Return\n",
    "    ============\n",
    "    sdot: NumPy array\n",
    "        time derivative of input state vector,\n",
    "        sdot = [xdot, xddot]\n",
    "    \"\"\"\n",
    "    return np.array([s[2],s[3], xddot_func([s[0],s[1],s[2],s[3]]),thddot_func([s[0],s[1],s[2],s[3]])])"
   ]
  },
  {
   "cell_type": "code",
   "execution_count": 32,
   "metadata": {},
   "outputs": [
    {
     "name": "stdout",
     "output_type": "stream",
     "text": [
      "shape of traj:  (4, 100)\n"
     ]
    }
   ],
   "source": [
    "# define initial state\n",
    "s0 = np.array([0,0.1,0,0]) \n",
    "\n",
    "#simulate trajectory\n",
    "traj = simulate(dyn, s0, [0, 10], 0.1, integrate) \n",
    "print('shape of traj: ', traj.shape)"
   ]
  },
  {
   "cell_type": "code",
   "execution_count": 33,
   "metadata": {},
   "outputs": [
    {
     "name": "stdout",
     "output_type": "stream",
     "text": [
      "Simulated Trajectories of the cart (blue) and the pendulum (orange):\n"
     ]
    },
    {
     "data": {
      "image/png": "[encoded data removed]",
      "text/plain": [
       "<Figure size 432x288 with 1 Axes>"
      ]
     },
     "metadata": {
      "needs_background": "light"
     },
     "output_type": "display_data"
    }
   ],
   "source": [
    "#plotting...\n",
    "plt.plot(np.arange(100)*0.1,traj[0:2].T)\n",
    "\n",
    "print('Simulated Trajectories of the cart (blue) and the pendulum (orange):')\n",
    "plt.show()"
   ]
  }
 ],
 "metadata": {
  "colab": {
   "collapsed_sections": [],
   "name": "hw1-template.ipynb",
   "provenance": []
  },
  "kernelspec": {
   "display_name": "Python 3",
   "language": "python",
   "name": "python3"
  },
  "language_info": {
   "codemirror_mode": {
    "name": "ipython",
    "version": 3
   },
   "file_extension": ".py",
   "mimetype": "text/x-python",
   "name": "python",
   "nbconvert_exporter": "python",
   "pygments_lexer": "ipython3",
   "version": "3.7.6"
  }
 },
 "nbformat": 4,
 "nbformat_minor": 1
}
