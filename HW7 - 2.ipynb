{
 "cells": [
  {
   "cell_type": "markdown",
   "metadata": {
    "id": "CPQA-QCdiov-"
   },
   "source": [
    "# Mark Galperin - HW7\n",
    "# Due November 18, 2020\n",
    "\n",
    "*Please note that a **single** PDF file will be the only document that you turn in, which will include your answers to the problems with corresponding derivations and any code used to complete the problems. When including the code, please make sure you also include **code outputs**, and you don't need to include example code. Problems and deliverables that should be included with your submission are shown in **bold**.*\n",
    "\n",
    "*This Juputer Notebook file serves as a template for you to start homework, since we recommend to finish the homework using Jupyter Notebook. You can start with this notebook file with your local Jupyter environment, or upload it to Google Colab. You can include all the code and other deliverables in this notebook Jupyter Notebook supports $\\LaTeX$ for math equations, and you can export the whole notebook as a PDF file. But this is not the only option, if you are more comfortable with other ways, feel free to do so, as long as you can submit the homework in a single PDF file.*\n",
    "\n",
    "***"
   ]
  },
  {
   "cell_type": "code",
   "execution_count": 1,
   "metadata": {},
   "outputs": [],
   "source": [
    "# Update Sympy\n",
    "#!pip install --upgrade sympy"
   ]
  },
  {
   "cell_type": "code",
   "execution_count": 2,
   "metadata": {},
   "outputs": [
    {
     "name": "stdout",
     "output_type": "stream",
     "text": [
      "1.6.2\n"
     ]
    }
   ],
   "source": [
    "import sympy as sym \n",
    "from sympy.abc import t\n",
    "print(sym.__version__)"
   ]
  },
  {
   "cell_type": "code",
   "execution_count": 3,
   "metadata": {},
   "outputs": [],
   "source": [
    "#other imports...\n",
    "from sympy import Function, Matrix, Eq\n",
    "import numpy as np\n",
    "import matplotlib.pyplot as plt"
   ]
  },
  {
   "cell_type": "markdown",
   "metadata": {
    "id": "KKv8APHOiov_"
   },
   "source": [
    "## Problem 1 (20pts)\n",
    "\n",
    "Show that if $R\\in SO(n)$, then the matrix $A=\\frac{d}{dt}(R)R^{-1}$ is skew symmetric.\n",
    "    \n",
    "**Turn in: A scanned (or photograph from your phone or webcam) copy of your hand written solution. Or you can use \\LaTeX.**"
   ]
  },
  {
   "cell_type": "markdown",
   "metadata": {
    "id": "mvTiu3i4iowA"
   },
   "source": [
    "See scan"
   ]
  },
  {
   "cell_type": "markdown",
   "metadata": {
    "id": "mFJJTUjBiowE"
   },
   "source": [
    "## Problem 2 (20pts)\n",
    "\n",
    "Show that $\\underline{\\widehat{\\omega}}\\,\\underline{r}_b= -\\underline{\\widehat{r}}_b\\, \\underline{\\omega}$. \n",
    "    \n",
    "**Turn in: A scanned (or photograph from your phone or webcam) copy of your hand written solution. Or you can use \\LaTeX.**"
   ]
  },
  {
   "cell_type": "markdown",
   "metadata": {
    "id": "Qnp1vO7NiowE"
   },
   "source": [
    "See scan"
   ]
  },
  {
   "cell_type": "code",
   "execution_count": 4,
   "metadata": {
    "id": "IyJRKHtFiowI",
    "outputId": "17320278-04ad-433d-c77a-20091e3de306"
   },
   "outputs": [
    {
     "data": {
      "text/html": [
       "<table><tr><td><img src='https://github.com/MuchenSun/ME314pngs/raw/master/biped_simplified.jpg' width=700' height='350'></table>"
      ],
      "text/plain": [
       "<IPython.core.display.HTML object>"
      ]
     },
     "metadata": {},
     "output_type": "display_data"
    }
   ],
   "source": [
    "from IPython.core.display import HTML\n",
    "display(HTML(\"<table><tr><td><img src='https://github.com/MuchenSun/ME314pngs/raw/master/biped_simplified.jpg' width=700' height='350'></table>\"))"
   ]
  },
  {
   "cell_type": "markdown",
   "metadata": {
    "id": "G8bQPeEeiowN"
   },
   "source": [
    "## Problem 3 (60pts)\n",
    "\n",
    "As shown in the image, consider one is doing split. To simplify the model, we ignore the upper body and assume the knees can not bend --- which means we only need four variables $q=[x, y, \\theta_1, \\theta_2]$ to configure the system. $x$ and $y$ are the position of the intersection point of the two legs, $\\theta_1$ and $\\theta_2$ are the angles between the legs and the green vertical dash line. The feet are constrained on the ground, and there is no friction between the feet and the ground. \n",
    "    \n",
    "Each leg is a rigid body with length $L=1$, width $W=0.2$, mass $m=1$, and rotational inertia $J=1$ (assuming the center of mass is at the center of geometry). Moreover, there are two torques applied on $\\theta_1$ and $\\theta_2$ to control the legs to track a desired trajectory:\n",
    "$$\n",
    "\\begin{aligned}\n",
    "\\theta_1^d(t) & = \\frac{\\pi}{20} + \\frac{\\pi}{3} \\sin^2(\\frac{t}{2}) \\\\\n",
    "\\theta_2^d(t) & =-\\frac{\\pi}{20} - \\frac{\\pi}{3} \\sin^2(\\frac{t}{2})\n",
    "\\end{aligned}\n",
    "$$ and the torques are:\n",
    "$$\n",
    "\\begin{aligned}\n",
    "F_{\\theta_1 }& = -k_1(\\theta_1-\\theta_1^d)\\\\\n",
    "F_{\\theta_2} & = -k_1(\\theta_2-\\theta_2^d)\n",
    "\\end{aligned}\n",
    "$$ In this problem we use $k_1=20$. \n",
    "\n",
    "Given the model description above, define the frames that you need (several example frames are shown in the image as well), simulate the motion of the biped for $t\\in[0,10], dt=0.01$, with initial condition $q=[0, L_1\\cos(\\frac{\\pi}{20}), \\frac{\\pi}{20}, -\\frac{\\pi}{20}]$. You will need to modify the animation function to display the leg as a rectangle, an example of the animation can be found at [https://youtu.be/w8XHYrEoWTc](https://youtu.be/w8XHYrEoWTc). \n",
    "\n",
    "*Hint 1: Even though this is a 2D system, in order to compute kinetic energy from both translation and rotation, you will need to model the system in 3D world --- the $z$ coordinate is always zero and the rotation is around $z$ axis (based on these facts, what should the SE(3) matrix and rotational inertia tensor look like?). This also means you need to represent transformation with SE(3) and the body velocity $\\mathcal{V}_b\\in\\mathbb{R}^6$.*\n",
    "\n",
    "*Hint 2: It could be helpful to define several helper functions for all the matrix operations you will need to use. For example, a function returns SE(3) matrices given rotation angle and 2D translation vector, functions for ''hat'' and ''unhat'' operations, a function for matrix inverse of SE(3) (which is definitely not the same as the SymPy matrix inverse function), and a function return the time derivative of SO(3) or SE(3).*\n",
    "\n",
    "*Hint 3: In this problem the external force depends on time $t$, therefore in order to solve for the symbolic solution you need to substitute your configuration variables, which are defined as symbolic functions of time $t$ (such as $\\theta_1(t)$ and $\\frac{d}{dt}\\theta_1(t)$), with dummy symbolic variables, and include $t$ as a separate symbol to be solved for. For the same reason (the dynamic now explicitly depends on time), you will need to do some tiny modifications on the ''integrate'' and ''simulate'' functions, a good reference can be found at [https://en.wikipedia.org/wiki/Runge-Kutta_methods](https://en.wikipedia.org/wiki/Runge-Kutta_methods).*\n",
    "\n",
    "*Hint 4: Symbolically solving this system should be fast, but if you encountered some problem when solving the dynamics symbolically, an alternative method is to solve the system numerically --- substitute in the system state at each time step during simulation and solve for the numerical solution --- but based on my experience, this would cost more than one hour for 500 time steps, so it's not recommended.*\n",
    "\n",
    "*Hint 5: The animation of this problem is similar to the one in last homework --- the coordinates of the vertices in the body frame are constant, you just need to transfer them back to the world frame using the the transformation matrices you already have in the simulation.*\n",
    "\n",
    "*Hint 6: Be careful to consider the relationship between the frames and to not build in any implicit assumptions (such as assuming some variables are fixed).*\n",
    "\n",
    "*Hint 7: The rotation, by convention, is assumed to follow the right hand rule, which means the z-axis is out of the screen and the positive rotation orientation is counter-clockwise. Make sure you follow a consistent set of positive directions for all the computation.*\n",
    "\n",
    "*Hint 8: This problem is designed as a ''mini-project'', it could help you estimate the complexity of your final project, and you could adjust your proposal based on your experience with this problem.*\n",
    "\n",
    "**Turn in: A copy of the code used to simulate and animate the system. Also, include a plot of the trajectory and upload a video of animation separately through Canvas. The video should be in \".mp4\" format, you can use screen capture or record the screen directly with your phone.**"
   ]
  },
  {
   "cell_type": "markdown",
   "metadata": {},
   "source": [
    "Matrix operation functions"
   ]
  },
  {
   "cell_type": "code",
   "execution_count": 5,
   "metadata": {},
   "outputs": [],
   "source": [
    "def get_SE3_planar(R_th,p):\n",
    "    \"\"\"\n",
    "    This function assembles planar homogenous transforms in SE(3) given either a rotation and a translation,\n",
    "    or an R matrix and a translation.\n",
    "    \n",
    "    Takes...\n",
    "        R_th: This input can be either a sympy matrix (at least 2x2) that is the rotation matrix for\n",
    "            planar rotation about z, OR it can be a numerical value for the angle theta rotated about z\n",
    "        \n",
    "        p: a 3x1 (or 2x1) sympy matrix that is a homogenous coordinate vector for an x, y translation.\n",
    "            p=0 is an acceptable input, shorthand for p = Matrix([0,0,0])\n",
    "        \n",
    "    Returns...\n",
    "        g_SE3: a 3x3 sympy matrix that is a planar homogenous transform in SE(3)\n",
    "    \"\"\"\n",
    "    \n",
    "    #allowing p=0 as an input...\n",
    "    if p==0:\n",
    "        p = Matrix([0,0,0])\n",
    "    \n",
    "    #assembling the matrix...\n",
    "    if type(R_th).__name__ == 'MutableDenseMatrix':\n",
    "        #given R_th is a matrix in SE(2) at least... \n",
    "        g_SE3 = Matrix([[R_th[0,0], R_th[0,1], 0, p[0]],\n",
    "                  [R_th[1,0], R_th[1,1], 0, p[1]],\n",
    "                  [0, 0, 1, 0],\n",
    "                  [0, 0, 0, 1]])\n",
    "    else:   \n",
    "        #if R_or_th is a numerical value...\n",
    "        g_SE3 = Matrix([[sym.cos(R_th), -sym.sin(R_th), 0, p[0]],\n",
    "                      [sym.sin(R_th), sym.cos(R_th), 0, p[1]],\n",
    "                      [0, 0, 1, 0],\n",
    "                      [0, 0, 0, 1]])\n",
    "    \n",
    "    return g_SE3"
   ]
  },
  {
   "cell_type": "code",
   "execution_count": 6,
   "metadata": {},
   "outputs": [],
   "source": [
    "def hat(w):\n",
    "    w_hat = Matrix([[0,    -w[2], w[1] ],\n",
    "                    [w[2],   0,  -w[0] ],\n",
    "                    [-w[1], w[0],   0  ]])\n",
    "    return w_hat"
   ]
  },
  {
   "cell_type": "code",
   "execution_count": 7,
   "metadata": {},
   "outputs": [],
   "source": [
    "def unhat(w_hat):\n",
    "    return Matrix([w_hat[2,1],w_hat[0,2],w_hat[1,0]])"
   ]
  },
  {
   "cell_type": "code",
   "execution_count": 8,
   "metadata": {},
   "outputs": [],
   "source": [
    "def g_inv(g):\n",
    "    \"\"\"\n",
    "    This function calculates the inverse of a transformation g, in (planar) SE(3). \n",
    "    \n",
    "    Dependencies:\n",
    "        get_SE3_planar(th,p): Generates a planar homogenous transform in SE(3). Used for output.\n",
    "    \n",
    "    Takes...\n",
    "        g: a 3x3 sympy matrix in SE(3)\n",
    "        \n",
    "    Returns...\n",
    "        g_out: a 3x3 sympy matrix in SE(3) that is the \"inverse\" of g\n",
    "    \"\"\"\n",
    "    #dissecting the input transformation g\n",
    "    R = g[0:3,0:3]\n",
    "    p = Matrix([g[0,3],g[1,3],1])\n",
    "    \n",
    "    RT = R.T\n",
    "    p_inv = -RT*p\n",
    "    \n",
    "    return get_SE3_planar(RT,p_inv)"
   ]
  },
  {
   "cell_type": "code",
   "execution_count": 9,
   "metadata": {},
   "outputs": [],
   "source": [
    "def g_dot(g,q_th):\n",
    "    \"\"\"\n",
    "    This function gives the time-derivative of g\n",
    "    g_dot = [R_dot p_dot\n",
    "             0     1    ]\n",
    "    ...where R_dot = Rw = wR, and w = [0 0 dq_th/dt], where q_th is the relevant config variable \n",
    "    \n",
    "    TODO - more docstring\n",
    "    \"\"\"\n",
    "    w = Matrix([0,0,1])\n",
    "    \n",
    "    #R_dot...\n",
    "    R = g[0:3,0:3]\n",
    "    R_dot = R*hat(w)\n",
    "    \n",
    "    #p_dot...\n",
    "    p = g[0:3,3]\n",
    "    p_dot = p.diff(t)\n",
    "    \n",
    "    #generating the transform...\n",
    "    return get_SE3_planar(R_dot,p_dot)"
   ]
  },
  {
   "cell_type": "code",
   "execution_count": 10,
   "metadata": {},
   "outputs": [],
   "source": [
    "def get_Vb(g,select='Vb'):\n",
    "    \n",
    "    #TODO: selection dictionary\n",
    "    \n",
    "    V4 = g_inv(g)*g_dot(g)\n",
    "    w_hat = V4[0:3,0:3]\n",
    "    v = V4[0:3,3]\n",
    "    w = unhat(w_hat)\n",
    "    Vb = v.col_join(w)\n",
    "    return Vb"
   ]
  },
  {
   "cell_type": "code",
   "execution_count": 11,
   "metadata": {},
   "outputs": [
    {
     "data": {
      "text/latex": [
       "$\\displaystyle \\left[\\begin{matrix}1 & 2 & 3\\\\4 & 5 & 6\\\\7 & 8 & 9\\end{matrix}\\right]$"
      ],
      "text/plain": [
       "Matrix([\n",
       "[1, 2, 3],\n",
       "[4, 5, 6],\n",
       "[7, 8, 9]])"
      ]
     },
     "metadata": {},
     "output_type": "display_data"
    },
    {
     "data": {
      "text/latex": [
       "$\\displaystyle \\left[\\begin{matrix}1 & 2\\\\4 & 5\\end{matrix}\\right]$"
      ],
      "text/plain": [
       "Matrix([\n",
       "[1, 2],\n",
       "[4, 5]])"
      ]
     },
     "metadata": {},
     "output_type": "display_data"
    },
    {
     "data": {
      "text/latex": [
       "$\\displaystyle \\left[\\begin{matrix}1 & 2 & 3 & 4\\\\5 & 6 & 7 & 8\\\\9 & 10 & 11 & 12\\\\13 & 14 & 15 & 16\\end{matrix}\\right]$"
      ],
      "text/plain": [
       "Matrix([\n",
       "[ 1,  2,  3,  4],\n",
       "[ 5,  6,  7,  8],\n",
       "[ 9, 10, 11, 12],\n",
       "[13, 14, 15, 16]])"
      ]
     },
     "metadata": {},
     "output_type": "display_data"
    },
    {
     "data": {
      "text/latex": [
       "$\\displaystyle \\left[\\begin{matrix}1 & 2 & 3\\\\5 & 6 & 7\\\\9 & 10 & 11\\end{matrix}\\right]$"
      ],
      "text/plain": [
       "Matrix([\n",
       "[1,  2,  3],\n",
       "[5,  6,  7],\n",
       "[9, 10, 11]])"
      ]
     },
     "metadata": {},
     "output_type": "display_data"
    },
    {
     "data": {
      "text/latex": [
       "$\\displaystyle \\left[\\begin{matrix}4\\\\8\\\\12\\end{matrix}\\right]$"
      ],
      "text/plain": [
       "Matrix([\n",
       "[ 4],\n",
       "[ 8],\n",
       "[12]])"
      ]
     },
     "metadata": {},
     "output_type": "display_data"
    }
   ],
   "source": [
    "A = Matrix([[1,2,3],[4,5,6],[7,8,9]])\n",
    "display(A)\n",
    "B = A[0:2,0:2]\n",
    "display(B)\n",
    "C = Matrix([[1,2,3,4],[5,6,7,8],[9,10,11,12],[13,14,15,16]])\n",
    "display(C)\n",
    "D = C[0:3,0:3]\n",
    "display(D)\n",
    "E = C[0:3,3]\n",
    "display(E)"
   ]
  },
  {
   "cell_type": "code",
   "execution_count": 12,
   "metadata": {},
   "outputs": [
    {
     "name": "stdout",
     "output_type": "stream",
     "text": [
      "for the following inputs...\n"
     ]
    },
    {
     "data": {
      "text/latex": [
       "$\\displaystyle θ = \\frac{\\pi}{6}$"
      ],
      "text/plain": [
       "Eq(θ, pi/6)"
      ]
     },
     "metadata": {},
     "output_type": "display_data"
    },
    {
     "data": {
      "text/latex": [
       "$\\displaystyle p = \\left[\\begin{matrix}2\\\\1\\\\1\\end{matrix}\\right]$"
      ],
      "text/plain": [
       "Eq(p, Matrix([\n",
       "[2],\n",
       "[1],\n",
       "[1]]))"
      ]
     },
     "metadata": {},
     "output_type": "display_data"
    },
    {
     "name": "stdout",
     "output_type": "stream",
     "text": [
      "the SE(3) representation is:\n"
     ]
    },
    {
     "data": {
      "text/latex": [
       "$\\displaystyle \\left[\\begin{matrix}0.866025403784439 & -0.5 & 0 & 2\\\\0.5 & 0.866025403784439 & 0 & 1\\\\0 & 0 & 1 & 0\\\\0 & 0 & 0 & 1\\end{matrix}\\right]$"
      ],
      "text/plain": [
       "Matrix([\n",
       "[0.866025403784439,              -0.5, 0, 2],\n",
       "[              0.5, 0.866025403784439, 0, 1],\n",
       "[                0,                 0, 1, 0],\n",
       "[                0,                 0, 0, 1]])"
      ]
     },
     "metadata": {},
     "output_type": "display_data"
    },
    {
     "name": "stdout",
     "output_type": "stream",
     "text": [
      "the \"inverse\" transformation is:\n"
     ]
    },
    {
     "data": {
      "text/latex": [
       "$\\displaystyle \\left[\\begin{matrix}0.866025403784439 & 0.5 & 0 & -2.23205080756888\\\\-0.5 & 0.866025403784439 & 0 & 0.133974596215561\\\\0 & 0 & 1 & 0\\\\0 & 0 & 0 & 1\\end{matrix}\\right]$"
      ],
      "text/plain": [
       "Matrix([\n",
       "[0.866025403784439,               0.5, 0, -2.23205080756888],\n",
       "[             -0.5, 0.866025403784439, 0, 0.133974596215561],\n",
       "[                0,                 0, 1,                 0],\n",
       "[                0,                 0, 0,                 1]])"
      ]
     },
     "metadata": {},
     "output_type": "display_data"
    },
    {
     "name": "stdout",
     "output_type": "stream",
     "text": [
      "g-dot...\n"
     ]
    },
    {
     "data": {
      "text/latex": [
       "$\\displaystyle \\left[\\begin{matrix}-0.5 & -0.866025403784439 & 0 & 0\\\\0.866025403784439 & -0.5 & 0 & 0\\\\0 & 0 & 1 & 0\\\\0 & 0 & 0 & 1\\end{matrix}\\right]$"
      ],
      "text/plain": [
       "Matrix([\n",
       "[             -0.5, -0.866025403784439, 0, 0],\n",
       "[0.866025403784439,               -0.5, 0, 0],\n",
       "[                0,                  0, 1, 0],\n",
       "[                0,                  0, 0, 1]])"
      ]
     },
     "metadata": {},
     "output_type": "display_data"
    },
    {
     "name": "stdout",
     "output_type": "stream",
     "text": [
      "Vb-hat...\n"
     ]
    },
    {
     "data": {
      "text/latex": [
       "$\\displaystyle \\left[\\begin{matrix}0 & -1.0 & 0 & -2.23205080756888\\\\1.0 & 0 & 0 & 0.133974596215561\\\\0 & 0 & 1 & 0\\\\0 & 0 & 0 & 1\\end{matrix}\\right]$"
      ],
      "text/plain": [
       "Matrix([\n",
       "[  0, -1.0, 0, -2.23205080756888],\n",
       "[1.0,    0, 0, 0.133974596215561],\n",
       "[  0,    0, 1,                 0],\n",
       "[  0,    0, 0,                 1]])"
      ]
     },
     "metadata": {},
     "output_type": "display_data"
    }
   ],
   "source": [
    "#testing out the SE(3) matrices...\n",
    "ang = np.pi/6\n",
    "ang_s = sym.pi/6\n",
    "pee = Matrix([2,1,1])\n",
    "\n",
    "#SE3\n",
    "g0 = get_SE3_planar(ang,pee)\n",
    "#inverse\n",
    "g0_inv = g_inv(g0)\n",
    "#derivative\n",
    "g0_dot = g_dot(g0)\n",
    "\n",
    "print('for the following inputs...')\n",
    "display(Eq(sym.symbols('θ'),ang_s,evaluate=0))\n",
    "display(Eq(sym.symbols('p'),pee,evaluate=0))\n",
    "print('the SE(3) representation is:')\n",
    "display(g0)\n",
    "print('the \\\"inverse\\\" transformation is:')\n",
    "display(g0_inv)\n",
    "print('g-dot...')\n",
    "display(g0_dot)\n",
    "print('Vb-hat...')\n",
    "V4 = g0_inv*g0_dot\n",
    "display(V4)"
   ]
  },
  {
   "cell_type": "code",
   "execution_count": 13,
   "metadata": {},
   "outputs": [
    {
     "name": "stdout",
     "output_type": "stream",
     "text": [
      "testing out the hat functions...\n"
     ]
    },
    {
     "data": {
      "text/latex": [
       "$\\displaystyle a = \\left[\\begin{matrix}1\\\\2\\\\3\\end{matrix}\\right]$"
      ],
      "text/plain": [
       "Eq(a, Matrix([\n",
       "[1],\n",
       "[2],\n",
       "[3]]))"
      ]
     },
     "metadata": {},
     "output_type": "display_data"
    },
    {
     "data": {
      "text/latex": [
       "$\\displaystyle a_{hat} = \\left[\\begin{matrix}0 & -3 & 2\\\\3 & 0 & -1\\\\-2 & 1 & 0\\end{matrix}\\right]$"
      ],
      "text/plain": [
       "Eq(a_{hat}, Matrix([\n",
       "[ 0, -3,  2],\n",
       "[ 3,  0, -1],\n",
       "[-2,  1,  0]]))"
      ]
     },
     "metadata": {},
     "output_type": "display_data"
    },
    {
     "data": {
      "text/latex": [
       "$\\displaystyle \\mathrm{unhat}(a_{hat}) = \\left[\\begin{matrix}1\\\\2\\\\3\\end{matrix}\\right]$"
      ],
      "text/plain": [
       "Eq(\\mathrm{unhat}(a_{hat}), Matrix([\n",
       "[1],\n",
       "[2],\n",
       "[3]]))"
      ]
     },
     "metadata": {},
     "output_type": "display_data"
    }
   ],
   "source": [
    "#testing out the hat functions\n",
    "a = Matrix([1,2,3])\n",
    "a_s = sym.symbols(r'a')\n",
    "a_hat_s = sym.symbols(r'a_{hat}')\n",
    "a_unhat_s = sym.symbols(r'\\mathrm{unhat}(a_{hat})')\n",
    "\n",
    "a_hat = hat(a)\n",
    "a_unhat = unhat(a_hat)\n",
    "\n",
    "print('testing out the hat functions...')\n",
    "display(Eq(a_s,a,evaluate=0))\n",
    "display(Eq(a_hat_s,a_hat,evaluate=0))\n",
    "display(Eq(a_unhat_s,a_unhat,evaluate=0))"
   ]
  },
  {
   "cell_type": "markdown",
   "metadata": {},
   "source": [
    "**Symbols and Configuration**"
   ]
  },
  {
   "cell_type": "code",
   "execution_count": 14,
   "metadata": {},
   "outputs": [
    {
     "name": "stdout",
     "output_type": "stream",
     "text": [
      "configuration:\n"
     ]
    },
    {
     "data": {
      "text/latex": [
       "$\\displaystyle \\left[\\begin{matrix}x{\\left(t \\right)}\\\\y{\\left(t \\right)}\\\\\\operatorname{θ_{1}}{\\left(t \\right)}\\\\\\operatorname{θ_{2}}{\\left(t \\right)}\\end{matrix}\\right]$"
      ],
      "text/plain": [
       "Matrix([\n",
       "[  x(t)],\n",
       "[  y(t)],\n",
       "[θ_1(t)],\n",
       "[θ_2(t)]])"
      ]
     },
     "metadata": {},
     "output_type": "display_data"
    }
   ],
   "source": [
    "#constants...\n",
    "g = 9.8\n",
    "\n",
    "#symbols...\n",
    "L1 = sym.symbols('L_1')\n",
    "L2 = sym.symbols('L_2')\n",
    "W1 = sym.symbols('W_1')\n",
    "W2 = sym.symbols('W_2')\n",
    "m1 = sym.symbols('m_1')\n",
    "m2 = sym.symbols('m_2')\n",
    "J1 = sym.symbols('J_1')\n",
    "J2 = sym.symbols('J_2')\n",
    "\n",
    "#substitution dictionary...\n",
    "SUBS = {L1:1,L2:1,\n",
    "        W1:0.2,W2:0.2,\n",
    "        m1:1,m2:1,\n",
    "        J1:1,J2:1}\n",
    "\n",
    "#time functions...\n",
    "th1 = Function(r'θ_1')(t)\n",
    "th2 = Function(r'θ_2')(t)\n",
    "x = Function(r'x')(t)\n",
    "y = Function(r'y')(t)\n",
    "\n",
    "#configuration\n",
    "q = Matrix([x,y,th1,th2])\n",
    "qdot = q.diff(t)\n",
    "qddot = qdot.diff(t)\n",
    "\n",
    "print(\"configuration:\")\n",
    "display(q)"
   ]
  },
  {
   "cell_type": "markdown",
   "metadata": {},
   "source": [
    "**Defining my Frames** <br>\n",
    "Here I'll define my frames similarly to how they're defined in the figure"
   ]
  },
  {
   "cell_type": "code",
   "execution_count": 15,
   "metadata": {},
   "outputs": [
    {
     "name": "stdout",
     "output_type": "stream",
     "text": [
      "HOMOGENOUS TRANSFORM MATRICES IN SE(2):\n",
      "wA translates the origin of the world frame to {A}, at (x,y)\n"
     ]
    },
    {
     "data": {
      "text/latex": [
       "$\\displaystyle g_{wA} = \\left[\\begin{matrix}1 & 0 & 0 & x{\\left(t \\right)}\\\\0 & 1 & 0 & y{\\left(t \\right)}\\\\0 & 0 & 1 & 0\\\\0 & 0 & 0 & 1\\end{matrix}\\right]$"
      ],
      "text/plain": [
       "Eq(g_{wA}, Matrix([\n",
       "[1, 0, 0, x(t)],\n",
       "[0, 1, 0, y(t)],\n",
       "[0, 0, 1,    0],\n",
       "[0, 0, 0,    1]]))"
      ]
     },
     "metadata": {},
     "output_type": "display_data"
    },
    {
     "name": "stdout",
     "output_type": "stream",
     "text": [
      "AB is composed of a rotation of th1 about A, followed by a translation in -y by L/2 in the new frame.\n"
     ]
    },
    {
     "data": {
      "text/latex": [
       "$\\displaystyle g_{AB} = \\left[\\begin{matrix}\\cos{\\left(\\operatorname{θ_{1}}{\\left(t \\right)} \\right)} & - \\sin{\\left(\\operatorname{θ_{1}}{\\left(t \\right)} \\right)} & 0 & \\frac{L_{1} \\sin{\\left(\\operatorname{θ_{1}}{\\left(t \\right)} \\right)}}{2}\\\\\\sin{\\left(\\operatorname{θ_{1}}{\\left(t \\right)} \\right)} & \\cos{\\left(\\operatorname{θ_{1}}{\\left(t \\right)} \\right)} & 0 & - \\frac{L_{1} \\cos{\\left(\\operatorname{θ_{1}}{\\left(t \\right)} \\right)}}{2}\\\\0 & 0 & 1 & 0\\\\0 & 0 & 0 & 1\\end{matrix}\\right]$"
      ],
      "text/plain": [
       "Eq(g_{AB}, Matrix([\n",
       "[cos(θ_1(t)), -sin(θ_1(t)), 0,  L_1*sin(θ_1(t))/2],\n",
       "[sin(θ_1(t)),  cos(θ_1(t)), 0, -L_1*cos(θ_1(t))/2],\n",
       "[          0,            0, 1,                  0],\n",
       "[          0,            0, 0,                  1]]))"
      ]
     },
     "metadata": {},
     "output_type": "display_data"
    },
    {
     "name": "stdout",
     "output_type": "stream",
     "text": [
      "BD translates {B} down by an additional L/2, with respect to the B frame.\n"
     ]
    },
    {
     "data": {
      "text/latex": [
       "$\\displaystyle g_{BD} = \\left[\\begin{matrix}1 & 0 & 0 & 0\\\\0 & 1 & 0 & - \\frac{L_{1}}{2}\\\\0 & 0 & 1 & 0\\\\0 & 0 & 0 & 1\\end{matrix}\\right]$"
      ],
      "text/plain": [
       "Eq(g_{BD}, Matrix([\n",
       "[1, 0, 0,      0],\n",
       "[0, 1, 0, -L_1/2],\n",
       "[0, 0, 1,      0],\n",
       "[0, 0, 0,      1]]))"
      ]
     },
     "metadata": {},
     "output_type": "display_data"
    },
    {
     "name": "stdout",
     "output_type": "stream",
     "text": [
      "AC is composed of a rotation of -th2 about A, followed by a translation in -y in the new frame by L2/2.\n"
     ]
    },
    {
     "data": {
      "text/latex": [
       "$\\displaystyle g_{AC} = \\left[\\begin{matrix}\\cos{\\left(\\operatorname{θ_{2}}{\\left(t \\right)} \\right)} & - \\sin{\\left(\\operatorname{θ_{2}}{\\left(t \\right)} \\right)} & 0 & \\frac{L_{2} \\sin{\\left(\\operatorname{θ_{2}}{\\left(t \\right)} \\right)}}{2}\\\\\\sin{\\left(\\operatorname{θ_{2}}{\\left(t \\right)} \\right)} & \\cos{\\left(\\operatorname{θ_{2}}{\\left(t \\right)} \\right)} & 0 & - \\frac{L_{2} \\cos{\\left(\\operatorname{θ_{2}}{\\left(t \\right)} \\right)}}{2}\\\\0 & 0 & 1 & 0\\\\0 & 0 & 0 & 1\\end{matrix}\\right]$"
      ],
      "text/plain": [
       "Eq(g_{AC}, Matrix([\n",
       "[cos(θ_2(t)), -sin(θ_2(t)), 0,  L_2*sin(θ_2(t))/2],\n",
       "[sin(θ_2(t)),  cos(θ_2(t)), 0, -L_2*cos(θ_2(t))/2],\n",
       "[          0,            0, 1,                  0],\n",
       "[          0,            0, 0,                  1]]))"
      ]
     },
     "metadata": {},
     "output_type": "display_data"
    },
    {
     "name": "stdout",
     "output_type": "stream",
     "text": [
      "CE translates {C} down by an additional L/2, with respect to the C frame.\n"
     ]
    },
    {
     "data": {
      "text/latex": [
       "$\\displaystyle g_{CE} = \\left[\\begin{matrix}1 & 0 & 0 & 0\\\\0 & 1 & 0 & - \\frac{L_{2}}{2}\\\\0 & 0 & 1 & 0\\\\0 & 0 & 0 & 1\\end{matrix}\\right]$"
      ],
      "text/plain": [
       "Eq(g_{CE}, Matrix([\n",
       "[1, 0, 0,      0],\n",
       "[0, 1, 0, -L_2/2],\n",
       "[0, 0, 1,      0],\n",
       "[0, 0, 0,      1]]))"
      ]
     },
     "metadata": {},
     "output_type": "display_data"
    }
   ],
   "source": [
    "## TRANSFORMATIONS...\n",
    "#display symbols...\n",
    "gwA_sym = sym.symbols('g_{wA}')\n",
    "gAB_sym = sym.symbols('g_{AB}')\n",
    "gBD_sym = sym.symbols('g_{BD}')\n",
    "gAC_sym = sym.symbols('g_{AC}')\n",
    "gCE_sym = sym.symbols('g_{CE}')\n",
    "\n",
    "\n",
    "#wA translates the origin of the world frame to {A}, at (x,y)\n",
    "p_wA = Matrix([q[0],q[1],1])\n",
    "gwA = get_SE3_planar(0,p_wA)\n",
    "\n",
    "#AB is composed of a rotation of th1 about A, followed by a translation in -y in the new frame by L1/2.\n",
    "#I'm composing them separately to be careful...\n",
    "p_AB = Matrix([0,-L1/2,1])\n",
    "gAB_R = get_SE3_planar(q[2],0)\n",
    "gAB_p = get_SE3_planar(0,p_AB)\n",
    "gAB = gAB_R*gAB_p\n",
    "\n",
    "#BD translates {B} down by an additional L/2, with respect to the B frame.\n",
    "p_BD = Matrix([0,-L1/2,1])\n",
    "gBD = get_SE3_planar(0,p_BD)\n",
    "\n",
    "#AC is composed of a rotation of th2 about A, given that theta2 is negative. This is followed \n",
    "#by a translation in -y in the new frame by L2/2.\n",
    "#I'm composing them separately to be careful...\n",
    "p_AC = Matrix([0,-L2/2,1])\n",
    "gAC_R = get_SE3_planar(q[3],0)\n",
    "gAC_p = get_SE3_planar(0,p_AC)\n",
    "gAC = gAC_R*gAC_p\n",
    "\n",
    "#CE translates {C} down by an additional L/2, with respect to the C frame.\n",
    "p_CE = Matrix([0,-L2/2,1])\n",
    "gCE = get_SE3_planar(0,p_CE)\n",
    "\n",
    "#Display...\n",
    "print('HOMOGENOUS TRANSFORM MATRICES IN SE(2):')\n",
    "print('wA translates the origin of the world frame to {A}, at (x,y)')\n",
    "display(Eq(gwA_sym,gwA,evaluate=False))\n",
    "print('AB is composed of a rotation of th1 about A, followed by a translation in -y by L/2 in the new frame.')\n",
    "display(Eq(gAB_sym,gAB,evaluate=False))\n",
    "print('BD translates {B} down by an additional L/2, with respect to the B frame.')\n",
    "display(Eq(gBD_sym,gBD,evaluate=False))\n",
    "print('AC is composed of a rotation of -th2 about A, followed by a translation in -y in the new frame by L2/2.')\n",
    "display(Eq(gAC_sym,gAC,evaluate=False))\n",
    "print('CE translates {C} down by an additional L/2, with respect to the C frame.')\n",
    "display(Eq(gCE_sym,gCE,evaluate=False))"
   ]
  },
  {
   "cell_type": "code",
   "execution_count": 16,
   "metadata": {},
   "outputs": [
    {
     "name": "stdout",
     "output_type": "stream",
     "text": [
      "Frame B\n"
     ]
    },
    {
     "data": {
      "text/latex": [
       "$\\displaystyle g_{wB} = \\left[\\begin{matrix}\\cos{\\left(\\operatorname{θ_{1}}{\\left(t \\right)} \\right)} & - \\sin{\\left(\\operatorname{θ_{1}}{\\left(t \\right)} \\right)} & 0 & \\frac{L_{1} \\sin{\\left(\\operatorname{θ_{1}}{\\left(t \\right)} \\right)}}{2} + x{\\left(t \\right)}\\\\\\sin{\\left(\\operatorname{θ_{1}}{\\left(t \\right)} \\right)} & \\cos{\\left(\\operatorname{θ_{1}}{\\left(t \\right)} \\right)} & 0 & - \\frac{L_{1} \\cos{\\left(\\operatorname{θ_{1}}{\\left(t \\right)} \\right)}}{2} + y{\\left(t \\right)}\\\\0 & 0 & 1 & 0\\\\0 & 0 & 0 & 1\\end{matrix}\\right]$"
      ],
      "text/plain": [
       "Eq(g_{wB}, Matrix([\n",
       "[cos(θ_1(t)), -sin(θ_1(t)), 0,  L_1*sin(θ_1(t))/2 + x(t)],\n",
       "[sin(θ_1(t)),  cos(θ_1(t)), 0, -L_1*cos(θ_1(t))/2 + y(t)],\n",
       "[          0,            0, 1,                         0],\n",
       "[          0,            0, 0,                         1]]))"
      ]
     },
     "metadata": {},
     "output_type": "display_data"
    },
    {
     "name": "stdout",
     "output_type": "stream",
     "text": [
      "Frame C\n"
     ]
    },
    {
     "data": {
      "text/latex": [
       "$\\displaystyle g_{wC} = \\left[\\begin{matrix}\\cos{\\left(\\operatorname{θ_{2}}{\\left(t \\right)} \\right)} & - \\sin{\\left(\\operatorname{θ_{2}}{\\left(t \\right)} \\right)} & 0 & \\frac{L_{2} \\sin{\\left(\\operatorname{θ_{2}}{\\left(t \\right)} \\right)}}{2} + x{\\left(t \\right)}\\\\\\sin{\\left(\\operatorname{θ_{2}}{\\left(t \\right)} \\right)} & \\cos{\\left(\\operatorname{θ_{2}}{\\left(t \\right)} \\right)} & 0 & - \\frac{L_{2} \\cos{\\left(\\operatorname{θ_{2}}{\\left(t \\right)} \\right)}}{2} + y{\\left(t \\right)}\\\\0 & 0 & 1 & 0\\\\0 & 0 & 0 & 1\\end{matrix}\\right]$"
      ],
      "text/plain": [
       "Eq(g_{wC}, Matrix([\n",
       "[cos(θ_2(t)), -sin(θ_2(t)), 0,  L_2*sin(θ_2(t))/2 + x(t)],\n",
       "[sin(θ_2(t)),  cos(θ_2(t)), 0, -L_2*cos(θ_2(t))/2 + y(t)],\n",
       "[          0,            0, 1,                         0],\n",
       "[          0,            0, 0,                         1]]))"
      ]
     },
     "metadata": {},
     "output_type": "display_data"
    },
    {
     "name": "stdout",
     "output_type": "stream",
     "text": [
      "Frame D\n"
     ]
    },
    {
     "data": {
      "text/latex": [
       "$\\displaystyle g_{wD} = \\left[\\begin{matrix}\\cos{\\left(\\operatorname{θ_{1}}{\\left(t \\right)} \\right)} & - \\sin{\\left(\\operatorname{θ_{1}}{\\left(t \\right)} \\right)} & 0 & L_{1} \\sin{\\left(\\operatorname{θ_{1}}{\\left(t \\right)} \\right)} + x{\\left(t \\right)}\\\\\\sin{\\left(\\operatorname{θ_{1}}{\\left(t \\right)} \\right)} & \\cos{\\left(\\operatorname{θ_{1}}{\\left(t \\right)} \\right)} & 0 & - L_{1} \\cos{\\left(\\operatorname{θ_{1}}{\\left(t \\right)} \\right)} + y{\\left(t \\right)}\\\\0 & 0 & 1 & 0\\\\0 & 0 & 0 & 1\\end{matrix}\\right]$"
      ],
      "text/plain": [
       "Eq(g_{wD}, Matrix([\n",
       "[cos(θ_1(t)), -sin(θ_1(t)), 0,  L_1*sin(θ_1(t)) + x(t)],\n",
       "[sin(θ_1(t)),  cos(θ_1(t)), 0, -L_1*cos(θ_1(t)) + y(t)],\n",
       "[          0,            0, 1,                       0],\n",
       "[          0,            0, 0,                       1]]))"
      ]
     },
     "metadata": {},
     "output_type": "display_data"
    },
    {
     "name": "stdout",
     "output_type": "stream",
     "text": [
      "Frame E\n"
     ]
    },
    {
     "data": {
      "text/latex": [
       "$\\displaystyle g_{wE} = \\left[\\begin{matrix}\\cos{\\left(\\operatorname{θ_{2}}{\\left(t \\right)} \\right)} & - \\sin{\\left(\\operatorname{θ_{2}}{\\left(t \\right)} \\right)} & 0 & L_{2} \\sin{\\left(\\operatorname{θ_{2}}{\\left(t \\right)} \\right)} + x{\\left(t \\right)}\\\\\\sin{\\left(\\operatorname{θ_{2}}{\\left(t \\right)} \\right)} & \\cos{\\left(\\operatorname{θ_{2}}{\\left(t \\right)} \\right)} & 0 & - L_{2} \\cos{\\left(\\operatorname{θ_{2}}{\\left(t \\right)} \\right)} + y{\\left(t \\right)}\\\\0 & 0 & 1 & 0\\\\0 & 0 & 0 & 1\\end{matrix}\\right]$"
      ],
      "text/plain": [
       "Eq(g_{wE}, Matrix([\n",
       "[cos(θ_2(t)), -sin(θ_2(t)), 0,  L_2*sin(θ_2(t)) + x(t)],\n",
       "[sin(θ_2(t)),  cos(θ_2(t)), 0, -L_2*cos(θ_2(t)) + y(t)],\n",
       "[          0,            0, 1,                       0],\n",
       "[          0,            0, 0,                       1]]))"
      ]
     },
     "metadata": {},
     "output_type": "display_data"
    }
   ],
   "source": [
    "#Getting each frame in {w} coordinates...\n",
    "gwB = gwA*gAB\n",
    "gwC = gwA*gAC\n",
    "gwD = gwB*gBD\n",
    "gwE = gwC*gCE\n",
    "\n",
    "#display...\n",
    "gwB_sym = sym.symbols('g_{wB}')\n",
    "gwC_sym = sym.symbols('g_{wC}')\n",
    "gwD_sym = sym.symbols('g_{wD}')\n",
    "gwE_sym = sym.symbols('g_{wE}')\n",
    "\n",
    "print('Frame B')\n",
    "display(Eq(gwB_sym,gwB,evaluate=False))\n",
    "print('Frame C')\n",
    "display(Eq(gwC_sym,gwC,evaluate=False))\n",
    "print('Frame D')\n",
    "display(Eq(gwD_sym,gwD,evaluate=False))\n",
    "print('Frame E')\n",
    "display(Eq(gwE_sym,gwE,evaluate=False))"
   ]
  },
  {
   "cell_type": "code",
   "execution_count": 17,
   "metadata": {},
   "outputs": [
    {
     "name": "stdout",
     "output_type": "stream",
     "text": [
      "Position of c.o.m. 1 (Frame B):\n"
     ]
    },
    {
     "data": {
      "text/latex": [
       "$\\displaystyle \\left[\\begin{matrix}\\frac{L_{1} \\sin{\\left(\\operatorname{θ_{1}}{\\left(t \\right)} \\right)}}{2} + x{\\left(t \\right)}\\\\- \\frac{L_{1} \\cos{\\left(\\operatorname{θ_{1}}{\\left(t \\right)} \\right)}}{2} + y{\\left(t \\right)}\\\\0\\\\1\\end{matrix}\\right]$"
      ],
      "text/plain": [
       "Matrix([\n",
       "[ L_1*sin(θ_1(t))/2 + x(t)],\n",
       "[-L_1*cos(θ_1(t))/2 + y(t)],\n",
       "[                        0],\n",
       "[                        1]])"
      ]
     },
     "metadata": {},
     "output_type": "display_data"
    },
    {
     "name": "stdout",
     "output_type": "stream",
     "text": [
      "Position of c.o.m. 2 (Frame C):\n"
     ]
    },
    {
     "data": {
      "text/latex": [
       "$\\displaystyle \\left[\\begin{matrix}\\frac{L_{2} \\sin{\\left(\\operatorname{θ_{2}}{\\left(t \\right)} \\right)}}{2} + x{\\left(t \\right)}\\\\- \\frac{L_{2} \\cos{\\left(\\operatorname{θ_{2}}{\\left(t \\right)} \\right)}}{2} + y{\\left(t \\right)}\\\\0\\\\1\\end{matrix}\\right]$"
      ],
      "text/plain": [
       "Matrix([\n",
       "[ L_2*sin(θ_2(t))/2 + x(t)],\n",
       "[-L_2*cos(θ_2(t))/2 + y(t)],\n",
       "[                        0],\n",
       "[                        1]])"
      ]
     },
     "metadata": {},
     "output_type": "display_data"
    },
    {
     "name": "stdout",
     "output_type": "stream",
     "text": [
      "Position of constraint 1 (Frame D):\n"
     ]
    },
    {
     "data": {
      "text/latex": [
       "$\\displaystyle \\left[\\begin{matrix}L_{1} \\sin{\\left(\\operatorname{θ_{1}}{\\left(t \\right)} \\right)} + x{\\left(t \\right)}\\\\- L_{1} \\cos{\\left(\\operatorname{θ_{1}}{\\left(t \\right)} \\right)} + y{\\left(t \\right)}\\\\0\\\\1\\end{matrix}\\right]$"
      ],
      "text/plain": [
       "Matrix([\n",
       "[ L_1*sin(θ_1(t)) + x(t)],\n",
       "[-L_1*cos(θ_1(t)) + y(t)],\n",
       "[                      0],\n",
       "[                      1]])"
      ]
     },
     "metadata": {},
     "output_type": "display_data"
    },
    {
     "name": "stdout",
     "output_type": "stream",
     "text": [
      "Position of constraint 2 (Frame E):\n"
     ]
    },
    {
     "data": {
      "text/latex": [
       "$\\displaystyle \\left[\\begin{matrix}L_{2} \\sin{\\left(\\operatorname{θ_{2}}{\\left(t \\right)} \\right)} + x{\\left(t \\right)}\\\\- L_{2} \\cos{\\left(\\operatorname{θ_{2}}{\\left(t \\right)} \\right)} + y{\\left(t \\right)}\\\\0\\\\1\\end{matrix}\\right]$"
      ],
      "text/plain": [
       "Matrix([\n",
       "[ L_2*sin(θ_2(t)) + x(t)],\n",
       "[-L_2*cos(θ_2(t)) + y(t)],\n",
       "[                      0],\n",
       "[                      1]])"
      ]
     },
     "metadata": {},
     "output_type": "display_data"
    }
   ],
   "source": [
    "#extracting the body positions for the two legs...\n",
    "Ow = Matrix([0,0,0,1]) #world origin\n",
    "rB = gwB*Ow\n",
    "rC = gwC*Ow\n",
    "#and constraint frames...\n",
    "rD = gwD*Ow\n",
    "rE = gwE*Ow\n",
    "\n",
    "#display...\n",
    "print('Position of c.o.m. 1 (Frame B):')\n",
    "display(rB)\n",
    "print('Position of c.o.m. 2 (Frame C):')\n",
    "display(rC)\n",
    "print('Position of constraint 1 (Frame D):')\n",
    "display(rD)\n",
    "print('Position of constraint 2 (Frame E):')\n",
    "display(rE)"
   ]
  },
  {
   "cell_type": "code",
   "execution_count": 18,
   "metadata": {},
   "outputs": [
    {
     "name": "stdout",
     "output_type": "stream",
     "text": [
      "body velocity for B, C, respectively...\n"
     ]
    },
    {
     "data": {
      "text/latex": [
       "$\\displaystyle \\left[\\begin{matrix}\\frac{L_{1} \\frac{d}{d t} \\operatorname{θ_{1}}{\\left(t \\right)}}{2} - x{\\left(t \\right)} \\cos{\\left(\\operatorname{θ_{1}}{\\left(t \\right)} \\right)} - y{\\left(t \\right)} \\sin{\\left(\\operatorname{θ_{1}}{\\left(t \\right)} \\right)} + \\sin{\\left(\\operatorname{θ_{1}}{\\left(t \\right)} \\right)} \\frac{d}{d t} y{\\left(t \\right)} + \\cos{\\left(\\operatorname{θ_{1}}{\\left(t \\right)} \\right)} \\frac{d}{d t} x{\\left(t \\right)}\\\\\\frac{L_{1}}{2} + x{\\left(t \\right)} \\sin{\\left(\\operatorname{θ_{1}}{\\left(t \\right)} \\right)} - y{\\left(t \\right)} \\cos{\\left(\\operatorname{θ_{1}}{\\left(t \\right)} \\right)} - \\sin{\\left(\\operatorname{θ_{1}}{\\left(t \\right)} \\right)} \\frac{d}{d t} x{\\left(t \\right)} + \\cos{\\left(\\operatorname{θ_{1}}{\\left(t \\right)} \\right)} \\frac{d}{d t} y{\\left(t \\right)}\\\\0\\\\0\\\\0\\\\1\\end{matrix}\\right]$"
      ],
      "text/plain": [
       "Matrix([\n",
       "[L_1*Derivative(θ_1(t), t)/2 - x(t)*cos(θ_1(t)) - y(t)*sin(θ_1(t)) + sin(θ_1(t))*Derivative(y(t), t) + cos(θ_1(t))*Derivative(x(t), t)],\n",
       "[                      L_1/2 + x(t)*sin(θ_1(t)) - y(t)*cos(θ_1(t)) - sin(θ_1(t))*Derivative(x(t), t) + cos(θ_1(t))*Derivative(y(t), t)],\n",
       "[                                                                                                                                    0],\n",
       "[                                                                                                                                    0],\n",
       "[                                                                                                                                    0],\n",
       "[                                                                                                                                    1]])"
      ]
     },
     "metadata": {},
     "output_type": "display_data"
    },
    {
     "data": {
      "text/latex": [
       "$\\displaystyle \\left[\\begin{matrix}\\frac{L_{2} \\frac{d}{d t} \\operatorname{θ_{2}}{\\left(t \\right)}}{2} - x{\\left(t \\right)} \\cos{\\left(\\operatorname{θ_{2}}{\\left(t \\right)} \\right)} - y{\\left(t \\right)} \\sin{\\left(\\operatorname{θ_{2}}{\\left(t \\right)} \\right)} + \\sin{\\left(\\operatorname{θ_{2}}{\\left(t \\right)} \\right)} \\frac{d}{d t} y{\\left(t \\right)} + \\cos{\\left(\\operatorname{θ_{2}}{\\left(t \\right)} \\right)} \\frac{d}{d t} x{\\left(t \\right)}\\\\\\frac{L_{2}}{2} + x{\\left(t \\right)} \\sin{\\left(\\operatorname{θ_{2}}{\\left(t \\right)} \\right)} - y{\\left(t \\right)} \\cos{\\left(\\operatorname{θ_{2}}{\\left(t \\right)} \\right)} - \\sin{\\left(\\operatorname{θ_{2}}{\\left(t \\right)} \\right)} \\frac{d}{d t} x{\\left(t \\right)} + \\cos{\\left(\\operatorname{θ_{2}}{\\left(t \\right)} \\right)} \\frac{d}{d t} y{\\left(t \\right)}\\\\0\\\\0\\\\0\\\\1\\end{matrix}\\right]$"
      ],
      "text/plain": [
       "Matrix([\n",
       "[L_2*Derivative(θ_2(t), t)/2 - x(t)*cos(θ_2(t)) - y(t)*sin(θ_2(t)) + sin(θ_2(t))*Derivative(y(t), t) + cos(θ_2(t))*Derivative(x(t), t)],\n",
       "[                      L_2/2 + x(t)*sin(θ_2(t)) - y(t)*cos(θ_2(t)) - sin(θ_2(t))*Derivative(x(t), t) + cos(θ_2(t))*Derivative(y(t), t)],\n",
       "[                                                                                                                                    0],\n",
       "[                                                                                                                                    0],\n",
       "[                                                                                                                                    0],\n",
       "[                                                                                                                                    1]])"
      ]
     },
     "metadata": {},
     "output_type": "display_data"
    }
   ],
   "source": [
    "#Velocity terms for the two legs...\n",
    "Vb_B = sym.simplify(get_Vb(gwB))\n",
    "Vb_C = sym.simplify(get_Vb(gwC))\n",
    "\n",
    "print('body velocity for B, C, respectively...')\n",
    "display(Vb_B,Vb_C)"
   ]
  },
  {
   "cell_type": "markdown",
   "metadata": {},
   "source": [
    "**Inertial Properties**"
   ]
  },
  {
   "cell_type": "code",
   "execution_count": 19,
   "metadata": {},
   "outputs": [
    {
     "name": "stdout",
     "output_type": "stream",
     "text": [
      "Inertia matrices for Leg 1 and Leg2, respectively:\n"
     ]
    },
    {
     "data": {
      "text/latex": [
       "$\\displaystyle \\left[\\begin{matrix}m_{1} & 0 & 0 & 0 & 0 & 0\\\\0 & m_{1} & 0 & 0 & 0 & 0\\\\0 & 0 & m_{1} & 0 & 0 & 0\\\\0 & 0 & 0 & 1 & 0 & 0\\\\0 & 0 & 0 & 0 & 1 & 0\\\\0 & 0 & 0 & 0 & 0 & J_{1}\\end{matrix}\\right]$"
      ],
      "text/plain": [
       "Matrix([\n",
       "[m_1,   0,   0, 0, 0,   0],\n",
       "[  0, m_1,   0, 0, 0,   0],\n",
       "[  0,   0, m_1, 0, 0,   0],\n",
       "[  0,   0,   0, 1, 0,   0],\n",
       "[  0,   0,   0, 0, 1,   0],\n",
       "[  0,   0,   0, 0, 0, J_1]])"
      ]
     },
     "metadata": {},
     "output_type": "display_data"
    },
    {
     "data": {
      "text/latex": [
       "$\\displaystyle \\left[\\begin{matrix}m_{2} & 0 & 0 & 0 & 0 & 0\\\\0 & m_{2} & 0 & 0 & 0 & 0\\\\0 & 0 & m_{2} & 0 & 0 & 0\\\\0 & 0 & 0 & 1 & 0 & 0\\\\0 & 0 & 0 & 0 & 1 & 0\\\\0 & 0 & 0 & 0 & 0 & J_{2}\\end{matrix}\\right]$"
      ],
      "text/plain": [
       "Matrix([\n",
       "[m_2,   0,   0, 0, 0,   0],\n",
       "[  0, m_2,   0, 0, 0,   0],\n",
       "[  0,   0, m_2, 0, 0,   0],\n",
       "[  0,   0,   0, 1, 0,   0],\n",
       "[  0,   0,   0, 0, 1,   0],\n",
       "[  0,   0,   0, 0, 0, J_2]])"
      ]
     },
     "metadata": {},
     "output_type": "display_data"
    }
   ],
   "source": [
    "#defining inertial matrices in the body frames of each leg...\n",
    "I1 = sym.diag(m1,m1,m1,1,1,J1)\n",
    "I2 = sym.diag(m2,m2,m2,1,1,J2)\n",
    "\n",
    "print('Inertia matrices for Leg 1 and Leg2, respectively:')\n",
    "display(I1,I2)"
   ]
  },
  {
   "cell_type": "markdown",
   "metadata": {},
   "source": [
    "**Energy**"
   ]
  },
  {
   "cell_type": "code",
   "execution_count": 20,
   "metadata": {},
   "outputs": [
    {
     "data": {
      "text/latex": [
       "$\\displaystyle \\left[\\begin{matrix}J_{1} + m_{1} \\left(\\frac{L_{1}}{2} + x{\\left(t \\right)} \\sin{\\left(\\operatorname{θ_{1}}{\\left(t \\right)} \\right)} - y{\\left(t \\right)} \\cos{\\left(\\operatorname{θ_{1}}{\\left(t \\right)} \\right)} - \\sin{\\left(\\operatorname{θ_{1}}{\\left(t \\right)} \\right)} \\frac{d}{d t} x{\\left(t \\right)} + \\cos{\\left(\\operatorname{θ_{1}}{\\left(t \\right)} \\right)} \\frac{d}{d t} y{\\left(t \\right)}\\right)^{2} + m_{1} \\left(\\frac{L_{1} \\frac{d}{d t} \\operatorname{θ_{1}}{\\left(t \\right)}}{2} - x{\\left(t \\right)} \\cos{\\left(\\operatorname{θ_{1}}{\\left(t \\right)} \\right)} - y{\\left(t \\right)} \\sin{\\left(\\operatorname{θ_{1}}{\\left(t \\right)} \\right)} + \\sin{\\left(\\operatorname{θ_{1}}{\\left(t \\right)} \\right)} \\frac{d}{d t} y{\\left(t \\right)} + \\cos{\\left(\\operatorname{θ_{1}}{\\left(t \\right)} \\right)} \\frac{d}{d t} x{\\left(t \\right)}\\right)^{2}\\end{matrix}\\right]$"
      ],
      "text/plain": [
       "Matrix([[J_1 + m_1*(L_1/2 + x(t)*sin(θ_1(t)) - y(t)*cos(θ_1(t)) - sin(θ_1(t))*Derivative(x(t), t) + cos(θ_1(t))*Derivative(y(t), t))**2 + m_1*(L_1*Derivative(θ_1(t), t)/2 - x(t)*cos(θ_1(t)) - y(t)*sin(θ_1(t)) + sin(θ_1(t))*Derivative(y(t), t) + cos(θ_1(t))*Derivative(x(t), t))**2]])"
      ]
     },
     "execution_count": 20,
     "metadata": {},
     "output_type": "execute_result"
    }
   ],
   "source": [
    "Vb_B.T*I1*Vb_B"
   ]
  },
  {
   "cell_type": "code",
   "execution_count": 21,
   "metadata": {},
   "outputs": [
    {
     "name": "stdout",
     "output_type": "stream",
     "text": [
      "The Kinetic Energies...\n"
     ]
    },
    {
     "data": {
      "text/latex": [
       "$\\displaystyle KE_{1} = J_{1} + m_{1} \\left(\\frac{L_{1}}{2} + x{\\left(t \\right)} \\sin{\\left(\\operatorname{θ_{1}}{\\left(t \\right)} \\right)} - y{\\left(t \\right)} \\cos{\\left(\\operatorname{θ_{1}}{\\left(t \\right)} \\right)} - \\sin{\\left(\\operatorname{θ_{1}}{\\left(t \\right)} \\right)} \\frac{d}{d t} x{\\left(t \\right)} + \\cos{\\left(\\operatorname{θ_{1}}{\\left(t \\right)} \\right)} \\frac{d}{d t} y{\\left(t \\right)}\\right)^{2} + m_{1} \\left(\\frac{L_{1} \\frac{d}{d t} \\operatorname{θ_{1}}{\\left(t \\right)}}{2} - x{\\left(t \\right)} \\cos{\\left(\\operatorname{θ_{1}}{\\left(t \\right)} \\right)} - y{\\left(t \\right)} \\sin{\\left(\\operatorname{θ_{1}}{\\left(t \\right)} \\right)} + \\sin{\\left(\\operatorname{θ_{1}}{\\left(t \\right)} \\right)} \\frac{d}{d t} y{\\left(t \\right)} + \\cos{\\left(\\operatorname{θ_{1}}{\\left(t \\right)} \\right)} \\frac{d}{d t} x{\\left(t \\right)}\\right)^{2}$"
      ],
      "text/plain": [
       "Eq(KE_1, J_1 + m_1*(L_1/2 + x(t)*sin(θ_1(t)) - y(t)*cos(θ_1(t)) - sin(θ_1(t))*Derivative(x(t), t) + cos(θ_1(t))*Derivative(y(t), t))**2 + m_1*(L_1*Derivative(θ_1(t), t)/2 - x(t)*cos(θ_1(t)) - y(t)*sin(θ_1(t)) + sin(θ_1(t))*Derivative(y(t), t) + cos(θ_1(t))*Derivative(x(t), t))**2)"
      ]
     },
     "metadata": {},
     "output_type": "display_data"
    },
    {
     "data": {
      "text/latex": [
       "$\\displaystyle KE_{2} = J_{2} + m_{2} \\left(\\frac{L_{2}}{2} + x{\\left(t \\right)} \\sin{\\left(\\operatorname{θ_{2}}{\\left(t \\right)} \\right)} - y{\\left(t \\right)} \\cos{\\left(\\operatorname{θ_{2}}{\\left(t \\right)} \\right)} - \\sin{\\left(\\operatorname{θ_{2}}{\\left(t \\right)} \\right)} \\frac{d}{d t} x{\\left(t \\right)} + \\cos{\\left(\\operatorname{θ_{2}}{\\left(t \\right)} \\right)} \\frac{d}{d t} y{\\left(t \\right)}\\right)^{2} + m_{2} \\left(\\frac{L_{2} \\frac{d}{d t} \\operatorname{θ_{2}}{\\left(t \\right)}}{2} - x{\\left(t \\right)} \\cos{\\left(\\operatorname{θ_{2}}{\\left(t \\right)} \\right)} - y{\\left(t \\right)} \\sin{\\left(\\operatorname{θ_{2}}{\\left(t \\right)} \\right)} + \\sin{\\left(\\operatorname{θ_{2}}{\\left(t \\right)} \\right)} \\frac{d}{d t} y{\\left(t \\right)} + \\cos{\\left(\\operatorname{θ_{2}}{\\left(t \\right)} \\right)} \\frac{d}{d t} x{\\left(t \\right)}\\right)^{2}$"
      ],
      "text/plain": [
       "Eq(KE_2, J_2 + m_2*(L_2/2 + x(t)*sin(θ_2(t)) - y(t)*cos(θ_2(t)) - sin(θ_2(t))*Derivative(x(t), t) + cos(θ_2(t))*Derivative(y(t), t))**2 + m_2*(L_2*Derivative(θ_2(t), t)/2 - x(t)*cos(θ_2(t)) - y(t)*sin(θ_2(t)) + sin(θ_2(t))*Derivative(y(t), t) + cos(θ_2(t))*Derivative(x(t), t))**2)"
      ]
     },
     "metadata": {},
     "output_type": "display_data"
    },
    {
     "name": "stdout",
     "output_type": "stream",
     "text": [
      "Potential Energy...\n"
     ]
    },
    {
     "data": {
      "text/latex": [
       "$\\displaystyle PE = 9.8 m_{1} \\left(- \\frac{L_{1} \\cos{\\left(\\operatorname{θ_{1}}{\\left(t \\right)} \\right)}}{2} + y{\\left(t \\right)}\\right) + 9.8 m_{2} \\left(- \\frac{L_{2} \\cos{\\left(\\operatorname{θ_{2}}{\\left(t \\right)} \\right)}}{2} + y{\\left(t \\right)}\\right)$"
      ],
      "text/plain": [
       "Eq(PE, 9.8*m_1*(-L_1*cos(θ_1(t))/2 + y(t)) + 9.8*m_2*(-L_2*cos(θ_2(t))/2 + y(t)))"
      ]
     },
     "metadata": {},
     "output_type": "display_data"
    },
    {
     "name": "stdout",
     "output_type": "stream",
     "text": [
      "The Lagrangian\n"
     ]
    },
    {
     "data": {
      "text/latex": [
       "$\\displaystyle J_{1} + J_{2} + 4.9 m_{1} \\left(L_{1} \\cos{\\left(\\operatorname{θ_{1}}{\\left(t \\right)} \\right)} - 2 y{\\left(t \\right)}\\right) + \\frac{m_{1} \\left(L_{1} + 2 x{\\left(t \\right)} \\sin{\\left(\\operatorname{θ_{1}}{\\left(t \\right)} \\right)} - 2 y{\\left(t \\right)} \\cos{\\left(\\operatorname{θ_{1}}{\\left(t \\right)} \\right)} - 2 \\sin{\\left(\\operatorname{θ_{1}}{\\left(t \\right)} \\right)} \\frac{d}{d t} x{\\left(t \\right)} + 2 \\cos{\\left(\\operatorname{θ_{1}}{\\left(t \\right)} \\right)} \\frac{d}{d t} y{\\left(t \\right)}\\right)^{2}}{4} + \\frac{m_{1} \\left(L_{1} \\frac{d}{d t} \\operatorname{θ_{1}}{\\left(t \\right)} - 2 x{\\left(t \\right)} \\cos{\\left(\\operatorname{θ_{1}}{\\left(t \\right)} \\right)} - 2 y{\\left(t \\right)} \\sin{\\left(\\operatorname{θ_{1}}{\\left(t \\right)} \\right)} + 2 \\sin{\\left(\\operatorname{θ_{1}}{\\left(t \\right)} \\right)} \\frac{d}{d t} y{\\left(t \\right)} + 2 \\cos{\\left(\\operatorname{θ_{1}}{\\left(t \\right)} \\right)} \\frac{d}{d t} x{\\left(t \\right)}\\right)^{2}}{4} + 4.9 m_{2} \\left(L_{2} \\cos{\\left(\\operatorname{θ_{2}}{\\left(t \\right)} \\right)} - 2 y{\\left(t \\right)}\\right) + \\frac{m_{2} \\left(L_{2} + 2 x{\\left(t \\right)} \\sin{\\left(\\operatorname{θ_{2}}{\\left(t \\right)} \\right)} - 2 y{\\left(t \\right)} \\cos{\\left(\\operatorname{θ_{2}}{\\left(t \\right)} \\right)} - 2 \\sin{\\left(\\operatorname{θ_{2}}{\\left(t \\right)} \\right)} \\frac{d}{d t} x{\\left(t \\right)} + 2 \\cos{\\left(\\operatorname{θ_{2}}{\\left(t \\right)} \\right)} \\frac{d}{d t} y{\\left(t \\right)}\\right)^{2}}{4} + \\frac{m_{2} \\left(L_{2} \\frac{d}{d t} \\operatorname{θ_{2}}{\\left(t \\right)} - 2 x{\\left(t \\right)} \\cos{\\left(\\operatorname{θ_{2}}{\\left(t \\right)} \\right)} - 2 y{\\left(t \\right)} \\sin{\\left(\\operatorname{θ_{2}}{\\left(t \\right)} \\right)} + 2 \\sin{\\left(\\operatorname{θ_{2}}{\\left(t \\right)} \\right)} \\frac{d}{d t} y{\\left(t \\right)} + 2 \\cos{\\left(\\operatorname{θ_{2}}{\\left(t \\right)} \\right)} \\frac{d}{d t} x{\\left(t \\right)}\\right)^{2}}{4}$"
      ],
      "text/plain": [
       "J_1 + J_2 + 4.9*m_1*(L_1*cos(θ_1(t)) - 2*y(t)) + m_1*(L_1 + 2*x(t)*sin(θ_1(t)) - 2*y(t)*cos(θ_1(t)) - 2*sin(θ_1(t))*Derivative(x(t), t) + 2*cos(θ_1(t))*Derivative(y(t), t))**2/4 + m_1*(L_1*Derivative(θ_1(t), t) - 2*x(t)*cos(θ_1(t)) - 2*y(t)*sin(θ_1(t)) + 2*sin(θ_1(t))*Derivative(y(t), t) + 2*cos(θ_1(t))*Derivative(x(t), t))**2/4 + 4.9*m_2*(L_2*cos(θ_2(t)) - 2*y(t)) + m_2*(L_2 + 2*x(t)*sin(θ_2(t)) - 2*y(t)*cos(θ_2(t)) - 2*sin(θ_2(t))*Derivative(x(t), t) + 2*cos(θ_2(t))*Derivative(y(t), t))**2/4 + m_2*(L_2*Derivative(θ_2(t), t) - 2*x(t)*cos(θ_2(t)) - 2*y(t)*sin(θ_2(t)) + 2*sin(θ_2(t))*Derivative(y(t), t) + 2*cos(θ_2(t))*Derivative(x(t), t))**2/4"
      ]
     },
     "metadata": {},
     "output_type": "display_data"
    },
    {
     "name": "stdout",
     "output_type": "stream",
     "text": [
      "Substituted Lagrangian:\n"
     ]
    },
    {
     "data": {
      "text/latex": [
       "$\\displaystyle \\frac{\\left(2 x{\\left(t \\right)} \\sin{\\left(\\operatorname{θ_{1}}{\\left(t \\right)} \\right)} - 2 y{\\left(t \\right)} \\cos{\\left(\\operatorname{θ_{1}}{\\left(t \\right)} \\right)} - 2 \\sin{\\left(\\operatorname{θ_{1}}{\\left(t \\right)} \\right)} \\frac{d}{d t} x{\\left(t \\right)} + 2 \\cos{\\left(\\operatorname{θ_{1}}{\\left(t \\right)} \\right)} \\frac{d}{d t} y{\\left(t \\right)} + 1\\right)^{2}}{4} + \\frac{\\left(2 x{\\left(t \\right)} \\sin{\\left(\\operatorname{θ_{2}}{\\left(t \\right)} \\right)} - 2 y{\\left(t \\right)} \\cos{\\left(\\operatorname{θ_{2}}{\\left(t \\right)} \\right)} - 2 \\sin{\\left(\\operatorname{θ_{2}}{\\left(t \\right)} \\right)} \\frac{d}{d t} x{\\left(t \\right)} + 2 \\cos{\\left(\\operatorname{θ_{2}}{\\left(t \\right)} \\right)} \\frac{d}{d t} y{\\left(t \\right)} + 1\\right)^{2}}{4} + \\frac{\\left(- 2 x{\\left(t \\right)} \\cos{\\left(\\operatorname{θ_{1}}{\\left(t \\right)} \\right)} - 2 y{\\left(t \\right)} \\sin{\\left(\\operatorname{θ_{1}}{\\left(t \\right)} \\right)} + 2 \\sin{\\left(\\operatorname{θ_{1}}{\\left(t \\right)} \\right)} \\frac{d}{d t} y{\\left(t \\right)} + 2 \\cos{\\left(\\operatorname{θ_{1}}{\\left(t \\right)} \\right)} \\frac{d}{d t} x{\\left(t \\right)} + \\frac{d}{d t} \\operatorname{θ_{1}}{\\left(t \\right)}\\right)^{2}}{4} + \\frac{\\left(- 2 x{\\left(t \\right)} \\cos{\\left(\\operatorname{θ_{2}}{\\left(t \\right)} \\right)} - 2 y{\\left(t \\right)} \\sin{\\left(\\operatorname{θ_{2}}{\\left(t \\right)} \\right)} + 2 \\sin{\\left(\\operatorname{θ_{2}}{\\left(t \\right)} \\right)} \\frac{d}{d t} y{\\left(t \\right)} + 2 \\cos{\\left(\\operatorname{θ_{2}}{\\left(t \\right)} \\right)} \\frac{d}{d t} x{\\left(t \\right)} + \\frac{d}{d t} \\operatorname{θ_{2}}{\\left(t \\right)}\\right)^{2}}{4} - 19.6 y{\\left(t \\right)} + 4.9 \\cos{\\left(\\operatorname{θ_{1}}{\\left(t \\right)} \\right)} + 4.9 \\cos{\\left(\\operatorname{θ_{2}}{\\left(t \\right)} \\right)} + 2$"
      ],
      "text/plain": [
       "(2*x(t)*sin(θ_1(t)) - 2*y(t)*cos(θ_1(t)) - 2*sin(θ_1(t))*Derivative(x(t), t) + 2*cos(θ_1(t))*Derivative(y(t), t) + 1)**2/4 + (2*x(t)*sin(θ_2(t)) - 2*y(t)*cos(θ_2(t)) - 2*sin(θ_2(t))*Derivative(x(t), t) + 2*cos(θ_2(t))*Derivative(y(t), t) + 1)**2/4 + (-2*x(t)*cos(θ_1(t)) - 2*y(t)*sin(θ_1(t)) + 2*sin(θ_1(t))*Derivative(y(t), t) + 2*cos(θ_1(t))*Derivative(x(t), t) + Derivative(θ_1(t), t))**2/4 + (-2*x(t)*cos(θ_2(t)) - 2*y(t)*sin(θ_2(t)) + 2*sin(θ_2(t))*Derivative(y(t), t) + 2*cos(θ_2(t))*Derivative(x(t), t) + Derivative(θ_2(t), t))**2/4 - 19.6*y(t) + 4.9*cos(θ_1(t)) + 4.9*cos(θ_2(t)) + 2"
      ]
     },
     "metadata": {},
     "output_type": "display_data"
    }
   ],
   "source": [
    "#Kinetic energy of each leg...\n",
    "KE1 = (1/2)(Vb_B.T*I1*Vb_B)[0]\n",
    "KE2 = (1/2)(Vb_C.T*I2*Vb_C)[0]\n",
    "\n",
    "#Total Kinetic Energy...\n",
    "KE = KE1+KE2\n",
    "\n",
    "#Potential Energy... (I'm using \"PE\" now to not confuse myself with the body velocities)\n",
    "PE = m1*g*rB[1] + m2*g*rC[1]\n",
    "\n",
    "#Lagrangian\n",
    "L = sym.simplify(KE - PE)\n",
    "\n",
    "#Substitutions...\n",
    "L_sub = sym.simplify(L.subs(SUBS))\n",
    "\n",
    "#Display\n",
    "KE1_s = sym.symbols(r'KE_1')\n",
    "KE2_s = sym.symbols(r'KE_2')\n",
    "PE_s = sym.symbols(r'PE')\n",
    "print('The Kinetic Energies...')\n",
    "display(Eq(KE1_s,KE1,evaluate=0))\n",
    "display(Eq(KE2_s,KE2,evaluate=0))\n",
    "print('Potential Energy...')\n",
    "display(Eq(PE_s,PE,evaluate=0))\n",
    "print('The Lagrangian')\n",
    "display(L)\n",
    "print('Substituted Lagrangian:')\n",
    "display(L_sub)"
   ]
  },
  {
   "cell_type": "markdown",
   "metadata": {},
   "source": [
    "**Force**"
   ]
  },
  {
   "cell_type": "code",
   "execution_count": 22,
   "metadata": {},
   "outputs": [
    {
     "name": "stdout",
     "output_type": "stream",
     "text": [
      "Applied force F(q) (given):\n"
     ]
    },
    {
     "data": {
      "text/latex": [
       "$\\displaystyle \\left[\\begin{matrix}0\\\\0\\\\- 20 \\operatorname{θ_{1}}{\\left(t \\right)} + 20.943951023932 \\sin^{2}{\\left(\\frac{t}{2} \\right)} + 3.14159265358979\\\\- 20 \\operatorname{θ_{2}}{\\left(t \\right)} - 20.943951023932 \\sin^{2}{\\left(\\frac{t}{2} \\right)} - 3.14159265358979\\end{matrix}\\right]$"
      ],
      "text/plain": [
       "Matrix([\n",
       "[                                                          0],\n",
       "[                                                          0],\n",
       "[-20*θ_1(t) + 20.943951023932*sin(t/2)**2 + 3.14159265358979],\n",
       "[-20*θ_2(t) - 20.943951023932*sin(t/2)**2 - 3.14159265358979]])"
      ]
     },
     "metadata": {},
     "output_type": "display_data"
    }
   ],
   "source": [
    "#Force Vector...\n",
    "k1 = 20\n",
    "#theta desired\n",
    "th1des = np.pi/20 + (np.pi/3)*(sym.sin(t/2))**2\n",
    "th2des = -th1des\n",
    "F = Matrix([0,0,-k1*(q[2]-th1des),-k1*(q[3]-th2des)])\n",
    "#F = Matrix([0,0,0,0])\n",
    "print(\"Applied force F(q) (given):\")\n",
    "display(F)"
   ]
  },
  {
   "cell_type": "markdown",
   "metadata": {},
   "source": [
    "**Constraint**"
   ]
  },
  {
   "cell_type": "code",
   "execution_count": 23,
   "metadata": {},
   "outputs": [
    {
     "name": "stdout",
     "output_type": "stream",
     "text": [
      "The constraint equations ϕ1(q) and ϕ2(q)\n"
     ]
    },
    {
     "data": {
      "text/latex": [
       "$\\displaystyle ϕ_{1} = - L_{1} \\cos{\\left(\\operatorname{θ_{1}}{\\left(t \\right)} \\right)} + y{\\left(t \\right)} = 0$"
      ],
      "text/plain": [
       "Eq(Eq(ϕ_1, -L_1*cos(θ_1(t)) + y(t)), 0)"
      ]
     },
     "metadata": {},
     "output_type": "display_data"
    },
    {
     "data": {
      "text/latex": [
       "$\\displaystyle ϕ_{2} = - L_{2} \\cos{\\left(\\operatorname{θ_{2}}{\\left(t \\right)} \\right)} + y{\\left(t \\right)} = 0$"
      ],
      "text/plain": [
       "Eq(Eq(ϕ_2, -L_2*cos(θ_2(t)) + y(t)), 0)"
      ]
     },
     "metadata": {},
     "output_type": "display_data"
    },
    {
     "name": "stdout",
     "output_type": "stream",
     "text": [
      "dϕ1/dq and dϕ2/dq, respectively :\n"
     ]
    },
    {
     "data": {
      "text/latex": [
       "$\\displaystyle \\left[\\begin{matrix}0\\\\1\\\\L_{1} \\sin{\\left(\\operatorname{θ_{1}}{\\left(t \\right)} \\right)}\\\\0\\end{matrix}\\right]$"
      ],
      "text/plain": [
       "Matrix([\n",
       "[              0],\n",
       "[              1],\n",
       "[L_1*sin(θ_1(t))],\n",
       "[              0]])"
      ]
     },
     "metadata": {},
     "output_type": "display_data"
    },
    {
     "data": {
      "text/latex": [
       "$\\displaystyle \\left[\\begin{matrix}0\\\\1\\\\0\\\\L_{2} \\sin{\\left(\\operatorname{θ_{2}}{\\left(t \\right)} \\right)}\\end{matrix}\\right]$"
      ],
      "text/plain": [
       "Matrix([\n",
       "[              0],\n",
       "[              1],\n",
       "[              0],\n",
       "[L_2*sin(θ_2(t))]])"
      ]
     },
     "metadata": {},
     "output_type": "display_data"
    },
    {
     "name": "stdout",
     "output_type": "stream",
     "text": [
      "second derivative of phi1 and phi2 with respect to time:\n"
     ]
    },
    {
     "data": {
      "text/latex": [
       "$\\displaystyle L_{1} \\sin{\\left(\\operatorname{θ_{1}}{\\left(t \\right)} \\right)} \\frac{d^{2}}{d t^{2}} \\operatorname{θ_{1}}{\\left(t \\right)} + L_{1} \\cos{\\left(\\operatorname{θ_{1}}{\\left(t \\right)} \\right)} \\left(\\frac{d}{d t} \\operatorname{θ_{1}}{\\left(t \\right)}\\right)^{2} + \\frac{d^{2}}{d t^{2}} y{\\left(t \\right)}$"
      ],
      "text/plain": [
       "L_1*sin(θ_1(t))*Derivative(θ_1(t), (t, 2)) + L_1*cos(θ_1(t))*Derivative(θ_1(t), t)**2 + Derivative(y(t), (t, 2))"
      ]
     },
     "metadata": {},
     "output_type": "display_data"
    },
    {
     "data": {
      "text/latex": [
       "$\\displaystyle L_{2} \\sin{\\left(\\operatorname{θ_{2}}{\\left(t \\right)} \\right)} \\frac{d^{2}}{d t^{2}} \\operatorname{θ_{2}}{\\left(t \\right)} + L_{2} \\cos{\\left(\\operatorname{θ_{2}}{\\left(t \\right)} \\right)} \\left(\\frac{d}{d t} \\operatorname{θ_{2}}{\\left(t \\right)}\\right)^{2} + \\frac{d^{2}}{d t^{2}} y{\\left(t \\right)}$"
      ],
      "text/plain": [
       "L_2*sin(θ_2(t))*Derivative(θ_2(t), (t, 2)) + L_2*cos(θ_2(t))*Derivative(θ_2(t), t)**2 + Derivative(y(t), (t, 2))"
      ]
     },
     "metadata": {},
     "output_type": "display_data"
    },
    {
     "name": "stdout",
     "output_type": "stream",
     "text": [
      "Full right-hand side for solving...\n"
     ]
    },
    {
     "data": {
      "text/latex": [
       "$\\displaystyle \\left[\\begin{matrix}0\\\\λ_{1} + λ_{2}\\\\L_{1} λ_{1} \\sin{\\left(\\operatorname{θ_{1}}{\\left(t \\right)} \\right)} - 20 \\operatorname{θ_{1}}{\\left(t \\right)} + 20.943951023932 \\sin^{2}{\\left(\\frac{t}{2} \\right)} + 3.14159265358979\\\\L_{2} λ_{2} \\sin{\\left(\\operatorname{θ_{2}}{\\left(t \\right)} \\right)} - 20 \\operatorname{θ_{2}}{\\left(t \\right)} - 20.943951023932 \\sin^{2}{\\left(\\frac{t}{2} \\right)} - 3.14159265358979\\\\L_{1} \\sin{\\left(\\operatorname{θ_{1}}{\\left(t \\right)} \\right)} \\frac{d^{2}}{d t^{2}} \\operatorname{θ_{1}}{\\left(t \\right)} + L_{1} \\cos{\\left(\\operatorname{θ_{1}}{\\left(t \\right)} \\right)} \\left(\\frac{d}{d t} \\operatorname{θ_{1}}{\\left(t \\right)}\\right)^{2} + \\frac{d^{2}}{d t^{2}} y{\\left(t \\right)}\\\\L_{2} \\sin{\\left(\\operatorname{θ_{2}}{\\left(t \\right)} \\right)} \\frac{d^{2}}{d t^{2}} \\operatorname{θ_{2}}{\\left(t \\right)} + L_{2} \\cos{\\left(\\operatorname{θ_{2}}{\\left(t \\right)} \\right)} \\left(\\frac{d}{d t} \\operatorname{θ_{2}}{\\left(t \\right)}\\right)^{2} + \\frac{d^{2}}{d t^{2}} y{\\left(t \\right)}\\end{matrix}\\right]$"
      ],
      "text/plain": [
       "Matrix([\n",
       "[                                                                                                               0],\n",
       "[                                                                                                       λ_1 + λ_2],\n",
       "[                                L_1*λ_1*sin(θ_1(t)) - 20*θ_1(t) + 20.943951023932*sin(t/2)**2 + 3.14159265358979],\n",
       "[                                L_2*λ_2*sin(θ_2(t)) - 20*θ_2(t) - 20.943951023932*sin(t/2)**2 - 3.14159265358979],\n",
       "[L_1*sin(θ_1(t))*Derivative(θ_1(t), (t, 2)) + L_1*cos(θ_1(t))*Derivative(θ_1(t), t)**2 + Derivative(y(t), (t, 2))],\n",
       "[L_2*sin(θ_2(t))*Derivative(θ_2(t), (t, 2)) + L_2*cos(θ_2(t))*Derivative(θ_2(t), t)**2 + Derivative(y(t), (t, 2))]])"
      ]
     },
     "metadata": {},
     "output_type": "display_data"
    }
   ],
   "source": [
    "#Defining constraint...\n",
    "lam1 = sym.symbols(r'λ_1')\n",
    "lam2 = sym.symbols(r'λ_2')\n",
    "phi1 = rD[1] #phi defined as the y=position of the constraint frames D and E\n",
    "phi2 = rE[1]\n",
    "\n",
    "#display\n",
    "ph1_s = sym.symbols(r'ϕ_1')\n",
    "ph2_s = sym.symbols(r'ϕ_2')\n",
    "print(\"The constraint equations ϕ1(q) and ϕ2(q)\")\n",
    "display(Eq(Eq(ph1_s,phi1,evaluate=0),0,evaluate=0))\n",
    "display(Eq(Eq(ph2_s,phi2,evaluate=0),0,evaluate=0))\n",
    "\n",
    "#Calculating dϕ/dq...\n",
    "phi1_mat = Matrix([phi1])\n",
    "phi1dq = (phi1_mat.jacobian(q)).T\n",
    "phi2_mat = Matrix([phi2])\n",
    "phi2dq = (phi2_mat.jacobian(q)).T\n",
    "print('dϕ1/dq and dϕ2/dq, respectively :')\n",
    "display(phi1dq,phi2dq)\n",
    "\n",
    "#ddϕ/dt\n",
    "print('second derivative of phi1 and phi2 with respect to time:')\n",
    "phi1ddt = phi1.diff(t,2)\n",
    "phi2ddt = phi2.diff(t,2)\n",
    "display(phi1ddt)\n",
    "display(phi2ddt)\n",
    "\n",
    "#rhs for solving...\n",
    "rhs = lam1*phi1dq + lam2*phi2dq + F\n",
    "\n",
    "#appending on the 2nd derivative terms...\n",
    "rhs = rhs.col_join(Matrix([phi1ddt,phi2ddt]))\n",
    "\n",
    "print('Full right-hand side for solving...')\n",
    "display(rhs)"
   ]
  },
  {
   "cell_type": "markdown",
   "metadata": {},
   "source": [
    "**Euler-Lagrange**"
   ]
  },
  {
   "cell_type": "code",
   "execution_count": 24,
   "metadata": {},
   "outputs": [
    {
     "name": "stdout",
     "output_type": "stream",
     "text": [
      "The Euler-Lagrange Equations: (substituted)\n"
     ]
    },
    {
     "data": {
      "text/latex": [
       "$\\displaystyle \\left[\\begin{matrix}- \\left(- 2 x{\\left(t \\right)} \\sin{\\left(\\operatorname{θ_{1}}{\\left(t \\right)} \\right)} + 2 y{\\left(t \\right)} \\cos{\\left(\\operatorname{θ_{1}}{\\left(t \\right)} \\right)} + 2 \\sin{\\left(\\operatorname{θ_{1}}{\\left(t \\right)} \\right)} \\frac{d}{d t} x{\\left(t \\right)} - 2 \\cos{\\left(\\operatorname{θ_{1}}{\\left(t \\right)} \\right)} \\frac{d}{d t} y{\\left(t \\right)} - 1\\right) \\cos{\\left(\\operatorname{θ_{1}}{\\left(t \\right)} \\right)} \\frac{d}{d t} \\operatorname{θ_{1}}{\\left(t \\right)} + \\left(2 x{\\left(t \\right)} \\sin{\\left(\\operatorname{θ_{1}}{\\left(t \\right)} \\right)} - 2 y{\\left(t \\right)} \\cos{\\left(\\operatorname{θ_{1}}{\\left(t \\right)} \\right)} - 2 \\sin{\\left(\\operatorname{θ_{1}}{\\left(t \\right)} \\right)} \\frac{d}{d t} x{\\left(t \\right)} + 2 \\cos{\\left(\\operatorname{θ_{1}}{\\left(t \\right)} \\right)} \\frac{d}{d t} y{\\left(t \\right)} + 1\\right) \\sin{\\left(\\operatorname{θ_{1}}{\\left(t \\right)} \\right)} - \\left(- 2 x{\\left(t \\right)} \\sin{\\left(\\operatorname{θ_{2}}{\\left(t \\right)} \\right)} + 2 y{\\left(t \\right)} \\cos{\\left(\\operatorname{θ_{2}}{\\left(t \\right)} \\right)} + 2 \\sin{\\left(\\operatorname{θ_{2}}{\\left(t \\right)} \\right)} \\frac{d}{d t} x{\\left(t \\right)} - 2 \\cos{\\left(\\operatorname{θ_{2}}{\\left(t \\right)} \\right)} \\frac{d}{d t} y{\\left(t \\right)} - 1\\right) \\cos{\\left(\\operatorname{θ_{2}}{\\left(t \\right)} \\right)} \\frac{d}{d t} \\operatorname{θ_{2}}{\\left(t \\right)} + \\left(2 x{\\left(t \\right)} \\sin{\\left(\\operatorname{θ_{2}}{\\left(t \\right)} \\right)} - 2 y{\\left(t \\right)} \\cos{\\left(\\operatorname{θ_{2}}{\\left(t \\right)} \\right)} - 2 \\sin{\\left(\\operatorname{θ_{2}}{\\left(t \\right)} \\right)} \\frac{d}{d t} x{\\left(t \\right)} + 2 \\cos{\\left(\\operatorname{θ_{2}}{\\left(t \\right)} \\right)} \\frac{d}{d t} y{\\left(t \\right)} + 1\\right) \\sin{\\left(\\operatorname{θ_{2}}{\\left(t \\right)} \\right)} + \\left(- 2 x{\\left(t \\right)} \\cos{\\left(\\operatorname{θ_{1}}{\\left(t \\right)} \\right)} - 2 y{\\left(t \\right)} \\sin{\\left(\\operatorname{θ_{1}}{\\left(t \\right)} \\right)} + 2 \\sin{\\left(\\operatorname{θ_{1}}{\\left(t \\right)} \\right)} \\frac{d}{d t} y{\\left(t \\right)} + 2 \\cos{\\left(\\operatorname{θ_{1}}{\\left(t \\right)} \\right)} \\frac{d}{d t} x{\\left(t \\right)} + \\frac{d}{d t} \\operatorname{θ_{1}}{\\left(t \\right)}\\right) \\sin{\\left(\\operatorname{θ_{1}}{\\left(t \\right)} \\right)} \\frac{d}{d t} \\operatorname{θ_{1}}{\\left(t \\right)} - \\left(- 2 x{\\left(t \\right)} \\cos{\\left(\\operatorname{θ_{1}}{\\left(t \\right)} \\right)} - 2 y{\\left(t \\right)} \\sin{\\left(\\operatorname{θ_{1}}{\\left(t \\right)} \\right)} + 2 \\sin{\\left(\\operatorname{θ_{1}}{\\left(t \\right)} \\right)} \\frac{d}{d t} y{\\left(t \\right)} + 2 \\cos{\\left(\\operatorname{θ_{1}}{\\left(t \\right)} \\right)} \\frac{d}{d t} x{\\left(t \\right)} + \\frac{d}{d t} \\operatorname{θ_{1}}{\\left(t \\right)}\\right) \\cos{\\left(\\operatorname{θ_{1}}{\\left(t \\right)} \\right)} + \\left(- 2 x{\\left(t \\right)} \\cos{\\left(\\operatorname{θ_{2}}{\\left(t \\right)} \\right)} - 2 y{\\left(t \\right)} \\sin{\\left(\\operatorname{θ_{2}}{\\left(t \\right)} \\right)} + 2 \\sin{\\left(\\operatorname{θ_{2}}{\\left(t \\right)} \\right)} \\frac{d}{d t} y{\\left(t \\right)} + 2 \\cos{\\left(\\operatorname{θ_{2}}{\\left(t \\right)} \\right)} \\frac{d}{d t} x{\\left(t \\right)} + \\frac{d}{d t} \\operatorname{θ_{2}}{\\left(t \\right)}\\right) \\sin{\\left(\\operatorname{θ_{2}}{\\left(t \\right)} \\right)} \\frac{d}{d t} \\operatorname{θ_{2}}{\\left(t \\right)} - \\left(- 2 x{\\left(t \\right)} \\cos{\\left(\\operatorname{θ_{2}}{\\left(t \\right)} \\right)} - 2 y{\\left(t \\right)} \\sin{\\left(\\operatorname{θ_{2}}{\\left(t \\right)} \\right)} + 2 \\sin{\\left(\\operatorname{θ_{2}}{\\left(t \\right)} \\right)} \\frac{d}{d t} y{\\left(t \\right)} + 2 \\cos{\\left(\\operatorname{θ_{2}}{\\left(t \\right)} \\right)} \\frac{d}{d t} x{\\left(t \\right)} + \\frac{d}{d t} \\operatorname{θ_{2}}{\\left(t \\right)}\\right) \\cos{\\left(\\operatorname{θ_{2}}{\\left(t \\right)} \\right)} - \\left(- 2 x{\\left(t \\right)} \\cos{\\left(\\operatorname{θ_{1}}{\\left(t \\right)} \\right)} \\frac{d}{d t} \\operatorname{θ_{1}}{\\left(t \\right)} - 2 y{\\left(t \\right)} \\sin{\\left(\\operatorname{θ_{1}}{\\left(t \\right)} \\right)} \\frac{d}{d t} \\operatorname{θ_{1}}{\\left(t \\right)} - 2 \\sin{\\left(\\operatorname{θ_{1}}{\\left(t \\right)} \\right)} \\frac{d}{d t} x{\\left(t \\right)} + 2 \\sin{\\left(\\operatorname{θ_{1}}{\\left(t \\right)} \\right)} \\frac{d^{2}}{d t^{2}} x{\\left(t \\right)} + 2 \\sin{\\left(\\operatorname{θ_{1}}{\\left(t \\right)} \\right)} \\frac{d}{d t} y{\\left(t \\right)} \\frac{d}{d t} \\operatorname{θ_{1}}{\\left(t \\right)} + 2 \\cos{\\left(\\operatorname{θ_{1}}{\\left(t \\right)} \\right)} \\frac{d}{d t} x{\\left(t \\right)} \\frac{d}{d t} \\operatorname{θ_{1}}{\\left(t \\right)} + 2 \\cos{\\left(\\operatorname{θ_{1}}{\\left(t \\right)} \\right)} \\frac{d}{d t} y{\\left(t \\right)} - 2 \\cos{\\left(\\operatorname{θ_{1}}{\\left(t \\right)} \\right)} \\frac{d^{2}}{d t^{2}} y{\\left(t \\right)}\\right) \\sin{\\left(\\operatorname{θ_{1}}{\\left(t \\right)} \\right)} - \\left(- 2 x{\\left(t \\right)} \\cos{\\left(\\operatorname{θ_{2}}{\\left(t \\right)} \\right)} \\frac{d}{d t} \\operatorname{θ_{2}}{\\left(t \\right)} - 2 y{\\left(t \\right)} \\sin{\\left(\\operatorname{θ_{2}}{\\left(t \\right)} \\right)} \\frac{d}{d t} \\operatorname{θ_{2}}{\\left(t \\right)} - 2 \\sin{\\left(\\operatorname{θ_{2}}{\\left(t \\right)} \\right)} \\frac{d}{d t} x{\\left(t \\right)} + 2 \\sin{\\left(\\operatorname{θ_{2}}{\\left(t \\right)} \\right)} \\frac{d^{2}}{d t^{2}} x{\\left(t \\right)} + 2 \\sin{\\left(\\operatorname{θ_{2}}{\\left(t \\right)} \\right)} \\frac{d}{d t} y{\\left(t \\right)} \\frac{d}{d t} \\operatorname{θ_{2}}{\\left(t \\right)} + 2 \\cos{\\left(\\operatorname{θ_{2}}{\\left(t \\right)} \\right)} \\frac{d}{d t} x{\\left(t \\right)} \\frac{d}{d t} \\operatorname{θ_{2}}{\\left(t \\right)} + 2 \\cos{\\left(\\operatorname{θ_{2}}{\\left(t \\right)} \\right)} \\frac{d}{d t} y{\\left(t \\right)} - 2 \\cos{\\left(\\operatorname{θ_{2}}{\\left(t \\right)} \\right)} \\frac{d^{2}}{d t^{2}} y{\\left(t \\right)}\\right) \\sin{\\left(\\operatorname{θ_{2}}{\\left(t \\right)} \\right)} - \\left(2 x{\\left(t \\right)} \\sin{\\left(\\operatorname{θ_{1}}{\\left(t \\right)} \\right)} \\frac{d}{d t} \\operatorname{θ_{1}}{\\left(t \\right)} - 2 y{\\left(t \\right)} \\cos{\\left(\\operatorname{θ_{1}}{\\left(t \\right)} \\right)} \\frac{d}{d t} \\operatorname{θ_{1}}{\\left(t \\right)} - 2 \\sin{\\left(\\operatorname{θ_{1}}{\\left(t \\right)} \\right)} \\frac{d}{d t} x{\\left(t \\right)} \\frac{d}{d t} \\operatorname{θ_{1}}{\\left(t \\right)} - 2 \\sin{\\left(\\operatorname{θ_{1}}{\\left(t \\right)} \\right)} \\frac{d}{d t} y{\\left(t \\right)} + 2 \\sin{\\left(\\operatorname{θ_{1}}{\\left(t \\right)} \\right)} \\frac{d^{2}}{d t^{2}} y{\\left(t \\right)} - 2 \\cos{\\left(\\operatorname{θ_{1}}{\\left(t \\right)} \\right)} \\frac{d}{d t} x{\\left(t \\right)} + 2 \\cos{\\left(\\operatorname{θ_{1}}{\\left(t \\right)} \\right)} \\frac{d^{2}}{d t^{2}} x{\\left(t \\right)} + 2 \\cos{\\left(\\operatorname{θ_{1}}{\\left(t \\right)} \\right)} \\frac{d}{d t} y{\\left(t \\right)} \\frac{d}{d t} \\operatorname{θ_{1}}{\\left(t \\right)} + \\frac{d^{2}}{d t^{2}} \\operatorname{θ_{1}}{\\left(t \\right)}\\right) \\cos{\\left(\\operatorname{θ_{1}}{\\left(t \\right)} \\right)} - \\left(2 x{\\left(t \\right)} \\sin{\\left(\\operatorname{θ_{2}}{\\left(t \\right)} \\right)} \\frac{d}{d t} \\operatorname{θ_{2}}{\\left(t \\right)} - 2 y{\\left(t \\right)} \\cos{\\left(\\operatorname{θ_{2}}{\\left(t \\right)} \\right)} \\frac{d}{d t} \\operatorname{θ_{2}}{\\left(t \\right)} - 2 \\sin{\\left(\\operatorname{θ_{2}}{\\left(t \\right)} \\right)} \\frac{d}{d t} x{\\left(t \\right)} \\frac{d}{d t} \\operatorname{θ_{2}}{\\left(t \\right)} - 2 \\sin{\\left(\\operatorname{θ_{2}}{\\left(t \\right)} \\right)} \\frac{d}{d t} y{\\left(t \\right)} + 2 \\sin{\\left(\\operatorname{θ_{2}}{\\left(t \\right)} \\right)} \\frac{d^{2}}{d t^{2}} y{\\left(t \\right)} - 2 \\cos{\\left(\\operatorname{θ_{2}}{\\left(t \\right)} \\right)} \\frac{d}{d t} x{\\left(t \\right)} + 2 \\cos{\\left(\\operatorname{θ_{2}}{\\left(t \\right)} \\right)} \\frac{d^{2}}{d t^{2}} x{\\left(t \\right)} + 2 \\cos{\\left(\\operatorname{θ_{2}}{\\left(t \\right)} \\right)} \\frac{d}{d t} y{\\left(t \\right)} \\frac{d}{d t} \\operatorname{θ_{2}}{\\left(t \\right)} + \\frac{d^{2}}{d t^{2}} \\operatorname{θ_{2}}{\\left(t \\right)}\\right) \\cos{\\left(\\operatorname{θ_{2}}{\\left(t \\right)} \\right)}\\\\\\left(2 x{\\left(t \\right)} \\sin{\\left(\\operatorname{θ_{1}}{\\left(t \\right)} \\right)} - 2 y{\\left(t \\right)} \\cos{\\left(\\operatorname{θ_{1}}{\\left(t \\right)} \\right)} - 2 \\sin{\\left(\\operatorname{θ_{1}}{\\left(t \\right)} \\right)} \\frac{d}{d t} x{\\left(t \\right)} + 2 \\cos{\\left(\\operatorname{θ_{1}}{\\left(t \\right)} \\right)} \\frac{d}{d t} y{\\left(t \\right)} + 1\\right) \\sin{\\left(\\operatorname{θ_{1}}{\\left(t \\right)} \\right)} \\frac{d}{d t} \\operatorname{θ_{1}}{\\left(t \\right)} - \\left(2 x{\\left(t \\right)} \\sin{\\left(\\operatorname{θ_{1}}{\\left(t \\right)} \\right)} - 2 y{\\left(t \\right)} \\cos{\\left(\\operatorname{θ_{1}}{\\left(t \\right)} \\right)} - 2 \\sin{\\left(\\operatorname{θ_{1}}{\\left(t \\right)} \\right)} \\frac{d}{d t} x{\\left(t \\right)} + 2 \\cos{\\left(\\operatorname{θ_{1}}{\\left(t \\right)} \\right)} \\frac{d}{d t} y{\\left(t \\right)} + 1\\right) \\cos{\\left(\\operatorname{θ_{1}}{\\left(t \\right)} \\right)} + \\left(2 x{\\left(t \\right)} \\sin{\\left(\\operatorname{θ_{2}}{\\left(t \\right)} \\right)} - 2 y{\\left(t \\right)} \\cos{\\left(\\operatorname{θ_{2}}{\\left(t \\right)} \\right)} - 2 \\sin{\\left(\\operatorname{θ_{2}}{\\left(t \\right)} \\right)} \\frac{d}{d t} x{\\left(t \\right)} + 2 \\cos{\\left(\\operatorname{θ_{2}}{\\left(t \\right)} \\right)} \\frac{d}{d t} y{\\left(t \\right)} + 1\\right) \\sin{\\left(\\operatorname{θ_{2}}{\\left(t \\right)} \\right)} \\frac{d}{d t} \\operatorname{θ_{2}}{\\left(t \\right)} - \\left(2 x{\\left(t \\right)} \\sin{\\left(\\operatorname{θ_{2}}{\\left(t \\right)} \\right)} - 2 y{\\left(t \\right)} \\cos{\\left(\\operatorname{θ_{2}}{\\left(t \\right)} \\right)} - 2 \\sin{\\left(\\operatorname{θ_{2}}{\\left(t \\right)} \\right)} \\frac{d}{d t} x{\\left(t \\right)} + 2 \\cos{\\left(\\operatorname{θ_{2}}{\\left(t \\right)} \\right)} \\frac{d}{d t} y{\\left(t \\right)} + 1\\right) \\cos{\\left(\\operatorname{θ_{2}}{\\left(t \\right)} \\right)} - \\left(- 2 x{\\left(t \\right)} \\cos{\\left(\\operatorname{θ_{1}}{\\left(t \\right)} \\right)} - 2 y{\\left(t \\right)} \\sin{\\left(\\operatorname{θ_{1}}{\\left(t \\right)} \\right)} + 2 \\sin{\\left(\\operatorname{θ_{1}}{\\left(t \\right)} \\right)} \\frac{d}{d t} y{\\left(t \\right)} + 2 \\cos{\\left(\\operatorname{θ_{1}}{\\left(t \\right)} \\right)} \\frac{d}{d t} x{\\left(t \\right)} + \\frac{d}{d t} \\operatorname{θ_{1}}{\\left(t \\right)}\\right) \\sin{\\left(\\operatorname{θ_{1}}{\\left(t \\right)} \\right)} - \\left(- 2 x{\\left(t \\right)} \\cos{\\left(\\operatorname{θ_{1}}{\\left(t \\right)} \\right)} - 2 y{\\left(t \\right)} \\sin{\\left(\\operatorname{θ_{1}}{\\left(t \\right)} \\right)} + 2 \\sin{\\left(\\operatorname{θ_{1}}{\\left(t \\right)} \\right)} \\frac{d}{d t} y{\\left(t \\right)} + 2 \\cos{\\left(\\operatorname{θ_{1}}{\\left(t \\right)} \\right)} \\frac{d}{d t} x{\\left(t \\right)} + \\frac{d}{d t} \\operatorname{θ_{1}}{\\left(t \\right)}\\right) \\cos{\\left(\\operatorname{θ_{1}}{\\left(t \\right)} \\right)} \\frac{d}{d t} \\operatorname{θ_{1}}{\\left(t \\right)} - \\left(- 2 x{\\left(t \\right)} \\cos{\\left(\\operatorname{θ_{2}}{\\left(t \\right)} \\right)} - 2 y{\\left(t \\right)} \\sin{\\left(\\operatorname{θ_{2}}{\\left(t \\right)} \\right)} + 2 \\sin{\\left(\\operatorname{θ_{2}}{\\left(t \\right)} \\right)} \\frac{d}{d t} y{\\left(t \\right)} + 2 \\cos{\\left(\\operatorname{θ_{2}}{\\left(t \\right)} \\right)} \\frac{d}{d t} x{\\left(t \\right)} + \\frac{d}{d t} \\operatorname{θ_{2}}{\\left(t \\right)}\\right) \\sin{\\left(\\operatorname{θ_{2}}{\\left(t \\right)} \\right)} - \\left(- 2 x{\\left(t \\right)} \\cos{\\left(\\operatorname{θ_{2}}{\\left(t \\right)} \\right)} - 2 y{\\left(t \\right)} \\sin{\\left(\\operatorname{θ_{2}}{\\left(t \\right)} \\right)} + 2 \\sin{\\left(\\operatorname{θ_{2}}{\\left(t \\right)} \\right)} \\frac{d}{d t} y{\\left(t \\right)} + 2 \\cos{\\left(\\operatorname{θ_{2}}{\\left(t \\right)} \\right)} \\frac{d}{d t} x{\\left(t \\right)} + \\frac{d}{d t} \\operatorname{θ_{2}}{\\left(t \\right)}\\right) \\cos{\\left(\\operatorname{θ_{2}}{\\left(t \\right)} \\right)} \\frac{d}{d t} \\operatorname{θ_{2}}{\\left(t \\right)} - \\left(2 x{\\left(t \\right)} \\cos{\\left(\\operatorname{θ_{1}}{\\left(t \\right)} \\right)} \\frac{d}{d t} \\operatorname{θ_{1}}{\\left(t \\right)} + 2 y{\\left(t \\right)} \\sin{\\left(\\operatorname{θ_{1}}{\\left(t \\right)} \\right)} \\frac{d}{d t} \\operatorname{θ_{1}}{\\left(t \\right)} + 2 \\sin{\\left(\\operatorname{θ_{1}}{\\left(t \\right)} \\right)} \\frac{d}{d t} x{\\left(t \\right)} - 2 \\sin{\\left(\\operatorname{θ_{1}}{\\left(t \\right)} \\right)} \\frac{d^{2}}{d t^{2}} x{\\left(t \\right)} - 2 \\sin{\\left(\\operatorname{θ_{1}}{\\left(t \\right)} \\right)} \\frac{d}{d t} y{\\left(t \\right)} \\frac{d}{d t} \\operatorname{θ_{1}}{\\left(t \\right)} - 2 \\cos{\\left(\\operatorname{θ_{1}}{\\left(t \\right)} \\right)} \\frac{d}{d t} x{\\left(t \\right)} \\frac{d}{d t} \\operatorname{θ_{1}}{\\left(t \\right)} - 2 \\cos{\\left(\\operatorname{θ_{1}}{\\left(t \\right)} \\right)} \\frac{d}{d t} y{\\left(t \\right)} + 2 \\cos{\\left(\\operatorname{θ_{1}}{\\left(t \\right)} \\right)} \\frac{d^{2}}{d t^{2}} y{\\left(t \\right)}\\right) \\cos{\\left(\\operatorname{θ_{1}}{\\left(t \\right)} \\right)} - \\left(2 x{\\left(t \\right)} \\cos{\\left(\\operatorname{θ_{2}}{\\left(t \\right)} \\right)} \\frac{d}{d t} \\operatorname{θ_{2}}{\\left(t \\right)} + 2 y{\\left(t \\right)} \\sin{\\left(\\operatorname{θ_{2}}{\\left(t \\right)} \\right)} \\frac{d}{d t} \\operatorname{θ_{2}}{\\left(t \\right)} + 2 \\sin{\\left(\\operatorname{θ_{2}}{\\left(t \\right)} \\right)} \\frac{d}{d t} x{\\left(t \\right)} - 2 \\sin{\\left(\\operatorname{θ_{2}}{\\left(t \\right)} \\right)} \\frac{d^{2}}{d t^{2}} x{\\left(t \\right)} - 2 \\sin{\\left(\\operatorname{θ_{2}}{\\left(t \\right)} \\right)} \\frac{d}{d t} y{\\left(t \\right)} \\frac{d}{d t} \\operatorname{θ_{2}}{\\left(t \\right)} - 2 \\cos{\\left(\\operatorname{θ_{2}}{\\left(t \\right)} \\right)} \\frac{d}{d t} x{\\left(t \\right)} \\frac{d}{d t} \\operatorname{θ_{2}}{\\left(t \\right)} - 2 \\cos{\\left(\\operatorname{θ_{2}}{\\left(t \\right)} \\right)} \\frac{d}{d t} y{\\left(t \\right)} + 2 \\cos{\\left(\\operatorname{θ_{2}}{\\left(t \\right)} \\right)} \\frac{d^{2}}{d t^{2}} y{\\left(t \\right)}\\right) \\cos{\\left(\\operatorname{θ_{2}}{\\left(t \\right)} \\right)} - \\left(2 x{\\left(t \\right)} \\sin{\\left(\\operatorname{θ_{1}}{\\left(t \\right)} \\right)} \\frac{d}{d t} \\operatorname{θ_{1}}{\\left(t \\right)} - 2 y{\\left(t \\right)} \\cos{\\left(\\operatorname{θ_{1}}{\\left(t \\right)} \\right)} \\frac{d}{d t} \\operatorname{θ_{1}}{\\left(t \\right)} - 2 \\sin{\\left(\\operatorname{θ_{1}}{\\left(t \\right)} \\right)} \\frac{d}{d t} x{\\left(t \\right)} \\frac{d}{d t} \\operatorname{θ_{1}}{\\left(t \\right)} - 2 \\sin{\\left(\\operatorname{θ_{1}}{\\left(t \\right)} \\right)} \\frac{d}{d t} y{\\left(t \\right)} + 2 \\sin{\\left(\\operatorname{θ_{1}}{\\left(t \\right)} \\right)} \\frac{d^{2}}{d t^{2}} y{\\left(t \\right)} - 2 \\cos{\\left(\\operatorname{θ_{1}}{\\left(t \\right)} \\right)} \\frac{d}{d t} x{\\left(t \\right)} + 2 \\cos{\\left(\\operatorname{θ_{1}}{\\left(t \\right)} \\right)} \\frac{d^{2}}{d t^{2}} x{\\left(t \\right)} + 2 \\cos{\\left(\\operatorname{θ_{1}}{\\left(t \\right)} \\right)} \\frac{d}{d t} y{\\left(t \\right)} \\frac{d}{d t} \\operatorname{θ_{1}}{\\left(t \\right)} + \\frac{d^{2}}{d t^{2}} \\operatorname{θ_{1}}{\\left(t \\right)}\\right) \\sin{\\left(\\operatorname{θ_{1}}{\\left(t \\right)} \\right)} - \\left(2 x{\\left(t \\right)} \\sin{\\left(\\operatorname{θ_{2}}{\\left(t \\right)} \\right)} \\frac{d}{d t} \\operatorname{θ_{2}}{\\left(t \\right)} - 2 y{\\left(t \\right)} \\cos{\\left(\\operatorname{θ_{2}}{\\left(t \\right)} \\right)} \\frac{d}{d t} \\operatorname{θ_{2}}{\\left(t \\right)} - 2 \\sin{\\left(\\operatorname{θ_{2}}{\\left(t \\right)} \\right)} \\frac{d}{d t} x{\\left(t \\right)} \\frac{d}{d t} \\operatorname{θ_{2}}{\\left(t \\right)} - 2 \\sin{\\left(\\operatorname{θ_{2}}{\\left(t \\right)} \\right)} \\frac{d}{d t} y{\\left(t \\right)} + 2 \\sin{\\left(\\operatorname{θ_{2}}{\\left(t \\right)} \\right)} \\frac{d^{2}}{d t^{2}} y{\\left(t \\right)} - 2 \\cos{\\left(\\operatorname{θ_{2}}{\\left(t \\right)} \\right)} \\frac{d}{d t} x{\\left(t \\right)} + 2 \\cos{\\left(\\operatorname{θ_{2}}{\\left(t \\right)} \\right)} \\frac{d^{2}}{d t^{2}} x{\\left(t \\right)} + 2 \\cos{\\left(\\operatorname{θ_{2}}{\\left(t \\right)} \\right)} \\frac{d}{d t} y{\\left(t \\right)} \\frac{d}{d t} \\operatorname{θ_{2}}{\\left(t \\right)} + \\frac{d^{2}}{d t^{2}} \\operatorname{θ_{2}}{\\left(t \\right)}\\right) \\sin{\\left(\\operatorname{θ_{2}}{\\left(t \\right)} \\right)} - 19.6\\\\\\frac{\\left(4 x{\\left(t \\right)} \\sin{\\left(\\operatorname{θ_{1}}{\\left(t \\right)} \\right)} - 4 y{\\left(t \\right)} \\cos{\\left(\\operatorname{θ_{1}}{\\left(t \\right)} \\right)} - 4 \\sin{\\left(\\operatorname{θ_{1}}{\\left(t \\right)} \\right)} \\frac{d}{d t} x{\\left(t \\right)} + 4 \\cos{\\left(\\operatorname{θ_{1}}{\\left(t \\right)} \\right)} \\frac{d}{d t} y{\\left(t \\right)}\\right) \\left(- 2 x{\\left(t \\right)} \\cos{\\left(\\operatorname{θ_{1}}{\\left(t \\right)} \\right)} - 2 y{\\left(t \\right)} \\sin{\\left(\\operatorname{θ_{1}}{\\left(t \\right)} \\right)} + 2 \\sin{\\left(\\operatorname{θ_{1}}{\\left(t \\right)} \\right)} \\frac{d}{d t} y{\\left(t \\right)} + 2 \\cos{\\left(\\operatorname{θ_{1}}{\\left(t \\right)} \\right)} \\frac{d}{d t} x{\\left(t \\right)} + \\frac{d}{d t} \\operatorname{θ_{1}}{\\left(t \\right)}\\right)}{4} + \\frac{\\left(4 x{\\left(t \\right)} \\cos{\\left(\\operatorname{θ_{1}}{\\left(t \\right)} \\right)} + 4 y{\\left(t \\right)} \\sin{\\left(\\operatorname{θ_{1}}{\\left(t \\right)} \\right)} - 4 \\sin{\\left(\\operatorname{θ_{1}}{\\left(t \\right)} \\right)} \\frac{d}{d t} y{\\left(t \\right)} - 4 \\cos{\\left(\\operatorname{θ_{1}}{\\left(t \\right)} \\right)} \\frac{d}{d t} x{\\left(t \\right)}\\right) \\left(2 x{\\left(t \\right)} \\sin{\\left(\\operatorname{θ_{1}}{\\left(t \\right)} \\right)} - 2 y{\\left(t \\right)} \\cos{\\left(\\operatorname{θ_{1}}{\\left(t \\right)} \\right)} - 2 \\sin{\\left(\\operatorname{θ_{1}}{\\left(t \\right)} \\right)} \\frac{d}{d t} x{\\left(t \\right)} + 2 \\cos{\\left(\\operatorname{θ_{1}}{\\left(t \\right)} \\right)} \\frac{d}{d t} y{\\left(t \\right)} + 1\\right)}{4} - x{\\left(t \\right)} \\sin{\\left(\\operatorname{θ_{1}}{\\left(t \\right)} \\right)} \\frac{d}{d t} \\operatorname{θ_{1}}{\\left(t \\right)} + y{\\left(t \\right)} \\cos{\\left(\\operatorname{θ_{1}}{\\left(t \\right)} \\right)} \\frac{d}{d t} \\operatorname{θ_{1}}{\\left(t \\right)} + \\sin{\\left(\\operatorname{θ_{1}}{\\left(t \\right)} \\right)} \\frac{d}{d t} x{\\left(t \\right)} \\frac{d}{d t} \\operatorname{θ_{1}}{\\left(t \\right)} + \\sin{\\left(\\operatorname{θ_{1}}{\\left(t \\right)} \\right)} \\frac{d}{d t} y{\\left(t \\right)} - \\sin{\\left(\\operatorname{θ_{1}}{\\left(t \\right)} \\right)} \\frac{d^{2}}{d t^{2}} y{\\left(t \\right)} - 4.9 \\sin{\\left(\\operatorname{θ_{1}}{\\left(t \\right)} \\right)} + \\cos{\\left(\\operatorname{θ_{1}}{\\left(t \\right)} \\right)} \\frac{d}{d t} x{\\left(t \\right)} - \\cos{\\left(\\operatorname{θ_{1}}{\\left(t \\right)} \\right)} \\frac{d^{2}}{d t^{2}} x{\\left(t \\right)} - \\cos{\\left(\\operatorname{θ_{1}}{\\left(t \\right)} \\right)} \\frac{d}{d t} y{\\left(t \\right)} \\frac{d}{d t} \\operatorname{θ_{1}}{\\left(t \\right)} - \\frac{\\frac{d^{2}}{d t^{2}} \\operatorname{θ_{1}}{\\left(t \\right)}}{2}\\\\\\frac{\\left(4 x{\\left(t \\right)} \\sin{\\left(\\operatorname{θ_{2}}{\\left(t \\right)} \\right)} - 4 y{\\left(t \\right)} \\cos{\\left(\\operatorname{θ_{2}}{\\left(t \\right)} \\right)} - 4 \\sin{\\left(\\operatorname{θ_{2}}{\\left(t \\right)} \\right)} \\frac{d}{d t} x{\\left(t \\right)} + 4 \\cos{\\left(\\operatorname{θ_{2}}{\\left(t \\right)} \\right)} \\frac{d}{d t} y{\\left(t \\right)}\\right) \\left(- 2 x{\\left(t \\right)} \\cos{\\left(\\operatorname{θ_{2}}{\\left(t \\right)} \\right)} - 2 y{\\left(t \\right)} \\sin{\\left(\\operatorname{θ_{2}}{\\left(t \\right)} \\right)} + 2 \\sin{\\left(\\operatorname{θ_{2}}{\\left(t \\right)} \\right)} \\frac{d}{d t} y{\\left(t \\right)} + 2 \\cos{\\left(\\operatorname{θ_{2}}{\\left(t \\right)} \\right)} \\frac{d}{d t} x{\\left(t \\right)} + \\frac{d}{d t} \\operatorname{θ_{2}}{\\left(t \\right)}\\right)}{4} + \\frac{\\left(4 x{\\left(t \\right)} \\cos{\\left(\\operatorname{θ_{2}}{\\left(t \\right)} \\right)} + 4 y{\\left(t \\right)} \\sin{\\left(\\operatorname{θ_{2}}{\\left(t \\right)} \\right)} - 4 \\sin{\\left(\\operatorname{θ_{2}}{\\left(t \\right)} \\right)} \\frac{d}{d t} y{\\left(t \\right)} - 4 \\cos{\\left(\\operatorname{θ_{2}}{\\left(t \\right)} \\right)} \\frac{d}{d t} x{\\left(t \\right)}\\right) \\left(2 x{\\left(t \\right)} \\sin{\\left(\\operatorname{θ_{2}}{\\left(t \\right)} \\right)} - 2 y{\\left(t \\right)} \\cos{\\left(\\operatorname{θ_{2}}{\\left(t \\right)} \\right)} - 2 \\sin{\\left(\\operatorname{θ_{2}}{\\left(t \\right)} \\right)} \\frac{d}{d t} x{\\left(t \\right)} + 2 \\cos{\\left(\\operatorname{θ_{2}}{\\left(t \\right)} \\right)} \\frac{d}{d t} y{\\left(t \\right)} + 1\\right)}{4} - x{\\left(t \\right)} \\sin{\\left(\\operatorname{θ_{2}}{\\left(t \\right)} \\right)} \\frac{d}{d t} \\operatorname{θ_{2}}{\\left(t \\right)} + y{\\left(t \\right)} \\cos{\\left(\\operatorname{θ_{2}}{\\left(t \\right)} \\right)} \\frac{d}{d t} \\operatorname{θ_{2}}{\\left(t \\right)} + \\sin{\\left(\\operatorname{θ_{2}}{\\left(t \\right)} \\right)} \\frac{d}{d t} x{\\left(t \\right)} \\frac{d}{d t} \\operatorname{θ_{2}}{\\left(t \\right)} + \\sin{\\left(\\operatorname{θ_{2}}{\\left(t \\right)} \\right)} \\frac{d}{d t} y{\\left(t \\right)} - \\sin{\\left(\\operatorname{θ_{2}}{\\left(t \\right)} \\right)} \\frac{d^{2}}{d t^{2}} y{\\left(t \\right)} - 4.9 \\sin{\\left(\\operatorname{θ_{2}}{\\left(t \\right)} \\right)} + \\cos{\\left(\\operatorname{θ_{2}}{\\left(t \\right)} \\right)} \\frac{d}{d t} x{\\left(t \\right)} - \\cos{\\left(\\operatorname{θ_{2}}{\\left(t \\right)} \\right)} \\frac{d^{2}}{d t^{2}} x{\\left(t \\right)} - \\cos{\\left(\\operatorname{θ_{2}}{\\left(t \\right)} \\right)} \\frac{d}{d t} y{\\left(t \\right)} \\frac{d}{d t} \\operatorname{θ_{2}}{\\left(t \\right)} - \\frac{\\frac{d^{2}}{d t^{2}} \\operatorname{θ_{2}}{\\left(t \\right)}}{2}\\\\0\\\\0\\end{matrix}\\right] = \\left[\\begin{matrix}0\\\\λ_{1} + λ_{2}\\\\L_{1} λ_{1} \\sin{\\left(\\operatorname{θ_{1}}{\\left(t \\right)} \\right)} - 20 \\operatorname{θ_{1}}{\\left(t \\right)} + 20.943951023932 \\sin^{2}{\\left(\\frac{t}{2} \\right)} + 3.14159265358979\\\\L_{2} λ_{2} \\sin{\\left(\\operatorname{θ_{2}}{\\left(t \\right)} \\right)} - 20 \\operatorname{θ_{2}}{\\left(t \\right)} - 20.943951023932 \\sin^{2}{\\left(\\frac{t}{2} \\right)} - 3.14159265358979\\\\L_{1} \\sin{\\left(\\operatorname{θ_{1}}{\\left(t \\right)} \\right)} \\frac{d^{2}}{d t^{2}} \\operatorname{θ_{1}}{\\left(t \\right)} + L_{1} \\cos{\\left(\\operatorname{θ_{1}}{\\left(t \\right)} \\right)} \\left(\\frac{d}{d t} \\operatorname{θ_{1}}{\\left(t \\right)}\\right)^{2} + \\frac{d^{2}}{d t^{2}} y{\\left(t \\right)}\\\\L_{2} \\sin{\\left(\\operatorname{θ_{2}}{\\left(t \\right)} \\right)} \\frac{d^{2}}{d t^{2}} \\operatorname{θ_{2}}{\\left(t \\right)} + L_{2} \\cos{\\left(\\operatorname{θ_{2}}{\\left(t \\right)} \\right)} \\left(\\frac{d}{d t} \\operatorname{θ_{2}}{\\left(t \\right)}\\right)^{2} + \\frac{d^{2}}{d t^{2}} y{\\left(t \\right)}\\end{matrix}\\right]$"
      ],
      "text/plain": [
       "Eq(Matrix([\n",
       "[  -(-2*x(t)*sin(θ_1(t)) + 2*y(t)*cos(θ_1(t)) + 2*sin(θ_1(t))*Derivative(x(t), t) - 2*cos(θ_1(t))*Derivative(y(t), t) - 1)*cos(θ_1(t))*Derivative(θ_1(t), t) + (2*x(t)*sin(θ_1(t)) - 2*y(t)*cos(θ_1(t)) - 2*sin(θ_1(t))*Derivative(x(t), t) + 2*cos(θ_1(t))*Derivative(y(t), t) + 1)*sin(θ_1(t)) - (-2*x(t)*sin(θ_2(t)) + 2*y(t)*cos(θ_2(t)) + 2*sin(θ_2(t))*Derivative(x(t), t) - 2*cos(θ_2(t))*Derivative(y(t), t) - 1)*cos(θ_2(t))*Derivative(θ_2(t), t) + (2*x(t)*sin(θ_2(t)) - 2*y(t)*cos(θ_2(t)) - 2*sin(θ_2(t))*Derivative(x(t), t) + 2*cos(θ_2(t))*Derivative(y(t), t) + 1)*sin(θ_2(t)) + (-2*x(t)*cos(θ_1(t)) - 2*y(t)*sin(θ_1(t)) + 2*sin(θ_1(t))*Derivative(y(t), t) + 2*cos(θ_1(t))*Derivative(x(t), t) + Derivative(θ_1(t), t))*sin(θ_1(t))*Derivative(θ_1(t), t) - (-2*x(t)*cos(θ_1(t)) - 2*y(t)*sin(θ_1(t)) + 2*sin(θ_1(t))*Derivative(y(t), t) + 2*cos(θ_1(t))*Derivative(x(t), t) + Derivative(θ_1(t), t))*cos(θ_1(t)) + (-2*x(t)*cos(θ_2(t)) - 2*y(t)*sin(θ_2(t)) + 2*sin(θ_2(t))*Derivative(y(t), t) + 2*cos(θ_2(t))*Derivative(x(t), t) + Derivative(θ_2(t), t))*sin(θ_2(t))*Derivative(θ_2(t), t) - (-2*x(t)*cos(θ_2(t)) - 2*y(t)*sin(θ_2(t)) + 2*sin(θ_2(t))*Derivative(y(t), t) + 2*cos(θ_2(t))*Derivative(x(t), t) + Derivative(θ_2(t), t))*cos(θ_2(t)) - (-2*x(t)*cos(θ_1(t))*Derivative(θ_1(t), t) - 2*y(t)*sin(θ_1(t))*Derivative(θ_1(t), t) - 2*sin(θ_1(t))*Derivative(x(t), t) + 2*sin(θ_1(t))*Derivative(x(t), (t, 2)) + 2*sin(θ_1(t))*Derivative(y(t), t)*Derivative(θ_1(t), t) + 2*cos(θ_1(t))*Derivative(x(t), t)*Derivative(θ_1(t), t) + 2*cos(θ_1(t))*Derivative(y(t), t) - 2*cos(θ_1(t))*Derivative(y(t), (t, 2)))*sin(θ_1(t)) - (-2*x(t)*cos(θ_2(t))*Derivative(θ_2(t), t) - 2*y(t)*sin(θ_2(t))*Derivative(θ_2(t), t) - 2*sin(θ_2(t))*Derivative(x(t), t) + 2*sin(θ_2(t))*Derivative(x(t), (t, 2)) + 2*sin(θ_2(t))*Derivative(y(t), t)*Derivative(θ_2(t), t) + 2*cos(θ_2(t))*Derivative(x(t), t)*Derivative(θ_2(t), t) + 2*cos(θ_2(t))*Derivative(y(t), t) - 2*cos(θ_2(t))*Derivative(y(t), (t, 2)))*sin(θ_2(t)) - (2*x(t)*sin(θ_1(t))*Derivative(θ_1(t), t) - 2*y(t)*cos(θ_1(t))*Derivative(θ_1(t), t) - 2*sin(θ_1(t))*Derivative(x(t), t)*Derivative(θ_1(t), t) - 2*sin(θ_1(t))*Derivative(y(t), t) + 2*sin(θ_1(t))*Derivative(y(t), (t, 2)) - 2*cos(θ_1(t))*Derivative(x(t), t) + 2*cos(θ_1(t))*Derivative(x(t), (t, 2)) + 2*cos(θ_1(t))*Derivative(y(t), t)*Derivative(θ_1(t), t) + Derivative(θ_1(t), (t, 2)))*cos(θ_1(t)) - (2*x(t)*sin(θ_2(t))*Derivative(θ_2(t), t) - 2*y(t)*cos(θ_2(t))*Derivative(θ_2(t), t) - 2*sin(θ_2(t))*Derivative(x(t), t)*Derivative(θ_2(t), t) - 2*sin(θ_2(t))*Derivative(y(t), t) + 2*sin(θ_2(t))*Derivative(y(t), (t, 2)) - 2*cos(θ_2(t))*Derivative(x(t), t) + 2*cos(θ_2(t))*Derivative(x(t), (t, 2)) + 2*cos(θ_2(t))*Derivative(y(t), t)*Derivative(θ_2(t), t) + Derivative(θ_2(t), (t, 2)))*cos(θ_2(t))],\n",
       "[(2*x(t)*sin(θ_1(t)) - 2*y(t)*cos(θ_1(t)) - 2*sin(θ_1(t))*Derivative(x(t), t) + 2*cos(θ_1(t))*Derivative(y(t), t) + 1)*sin(θ_1(t))*Derivative(θ_1(t), t) - (2*x(t)*sin(θ_1(t)) - 2*y(t)*cos(θ_1(t)) - 2*sin(θ_1(t))*Derivative(x(t), t) + 2*cos(θ_1(t))*Derivative(y(t), t) + 1)*cos(θ_1(t)) + (2*x(t)*sin(θ_2(t)) - 2*y(t)*cos(θ_2(t)) - 2*sin(θ_2(t))*Derivative(x(t), t) + 2*cos(θ_2(t))*Derivative(y(t), t) + 1)*sin(θ_2(t))*Derivative(θ_2(t), t) - (2*x(t)*sin(θ_2(t)) - 2*y(t)*cos(θ_2(t)) - 2*sin(θ_2(t))*Derivative(x(t), t) + 2*cos(θ_2(t))*Derivative(y(t), t) + 1)*cos(θ_2(t)) - (-2*x(t)*cos(θ_1(t)) - 2*y(t)*sin(θ_1(t)) + 2*sin(θ_1(t))*Derivative(y(t), t) + 2*cos(θ_1(t))*Derivative(x(t), t) + Derivative(θ_1(t), t))*sin(θ_1(t)) - (-2*x(t)*cos(θ_1(t)) - 2*y(t)*sin(θ_1(t)) + 2*sin(θ_1(t))*Derivative(y(t), t) + 2*cos(θ_1(t))*Derivative(x(t), t) + Derivative(θ_1(t), t))*cos(θ_1(t))*Derivative(θ_1(t), t) - (-2*x(t)*cos(θ_2(t)) - 2*y(t)*sin(θ_2(t)) + 2*sin(θ_2(t))*Derivative(y(t), t) + 2*cos(θ_2(t))*Derivative(x(t), t) + Derivative(θ_2(t), t))*sin(θ_2(t)) - (-2*x(t)*cos(θ_2(t)) - 2*y(t)*sin(θ_2(t)) + 2*sin(θ_2(t))*Derivative(y(t), t) + 2*cos(θ_2(t))*Derivative(x(t), t) + Derivative(θ_2(t), t))*cos(θ_2(t))*Derivative(θ_2(t), t) - (2*x(t)*cos(θ_1(t))*Derivative(θ_1(t), t) + 2*y(t)*sin(θ_1(t))*Derivative(θ_1(t), t) + 2*sin(θ_1(t))*Derivative(x(t), t) - 2*sin(θ_1(t))*Derivative(x(t), (t, 2)) - 2*sin(θ_1(t))*Derivative(y(t), t)*Derivative(θ_1(t), t) - 2*cos(θ_1(t))*Derivative(x(t), t)*Derivative(θ_1(t), t) - 2*cos(θ_1(t))*Derivative(y(t), t) + 2*cos(θ_1(t))*Derivative(y(t), (t, 2)))*cos(θ_1(t)) - (2*x(t)*cos(θ_2(t))*Derivative(θ_2(t), t) + 2*y(t)*sin(θ_2(t))*Derivative(θ_2(t), t) + 2*sin(θ_2(t))*Derivative(x(t), t) - 2*sin(θ_2(t))*Derivative(x(t), (t, 2)) - 2*sin(θ_2(t))*Derivative(y(t), t)*Derivative(θ_2(t), t) - 2*cos(θ_2(t))*Derivative(x(t), t)*Derivative(θ_2(t), t) - 2*cos(θ_2(t))*Derivative(y(t), t) + 2*cos(θ_2(t))*Derivative(y(t), (t, 2)))*cos(θ_2(t)) - (2*x(t)*sin(θ_1(t))*Derivative(θ_1(t), t) - 2*y(t)*cos(θ_1(t))*Derivative(θ_1(t), t) - 2*sin(θ_1(t))*Derivative(x(t), t)*Derivative(θ_1(t), t) - 2*sin(θ_1(t))*Derivative(y(t), t) + 2*sin(θ_1(t))*Derivative(y(t), (t, 2)) - 2*cos(θ_1(t))*Derivative(x(t), t) + 2*cos(θ_1(t))*Derivative(x(t), (t, 2)) + 2*cos(θ_1(t))*Derivative(y(t), t)*Derivative(θ_1(t), t) + Derivative(θ_1(t), (t, 2)))*sin(θ_1(t)) - (2*x(t)*sin(θ_2(t))*Derivative(θ_2(t), t) - 2*y(t)*cos(θ_2(t))*Derivative(θ_2(t), t) - 2*sin(θ_2(t))*Derivative(x(t), t)*Derivative(θ_2(t), t) - 2*sin(θ_2(t))*Derivative(y(t), t) + 2*sin(θ_2(t))*Derivative(y(t), (t, 2)) - 2*cos(θ_2(t))*Derivative(x(t), t) + 2*cos(θ_2(t))*Derivative(x(t), (t, 2)) + 2*cos(θ_2(t))*Derivative(y(t), t)*Derivative(θ_2(t), t) + Derivative(θ_2(t), (t, 2)))*sin(θ_2(t)) - 19.6],\n",
       "[                                                                                                                                                                                                                                                                                                                                                                                                                                                                                                                                                                                                                                                                                                                                                                                                                                                                                                                                                                                                                                                                                                                                                                                                                                                                                                                                                                                                                                                                                                                                                                                                                                                                                                                                                                                                                                                                                                                                                                   (4*x(t)*sin(θ_1(t)) - 4*y(t)*cos(θ_1(t)) - 4*sin(θ_1(t))*Derivative(x(t), t) + 4*cos(θ_1(t))*Derivative(y(t), t))*(-2*x(t)*cos(θ_1(t)) - 2*y(t)*sin(θ_1(t)) + 2*sin(θ_1(t))*Derivative(y(t), t) + 2*cos(θ_1(t))*Derivative(x(t), t) + Derivative(θ_1(t), t))/4 + (4*x(t)*cos(θ_1(t)) + 4*y(t)*sin(θ_1(t)) - 4*sin(θ_1(t))*Derivative(y(t), t) - 4*cos(θ_1(t))*Derivative(x(t), t))*(2*x(t)*sin(θ_1(t)) - 2*y(t)*cos(θ_1(t)) - 2*sin(θ_1(t))*Derivative(x(t), t) + 2*cos(θ_1(t))*Derivative(y(t), t) + 1)/4 - x(t)*sin(θ_1(t))*Derivative(θ_1(t), t) + y(t)*cos(θ_1(t))*Derivative(θ_1(t), t) + sin(θ_1(t))*Derivative(x(t), t)*Derivative(θ_1(t), t) + sin(θ_1(t))*Derivative(y(t), t) - sin(θ_1(t))*Derivative(y(t), (t, 2)) - 4.9*sin(θ_1(t)) + cos(θ_1(t))*Derivative(x(t), t) - cos(θ_1(t))*Derivative(x(t), (t, 2)) - cos(θ_1(t))*Derivative(y(t), t)*Derivative(θ_1(t), t) - Derivative(θ_1(t), (t, 2))/2],\n",
       "[                                                                                                                                                                                                                                                                                                                                                                                                                                                                                                                                                                                                                                                                                                                                                                                                                                                                                                                                                                                                                                                                                                                                                                                                                                                                                                                                                                                                                                                                                                                                                                                                                                                                                                                                                                                                                                                                                                                                                                   (4*x(t)*sin(θ_2(t)) - 4*y(t)*cos(θ_2(t)) - 4*sin(θ_2(t))*Derivative(x(t), t) + 4*cos(θ_2(t))*Derivative(y(t), t))*(-2*x(t)*cos(θ_2(t)) - 2*y(t)*sin(θ_2(t)) + 2*sin(θ_2(t))*Derivative(y(t), t) + 2*cos(θ_2(t))*Derivative(x(t), t) + Derivative(θ_2(t), t))/4 + (4*x(t)*cos(θ_2(t)) + 4*y(t)*sin(θ_2(t)) - 4*sin(θ_2(t))*Derivative(y(t), t) - 4*cos(θ_2(t))*Derivative(x(t), t))*(2*x(t)*sin(θ_2(t)) - 2*y(t)*cos(θ_2(t)) - 2*sin(θ_2(t))*Derivative(x(t), t) + 2*cos(θ_2(t))*Derivative(y(t), t) + 1)/4 - x(t)*sin(θ_2(t))*Derivative(θ_2(t), t) + y(t)*cos(θ_2(t))*Derivative(θ_2(t), t) + sin(θ_2(t))*Derivative(x(t), t)*Derivative(θ_2(t), t) + sin(θ_2(t))*Derivative(y(t), t) - sin(θ_2(t))*Derivative(y(t), (t, 2)) - 4.9*sin(θ_2(t)) + cos(θ_2(t))*Derivative(x(t), t) - cos(θ_2(t))*Derivative(x(t), (t, 2)) - cos(θ_2(t))*Derivative(y(t), t)*Derivative(θ_2(t), t) - Derivative(θ_2(t), (t, 2))/2],\n",
       "[                                                                                                                                                                                                                                                                                                                                                                                                                                                                                                                                                                                                                                                                                                                                                                                                                                                                                                                                                                                                                                                                                                                                                                                                                                                                                                                                                                                                                                                                                                                                                                                                                                                                                                                                                                                                                                                                                                                                                                                                                                                                                                                                                                                                                                                                                                                                                                                                                                                                                                                                                                                                                                                                                                                                                                                                                                                                                 0],\n",
       "[                                                                                                                                                                                                                                                                                                                                                                                                                                                                                                                                                                                                                                                                                                                                                                                                                                                                                                                                                                                                                                                                                                                                                                                                                                                                                                                                                                                                                                                                                                                                                                                                                                                                                                                                                                                                                                                                                                                                                                                                                                                                                                                                                                                                                                                                                                                                                                                                                                                                                                                                                                                                                                                                                                                                                                                                                                                                                 0]]), Matrix([\n",
       "[                                                                                                               0],\n",
       "[                                                                                                       λ_1 + λ_2],\n",
       "[                                L_1*λ_1*sin(θ_1(t)) - 20*θ_1(t) + 20.943951023932*sin(t/2)**2 + 3.14159265358979],\n",
       "[                                L_2*λ_2*sin(θ_2(t)) - 20*θ_2(t) - 20.943951023932*sin(t/2)**2 - 3.14159265358979],\n",
       "[L_1*sin(θ_1(t))*Derivative(θ_1(t), (t, 2)) + L_1*cos(θ_1(t))*Derivative(θ_1(t), t)**2 + Derivative(y(t), (t, 2))],\n",
       "[L_2*sin(θ_2(t))*Derivative(θ_2(t), (t, 2)) + L_2*cos(θ_2(t))*Derivative(θ_2(t), t)**2 + Derivative(y(t), (t, 2))]]))"
      ]
     },
     "metadata": {},
     "output_type": "display_data"
    }
   ],
   "source": [
    "#dL/dq, dL/dqdot\n",
    "L_mat = Matrix([L_sub])\n",
    "dLdq = L_mat.jacobian(q)\n",
    "dLdqdot = L_mat.jacobian(qdot)\n",
    "\n",
    "#E/L Equations\n",
    "EL_vec = dLdq - dLdqdot.diff(t)\n",
    "\n",
    "#LHS: Euler-lagrange\n",
    "lhs = Matrix([*EL_vec])\n",
    "lhs = lhs.col_join(Matrix([0,0]))\n",
    "\n",
    "eqn = Eq(lhs, rhs)\n",
    "print('The Euler-Lagrange Equations: (substituted)')\n",
    "display(eqn)"
   ]
  },
  {
   "cell_type": "code",
   "execution_count": 25,
   "metadata": {},
   "outputs": [
    {
     "name": "stdout",
     "output_type": "stream",
     "text": [
      "Euler-Lagrange Equations (substituted):\n"
     ]
    },
    {
     "data": {
      "text/latex": [
       "$\\displaystyle \\left[\\begin{matrix}0\\\\λ_{1} + λ_{2}\\\\1.0 λ_{1} \\sin{\\left(\\operatorname{θ_{1}}{\\left(t \\right)} \\right)} - 20.0 \\operatorname{θ_{1}}{\\left(t \\right)} - 10.471975511966 \\cos{\\left(t \\right)} + 13.6135681655558\\\\1.0 λ_{2} \\sin{\\left(\\operatorname{θ_{2}}{\\left(t \\right)} \\right)} - 20.0 \\operatorname{θ_{2}}{\\left(t \\right)} + 10.471975511966 \\cos{\\left(t \\right)} - 13.6135681655558\\\\\\sin{\\left(\\operatorname{θ_{1}}{\\left(t \\right)} \\right)} \\frac{d^{2}}{d t^{2}} \\operatorname{θ_{1}}{\\left(t \\right)} + \\cos{\\left(\\operatorname{θ_{1}}{\\left(t \\right)} \\right)} \\left(\\frac{d}{d t} \\operatorname{θ_{1}}{\\left(t \\right)}\\right)^{2} + \\frac{d^{2}}{d t^{2}} y{\\left(t \\right)}\\\\\\sin{\\left(\\operatorname{θ_{2}}{\\left(t \\right)} \\right)} \\frac{d^{2}}{d t^{2}} \\operatorname{θ_{2}}{\\left(t \\right)} + \\cos{\\left(\\operatorname{θ_{2}}{\\left(t \\right)} \\right)} \\left(\\frac{d}{d t} \\operatorname{θ_{2}}{\\left(t \\right)}\\right)^{2} + \\frac{d^{2}}{d t^{2}} y{\\left(t \\right)}\\end{matrix}\\right] = \\left[\\begin{matrix}4 x{\\left(t \\right)} + \\sin{\\left(\\operatorname{θ_{1}}{\\left(t \\right)} \\right)} \\left(\\frac{d}{d t} \\operatorname{θ_{1}}{\\left(t \\right)}\\right)^{2} + \\sin{\\left(\\operatorname{θ_{1}}{\\left(t \\right)} \\right)} + \\sin{\\left(\\operatorname{θ_{2}}{\\left(t \\right)} \\right)} \\left(\\frac{d}{d t} \\operatorname{θ_{2}}{\\left(t \\right)}\\right)^{2} + \\sin{\\left(\\operatorname{θ_{2}}{\\left(t \\right)} \\right)} - \\cos{\\left(\\operatorname{θ_{1}}{\\left(t \\right)} \\right)} \\frac{d^{2}}{d t^{2}} \\operatorname{θ_{1}}{\\left(t \\right)} - \\cos{\\left(\\operatorname{θ_{2}}{\\left(t \\right)} \\right)} \\frac{d^{2}}{d t^{2}} \\operatorname{θ_{2}}{\\left(t \\right)} - 4 \\frac{d^{2}}{d t^{2}} x{\\left(t \\right)}\\\\4.0 y{\\left(t \\right)} - 1.0 \\sin{\\left(\\operatorname{θ_{1}}{\\left(t \\right)} \\right)} \\frac{d^{2}}{d t^{2}} \\operatorname{θ_{1}}{\\left(t \\right)} - 1.0 \\sin{\\left(\\operatorname{θ_{2}}{\\left(t \\right)} \\right)} \\frac{d^{2}}{d t^{2}} \\operatorname{θ_{2}}{\\left(t \\right)} - 1.0 \\cos{\\left(\\operatorname{θ_{1}}{\\left(t \\right)} \\right)} \\left(\\frac{d}{d t} \\operatorname{θ_{1}}{\\left(t \\right)}\\right)^{2} - 1.0 \\cos{\\left(\\operatorname{θ_{1}}{\\left(t \\right)} \\right)} - 1.0 \\cos{\\left(\\operatorname{θ_{2}}{\\left(t \\right)} \\right)} \\left(\\frac{d}{d t} \\operatorname{θ_{2}}{\\left(t \\right)}\\right)^{2} - 1.0 \\cos{\\left(\\operatorname{θ_{2}}{\\left(t \\right)} \\right)} - 4.0 \\frac{d^{2}}{d t^{2}} y{\\left(t \\right)} - 19.6\\\\1.0 x{\\left(t \\right)} \\cos{\\left(\\operatorname{θ_{1}}{\\left(t \\right)} \\right)} + 1.0 y{\\left(t \\right)} \\sin{\\left(\\operatorname{θ_{1}}{\\left(t \\right)} \\right)} - 1.0 \\sin{\\left(\\operatorname{θ_{1}}{\\left(t \\right)} \\right)} \\frac{d^{2}}{d t^{2}} y{\\left(t \\right)} - 4.9 \\sin{\\left(\\operatorname{θ_{1}}{\\left(t \\right)} \\right)} - 1.0 \\cos{\\left(\\operatorname{θ_{1}}{\\left(t \\right)} \\right)} \\frac{d^{2}}{d t^{2}} x{\\left(t \\right)} - 0.5 \\frac{d^{2}}{d t^{2}} \\operatorname{θ_{1}}{\\left(t \\right)}\\\\1.0 x{\\left(t \\right)} \\cos{\\left(\\operatorname{θ_{2}}{\\left(t \\right)} \\right)} + 1.0 y{\\left(t \\right)} \\sin{\\left(\\operatorname{θ_{2}}{\\left(t \\right)} \\right)} - 1.0 \\sin{\\left(\\operatorname{θ_{2}}{\\left(t \\right)} \\right)} \\frac{d^{2}}{d t^{2}} y{\\left(t \\right)} - 4.9 \\sin{\\left(\\operatorname{θ_{2}}{\\left(t \\right)} \\right)} - 1.0 \\cos{\\left(\\operatorname{θ_{2}}{\\left(t \\right)} \\right)} \\frac{d^{2}}{d t^{2}} x{\\left(t \\right)} - 0.5 \\frac{d^{2}}{d t^{2}} \\operatorname{θ_{2}}{\\left(t \\right)}\\\\0\\\\0\\end{matrix}\\right]$"
      ],
      "text/plain": [
       "Eq(Matrix([\n",
       "[                                                                                                       0],\n",
       "[                                                                                               λ_1 + λ_2],\n",
       "[                           1.0*λ_1*sin(θ_1(t)) - 20.0*θ_1(t) - 10.471975511966*cos(t) + 13.6135681655558],\n",
       "[                           1.0*λ_2*sin(θ_2(t)) - 20.0*θ_2(t) + 10.471975511966*cos(t) - 13.6135681655558],\n",
       "[sin(θ_1(t))*Derivative(θ_1(t), (t, 2)) + cos(θ_1(t))*Derivative(θ_1(t), t)**2 + Derivative(y(t), (t, 2))],\n",
       "[sin(θ_2(t))*Derivative(θ_2(t), (t, 2)) + cos(θ_2(t))*Derivative(θ_2(t), t)**2 + Derivative(y(t), (t, 2))]]), Matrix([\n",
       "[                                   4*x(t) + sin(θ_1(t))*Derivative(θ_1(t), t)**2 + sin(θ_1(t)) + sin(θ_2(t))*Derivative(θ_2(t), t)**2 + sin(θ_2(t)) - cos(θ_1(t))*Derivative(θ_1(t), (t, 2)) - cos(θ_2(t))*Derivative(θ_2(t), (t, 2)) - 4*Derivative(x(t), (t, 2))],\n",
       "[4.0*y(t) - 1.0*sin(θ_1(t))*Derivative(θ_1(t), (t, 2)) - 1.0*sin(θ_2(t))*Derivative(θ_2(t), (t, 2)) - 1.0*cos(θ_1(t))*Derivative(θ_1(t), t)**2 - 1.0*cos(θ_1(t)) - 1.0*cos(θ_2(t))*Derivative(θ_2(t), t)**2 - 1.0*cos(θ_2(t)) - 4.0*Derivative(y(t), (t, 2)) - 19.6],\n",
       "[                                                                              1.0*x(t)*cos(θ_1(t)) + 1.0*y(t)*sin(θ_1(t)) - 1.0*sin(θ_1(t))*Derivative(y(t), (t, 2)) - 4.9*sin(θ_1(t)) - 1.0*cos(θ_1(t))*Derivative(x(t), (t, 2)) - 0.5*Derivative(θ_1(t), (t, 2))],\n",
       "[                                                                              1.0*x(t)*cos(θ_2(t)) + 1.0*y(t)*sin(θ_2(t)) - 1.0*sin(θ_2(t))*Derivative(y(t), (t, 2)) - 4.9*sin(θ_2(t)) - 1.0*cos(θ_2(t))*Derivative(x(t), (t, 2)) - 0.5*Derivative(θ_2(t), (t, 2))],\n",
       "[                                                                                                                                                                                                                                                                 0],\n",
       "[                                                                                                                                                                                                                                                                 0]]))"
      ]
     },
     "metadata": {},
     "output_type": "display_data"
    }
   ],
   "source": [
    "print('Euler-Lagrange Equations (substituted):')\n",
    "eqn_sub = sym.simplify(eqn.subs(SUBS))\n",
    "display(eqn_sub)"
   ]
  },
  {
   "cell_type": "code",
   "execution_count": 26,
   "metadata": {},
   "outputs": [],
   "source": [
    "eom = [*qddot,lam1,lam2]\n",
    "soln = sym.solve(eqn_sub, eom, dict=True)"
   ]
  },
  {
   "cell_type": "code",
   "execution_count": 27,
   "metadata": {},
   "outputs": [
    {
     "name": "stdout",
     "output_type": "stream",
     "text": [
      "solutions (unsimplified): \n"
     ]
    },
    {
     "data": {
      "text/latex": [
       "$\\displaystyle \\frac{d^{2}}{d t^{2}} x{\\left(t \\right)} = \\frac{- 1250000000000 \\left(\\sin{\\left(2 \\operatorname{θ_{1}}{\\left(t \\right)} + 2 \\operatorname{θ_{2}}{\\left(t \\right)} \\right)} - 2 \\sin{\\left(2 \\operatorname{θ_{1}}{\\left(t \\right)} \\right)}\\right) \\cos{\\left(\\operatorname{θ_{1}}{\\left(t \\right)} \\right)} \\left(\\frac{d}{d t} \\operatorname{θ_{1}}{\\left(t \\right)}\\right)^{2} - 1250000000000 \\left(\\sin{\\left(2 \\operatorname{θ_{1}}{\\left(t \\right)} + 2 \\operatorname{θ_{2}}{\\left(t \\right)} \\right)} - 2 \\sin{\\left(2 \\operatorname{θ_{2}}{\\left(t \\right)} \\right)}\\right) \\cos{\\left(\\operatorname{θ_{2}}{\\left(t \\right)} \\right)} \\left(\\frac{d}{d t} \\operatorname{θ_{2}}{\\left(t \\right)}\\right)^{2} + 2500000000000 \\left(\\sin^{2}{\\left(\\operatorname{θ_{1}}{\\left(t \\right)} \\right)} + \\sin^{2}{\\left(\\operatorname{θ_{2}}{\\left(t \\right)} \\right)}\\right) \\left(4 x{\\left(t \\right)} + \\sin{\\left(\\operatorname{θ_{1}}{\\left(t \\right)} \\right)} \\left(\\frac{d}{d t} \\operatorname{θ_{1}}{\\left(t \\right)}\\right)^{2} + \\sin{\\left(\\operatorname{θ_{1}}{\\left(t \\right)} \\right)} + \\sin{\\left(\\operatorname{θ_{2}}{\\left(t \\right)} \\right)} \\left(\\frac{d}{d t} \\operatorname{θ_{2}}{\\left(t \\right)}\\right)^{2} + \\sin{\\left(\\operatorname{θ_{2}}{\\left(t \\right)} \\right)}\\right) - \\left(5000000000000 x{\\left(t \\right)} \\cos{\\left(\\operatorname{θ_{1}}{\\left(t \\right)} \\right)} + 5000000000000 y{\\left(t \\right)} \\sin{\\left(\\operatorname{θ_{1}}{\\left(t \\right)} \\right)} + 100000000000000 \\operatorname{θ_{1}}{\\left(t \\right)} - 24500000000000 \\sin{\\left(\\operatorname{θ_{1}}{\\left(t \\right)} \\right)} + 52359877559830 \\cos{\\left(t \\right)} - 68067840827779\\right) \\sin{\\left(\\operatorname{θ_{1}}{\\left(t \\right)} + \\operatorname{θ_{2}}{\\left(t \\right)} \\right)} \\sin{\\left(\\operatorname{θ_{2}}{\\left(t \\right)} \\right)} - \\left(5000000000000 x{\\left(t \\right)} \\cos{\\left(\\operatorname{θ_{2}}{\\left(t \\right)} \\right)} + 5000000000000 y{\\left(t \\right)} \\sin{\\left(\\operatorname{θ_{2}}{\\left(t \\right)} \\right)} + 100000000000000 \\operatorname{θ_{2}}{\\left(t \\right)} - 24500000000000 \\sin{\\left(\\operatorname{θ_{2}}{\\left(t \\right)} \\right)} - 52359877559830 \\cos{\\left(t \\right)} + 68067840827779\\right) \\sin{\\left(\\operatorname{θ_{1}}{\\left(t \\right)} + \\operatorname{θ_{2}}{\\left(t \\right)} \\right)} \\sin{\\left(\\operatorname{θ_{1}}{\\left(t \\right)} \\right)} - 1000000000000 \\left(- 20 y{\\left(t \\right)} + 5 \\cos{\\left(\\operatorname{θ_{1}}{\\left(t \\right)} \\right)} \\left(\\frac{d}{d t} \\operatorname{θ_{1}}{\\left(t \\right)}\\right)^{2} + 5 \\cos{\\left(\\operatorname{θ_{1}}{\\left(t \\right)} \\right)} + 5 \\cos{\\left(\\operatorname{θ_{2}}{\\left(t \\right)} \\right)} \\left(\\frac{d}{d t} \\operatorname{θ_{2}}{\\left(t \\right)}\\right)^{2} + 5 \\cos{\\left(\\operatorname{θ_{2}}{\\left(t \\right)} \\right)} + 98\\right) \\sin{\\left(\\operatorname{θ_{1}}{\\left(t \\right)} + \\operatorname{θ_{2}}{\\left(t \\right)} \\right)} \\sin{\\left(\\operatorname{θ_{1}}{\\left(t \\right)} \\right)} \\sin{\\left(\\operatorname{θ_{2}}{\\left(t \\right)} \\right)}}{2500000000000 \\left(\\cos{\\left(2 \\operatorname{θ_{1}}{\\left(t \\right)} + 2 \\operatorname{θ_{2}}{\\left(t \\right)} \\right)} - 2 \\cos{\\left(2 \\operatorname{θ_{1}}{\\left(t \\right)} \\right)} - 2 \\cos{\\left(2 \\operatorname{θ_{2}}{\\left(t \\right)} \\right)} + 3\\right)}$"
      ],
      "text/plain": [
       "Eq(Derivative(x(t), (t, 2)), (-1250000000000*(sin(2*θ_1(t) + 2*θ_2(t)) - 2*sin(2*θ_1(t)))*cos(θ_1(t))*Derivative(θ_1(t), t)**2 - 1250000000000*(sin(2*θ_1(t) + 2*θ_2(t)) - 2*sin(2*θ_2(t)))*cos(θ_2(t))*Derivative(θ_2(t), t)**2 + 2500000000000*(sin(θ_1(t))**2 + sin(θ_2(t))**2)*(4*x(t) + sin(θ_1(t))*Derivative(θ_1(t), t)**2 + sin(θ_1(t)) + sin(θ_2(t))*Derivative(θ_2(t), t)**2 + sin(θ_2(t))) - (5000000000000*x(t)*cos(θ_1(t)) + 5000000000000*y(t)*sin(θ_1(t)) + 100000000000000*θ_1(t) - 24500000000000*sin(θ_1(t)) + 52359877559830*cos(t) - 68067840827779)*sin(θ_1(t) + θ_2(t))*sin(θ_2(t)) - (5000000000000*x(t)*cos(θ_2(t)) + 5000000000000*y(t)*sin(θ_2(t)) + 100000000000000*θ_2(t) - 24500000000000*sin(θ_2(t)) - 52359877559830*cos(t) + 68067840827779)*sin(θ_1(t) + θ_2(t))*sin(θ_1(t)) - 1000000000000*(-20*y(t) + 5*cos(θ_1(t))*Derivative(θ_1(t), t)**2 + 5*cos(θ_1(t)) + 5*cos(θ_2(t))*Derivative(θ_2(t), t)**2 + 5*cos(θ_2(t)) + 98)*sin(θ_1(t) + θ_2(t))*sin(θ_1(t))*sin(θ_2(t)))/(2500000000000*(cos(2*θ_1(t) + 2*θ_2(t)) - 2*cos(2*θ_1(t)) - 2*cos(2*θ_2(t)) + 3)))"
      ]
     },
     "metadata": {},
     "output_type": "display_data"
    },
    {
     "data": {
      "text/latex": [
       "$\\displaystyle \\frac{d^{2}}{d t^{2}} y{\\left(t \\right)} = \\frac{- \\left(2 \\sin{\\left(\\operatorname{θ_{1}}{\\left(t \\right)} - 2 \\operatorname{θ_{2}}{\\left(t \\right)} \\right)} + \\sin{\\left(\\operatorname{θ_{1}}{\\left(t \\right)} + 2 \\operatorname{θ_{2}}{\\left(t \\right)} \\right)} - \\sin{\\left(\\operatorname{θ_{1}}{\\left(t \\right)} \\right)}\\right) \\sin{\\left(\\operatorname{θ_{1}}{\\left(t \\right)} \\right)} \\cos{\\left(\\operatorname{θ_{2}}{\\left(t \\right)} \\right)} \\left(\\frac{d}{d t} \\operatorname{θ_{2}}{\\left(t \\right)}\\right)^{2} + \\left(2 \\sin{\\left(2 \\operatorname{θ_{1}}{\\left(t \\right)} - \\operatorname{θ_{2}}{\\left(t \\right)} \\right)} - \\sin{\\left(2 \\operatorname{θ_{1}}{\\left(t \\right)} + \\operatorname{θ_{2}}{\\left(t \\right)} \\right)} + \\sin{\\left(\\operatorname{θ_{2}}{\\left(t \\right)} \\right)}\\right) \\sin{\\left(\\operatorname{θ_{2}}{\\left(t \\right)} \\right)} \\cos{\\left(\\operatorname{θ_{1}}{\\left(t \\right)} \\right)} \\left(\\frac{d}{d t} \\operatorname{θ_{1}}{\\left(t \\right)}\\right)^{2} + 2 \\left(4 x{\\left(t \\right)} + \\sin{\\left(\\operatorname{θ_{1}}{\\left(t \\right)} \\right)} \\left(\\frac{d}{d t} \\operatorname{θ_{1}}{\\left(t \\right)}\\right)^{2} + \\sin{\\left(\\operatorname{θ_{1}}{\\left(t \\right)} \\right)} + \\sin{\\left(\\operatorname{θ_{2}}{\\left(t \\right)} \\right)} \\left(\\frac{d}{d t} \\operatorname{θ_{2}}{\\left(t \\right)}\\right)^{2} + \\sin{\\left(\\operatorname{θ_{2}}{\\left(t \\right)} \\right)}\\right) \\sin{\\left(\\operatorname{θ_{1}}{\\left(t \\right)} + \\operatorname{θ_{2}}{\\left(t \\right)} \\right)} \\sin{\\left(\\operatorname{θ_{1}}{\\left(t \\right)} \\right)} \\sin{\\left(\\operatorname{θ_{2}}{\\left(t \\right)} \\right)} - \\frac{\\left(5000000000000 x{\\left(t \\right)} \\cos{\\left(\\operatorname{θ_{1}}{\\left(t \\right)} \\right)} + 5000000000000 y{\\left(t \\right)} \\sin{\\left(\\operatorname{θ_{1}}{\\left(t \\right)} \\right)} + 100000000000000 \\operatorname{θ_{1}}{\\left(t \\right)} - 24500000000000 \\sin{\\left(\\operatorname{θ_{1}}{\\left(t \\right)} \\right)} + 52359877559830 \\cos{\\left(t \\right)} - 68067840827779\\right) \\sin{\\left(\\operatorname{θ_{1}}{\\left(t \\right)} \\right)} \\sin^{2}{\\left(\\operatorname{θ_{2}}{\\left(t \\right)} \\right)}}{625000000000} - \\frac{\\left(5000000000000 x{\\left(t \\right)} \\cos{\\left(\\operatorname{θ_{2}}{\\left(t \\right)} \\right)} + 5000000000000 y{\\left(t \\right)} \\sin{\\left(\\operatorname{θ_{2}}{\\left(t \\right)} \\right)} + 100000000000000 \\operatorname{θ_{2}}{\\left(t \\right)} - 24500000000000 \\sin{\\left(\\operatorname{θ_{2}}{\\left(t \\right)} \\right)} - 52359877559830 \\cos{\\left(t \\right)} + 68067840827779\\right) \\sin^{2}{\\left(\\operatorname{θ_{1}}{\\left(t \\right)} \\right)} \\sin{\\left(\\operatorname{θ_{2}}{\\left(t \\right)} \\right)}}{625000000000} + \\frac{\\left(20000000000000 y{\\left(t \\right)} - 5000000000000 \\cos{\\left(\\operatorname{θ_{1}}{\\left(t \\right)} \\right)} \\left(\\frac{d}{d t} \\operatorname{θ_{1}}{\\left(t \\right)}\\right)^{2} - 5000000000000 \\cos{\\left(\\operatorname{θ_{1}}{\\left(t \\right)} \\right)} - 5000000000000 \\cos{\\left(\\operatorname{θ_{2}}{\\left(t \\right)} \\right)} \\left(\\frac{d}{d t} \\operatorname{θ_{2}}{\\left(t \\right)}\\right)^{2} - 5000000000000 \\cos{\\left(\\operatorname{θ_{2}}{\\left(t \\right)} \\right)} - 98000000000000\\right) \\sin^{2}{\\left(\\operatorname{θ_{1}}{\\left(t \\right)} \\right)} \\sin^{2}{\\left(\\operatorname{θ_{2}}{\\left(t \\right)} \\right)}}{625000000000}}{\\cos{\\left(2 \\operatorname{θ_{1}}{\\left(t \\right)} + 2 \\operatorname{θ_{2}}{\\left(t \\right)} \\right)} - 2 \\cos{\\left(2 \\operatorname{θ_{1}}{\\left(t \\right)} \\right)} - 2 \\cos{\\left(2 \\operatorname{θ_{2}}{\\left(t \\right)} \\right)} + 3}$"
      ],
      "text/plain": [
       "Eq(Derivative(y(t), (t, 2)), (-(2*sin(θ_1(t) - 2*θ_2(t)) + sin(θ_1(t) + 2*θ_2(t)) - sin(θ_1(t)))*sin(θ_1(t))*cos(θ_2(t))*Derivative(θ_2(t), t)**2 + (2*sin(2*θ_1(t) - θ_2(t)) - sin(2*θ_1(t) + θ_2(t)) + sin(θ_2(t)))*sin(θ_2(t))*cos(θ_1(t))*Derivative(θ_1(t), t)**2 + 2*(4*x(t) + sin(θ_1(t))*Derivative(θ_1(t), t)**2 + sin(θ_1(t)) + sin(θ_2(t))*Derivative(θ_2(t), t)**2 + sin(θ_2(t)))*sin(θ_1(t) + θ_2(t))*sin(θ_1(t))*sin(θ_2(t)) - (5000000000000*x(t)*cos(θ_1(t)) + 5000000000000*y(t)*sin(θ_1(t)) + 100000000000000*θ_1(t) - 24500000000000*sin(θ_1(t)) + 52359877559830*cos(t) - 68067840827779)*sin(θ_1(t))*sin(θ_2(t))**2/625000000000 - (5000000000000*x(t)*cos(θ_2(t)) + 5000000000000*y(t)*sin(θ_2(t)) + 100000000000000*θ_2(t) - 24500000000000*sin(θ_2(t)) - 52359877559830*cos(t) + 68067840827779)*sin(θ_1(t))**2*sin(θ_2(t))/625000000000 + (20000000000000*y(t) - 5000000000000*cos(θ_1(t))*Derivative(θ_1(t), t)**2 - 5000000000000*cos(θ_1(t)) - 5000000000000*cos(θ_2(t))*Derivative(θ_2(t), t)**2 - 5000000000000*cos(θ_2(t)) - 98000000000000)*sin(θ_1(t))**2*sin(θ_2(t))**2/625000000000)/(cos(2*θ_1(t) + 2*θ_2(t)) - 2*cos(2*θ_1(t)) - 2*cos(2*θ_2(t)) + 3))"
      ]
     },
     "metadata": {},
     "output_type": "display_data"
    },
    {
     "data": {
      "text/latex": [
       "$\\displaystyle \\frac{d^{2}}{d t^{2}} \\operatorname{θ_{1}}{\\left(t \\right)} = \\frac{312500000000 \\left(2 \\sin{\\left(\\operatorname{θ_{1}}{\\left(t \\right)} - 3 \\operatorname{θ_{2}}{\\left(t \\right)} \\right)} + \\sin{\\left(\\operatorname{θ_{1}}{\\left(t \\right)} - \\operatorname{θ_{2}}{\\left(t \\right)} \\right)} + \\sin{\\left(\\operatorname{θ_{1}}{\\left(t \\right)} + 3 \\operatorname{θ_{2}}{\\left(t \\right)} \\right)}\\right) \\left(\\frac{d}{d t} \\operatorname{θ_{2}}{\\left(t \\right)}\\right)^{2} + 625000000000 \\left(2 \\sin{\\left(\\operatorname{θ_{1}}{\\left(t \\right)} - 2 \\operatorname{θ_{2}}{\\left(t \\right)} \\right)} + 3 \\sin{\\left(\\operatorname{θ_{1}}{\\left(t \\right)} + 2 \\operatorname{θ_{2}}{\\left(t \\right)} \\right)} - 7 \\sin{\\left(\\operatorname{θ_{1}}{\\left(t \\right)} \\right)}\\right) \\cos{\\left(\\operatorname{θ_{1}}{\\left(t \\right)} \\right)} \\left(\\frac{d}{d t} \\operatorname{θ_{1}}{\\left(t \\right)}\\right)^{2} - 1250000000000 \\left(4 x{\\left(t \\right)} + \\sin{\\left(\\operatorname{θ_{1}}{\\left(t \\right)} \\right)} \\left(\\frac{d}{d t} \\operatorname{θ_{1}}{\\left(t \\right)}\\right)^{2} + \\sin{\\left(\\operatorname{θ_{1}}{\\left(t \\right)} \\right)} + \\sin{\\left(\\operatorname{θ_{2}}{\\left(t \\right)} \\right)} \\left(\\frac{d}{d t} \\operatorname{θ_{2}}{\\left(t \\right)}\\right)^{2} + \\sin{\\left(\\operatorname{θ_{2}}{\\left(t \\right)} \\right)}\\right) \\sin{\\left(\\operatorname{θ_{1}}{\\left(t \\right)} + \\operatorname{θ_{2}}{\\left(t \\right)} \\right)} \\sin{\\left(\\operatorname{θ_{2}}{\\left(t \\right)} \\right)} + \\left(5000000000000 x{\\left(t \\right)} \\cos{\\left(\\operatorname{θ_{1}}{\\left(t \\right)} \\right)} + 5000000000000 y{\\left(t \\right)} \\sin{\\left(\\operatorname{θ_{1}}{\\left(t \\right)} \\right)} + 100000000000000 \\operatorname{θ_{1}}{\\left(t \\right)} - 24500000000000 \\sin{\\left(\\operatorname{θ_{1}}{\\left(t \\right)} \\right)} + 52359877559830 \\cos{\\left(t \\right)} - 68067840827779\\right) \\sin^{2}{\\left(\\operatorname{θ_{2}}{\\left(t \\right)} \\right)} + \\left(5000000000000 x{\\left(t \\right)} \\cos{\\left(\\operatorname{θ_{2}}{\\left(t \\right)} \\right)} + 5000000000000 y{\\left(t \\right)} \\sin{\\left(\\operatorname{θ_{2}}{\\left(t \\right)} \\right)} + 100000000000000 \\operatorname{θ_{2}}{\\left(t \\right)} - 24500000000000 \\sin{\\left(\\operatorname{θ_{2}}{\\left(t \\right)} \\right)} - 52359877559830 \\cos{\\left(t \\right)} + 68067840827779\\right) \\sin{\\left(\\operatorname{θ_{1}}{\\left(t \\right)} \\right)} \\sin{\\left(\\operatorname{θ_{2}}{\\left(t \\right)} \\right)} + 1000000000000 \\left(- 20 y{\\left(t \\right)} + 5 \\cos{\\left(\\operatorname{θ_{1}}{\\left(t \\right)} \\right)} \\left(\\frac{d}{d t} \\operatorname{θ_{1}}{\\left(t \\right)}\\right)^{2} + 5 \\cos{\\left(\\operatorname{θ_{1}}{\\left(t \\right)} \\right)} + 5 \\cos{\\left(\\operatorname{θ_{2}}{\\left(t \\right)} \\right)} \\left(\\frac{d}{d t} \\operatorname{θ_{2}}{\\left(t \\right)}\\right)^{2} + 5 \\cos{\\left(\\operatorname{θ_{2}}{\\left(t \\right)} \\right)} + 98\\right) \\sin{\\left(\\operatorname{θ_{1}}{\\left(t \\right)} \\right)} \\sin^{2}{\\left(\\operatorname{θ_{2}}{\\left(t \\right)} \\right)}}{625000000000 \\left(\\cos{\\left(2 \\operatorname{θ_{1}}{\\left(t \\right)} + 2 \\operatorname{θ_{2}}{\\left(t \\right)} \\right)} - 2 \\cos{\\left(2 \\operatorname{θ_{1}}{\\left(t \\right)} \\right)} - 2 \\cos{\\left(2 \\operatorname{θ_{2}}{\\left(t \\right)} \\right)} + 3\\right)}$"
      ],
      "text/plain": [
       "Eq(Derivative(θ_1(t), (t, 2)), (312500000000*(2*sin(θ_1(t) - 3*θ_2(t)) + sin(θ_1(t) - θ_2(t)) + sin(θ_1(t) + 3*θ_2(t)))*Derivative(θ_2(t), t)**2 + 625000000000*(2*sin(θ_1(t) - 2*θ_2(t)) + 3*sin(θ_1(t) + 2*θ_2(t)) - 7*sin(θ_1(t)))*cos(θ_1(t))*Derivative(θ_1(t), t)**2 - 1250000000000*(4*x(t) + sin(θ_1(t))*Derivative(θ_1(t), t)**2 + sin(θ_1(t)) + sin(θ_2(t))*Derivative(θ_2(t), t)**2 + sin(θ_2(t)))*sin(θ_1(t) + θ_2(t))*sin(θ_2(t)) + (5000000000000*x(t)*cos(θ_1(t)) + 5000000000000*y(t)*sin(θ_1(t)) + 100000000000000*θ_1(t) - 24500000000000*sin(θ_1(t)) + 52359877559830*cos(t) - 68067840827779)*sin(θ_2(t))**2 + (5000000000000*x(t)*cos(θ_2(t)) + 5000000000000*y(t)*sin(θ_2(t)) + 100000000000000*θ_2(t) - 24500000000000*sin(θ_2(t)) - 52359877559830*cos(t) + 68067840827779)*sin(θ_1(t))*sin(θ_2(t)) + 1000000000000*(-20*y(t) + 5*cos(θ_1(t))*Derivative(θ_1(t), t)**2 + 5*cos(θ_1(t)) + 5*cos(θ_2(t))*Derivative(θ_2(t), t)**2 + 5*cos(θ_2(t)) + 98)*sin(θ_1(t))*sin(θ_2(t))**2)/(625000000000*(cos(2*θ_1(t) + 2*θ_2(t)) - 2*cos(2*θ_1(t)) - 2*cos(2*θ_2(t)) + 3)))"
      ]
     },
     "metadata": {},
     "output_type": "display_data"
    },
    {
     "data": {
      "text/latex": [
       "$\\displaystyle \\frac{d^{2}}{d t^{2}} \\operatorname{θ_{2}}{\\left(t \\right)} = \\frac{312500000000 \\left(- \\sin{\\left(\\operatorname{θ_{1}}{\\left(t \\right)} - \\operatorname{θ_{2}}{\\left(t \\right)} \\right)} - 2 \\sin{\\left(3 \\operatorname{θ_{1}}{\\left(t \\right)} - \\operatorname{θ_{2}}{\\left(t \\right)} \\right)} + \\sin{\\left(3 \\operatorname{θ_{1}}{\\left(t \\right)} + \\operatorname{θ_{2}}{\\left(t \\right)} \\right)}\\right) \\left(\\frac{d}{d t} \\operatorname{θ_{1}}{\\left(t \\right)}\\right)^{2} - 625000000000 \\left(2 \\sin{\\left(2 \\operatorname{θ_{1}}{\\left(t \\right)} - \\operatorname{θ_{2}}{\\left(t \\right)} \\right)} - 3 \\sin{\\left(2 \\operatorname{θ_{1}}{\\left(t \\right)} + \\operatorname{θ_{2}}{\\left(t \\right)} \\right)} + 7 \\sin{\\left(\\operatorname{θ_{2}}{\\left(t \\right)} \\right)}\\right) \\cos{\\left(\\operatorname{θ_{2}}{\\left(t \\right)} \\right)} \\left(\\frac{d}{d t} \\operatorname{θ_{2}}{\\left(t \\right)}\\right)^{2} - 1250000000000 \\left(4 x{\\left(t \\right)} + \\sin{\\left(\\operatorname{θ_{1}}{\\left(t \\right)} \\right)} \\left(\\frac{d}{d t} \\operatorname{θ_{1}}{\\left(t \\right)}\\right)^{2} + \\sin{\\left(\\operatorname{θ_{1}}{\\left(t \\right)} \\right)} + \\sin{\\left(\\operatorname{θ_{2}}{\\left(t \\right)} \\right)} \\left(\\frac{d}{d t} \\operatorname{θ_{2}}{\\left(t \\right)}\\right)^{2} + \\sin{\\left(\\operatorname{θ_{2}}{\\left(t \\right)} \\right)}\\right) \\sin{\\left(\\operatorname{θ_{1}}{\\left(t \\right)} + \\operatorname{θ_{2}}{\\left(t \\right)} \\right)} \\sin{\\left(\\operatorname{θ_{1}}{\\left(t \\right)} \\right)} + \\left(5000000000000 x{\\left(t \\right)} \\cos{\\left(\\operatorname{θ_{1}}{\\left(t \\right)} \\right)} + 5000000000000 y{\\left(t \\right)} \\sin{\\left(\\operatorname{θ_{1}}{\\left(t \\right)} \\right)} + 100000000000000 \\operatorname{θ_{1}}{\\left(t \\right)} - 24500000000000 \\sin{\\left(\\operatorname{θ_{1}}{\\left(t \\right)} \\right)} + 52359877559830 \\cos{\\left(t \\right)} - 68067840827779\\right) \\sin{\\left(\\operatorname{θ_{1}}{\\left(t \\right)} \\right)} \\sin{\\left(\\operatorname{θ_{2}}{\\left(t \\right)} \\right)} + \\left(5000000000000 x{\\left(t \\right)} \\cos{\\left(\\operatorname{θ_{2}}{\\left(t \\right)} \\right)} + 5000000000000 y{\\left(t \\right)} \\sin{\\left(\\operatorname{θ_{2}}{\\left(t \\right)} \\right)} + 100000000000000 \\operatorname{θ_{2}}{\\left(t \\right)} - 24500000000000 \\sin{\\left(\\operatorname{θ_{2}}{\\left(t \\right)} \\right)} - 52359877559830 \\cos{\\left(t \\right)} + 68067840827779\\right) \\sin^{2}{\\left(\\operatorname{θ_{1}}{\\left(t \\right)} \\right)} + 1000000000000 \\left(- 20 y{\\left(t \\right)} + 5 \\cos{\\left(\\operatorname{θ_{1}}{\\left(t \\right)} \\right)} \\left(\\frac{d}{d t} \\operatorname{θ_{1}}{\\left(t \\right)}\\right)^{2} + 5 \\cos{\\left(\\operatorname{θ_{1}}{\\left(t \\right)} \\right)} + 5 \\cos{\\left(\\operatorname{θ_{2}}{\\left(t \\right)} \\right)} \\left(\\frac{d}{d t} \\operatorname{θ_{2}}{\\left(t \\right)}\\right)^{2} + 5 \\cos{\\left(\\operatorname{θ_{2}}{\\left(t \\right)} \\right)} + 98\\right) \\sin^{2}{\\left(\\operatorname{θ_{1}}{\\left(t \\right)} \\right)} \\sin{\\left(\\operatorname{θ_{2}}{\\left(t \\right)} \\right)}}{625000000000 \\left(\\cos{\\left(2 \\operatorname{θ_{1}}{\\left(t \\right)} + 2 \\operatorname{θ_{2}}{\\left(t \\right)} \\right)} - 2 \\cos{\\left(2 \\operatorname{θ_{1}}{\\left(t \\right)} \\right)} - 2 \\cos{\\left(2 \\operatorname{θ_{2}}{\\left(t \\right)} \\right)} + 3\\right)}$"
      ],
      "text/plain": [
       "Eq(Derivative(θ_2(t), (t, 2)), (312500000000*(-sin(θ_1(t) - θ_2(t)) - 2*sin(3*θ_1(t) - θ_2(t)) + sin(3*θ_1(t) + θ_2(t)))*Derivative(θ_1(t), t)**2 - 625000000000*(2*sin(2*θ_1(t) - θ_2(t)) - 3*sin(2*θ_1(t) + θ_2(t)) + 7*sin(θ_2(t)))*cos(θ_2(t))*Derivative(θ_2(t), t)**2 - 1250000000000*(4*x(t) + sin(θ_1(t))*Derivative(θ_1(t), t)**2 + sin(θ_1(t)) + sin(θ_2(t))*Derivative(θ_2(t), t)**2 + sin(θ_2(t)))*sin(θ_1(t) + θ_2(t))*sin(θ_1(t)) + (5000000000000*x(t)*cos(θ_1(t)) + 5000000000000*y(t)*sin(θ_1(t)) + 100000000000000*θ_1(t) - 24500000000000*sin(θ_1(t)) + 52359877559830*cos(t) - 68067840827779)*sin(θ_1(t))*sin(θ_2(t)) + (5000000000000*x(t)*cos(θ_2(t)) + 5000000000000*y(t)*sin(θ_2(t)) + 100000000000000*θ_2(t) - 24500000000000*sin(θ_2(t)) - 52359877559830*cos(t) + 68067840827779)*sin(θ_1(t))**2 + 1000000000000*(-20*y(t) + 5*cos(θ_1(t))*Derivative(θ_1(t), t)**2 + 5*cos(θ_1(t)) + 5*cos(θ_2(t))*Derivative(θ_2(t), t)**2 + 5*cos(θ_2(t)) + 98)*sin(θ_1(t))**2*sin(θ_2(t)))/(625000000000*(cos(2*θ_1(t) + 2*θ_2(t)) - 2*cos(2*θ_1(t)) - 2*cos(2*θ_2(t)) + 3)))"
      ]
     },
     "metadata": {},
     "output_type": "display_data"
    },
    {
     "data": {
      "text/latex": [
       "$\\displaystyle λ_{1} = \\frac{2500000000000 \\left(\\sin{\\left(2 \\operatorname{θ_{1}}{\\left(t \\right)} + 2 \\operatorname{θ_{2}}{\\left(t \\right)} \\right)} - 2 \\sin{\\left(2 \\operatorname{θ_{1}}{\\left(t \\right)} \\right)}\\right) \\left(4 x{\\left(t \\right)} + \\sin{\\left(\\operatorname{θ_{1}}{\\left(t \\right)} \\right)} \\left(\\frac{d}{d t} \\operatorname{θ_{1}}{\\left(t \\right)}\\right)^{2} + \\sin{\\left(\\operatorname{θ_{1}}{\\left(t \\right)} \\right)} + \\sin{\\left(\\operatorname{θ_{2}}{\\left(t \\right)} \\right)} \\left(\\frac{d}{d t} \\operatorname{θ_{2}}{\\left(t \\right)}\\right)^{2} + \\sin{\\left(\\operatorname{θ_{2}}{\\left(t \\right)} \\right)}\\right) - \\left(2 \\sin{\\left(\\operatorname{θ_{1}}{\\left(t \\right)} - 2 \\operatorname{θ_{2}}{\\left(t \\right)} \\right)} + 3 \\sin{\\left(\\operatorname{θ_{1}}{\\left(t \\right)} + 2 \\operatorname{θ_{2}}{\\left(t \\right)} \\right)} - 7 \\sin{\\left(\\operatorname{θ_{1}}{\\left(t \\right)} \\right)}\\right) \\left(5000000000000 x{\\left(t \\right)} \\cos{\\left(\\operatorname{θ_{1}}{\\left(t \\right)} \\right)} + 5000000000000 y{\\left(t \\right)} \\sin{\\left(\\operatorname{θ_{1}}{\\left(t \\right)} \\right)} + 100000000000000 \\operatorname{θ_{1}}{\\left(t \\right)} - 24500000000000 \\sin{\\left(\\operatorname{θ_{1}}{\\left(t \\right)} \\right)} + 52359877559830 \\cos{\\left(t \\right)} - 68067840827779\\right) + \\left(2 \\sin{\\left(2 \\operatorname{θ_{1}}{\\left(t \\right)} - \\operatorname{θ_{2}}{\\left(t \\right)} \\right)} - \\sin{\\left(2 \\operatorname{θ_{1}}{\\left(t \\right)} + \\operatorname{θ_{2}}{\\left(t \\right)} \\right)} + \\sin{\\left(\\operatorname{θ_{2}}{\\left(t \\right)} \\right)}\\right) \\left(5000000000000 x{\\left(t \\right)} \\cos{\\left(\\operatorname{θ_{2}}{\\left(t \\right)} \\right)} + 5000000000000 y{\\left(t \\right)} \\sin{\\left(\\operatorname{θ_{2}}{\\left(t \\right)} \\right)} + 100000000000000 \\operatorname{θ_{2}}{\\left(t \\right)} - 24500000000000 \\sin{\\left(\\operatorname{θ_{2}}{\\left(t \\right)} \\right)} - 52359877559830 \\cos{\\left(t \\right)} + 68067840827779\\right) + 1000000000000 \\left(2 \\sin{\\left(2 \\operatorname{θ_{1}}{\\left(t \\right)} - \\operatorname{θ_{2}}{\\left(t \\right)} \\right)} - \\sin{\\left(2 \\operatorname{θ_{1}}{\\left(t \\right)} + \\operatorname{θ_{2}}{\\left(t \\right)} \\right)} + \\sin{\\left(\\operatorname{θ_{2}}{\\left(t \\right)} \\right)}\\right) \\left(- 20 y{\\left(t \\right)} + 5 \\cos{\\left(\\operatorname{θ_{1}}{\\left(t \\right)} \\right)} \\left(\\frac{d}{d t} \\operatorname{θ_{1}}{\\left(t \\right)}\\right)^{2} + 5 \\cos{\\left(\\operatorname{θ_{1}}{\\left(t \\right)} \\right)} + 5 \\cos{\\left(\\operatorname{θ_{2}}{\\left(t \\right)} \\right)} \\left(\\frac{d}{d t} \\operatorname{θ_{2}}{\\left(t \\right)}\\right)^{2} + 5 \\cos{\\left(\\operatorname{θ_{2}}{\\left(t \\right)} \\right)} + 98\\right) \\sin{\\left(\\operatorname{θ_{2}}{\\left(t \\right)} \\right)} + 2500000000000 \\left(- 2 \\cos{\\left(2 \\operatorname{θ_{1}}{\\left(t \\right)} - 2 \\operatorname{θ_{2}}{\\left(t \\right)} \\right)} + \\cos{\\left(2 \\operatorname{θ_{1}}{\\left(t \\right)} \\right)} + \\cos{\\left(2 \\operatorname{θ_{2}}{\\left(t \\right)} \\right)}\\right) \\cos{\\left(\\operatorname{θ_{2}}{\\left(t \\right)} \\right)} \\left(\\frac{d}{d t} \\operatorname{θ_{2}}{\\left(t \\right)}\\right)^{2} - 2500000000000 \\left(2 \\cos{\\left(2 \\operatorname{θ_{1}}{\\left(t \\right)} - 2 \\operatorname{θ_{2}}{\\left(t \\right)} \\right)} - \\cos{\\left(2 \\operatorname{θ_{1}}{\\left(t \\right)} \\right)} + 3 \\cos{\\left(2 \\operatorname{θ_{2}}{\\left(t \\right)} \\right)} - 4\\right) \\cos{\\left(\\operatorname{θ_{1}}{\\left(t \\right)} \\right)} \\left(\\frac{d}{d t} \\operatorname{θ_{1}}{\\left(t \\right)}\\right)^{2}}{5000000000000 \\left(\\cos{\\left(2 \\operatorname{θ_{1}}{\\left(t \\right)} + 2 \\operatorname{θ_{2}}{\\left(t \\right)} \\right)} - 2 \\cos{\\left(2 \\operatorname{θ_{1}}{\\left(t \\right)} \\right)} - 2 \\cos{\\left(2 \\operatorname{θ_{2}}{\\left(t \\right)} \\right)} + 3\\right)}$"
      ],
      "text/plain": [
       "Eq(λ_1, (2500000000000*(sin(2*θ_1(t) + 2*θ_2(t)) - 2*sin(2*θ_1(t)))*(4*x(t) + sin(θ_1(t))*Derivative(θ_1(t), t)**2 + sin(θ_1(t)) + sin(θ_2(t))*Derivative(θ_2(t), t)**2 + sin(θ_2(t))) - (2*sin(θ_1(t) - 2*θ_2(t)) + 3*sin(θ_1(t) + 2*θ_2(t)) - 7*sin(θ_1(t)))*(5000000000000*x(t)*cos(θ_1(t)) + 5000000000000*y(t)*sin(θ_1(t)) + 100000000000000*θ_1(t) - 24500000000000*sin(θ_1(t)) + 52359877559830*cos(t) - 68067840827779) + (2*sin(2*θ_1(t) - θ_2(t)) - sin(2*θ_1(t) + θ_2(t)) + sin(θ_2(t)))*(5000000000000*x(t)*cos(θ_2(t)) + 5000000000000*y(t)*sin(θ_2(t)) + 100000000000000*θ_2(t) - 24500000000000*sin(θ_2(t)) - 52359877559830*cos(t) + 68067840827779) + 1000000000000*(2*sin(2*θ_1(t) - θ_2(t)) - sin(2*θ_1(t) + θ_2(t)) + sin(θ_2(t)))*(-20*y(t) + 5*cos(θ_1(t))*Derivative(θ_1(t), t)**2 + 5*cos(θ_1(t)) + 5*cos(θ_2(t))*Derivative(θ_2(t), t)**2 + 5*cos(θ_2(t)) + 98)*sin(θ_2(t)) + 2500000000000*(-2*cos(2*θ_1(t) - 2*θ_2(t)) + cos(2*θ_1(t)) + cos(2*θ_2(t)))*cos(θ_2(t))*Derivative(θ_2(t), t)**2 - 2500000000000*(2*cos(2*θ_1(t) - 2*θ_2(t)) - cos(2*θ_1(t)) + 3*cos(2*θ_2(t)) - 4)*cos(θ_1(t))*Derivative(θ_1(t), t)**2)/(5000000000000*(cos(2*θ_1(t) + 2*θ_2(t)) - 2*cos(2*θ_1(t)) - 2*cos(2*θ_2(t)) + 3)))"
      ]
     },
     "metadata": {},
     "output_type": "display_data"
    },
    {
     "data": {
      "text/latex": [
       "$\\displaystyle λ_{2} = \\frac{2500000000000 \\left(\\sin{\\left(2 \\operatorname{θ_{1}}{\\left(t \\right)} + 2 \\operatorname{θ_{2}}{\\left(t \\right)} \\right)} - 2 \\sin{\\left(2 \\operatorname{θ_{2}}{\\left(t \\right)} \\right)}\\right) \\left(4 x{\\left(t \\right)} + \\sin{\\left(\\operatorname{θ_{1}}{\\left(t \\right)} \\right)} \\left(\\frac{d}{d t} \\operatorname{θ_{1}}{\\left(t \\right)}\\right)^{2} + \\sin{\\left(\\operatorname{θ_{1}}{\\left(t \\right)} \\right)} + \\sin{\\left(\\operatorname{θ_{2}}{\\left(t \\right)} \\right)} \\left(\\frac{d}{d t} \\operatorname{θ_{2}}{\\left(t \\right)}\\right)^{2} + \\sin{\\left(\\operatorname{θ_{2}}{\\left(t \\right)} \\right)}\\right) - \\left(2 \\sin{\\left(\\operatorname{θ_{1}}{\\left(t \\right)} - 2 \\operatorname{θ_{2}}{\\left(t \\right)} \\right)} + \\sin{\\left(\\operatorname{θ_{1}}{\\left(t \\right)} + 2 \\operatorname{θ_{2}}{\\left(t \\right)} \\right)} - \\sin{\\left(\\operatorname{θ_{1}}{\\left(t \\right)} \\right)}\\right) \\left(5000000000000 x{\\left(t \\right)} \\cos{\\left(\\operatorname{θ_{1}}{\\left(t \\right)} \\right)} + 5000000000000 y{\\left(t \\right)} \\sin{\\left(\\operatorname{θ_{1}}{\\left(t \\right)} \\right)} + 100000000000000 \\operatorname{θ_{1}}{\\left(t \\right)} - 24500000000000 \\sin{\\left(\\operatorname{θ_{1}}{\\left(t \\right)} \\right)} + 52359877559830 \\cos{\\left(t \\right)} - 68067840827779\\right) - 1000000000000 \\left(2 \\sin{\\left(\\operatorname{θ_{1}}{\\left(t \\right)} - 2 \\operatorname{θ_{2}}{\\left(t \\right)} \\right)} + \\sin{\\left(\\operatorname{θ_{1}}{\\left(t \\right)} + 2 \\operatorname{θ_{2}}{\\left(t \\right)} \\right)} - \\sin{\\left(\\operatorname{θ_{1}}{\\left(t \\right)} \\right)}\\right) \\left(- 20 y{\\left(t \\right)} + 5 \\cos{\\left(\\operatorname{θ_{1}}{\\left(t \\right)} \\right)} \\left(\\frac{d}{d t} \\operatorname{θ_{1}}{\\left(t \\right)}\\right)^{2} + 5 \\cos{\\left(\\operatorname{θ_{1}}{\\left(t \\right)} \\right)} + 5 \\cos{\\left(\\operatorname{θ_{2}}{\\left(t \\right)} \\right)} \\left(\\frac{d}{d t} \\operatorname{θ_{2}}{\\left(t \\right)}\\right)^{2} + 5 \\cos{\\left(\\operatorname{θ_{2}}{\\left(t \\right)} \\right)} + 98\\right) \\sin{\\left(\\operatorname{θ_{1}}{\\left(t \\right)} \\right)} + \\left(2 \\sin{\\left(2 \\operatorname{θ_{1}}{\\left(t \\right)} - \\operatorname{θ_{2}}{\\left(t \\right)} \\right)} - 3 \\sin{\\left(2 \\operatorname{θ_{1}}{\\left(t \\right)} + \\operatorname{θ_{2}}{\\left(t \\right)} \\right)} + 7 \\sin{\\left(\\operatorname{θ_{2}}{\\left(t \\right)} \\right)}\\right) \\left(5000000000000 x{\\left(t \\right)} \\cos{\\left(\\operatorname{θ_{2}}{\\left(t \\right)} \\right)} + 5000000000000 y{\\left(t \\right)} \\sin{\\left(\\operatorname{θ_{2}}{\\left(t \\right)} \\right)} + 100000000000000 \\operatorname{θ_{2}}{\\left(t \\right)} - 24500000000000 \\sin{\\left(\\operatorname{θ_{2}}{\\left(t \\right)} \\right)} - 52359877559830 \\cos{\\left(t \\right)} + 68067840827779\\right) + 2500000000000 \\left(- 2 \\cos{\\left(2 \\operatorname{θ_{1}}{\\left(t \\right)} - 2 \\operatorname{θ_{2}}{\\left(t \\right)} \\right)} + \\cos{\\left(2 \\operatorname{θ_{1}}{\\left(t \\right)} \\right)} + \\cos{\\left(2 \\operatorname{θ_{2}}{\\left(t \\right)} \\right)}\\right) \\cos{\\left(\\operatorname{θ_{1}}{\\left(t \\right)} \\right)} \\left(\\frac{d}{d t} \\operatorname{θ_{1}}{\\left(t \\right)}\\right)^{2} - 2500000000000 \\left(2 \\cos{\\left(2 \\operatorname{θ_{1}}{\\left(t \\right)} - 2 \\operatorname{θ_{2}}{\\left(t \\right)} \\right)} + 3 \\cos{\\left(2 \\operatorname{θ_{1}}{\\left(t \\right)} \\right)} - \\cos{\\left(2 \\operatorname{θ_{2}}{\\left(t \\right)} \\right)} - 4\\right) \\cos{\\left(\\operatorname{θ_{2}}{\\left(t \\right)} \\right)} \\left(\\frac{d}{d t} \\operatorname{θ_{2}}{\\left(t \\right)}\\right)^{2}}{5000000000000 \\left(\\cos{\\left(2 \\operatorname{θ_{1}}{\\left(t \\right)} + 2 \\operatorname{θ_{2}}{\\left(t \\right)} \\right)} - 2 \\cos{\\left(2 \\operatorname{θ_{1}}{\\left(t \\right)} \\right)} - 2 \\cos{\\left(2 \\operatorname{θ_{2}}{\\left(t \\right)} \\right)} + 3\\right)}$"
      ],
      "text/plain": [
       "Eq(λ_2, (2500000000000*(sin(2*θ_1(t) + 2*θ_2(t)) - 2*sin(2*θ_2(t)))*(4*x(t) + sin(θ_1(t))*Derivative(θ_1(t), t)**2 + sin(θ_1(t)) + sin(θ_2(t))*Derivative(θ_2(t), t)**2 + sin(θ_2(t))) - (2*sin(θ_1(t) - 2*θ_2(t)) + sin(θ_1(t) + 2*θ_2(t)) - sin(θ_1(t)))*(5000000000000*x(t)*cos(θ_1(t)) + 5000000000000*y(t)*sin(θ_1(t)) + 100000000000000*θ_1(t) - 24500000000000*sin(θ_1(t)) + 52359877559830*cos(t) - 68067840827779) - 1000000000000*(2*sin(θ_1(t) - 2*θ_2(t)) + sin(θ_1(t) + 2*θ_2(t)) - sin(θ_1(t)))*(-20*y(t) + 5*cos(θ_1(t))*Derivative(θ_1(t), t)**2 + 5*cos(θ_1(t)) + 5*cos(θ_2(t))*Derivative(θ_2(t), t)**2 + 5*cos(θ_2(t)) + 98)*sin(θ_1(t)) + (2*sin(2*θ_1(t) - θ_2(t)) - 3*sin(2*θ_1(t) + θ_2(t)) + 7*sin(θ_2(t)))*(5000000000000*x(t)*cos(θ_2(t)) + 5000000000000*y(t)*sin(θ_2(t)) + 100000000000000*θ_2(t) - 24500000000000*sin(θ_2(t)) - 52359877559830*cos(t) + 68067840827779) + 2500000000000*(-2*cos(2*θ_1(t) - 2*θ_2(t)) + cos(2*θ_1(t)) + cos(2*θ_2(t)))*cos(θ_1(t))*Derivative(θ_1(t), t)**2 - 2500000000000*(2*cos(2*θ_1(t) - 2*θ_2(t)) + 3*cos(2*θ_1(t)) - cos(2*θ_2(t)) - 4)*cos(θ_2(t))*Derivative(θ_2(t), t)**2)/(5000000000000*(cos(2*θ_1(t) + 2*θ_2(t)) - 2*cos(2*θ_1(t)) - 2*cos(2*θ_2(t)) + 3)))"
      ]
     },
     "metadata": {},
     "output_type": "display_data"
    }
   ],
   "source": [
    "#extracting the solutions...\n",
    "ELsolve = []\n",
    "\n",
    "# for sol in soln:\n",
    "#     print('solutions (unsimplified): ')\n",
    "#     for v in eom:\n",
    "#         bloop = sym.Eq(v, sol[v])\n",
    "#         ELsolve.append(sol[v])\n",
    "#         display(bloop)\n",
    "\n",
    "for sol in soln:\n",
    "    print('solutions (unsimplified): ')\n",
    "    for v in eom:\n",
    "        bloop = sym.simplify(sym.nsimplify(sol[v]))\n",
    "        ELsolve.append(bloop)\n",
    "        display(sym.Eq(v, bloop))\n"
   ]
  },
  {
   "cell_type": "code",
   "execution_count": 28,
   "metadata": {},
   "outputs": [
    {
     "name": "stdout",
     "output_type": "stream",
     "text": [
      "Numerical evaluation test...\n"
     ]
    },
    {
     "data": {
      "text/plain": [
       "64.43531777296151"
      ]
     },
     "metadata": {},
     "output_type": "display_data"
    }
   ],
   "source": [
    "#Numerical Evaluation\n",
    "xddot_func = sym.lambdify([*q,*qdot,t],ELsolve[0])\n",
    "yddot_func = sym.lambdify([*q,*qdot,t],ELsolve[1])\n",
    "th1ddot_func = sym.lambdify([*q,*qdot,t],ELsolve[2])\n",
    "th2ddot_func = sym.lambdify([*q,*qdot,t],ELsolve[3])\n",
    "lam1_func = sym.lambdify([*q,*qdot,t],ELsolve[4])\n",
    "lam2_func = sym.lambdify([*q,*qdot,t],ELsolve[5])\n",
    "\n",
    "print('Numerical evaluation test...')\n",
    "display(th1ddot_func(1,1,2,1,2,0,0,0,1))"
   ]
  },
  {
   "cell_type": "markdown",
   "metadata": {},
   "source": [
    "**Simulation**"
   ]
  },
  {
   "cell_type": "code",
   "execution_count": 29,
   "metadata": {},
   "outputs": [],
   "source": [
    "def dyn(s,t):\n",
    "    \"\"\"\n",
    "    System dynamics function (extended)\n",
    "    \n",
    "    Parameters\n",
    "    ============\n",
    "    s: NumPy array\n",
    "        s = [x, xdot] is the extended system\n",
    "        state vector, includng the position and\n",
    "        the velocity of the particle\n",
    "    \n",
    "    Return\n",
    "    ============\n",
    "    sdot: NumPy array\n",
    "        time derivative of input state vector,\n",
    "        sdot = [xdot, xddot]\n",
    "    \"\"\"\n",
    "    return np.array([s[4],s[5],s[6],s[7],xddot_func(*s,t),yddot_func(*s,t),th1ddot_func(*s,t),th2ddot_func(*s,t)])"
   ]
  },
  {
   "cell_type": "code",
   "execution_count": 30,
   "metadata": {},
   "outputs": [],
   "source": [
    "def integrate(f,xt,t,dt):\n",
    "    \"\"\"\n",
    "    This function takes in an initial condition x(t) and a timestep dt,\n",
    "    as well as a dynamical system f(x) that outputs a vector of the\n",
    "    same dimension as x(t). It outputs a vector x(t+dt) at the future\n",
    "    time step.\n",
    "    \n",
    "    Parameters\n",
    "    ============\n",
    "    dyn: Python function\n",
    "        derivate of the system at a given step x(t), \n",
    "        it can considered as \\dot{x}(t) = func(x(t))\n",
    "    xt: NumPy array\n",
    "        current step x(t)\n",
    "    dt: \n",
    "        step size for integration\n",
    "\n",
    "    Return\n",
    "    ============\n",
    "    new_xt: \n",
    "        value of x(t+dt) integrated from x(t)\n",
    "    \"\"\"\n",
    "    k1 = f(xt,t)\n",
    "    k2 = f(xt+dt*(k1/2.),t+dt/2.)\n",
    "    k3 = f(xt+dt*(k2/2.),t+dt/2.)\n",
    "    k4 = f(xt+dt*k3,t+dt)\n",
    "    \n",
    "    new_xt = xt + (1/6.) * dt*(k1+2.0*k2+2.0*k3+k4)\n",
    "    #new_t = t+dt\n",
    "    \n",
    "    return new_xt\n",
    "\n",
    "def simulate(f, x0, tspan, dt, integrate):\n",
    "    \"\"\"\n",
    "    This function takes in an initial condition x0, a timestep dt,\n",
    "    a time span tspan consisting of a list [min_time, max_time],\n",
    "    as well as a dynamical system f(x) that outputs a vector of the\n",
    "    same dimension as x0. It outputs a full trajectory simulated\n",
    "    over the time span of dimensions (xvec_size, time_vec_size).\n",
    "    \n",
    "    Parameters\n",
    "    ============\n",
    "    f: Python function\n",
    "        derivate of the system at a given step x(t), \n",
    "        it can considered as \\dot{x}(t) = func(x(t))\n",
    "    x0: NumPy array\n",
    "        initial conditions\n",
    "    tspan: Python list\n",
    "        tspan = [min_time, max_time], it defines the start and end\n",
    "        time of simulation\n",
    "    dt:\n",
    "        time step for numerical integration\n",
    "    integrate: Python function\n",
    "        numerical integration method used in this simulation\n",
    "\n",
    "    Return\n",
    "    ============\n",
    "    x_traj:\n",
    "        simulated trajectory of x(t) from t=0 to tf\n",
    "    \"\"\"\n",
    "    N = int((max(tspan)-min(tspan))/dt)\n",
    "    x = np.copy(x0)\n",
    "    tvec = np.linspace(min(tspan),max(tspan),N)\n",
    "    xtraj = np.zeros((len(x0),N))\n",
    "    \n",
    "    for i in range(N):\n",
    "        xtraj[:,i]=integrate(f,x,tvec[i],dt)\n",
    "        x = np.copy(xtraj[:,i])\n",
    "    return xtraj "
   ]
  },
  {
   "cell_type": "code",
   "execution_count": 31,
   "metadata": {},
   "outputs": [
    {
     "name": "stderr",
     "output_type": "stream",
     "text": [
      "<string>:2: RuntimeWarning: overflow encountered in double_scalars\n",
      "<string>:2: RuntimeWarning: invalid value encountered in double_scalars\n",
      "<string>:2: RuntimeWarning: overflow encountered in double_scalars\n",
      "<string>:2: RuntimeWarning: invalid value encountered in double_scalars\n",
      "<string>:2: RuntimeWarning: overflow encountered in double_scalars\n",
      "<string>:2: RuntimeWarning: invalid value encountered in double_scalars\n",
      "<string>:2: RuntimeWarning: overflow encountered in double_scalars\n",
      "<string>:2: RuntimeWarning: invalid value encountered in double_scalars\n"
     ]
    },
    {
     "name": "stdout",
     "output_type": "stream",
     "text": [
      "shape of traj:  (8, 1000)\n"
     ]
    }
   ],
   "source": [
    "# define initial state\n",
    "s0 = np.array([0,0.5,np.pi/3,-np.pi/3,0,0,0,0])#all initial velocities equal to zero\n",
    "\n",
    "#simulate trajectory\n",
    "traj = simulate(dyn, s0, [0, 10], 0.01, integrate) \n",
    "print('shape of traj: ', traj.shape)"
   ]
  },
  {
   "cell_type": "code",
   "execution_count": 33,
   "metadata": {},
   "outputs": [
    {
     "name": "stdout",
     "output_type": "stream",
     "text": [
      "bleeh!:\n"
     ]
    },
    {
     "data": {
      "image/png": "[encoded data removed]",
      "text/plain": [
       "<Figure size 432x288 with 1 Axes>"
      ]
     },
     "metadata": {
      "needs_background": "light"
     },
     "output_type": "display_data"
    }
   ],
   "source": [
    "### plotting...\n",
    "plt.plot(np.arange(1000)*0.1,traj[0:4].T)\n",
    "plt.ylim(-10,10)\n",
    "\n",
    "print('bleeh!:')\n",
    "plt.show()#plotting..."
   ]
  },
  {
   "cell_type": "code",
   "execution_count": null,
   "metadata": {},
   "outputs": [],
   "source": [
    "def animate(q_array,L1=1,L2=1,T=10):\n",
    "    \"\"\"\n",
    "    Function to generate web-based animation of double-pendulum system\n",
    "\n",
    "    Parameters:\n",
    "    ================================================\n",
    "    theta_array:\n",
    "        trajectory of theta1 and theta2, should be a NumPy array with\n",
    "        shape of (2,N)\n",
    "    L1:\n",
    "        length of the first pendulum\n",
    "    L2:\n",
    "        length of the second pendulum\n",
    "    T:\n",
    "        length/seconds of animation duration\n",
    "\n",
    "    Returns: None\n",
    "    \"\"\"\n",
    "\n",
    "    ################################\n",
    "    # Imports required for animation.\n",
    "    from plotly.offline import init_notebook_mode, iplot\n",
    "    from IPython.display import display, HTML\n",
    "    import plotly.graph_objects as go\n",
    "\n",
    "    #######################\n",
    "    # Browser configuration.\n",
    "    def configure_plotly_browser_state():\n",
    "        import IPython\n",
    "        display(IPython.core.display.HTML('''\n",
    "            <script src=\"/static/components/requirejs/require.js\"></script>\n",
    "            <script>\n",
    "              requirejs.config({\n",
    "                paths: {\n",
    "                  base: '/static/base',\n",
    "                  plotly: 'https://cdn.plot.ly/plotly-1.5.1.min.js?noext',\n",
    "                },\n",
    "              });\n",
    "            </script>\n",
    "            '''))\n",
    "    configure_plotly_browser_state()\n",
    "    init_notebook_mode(connected=False)\n",
    "\n",
    "    ###############################################\n",
    "    # Getting data from pendulum angle trajectories.\n",
    "#     xx1=L1*np.sin(theta_array[0])\n",
    "#     yy1=-L1*np.cos(theta_array[0])\n",
    "#     xx2=xx1+L2*np.sin(theta_array[0]+theta_array[1])\n",
    "#     yy2=yy1-L2*np.cos(theta_array[0]+theta_array[1])\n",
    "    xxA = q_array[0] #TODO: WHAT DO I NEED THIS FOR?\n",
    "    yyA = q_array[1]\n",
    "    N = len(q_array[0]) # Need this for specifying length of simulation\n",
    "\n",
    "    ###############################################\n",
    "    # Define arrays containing data for frame axes\n",
    "    # In each frame, the x and y axis are always fixed\n",
    "    x_axis = np.array([0.3, 0.0])\n",
    "    y_axis = np.array([0.0, 0.3])\n",
    "    origin = np.array([0.0, 0.0])\n",
    "    \n",
    "    # Use homogeneous tranformation to transfer these two axes/points\n",
    "    # back to the fixed frame\n",
    "    frame_a_x_axis = np.zeros((2,N))\n",
    "    frame_a_y_axis = np.zeros((2,N))\n",
    "    frame_a_origin = np.zeros((2,N))\n",
    "    \n",
    "    frame_b_x_axis = np.zeros((2,N))\n",
    "    frame_b_y_axis = np.zeros((2,N))\n",
    "    frame_b_origin = np.zeros((2,N))\n",
    "    \n",
    "    frame_c_x_axis = np.zeros((2,N))\n",
    "    frame_c_y_axis = np.zeros((2,N))\n",
    "    frame_c_origin = np.zeros((2,N))\n",
    "    \n",
    "    frame_d_x_axis = np.zeros((2,N))\n",
    "    frame_d_y_axis = np.zeros((2,N))\n",
    "    frame_d_origin = np.zeros((2,N))\n",
    "    \n",
    "    frame_e_x_axis = np.zeros((2,N))\n",
    "    frame_e_y_axis = np.zeros((2,N))\n",
    "    frame_e_origin = np.zeros((2,N))\n",
    "    \n",
    "    for i in range(N): # iteration through each time step\n",
    "        # evaluate homogeneous transformations\n",
    "        t_wa = np.array([[1,0,q_array[0][i]],\n",
    "                         [0,1,q_array[1][i]],\n",
    "                         [0,0,1]])\n",
    "        t_ab = np.array([[np.cos(q_array[2][i]), -np.sin(q_array[2][i]), (L1/2)*np.sin(q_array[2][i])],\n",
    "                         [np.sin(q_array[2][i]),  np.cos(q_array[2][i]), -(L1/2)*np.cos(q_array[2][i])],\n",
    "                         [                        0,                          0, 1]])\n",
    "        t_bd = np.array([[1,0,0],\n",
    "                         [0,1,-L1/2],\n",
    "                         [0,0,1]])\n",
    "        t_ac = np.array([[np.cos(q_array[3][i]), -np.sin(q_array[3][i]), (L2/2)*np.sin(q_array[3][i])],\n",
    "                         [np.sin(q_array[3][i]),  np.cos(q_array[3][i]), -(L2/2)*np.cos(q_array[3][i])],\n",
    "                         [                        0,                          0, 1]])\n",
    "        t_ce = np.array([[1,0,0],\n",
    "                         [0,1,-L2/2],\n",
    "                         [0,0,1]])\n",
    "        \n",
    "        #multiplying to get specific frame transforms...\n",
    "        t_wb = np.matmul(t_wa,t_ab)\n",
    "        t_wc = np.matmul(t_wa,t_ac)\n",
    "        t_wd = np.matmul(t_wb,t_bd)\n",
    "        t_we = np.matmul(t_wc,t_ce)\n",
    "        \n",
    "        # transfer the x and y axes in body frame back to fixed frame at \n",
    "        # the current time step\n",
    "        frame_a_x_axis[:,i] = t_wa.dot([x_axis[0], x_axis[1], 1])[0:2]\n",
    "        frame_a_y_axis[:,i] = t_wa.dot([y_axis[0], y_axis[1], 1])[0:2]\n",
    "        frame_a_origin[:,i] = t_wa.dot([origin[0], origin[1], 1])[0:2]\n",
    "        \n",
    "        frame_b_x_axis[:,i] = t_wb.dot([x_axis[0], x_axis[1], 1])[0:2]\n",
    "        frame_b_y_axis[:,i] = t_wb.dot([y_axis[0], y_axis[1], 1])[0:2]\n",
    "        frame_b_origin[:,i] = t_wb.dot([origin[0], origin[1], 1])[0:2]\n",
    "        \n",
    "        frame_c_x_axis[:,i] = t_wc.dot([x_axis[0], x_axis[1], 1])[0:2]\n",
    "        frame_c_y_axis[:,i] = t_wc.dot([y_axis[0], y_axis[1], 1])[0:2]\n",
    "        frame_c_origin[:,i] = t_wc.dot([origin[0], origin[1], 1])[0:2]\n",
    "        \n",
    "        frame_d_x_axis[:,i] = t_wd.dot([x_axis[0], x_axis[1], 1])[0:2]\n",
    "        frame_d_y_axis[:,i] = t_wd.dot([y_axis[0], y_axis[1], 1])[0:2]\n",
    "        frame_d_origin[:,i] = t_wd.dot([origin[0], origin[1], 1])[0:2]\n",
    "        \n",
    "        frame_e_x_axis[:,i] = t_we.dot([x_axis[0], x_axis[1], 1])[0:2]\n",
    "        frame_e_y_axis[:,i] = t_we.dot([y_axis[0], y_axis[1], 1])[0:2]\n",
    "        frame_e_origin[:,i] = t_we.dot([origin[0], origin[1], 1])[0:2]\n",
    "\n",
    "    ####################################\n",
    "    # Using these to specify axis limits.\n",
    "    xm = -3 #np.min(xx1)-0.5\n",
    "    xM = 3 #np.max(xx1)+0.5\n",
    "    ym = -3 #np.min(yy1)-2.5\n",
    "    yM = 3 #np.max(yy1)+1.5\n",
    "\n",
    "    ###########################\n",
    "    # Defining data dictionary.\n",
    "    # Trajectories are here.\n",
    "    data=[\n",
    "        # note that except for the trajectory (which you don't need this time),\n",
    "        # you don't need to define entries other than \"name\". The items defined\n",
    "        # in this list will be related to the items defined in the \"frames\" list\n",
    "        # later in the same order. Therefore, these entries can be considered as \n",
    "        # labels for the components in each animation frame\n",
    "        dict(name='Arm'),\n",
    "        dict(name='Mass 1'),\n",
    "        dict(name='Mass 2'),\n",
    "        dict(name='World Frame X'),\n",
    "        dict(name='World Frame Y'),\n",
    "        dict(name='A Frame X Axis'),\n",
    "        dict(name='A Frame Y Axis'),\n",
    "        dict(name='B Frame X Axis'),\n",
    "        dict(name='B Frame Y Axis'),\n",
    "        dict(name='C Frame X Axis'),\n",
    "        dict(name='C Frame Y Axis'),\n",
    "        dict(name='D Frame X Axis'),\n",
    "        dict(name='D Frame Y Axis'),\n",
    "        dict(name='E Frame X Axis'),\n",
    "        dict(name='E Frame Y Axis'),\n",
    "\n",
    "        # You don't need to show trajectory this time,\n",
    "        # but if you want to show the whole trajectory in the animation (like what\n",
    "        # you did in previous homeworks), you will need to define entries other than \n",
    "        # \"name\", such as \"x\", \"y\". and \"mode\".\n",
    "\n",
    "        # dict(x=xx1, y=yy1, \n",
    "        #      mode='markers', name='Pendulum 1 Traj', \n",
    "        #      marker=dict(color=\"fuchsia\", size=2)\n",
    "        #     ),\n",
    "        # dict(x=xx2, y=yy2, \n",
    "        #      mode='markers', name='Pendulum 2 Traj', \n",
    "        #      marker=dict(color=\"purple\", size=2)\n",
    "        #     ),\n",
    "        ]\n",
    "\n",
    "    ################################\n",
    "    # Preparing simulation layout.\n",
    "    # Title and axis ranges are here.\n",
    "    layout=dict(autosize=False, width=1000, height=1000,\n",
    "                xaxis=dict(range=[xm, xM], autorange=False, zeroline=True,dtick=1),\n",
    "                yaxis=dict(range=[ym, yM], autorange=False, zeroline=False,scaleanchor = \"x\",dtick=1),\n",
    "                title='Double Pendulum Simulation', \n",
    "                hovermode='closest',\n",
    "                updatemenus= [{'type': 'buttons',\n",
    "                               'buttons': [{'label': 'Play','method': 'animate',\n",
    "                                            'args': [None, {'frame': {'duration': T, 'redraw': False}}]},\n",
    "                                           {'args': [[None], {'frame': {'duration': T, 'redraw': False}, 'mode': 'immediate',\n",
    "                                            'transition': {'duration': 0}}],'label': 'Pause','method': 'animate'}\n",
    "                                          ]\n",
    "                              }]\n",
    "               )\n",
    "\n",
    "    ########################################\n",
    "    # Defining the frames of the simulation.\n",
    "    # This is what draws the lines from\n",
    "    # joint to joint of the pendulum.\n",
    "    frames=[dict(data=[# first three objects correspond to the arms and two masses,\n",
    "                       # same order as in the \"data\" variable defined above (thus \n",
    "                       # they will be labeled in the same order)\n",
    "#                        dict(x=[0,xx1[k],xx2[k]], \n",
    "#                             y=[0,yy1[k],yy2[k]], \n",
    "#                             mode='lines',\n",
    "#                             line=dict(color='orange', width=3),\n",
    "#                             ),\n",
    "#                        go.Scatter(\n",
    "#                             x=[xx1[k]],\n",
    "#                             y=[yy1[k]],\n",
    "#                             mode=\"markers\",\n",
    "#                             marker=dict(color=\"blue\", size=12)),\n",
    "#                        go.Scatter(\n",
    "#                             x=[xx2[k]],\n",
    "#                             y=[yy2[k]],\n",
    "#                             mode=\"markers\",\n",
    "#                             marker=dict(color=\"blue\", size=12)),\n",
    "                       # display x and y axes of the fixed frame in each animation frame\n",
    "                       dict(x=[0,x_axis[0]], \n",
    "                            y=[0,x_axis[1]], \n",
    "                            mode='lines',\n",
    "                            line=dict(color='yellow', width=3),\n",
    "                            ),\n",
    "                       dict(x=[0,y_axis[0]], \n",
    "                            y=[0,y_axis[1]], \n",
    "                            mode='lines',\n",
    "                            line=dict(color='yellow', width=3),\n",
    "                            ),\n",
    "                       # display x and y axes of the {A} frame in each animation frame\n",
    "                       dict(x=[frame_a_origin[0][k], frame_a_x_axis[0][k]], \n",
    "                            y=[frame_a_origin[1][k], frame_a_x_axis[1][k]], \n",
    "                            mode='lines',\n",
    "                            line=dict(color='green', width=3),\n",
    "                            ),\n",
    "                       dict(x=[frame_a_origin[0][k], frame_a_y_axis[0][k]], \n",
    "                            y=[frame_a_origin[1][k], frame_a_y_axis[1][k]],\n",
    "                            mode='lines',\n",
    "                            line=dict(color='red', width=3),\n",
    "                            ),\n",
    "                       dict(x=[frame_b_origin[0][k], frame_b_x_axis[0][k]], #frame b\n",
    "                            y=[frame_b_origin[1][k], frame_b_x_axis[1][k]], \n",
    "                            mode='lines',\n",
    "                            line=dict(color='green', width=3),\n",
    "                            ),\n",
    "                       dict(x=[frame_b_origin[0][k], frame_b_y_axis[0][k]], \n",
    "                            y=[frame_b_origin[1][k], frame_b_y_axis[1][k]],\n",
    "                            mode='lines',\n",
    "                            line=dict(color='red', width=3),\n",
    "                            ),\n",
    "                       dict(x=[frame_c_origin[0][k], frame_c_x_axis[0][k]], #frame c\n",
    "                            y=[frame_c_origin[1][k], frame_c_x_axis[1][k]], \n",
    "                            mode='lines',\n",
    "                            line=dict(color='green', width=3),\n",
    "                            ),\n",
    "                       dict(x=[frame_c_origin[0][k], frame_c_y_axis[0][k]], \n",
    "                            y=[frame_c_origin[1][k], frame_c_y_axis[1][k]],\n",
    "                            mode='lines',\n",
    "                            line=dict(color='red', width=3),\n",
    "                            ),\n",
    "                       dict(x=[frame_d_origin[0][k], frame_d_x_axis[0][k]], #frame d\n",
    "                            y=[frame_d_origin[1][k], frame_d_x_axis[1][k]], \n",
    "                            mode='lines',\n",
    "                            line=dict(color='green', width=3),\n",
    "                            ),\n",
    "                       dict(x=[frame_d_origin[0][k], frame_d_y_axis[0][k]], \n",
    "                            y=[frame_d_origin[1][k], frame_d_y_axis[1][k]],\n",
    "                            mode='lines',\n",
    "                            line=dict(color='red', width=3),\n",
    "                            ),\n",
    "                       dict(x=[frame_d_origin[0][k], frame_d_x_axis[0][k]], #frame d\n",
    "                            y=[frame_d_origin[1][k], frame_d_x_axis[1][k]], \n",
    "                            mode='lines',\n",
    "                            line=dict(color='green', width=3),\n",
    "                            ),\n",
    "                       dict(x=[frame_e_origin[0][k], frame_e_x_axis[0][k]], \n",
    "                            y=[frame_e_origin[1][k], frame_e_x_axis[1][k]],\n",
    "                            mode='lines',\n",
    "                            line=dict(color='red', width=3),\n",
    "                            ),\n",
    "                       dict(x=[frame_e_origin[0][k], frame_e_y_axis[0][k]], \n",
    "                            y=[frame_e_origin[1][k], frame_e_y_axis[1][k]],\n",
    "                            mode='lines',\n",
    "                            line=dict(color='green', width=3),\n",
    "                            )\n",
    "                        \n",
    "                      ]) for k in range(N)]\n",
    "\n",
    "    #######################################\n",
    "    # Putting it all together and plotting.\n",
    "    figure1=dict(data=data, layout=layout, frames=frames)           \n",
    "    iplot(figure1)"
   ]
  },
  {
   "cell_type": "code",
   "execution_count": null,
   "metadata": {},
   "outputs": [],
   "source": [
    "animate(traj[0:4],L1=1,L2=1,T=10)"
   ]
  }
 ],
 "metadata": {
  "colab": {
   "collapsed_sections": [],
   "name": "hw7-template.ipynb",
   "provenance": []
  },
  "kernelspec": {
   "display_name": "Python 3",
   "language": "python",
   "name": "python3"
  },
  "language_info": {
   "codemirror_mode": {
    "name": "ipython",
    "version": 3
   },
   "file_extension": ".py",
   "mimetype": "text/x-python",
   "name": "python",
   "nbconvert_exporter": "python",
   "pygments_lexer": "ipython3",
   "version": "3.7.6"
  }
 },
 "nbformat": 4,
 "nbformat_minor": 1
}
