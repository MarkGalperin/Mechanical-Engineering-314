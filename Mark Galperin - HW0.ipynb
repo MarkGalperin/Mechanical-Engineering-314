{
 "cells": [
  {
   "cell_type": "markdown",
   "metadata": {},
   "source": [
    "**Mark Galperin - HW0** <br>\n",
    "ME314 9/23/20 <br> "
   ]
  },
  {
   "cell_type": "markdown",
   "metadata": {},
   "source": [
    "**Problem 1** <br>\n",
    "Given a function f(x) = sin(x), find the derivative of f(x) and find the directional derivative of f(x) in the direction v. Moreover, compute these derivatives using Pythons’s SymPy package"
   ]
  },
  {
   "cell_type": "code",
   "execution_count": 1,
   "metadata": {},
   "outputs": [],
   "source": [
    "#imports...\n",
    "import sympy as sym \n",
    "from sympy import symbols, integrate\n",
    "import numpy as np  \n",
    "import matplotlib.pyplot as plt\n",
    "import math"
   ]
  },
  {
   "cell_type": "markdown",
   "metadata": {},
   "source": [
    "_Defining and taking the derivative of f(x)_"
   ]
  },
  {
   "cell_type": "code",
   "execution_count": 2,
   "metadata": {},
   "outputs": [
    {
     "data": {
      "text/latex": [
       "$\\displaystyle \\sin{\\left(x \\right)}$"
      ],
      "text/plain": [
       "sin(x)"
      ]
     },
     "execution_count": 2,
     "metadata": {},
     "output_type": "execute_result"
    }
   ],
   "source": [
    "#defining symbols...\n",
    "x = symbols('x')\n",
    "\n",
    "#define the function...\n",
    "f = sym.sin(x)\n",
    "f"
   ]
  },
  {
   "cell_type": "code",
   "execution_count": 3,
   "metadata": {
    "scrolled": false
   },
   "outputs": [
    {
     "name": "stdout",
     "output_type": "stream",
     "text": [
      "The derivative of f is: cos(x)\n"
     ]
    }
   ],
   "source": [
    "#taking the derivative...\n",
    "df = f.diff(x)\n",
    "print('The derivative of f is:',df)"
   ]
  },
  {
   "cell_type": "markdown",
   "metadata": {},
   "source": [
    "_Taking the directional derivative of f(x)_"
   ]
  },
  {
   "cell_type": "code",
   "execution_count": 4,
   "metadata": {},
   "outputs": [],
   "source": [
    "#defining the scalar epsilon and the direction vector v...\n",
    "eps, v = symbols(r'\\epsilon, v')\n",
    "\n",
    "#defining the local approximation of f...\n",
    "f_new = sym.sin(x + v*eps)"
   ]
  },
  {
   "cell_type": "code",
   "execution_count": 5,
   "metadata": {},
   "outputs": [
    {
     "name": "stdout",
     "output_type": "stream",
     "text": [
      "The derivative of f with respect to epsilon is:\n"
     ]
    },
    {
     "data": {
      "text/latex": [
       "$\\displaystyle v \\cos{\\left(\\epsilon v + x \\right)}$"
      ],
      "text/plain": [
       "v*cos(\\epsilon*v + x)"
      ]
     },
     "metadata": {},
     "output_type": "display_data"
    }
   ],
   "source": [
    "#taking the directional derivative with respect to epsilon...\n",
    "df_eps = f_new.diff(eps)\n",
    "\n",
    "#output...\n",
    "print('The derivative of f with respect to epsilon is:')\n",
    "display(df_eps)"
   ]
  },
  {
   "cell_type": "code",
   "execution_count": 6,
   "metadata": {},
   "outputs": [
    {
     "name": "stdout",
     "output_type": "stream",
     "text": [
      "The directional derivative of f on v is:\n"
     ]
    },
    {
     "data": {
      "text/latex": [
       "$\\displaystyle v \\cos{\\left(x \\right)}$"
      ],
      "text/plain": [
       "v*cos(x)"
      ]
     },
     "metadata": {},
     "output_type": "display_data"
    }
   ],
   "source": [
    "#evaluating for epsilon = 0...\n",
    "df_dir = df_eps.subs(eps,0)\n",
    "\n",
    "#output...\n",
    "print('The directional derivative of f on v is:')\n",
    "display(df_dir)"
   ]
  },
  {
   "cell_type": "markdown",
   "metadata": {},
   "source": [
    "**Problem 2** <br>\n",
    "Given a function of trajectory: <br>\n",
    "$J(x(t)) = \\int_{0}^{\\pi /2} \\frac{1}{2}x(t)^{2}dt$ <br>\n",
    "Compute the analytical solution when x = cos(t), verify your answer by numerical integration."
   ]
  },
  {
   "cell_type": "code",
   "execution_count": 7,
   "metadata": {},
   "outputs": [],
   "source": [
    "#defining the euler method integration function...\n",
    "def euler(func, xspan, step_size):\n",
    "    #x is a linear range between the integral limits\n",
    "    x = np.arange(xspan[0], xspan[1], step_size) \n",
    "    \n",
    "    #initial value = 0\n",
    "    int_val = 0 \n",
    "    \n",
    "    #Euler method...\n",
    "    for xi in x: int_val += func(xi) * step_size\n",
    "    \n",
    "    return int_val"
   ]
  },
  {
   "cell_type": "code",
   "execution_count": 8,
   "metadata": {},
   "outputs": [],
   "source": [
    "#define the integrand (x(t))^2/2, where x = cos(t)\n",
    "def integrand_p2(t):\n",
    "    return ((math.cos(t))**2)/2"
   ]
  },
  {
   "cell_type": "code",
   "execution_count": 9,
   "metadata": {
    "scrolled": true
   },
   "outputs": [
    {
     "name": "stdout",
     "output_type": "stream",
     "text": [
      "the numerical solution is J(x(t)) =  0.3929490817067343\n"
     ]
    }
   ],
   "source": [
    "#Evaluating the integral of the functional J(x(t))\n",
    "xspan = [0,math.pi/2]\n",
    "step_size = 0.001\n",
    "\n",
    "J = euler(integrand_p2,xspan, step_size)\n",
    "print('the numerical solution is J(x(t)) = ',J)"
   ]
  },
  {
   "cell_type": "code",
   "execution_count": 10,
   "metadata": {},
   "outputs": [
    {
     "data": {
      "text/plain": [
       "0.39269908169872414"
      ]
     },
     "execution_count": 10,
     "metadata": {},
     "output_type": "execute_result"
    }
   ],
   "source": [
    "#checking that the answer is equal to pi/8...\n",
    "math.pi / 8"
   ]
  },
  {
   "cell_type": "markdown",
   "metadata": {},
   "source": [
    "**Problem 3** <br>\n",
    "For the function J(x(t)) in Problem 2, compute and evaluate the analytical solution for the directional derivative of J at x(t) = cos(t), in the direction v(t) = sin(t)."
   ]
  },
  {
   "cell_type": "markdown",
   "metadata": {},
   "source": [
    "P3 does not require this notebook."
   ]
  },
  {
   "cell_type": "markdown",
   "metadata": {},
   "source": [
    "**Problem 4** <br>\n",
    "Verify your answer in Problem 3 using the same numerical integration method you used in Problem 2, also verify the answer using the symbolic integrator in Python’s SymPy package."
   ]
  },
  {
   "cell_type": "markdown",
   "metadata": {},
   "source": [
    "_Pt 1 - numerical integration_"
   ]
  },
  {
   "cell_type": "code",
   "execution_count": 11,
   "metadata": {},
   "outputs": [],
   "source": [
    "# the integration in this problem, with epsilon factored out, is composed of three integrations \n",
    "# (as shown in the starred line of math in the handwritten part)\n",
    "\n",
    "def integrand_p4_1(t):\n",
    "    return math.sin(t)**2\n",
    "\n",
    "def integrand_p4_2(t):\n",
    "    return math.sin(t)*math.cos(t)\n",
    "\n",
    "def integrand_p4_3(t):\n",
    "    return 1/2"
   ]
  },
  {
   "cell_type": "code",
   "execution_count": 12,
   "metadata": {},
   "outputs": [],
   "source": [
    "#span and step size...\n",
    "xspan = [0,math.pi/2]\n",
    "step_size = 0.001\n",
    "\n",
    "#evaluating...\n",
    "I1 = euler(integrand_p4_1,xspan, step_size)\n",
    "I2 = euler(integrand_p4_2,xspan, step_size)\n",
    "I3 = euler(integrand_p4_3,xspan, step_size)"
   ]
  },
  {
   "cell_type": "code",
   "execution_count": 13,
   "metadata": {},
   "outputs": [],
   "source": [
    "#here I'll use symbolic math to evaluate the derivative, plugging in the values I've integrated...\n",
    "J_eps = ((eps**2-1)/2)*I1 + (eps)*I2 + I3\n",
    "\n",
    "#taking the derivative with respect to epsilon...\n",
    "dJ_eps = J_eps.diff(eps)\n",
    "\n",
    "#substituing epsilon = 0...\n",
    "J_dir = dJ_eps.subs(eps,0)"
   ]
  },
  {
   "cell_type": "code",
   "execution_count": 14,
   "metadata": {},
   "outputs": [
    {
     "name": "stdout",
     "output_type": "stream",
     "text": [
      "the numerical solution for the directional derivative is DJ(x(t))*v =  0.499999914428542\n"
     ]
    }
   ],
   "source": [
    "print('the numerical solution for the directional derivative is DJ(x(t))*v = ',J_dir)"
   ]
  },
  {
   "cell_type": "markdown",
   "metadata": {},
   "source": [
    "_Pt 2 - Symbolic integration_"
   ]
  },
  {
   "cell_type": "code",
   "execution_count": 15,
   "metadata": {},
   "outputs": [],
   "source": [
    "#variable and function definition...\n",
    "t = symbols(r't') \n",
    "eps, v = symbols(r'\\epsilon, v')\n",
    "\n",
    "Jsym_integrand = (sym.cos(t)+eps*sym.sin(t))**2/2"
   ]
  },
  {
   "cell_type": "code",
   "execution_count": 16,
   "metadata": {},
   "outputs": [
    {
     "name": "stdout",
     "output_type": "stream",
     "text": [
      "integration of J from t=0 to pi/2: \n"
     ]
    },
    {
     "data": {
      "text/latex": [
       "$\\displaystyle \\frac{\\pi \\epsilon^{2}}{8} + \\frac{\\epsilon}{2} + \\frac{\\pi}{8}$"
      ],
      "text/plain": [
       "pi*\\epsilon**2/8 + \\epsilon/2 + pi/8"
      ]
     },
     "metadata": {},
     "output_type": "display_data"
    }
   ],
   "source": [
    "#define bounds...\n",
    "t0 = 0\n",
    "tf = sym.pi/2\n",
    "\n",
    "#integrate...\n",
    "Jsym_eps = integrate(Jsym_integrand, (t, t0, tf)) \n",
    "print('integration of J from t=0 to pi/2: ') \n",
    "display(Jsym_eps)"
   ]
  },
  {
   "cell_type": "code",
   "execution_count": 17,
   "metadata": {},
   "outputs": [
    {
     "name": "stdout",
     "output_type": "stream",
     "text": [
      "Fully evaluated directional derivative of J: \n"
     ]
    },
    {
     "data": {
      "text/latex": [
       "$\\displaystyle \\frac{1}{2}$"
      ],
      "text/plain": [
       "1/2"
      ]
     },
     "metadata": {},
     "output_type": "display_data"
    }
   ],
   "source": [
    "#deriving with respect to epsilon....\n",
    "dJsym_eps = Jsym_eps.diff(eps)\n",
    "\n",
    "#setting epsilon to zero...\n",
    "Jsym_dir = dJsym_eps.subs(eps,0)\n",
    "\n",
    "print('Fully evaluated directional derivative of J: ') \n",
    "display(Jsym_dir)"
   ]
  },
  {
   "cell_type": "markdown",
   "metadata": {},
   "source": [
    "**Problem 5** <br>\n",
    "Given the equation... <br>\n",
    "$xy + \\sin(x) = x + y$ <br>\n",
    "Use Python’s SymPy package to symbolically solve this equation for y, thus you can write y as a function of x. Transfer your symbolic solution into a numerical function and plot this function for x ∈ [0, π] with Python’s Matplotlib package. <br>\n",
    "In this problem you will use two methods in SymPy. The first is its symbolic sovler method solve(), which takes in an equation or expression (in this it equals 0) and solve it for one or one set of variables. Another method you will use is lambdify(), which can transfer a symbolic expression into a numerical function automatically (of course in this problem we can hand code the function, but later in the class we will have super sophisticated expression to evaluate"
   ]
  },
  {
   "cell_type": "code",
   "execution_count": 18,
   "metadata": {},
   "outputs": [
    {
     "name": "stdout",
     "output_type": "stream",
     "text": [
      "original equation\n"
     ]
    },
    {
     "data": {
      "text/latex": [
       "$\\displaystyle x y + \\sin{\\left(x \\right)} = x + y$"
      ],
      "text/plain": [
       "Eq(x*y + sin(x), x + y)"
      ]
     },
     "metadata": {},
     "output_type": "display_data"
    }
   ],
   "source": [
    "x = sym.symbols('x')\n",
    "y = sym.symbols('y')\n",
    "\n",
    "# define an equation \n",
    "eqn = sym.Eq(x*y + sym.sin(x), x + y) \n",
    "print('original equation') \n",
    "display(eqn)"
   ]
  },
  {
   "cell_type": "code",
   "execution_count": 19,
   "metadata": {},
   "outputs": [
    {
     "name": "stdout",
     "output_type": "stream",
     "text": [
      "symbolic solutions: \n"
     ]
    },
    {
     "data": {
      "text/latex": [
       "$\\displaystyle \\frac{x - \\sin{\\left(x \\right)}}{x - 1}$"
      ],
      "text/plain": [
       "(x - sin(x))/(x - 1)"
      ]
     },
     "metadata": {},
     "output_type": "display_data"
    }
   ],
   "source": [
    "# solve this equation for y \n",
    "y_sol = sym.solve(eqn, y)   # this method returns a list, \n",
    "                            # which may include multiple solutions\n",
    "print('symbolic solutions: ')\n",
    "for soln in y_sol:\n",
    "    display(soln)"
   ]
  },
  {
   "cell_type": "code",
   "execution_count": 20,
   "metadata": {},
   "outputs": [
    {
     "name": "stdout",
     "output_type": "stream",
     "text": [
      "Test: func(pi/4) =  -0.3648215851754261\n"
     ]
    }
   ],
   "source": [
    "y_expr = y_sol[0] # in this case we just have one solution\n",
    "\n",
    "# lambdify the expression wrt symbol x \n",
    "func = sym.lambdify(x, y_expr) \n",
    "print('Test: func(pi/4) = ', func(np.pi/4))"
   ]
  },
  {
   "cell_type": "code",
   "execution_count": 21,
   "metadata": {},
   "outputs": [
    {
     "data": {
      "image/png": "[encoded data removed]",
      "text/plain": [
       "<Figure size 432x288 with 1 Axes>"
      ]
     },
     "metadata": {
      "needs_background": "light"
     },
     "output_type": "display_data"
    }
   ],
   "source": [
    "# plotting from 0 to pi...\n",
    "# generate list of values from 0 to pi \n",
    "x_list = np.linspace(0, np.pi, 100)\n",
    "\n",
    "# evaluate function at those values \n",
    "f_list = func(x_list)\n",
    "\n",
    "# plot it\n",
    "plt.plot(x_list, f_list) \n",
    "plt.show()"
   ]
  }
 ],
 "metadata": {
  "kernelspec": {
   "display_name": "Python 3",
   "language": "python",
   "name": "python3"
  },
  "language_info": {
   "codemirror_mode": {
    "name": "ipython",
    "version": 3
   },
   "file_extension": ".py",
   "mimetype": "text/x-python",
   "name": "python",
   "nbconvert_exporter": "python",
   "pygments_lexer": "ipython3",
   "version": "3.7.6"
  }
 },
 "nbformat": 4,
 "nbformat_minor": 4
}
